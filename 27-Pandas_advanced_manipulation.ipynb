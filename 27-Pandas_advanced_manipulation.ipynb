{
 "cells": [
  {
   "cell_type": "markdown",
   "metadata": {},
   "source": [
    "<br>\n",
    "\n",
    "<img src=\"./image/Logo/logo_elia_group.png\" width = 200>\n",
    "\n",
    "<br>"
   ]
  },
  {
   "cell_type": "markdown",
   "metadata": {},
   "source": [
    "# Advanced Manipulation\n",
    "<br>\n",
    "\n",
    "It is time to learn some advanced data manipulation. In the follwong section, you will learn how to access your data through looping. Looping is a super important method to, for instance, calculate new values based on your existing values. There are many different looping methods such as `iterrows()`, `apply()` or the vectorization method. The main difference between those is their speed. To simplify things, you will first focus on `apply()` and subsequently get to know vectorization. But don't worry. Vectorization sounds like hardcore math, but it isn't. \n",
    "\n",
    "<ins>You will  learn how to:</ins>\n",
    "1. access and manipulate data in Series / DataFrames with **apply()**\n",
    "2. Speed up the process by using **vectorization** methods\n",
    "\n",
    "Let's get to it!"
   ]
  },
  {
   "cell_type": "markdown",
   "metadata": {},
   "source": [
    "## Looping with apply()\n",
    "<br>\n",
    "\n",
    "A simple Dataframe consists of Series, which you know as columns. If you would now like to iterate and apply a function on your data, this would probably look a bit like this: \n",
    "\n",
    "`for row in range(len(df_short)): #  number of rows\n",
    "    for col in range(len(df_short.columns)): # number of columns\n",
    "        print(df_short.iloc[row, col])`\n",
    "        \n",
    "But there is a **way more easy way** than using loops! With `apply()` you can literally apply a function along a row or a column! First, let's have a look a Series before we move on to Dataframes:"
   ]
  },
  {
   "cell_type": "markdown",
   "metadata": {},
   "source": [
    "### Accessing/Manipulating data in <ins>Series</ins> with **.apply()**\n",
    "\n",
    "- `apply()` applies a function to each element in a Series e.g. calculate the string length of each value within a column\n",
    "- check [documentation](https://pandas.pydata.org/pandas-docs/stable/reference/api/pandas.Series.apply.html) for more input\n",
    "\n",
    "<img src = \"./image/Icons/apply_column_example.png\" width = 200>\n",
    "\n",
    "Let's do an example on how to apply the `len()` function using `apply()`.\n",
    "<br>\n",
    "\n",
    "&#128161; About `len()`: This function is a Python built-in function. It returns the length of an object. For instance, it returns the number of items in a list or the lenght of a string."
   ]
  },
  {
   "cell_type": "code",
   "execution_count": null,
   "metadata": {},
   "outputs": [],
   "source": [
    "import pandas as pd"
   ]
  },
  {
   "cell_type": "code",
   "execution_count": null,
   "metadata": {},
   "outputs": [],
   "source": [
    "physical_flow = pd.read_csv(\"./data/energy/physical_flow_high_voltage_2022_may_30.csv\", sep = \";\")\n",
    "physical_flow.head()"
   ]
  },
  {
   "cell_type": "markdown",
   "metadata": {},
   "source": [
    "Let's shorten the df for this example:"
   ]
  },
  {
   "cell_type": "code",
   "execution_count": null,
   "metadata": {},
   "outputs": [],
   "source": [
    "df_short = physical_flow.loc[:5, :\"Asset type\"]\n",
    "df_short"
   ]
  },
  {
   "cell_type": "markdown",
   "metadata": {},
   "source": [
    "And create a Series: "
   ]
  },
  {
   "cell_type": "code",
   "execution_count": null,
   "metadata": {},
   "outputs": [],
   "source": [
    "series_short = df_short[\"Asset Elia ID\"]\n",
    "series_short"
   ]
  },
  {
   "cell_type": "markdown",
   "metadata": {},
   "source": [
    "Now let's apply the `len()` function using `apply()`:"
   ]
  },
  {
   "cell_type": "code",
   "execution_count": null,
   "metadata": {},
   "outputs": [],
   "source": [
    "id_lenght = series_short.apply(len)\n",
    "id_lenght"
   ]
  },
  {
   "cell_type": "markdown",
   "metadata": {},
   "source": [
    "See, it returns the legth of the string (in this case the Asset Elia ID) for each row of a Series."
   ]
  },
  {
   "cell_type": "markdown",
   "metadata": {},
   "source": [
    "### Accessing/Manipulating data in a <ins>DataFrame</ins> with **.apply()**\n",
    "\n",
    "- you can apply the `apply()` function to either axis of a dataframe, this means you can loop through rows and columns\n",
    "    - axis = 0 for column \n",
    "    - axis = 1 for row."
   ]
  },
  {
   "cell_type": "markdown",
   "metadata": {},
   "source": [
    "**axis = 0:**\n",
    "\n",
    "<img src = \"./image/loop_column.png\" width = 600>\n",
    "\n",
    "**axis = 1:**\n",
    "\n",
    "<img src = \"./image/loop_row.png\" width = 600>"
   ]
  },
  {
   "cell_type": "markdown",
   "metadata": {},
   "source": [
    "So let's check out our Dataframe again and shorten it, so that it is better manageable for this example:"
   ]
  },
  {
   "cell_type": "code",
   "execution_count": null,
   "metadata": {},
   "outputs": [],
   "source": [
    "physical_flow.head()"
   ]
  },
  {
   "cell_type": "code",
   "execution_count": null,
   "metadata": {},
   "outputs": [],
   "source": [
    "ph_flow_short = physical_flow.loc[:10,\"Resolution code\":\"Loading\"]\n",
    "ph_flow_short"
   ]
  },
  {
   "cell_type": "markdown",
   "metadata": {},
   "source": [
    "First, let's write a function that returns **True** if the `Asset type` is **Internal Line** and **False** if it is **Tieline**. "
   ]
  },
  {
   "cell_type": "code",
   "execution_count": null,
   "metadata": {},
   "outputs": [],
   "source": [
    "def asset_check(row):\n",
    "    if row[\"Asset type\"] == \"Internal Line\":\n",
    "        return True\n",
    "    else:\n",
    "        return False"
   ]
  },
  {
   "cell_type": "markdown",
   "metadata": {},
   "source": [
    "Now create a new column called `Asset Check` that applies this newly defined function:"
   ]
  },
  {
   "cell_type": "code",
   "execution_count": null,
   "metadata": {},
   "outputs": [],
   "source": [
    "ph_flow_short.loc[:, \"Asset Check\"] = ph_flow_short.apply(asset_check, axis = 1)"
   ]
  },
  {
   "cell_type": "code",
   "execution_count": null,
   "metadata": {},
   "outputs": [],
   "source": [
    "ph_flow_short.head()"
   ]
  },
  {
   "cell_type": "markdown",
   "metadata": {},
   "source": [
    "&#128515; Can you spot the newly column with the previously defined function applied? Amazing, well done!"
   ]
  },
  {
   "cell_type": "markdown",
   "metadata": {},
   "source": [
    "### Exercise\n",
    "\n",
    "Let's do another one. <br>\n",
    "1. First, create a new function called `flow_check` that returns \">200 MW\" if the `Physical Flow` value is bigger than 200 MW and \"<200 MW\" if it is less than 200 MW.\n",
    "2. Create a new column called `Flow Size` that applies this function onto your dataframe"
   ]
  },
  {
   "cell_type": "code",
   "execution_count": null,
   "metadata": {},
   "outputs": [],
   "source": []
  },
  {
   "cell_type": "code",
   "execution_count": null,
   "metadata": {},
   "outputs": [],
   "source": []
  },
  {
   "cell_type": "markdown",
   "metadata": {},
   "source": [
    "### Advanced Exercise\n",
    "In your dataframe, the physical flow indicates how heavily the line is loaded relative to the maximum possible line loading.\n",
    "\n",
    "1. Create a new column that returns the maximum possible loading.\n",
    "        - For instance, if the physical flow is 13.75 MW and that equals 0.68% loading, then the max. loading is 2022 MW. \n",
    "3. Name the new column \"Max. Loading\""
   ]
  },
  {
   "cell_type": "code",
   "execution_count": null,
   "metadata": {},
   "outputs": [],
   "source": []
  },
  {
   "cell_type": "code",
   "execution_count": null,
   "metadata": {},
   "outputs": [],
   "source": []
  },
  {
   "cell_type": "markdown",
   "metadata": {},
   "source": [
    "## Additional functions: Map() / Applymap()\n",
    "<br>\n",
    "\n",
    "Since you now know how to loop through functions, let's check out some additional functions that really come in handy!\n",
    "\n",
    "- `map()` is used to substitute each value with another value\n",
    "- `applymap()` is used for element-wise operations across the whole DataFrame\n",
    "\n",
    "So what does this mean...?\n",
    "\n",
    "### Map\n",
    "\n",
    "`map()` is a Series method. It allows us to map existing values of a Series to a different set of values. For instance, imagine you have a set of data with one column called \"Gender\" consisting of the string values \"male, \"female\" and diverse. You know would like to translate those values, so that male = 0, female = 1, and diverse = 2. To do so, you can use `map()`! \n",
    "- is a Series Method\n",
    "- allows to map an existing value of a Series to a different set of values\n",
    "- e.g. translate male and female into 0 and 1\n",
    "\n",
    "&#128526; Let's practice!"
   ]
  },
  {
   "cell_type": "markdown",
   "metadata": {},
   "source": [
    "In the energy sector, you probably won't have to deal with gender data. Howver, `map()` still comes in handy. In the following example, you could e.g. replace `Internal Line` with 1 and `Tieline` with 2. "
   ]
  },
  {
   "cell_type": "code",
   "execution_count": null,
   "metadata": {},
   "outputs": [],
   "source": [
    "ph_flow_short.head()"
   ]
  },
  {
   "cell_type": "code",
   "execution_count": null,
   "metadata": {},
   "outputs": [],
   "source": [
    "ph_flow_short.loc[:,\"Asset Type Numeric\"] = ph_flow_short[\"Asset type\"].map({\"Internal Line\": 1, \"Tieline\": 2})"
   ]
  },
  {
   "cell_type": "code",
   "execution_count": null,
   "metadata": {},
   "outputs": [],
   "source": [
    "ph_flow_short.head()"
   ]
  },
  {
   "cell_type": "markdown",
   "metadata": {},
   "source": [
    "Does the Syntax look familiar to you? Right, the input of the `map()` function is based on key-value pairs. "
   ]
  },
  {
   "cell_type": "markdown",
   "metadata": {},
   "source": [
    "### Applymap\n",
    "\n",
    "Another function that comes in handy is `applymap()`. It is a dataframe method that applies a function to **every element** of a dataframe. <br>\n",
    "\n",
    "<img src = \"./image/applymap_example.png\" width = 600>\n",
    "Let's check out an example: "
   ]
  },
  {
   "cell_type": "code",
   "execution_count": null,
   "metadata": {},
   "outputs": [],
   "source": [
    "df_applymap = ph_flow_short.loc[:,[\"Base Voltage\", \"Physical Flow\", \"Loading\"]].applymap(int)\n",
    "df_applymap.head()"
   ]
  },
  {
   "cell_type": "markdown",
   "metadata": {},
   "source": [
    "As you can see, with `applymap()` you can e.g. select all the columns with numeric values in your dataframe and change their data type from float to int. "
   ]
  },
  {
   "cell_type": "markdown",
   "metadata": {},
   "source": [
    "## Speed up the process - **Vectorization**\n",
    "\n",
    "If you do simple data manipulation, then `apply()` just works fine. However, it is not the fastes way to access and manipulate your data. You can speed up the process by using the vectorization method. In order to use vectorization, you finally have to import numpy first. Numpy is an open source Python library that’s used frequently in science and engineering. If you work with numeric data, you will definitely learn to love numpy!\n",
    "\n",
    "<ins>What are vectorization methods ?</ins>\n",
    "- applying a manipulation to a whole array/(vector), instead of single values \n",
    "- you have been indirectly using vectorization when you used e.g. groupyby\n",
    "\n",
    "<ins>Why should we use it?</ins>\n",
    "- you can use it to avoid looping row by row over our dataset and save a lot of time\n"
   ]
  },
  {
   "cell_type": "markdown",
   "metadata": {},
   "source": [
    "But first things first: "
   ]
  },
  {
   "cell_type": "code",
   "execution_count": null,
   "metadata": {},
   "outputs": [],
   "source": [
    "import numpy as np "
   ]
  },
  {
   "cell_type": "markdown",
   "metadata": {},
   "source": [
    "Now imagine, you would like to add a new column to your dataframe called `new column`. This new column simply combines your two columns `Asset Elia ID` and `Asset type`"
   ]
  },
  {
   "cell_type": "code",
   "execution_count": null,
   "metadata": {},
   "outputs": [],
   "source": [
    "df_short.head()"
   ]
  },
  {
   "cell_type": "code",
   "execution_count": null,
   "metadata": {},
   "outputs": [],
   "source": [
    "df_short.loc[:,\"Asset\"] = df_short[\"Asset Elia ID\"] + df_short[\"Asset type\"]"
   ]
  },
  {
   "cell_type": "code",
   "execution_count": null,
   "metadata": {},
   "outputs": [],
   "source": [
    "df_short"
   ]
  },
  {
   "cell_type": "markdown",
   "metadata": {},
   "source": [
    "So let's turn one of the `apply()` functions into a vectorization. <br>"
   ]
  },
  {
   "cell_type": "code",
   "execution_count": null,
   "metadata": {},
   "outputs": [],
   "source": [
    "ph_flow_short.head()"
   ]
  },
  {
   "cell_type": "code",
   "execution_count": null,
   "metadata": {},
   "outputs": [],
   "source": [
    "def flow_size(row):\n",
    "    if row[\"Physical Flow\"] >= 200:\n",
    "        return \">200 MW\"\n",
    "    else: \n",
    "        return \"<200 MW\""
   ]
  },
  {
   "cell_type": "markdown",
   "metadata": {},
   "source": [
    "The first guess would be, to pass the whole vector/(Series) (instead of single rows as before) into your function and then make the calculation. But..."
   ]
  },
  {
   "cell_type": "code",
   "execution_count": null,
   "metadata": {},
   "outputs": [],
   "source": [
    "def flow_size(series):\n",
    "    print(series)\n",
    "    if series >200:\n",
    "        return \">200 MW\"\n",
    "    else:\n",
    "        return \"<200 MW\"\n",
    "\n",
    "ph_flow_short.loc[:,\"Flow Size\"] = flow_size(ph_flow_short[\"Physical Flow\"])"
   ]
  },
  {
   "cell_type": "markdown",
   "metadata": {},
   "source": [
    "**This throws us a value error** because Python does not know how to tell if a whole column is greater than 25. This is where Numpy comes in handy."
   ]
  },
  {
   "cell_type": "markdown",
   "metadata": {},
   "source": [
    "## np.where()\n",
    "<br>\n",
    "\n",
    "First, let's check out `np.where()`. This method is like the \"if statement\" in Excel.\n",
    "\n",
    "- Syntax: \n",
    "           np.where(\n",
    "                conditional statement -> bool array,\n",
    "                series/array/function()/scalar if True,\n",
    "                series/array/function()/scalar if False\n",
    "           )"
   ]
  },
  {
   "cell_type": "markdown",
   "metadata": {},
   "source": [
    "Let's try it out: "
   ]
  },
  {
   "cell_type": "code",
   "execution_count": null,
   "metadata": {},
   "outputs": [],
   "source": [
    "import numpy as np\n",
    "\n",
    "ph_flow_short.loc[:, \"Flow Size by vec\"] = np.where(\n",
    "    ph_flow_short[\"Physical Flow\"]>200, # <-- condition\n",
    "    \">200 MW\", # <-- return if true\n",
    "    \"<200 MW\" #<-- return if false\n",
    "    )\n",
    "\n",
    "ph_flow_short.head(3)"
   ]
  },
  {
   "cell_type": "markdown",
   "metadata": {},
   "source": [
    "## np.select()\n",
    "<br>\n",
    "\n",
    "If you have multiple conditions, you can simply use `np.select()`.\n",
    "- Syntax: \n",
    "        conditions = [\n",
    "            condition1\n",
    "            condition2\n",
    "            etc.\n",
    "        ]\n",
    "\n",
    "        choices = [\n",
    "            value1\n",
    "            value2\n",
    "            etc.\n",
    "        ]\n",
    "\n",
    "df[\"new column\"] = np.select(conditions, choices, default=\"NA\")"
   ]
  },
  {
   "cell_type": "markdown",
   "metadata": {},
   "source": [
    "Let's try out another example in regard to the size of the physical flow: "
   ]
  },
  {
   "cell_type": "code",
   "execution_count": null,
   "metadata": {},
   "outputs": [],
   "source": [
    "conditions = [\n",
    "    ph_flow_short[\"Physical Flow\"] == 0, # first condition to test: if true return choice1, if false check next condition\n",
    "    ph_flow_short[\"Physical Flow\"] < 200, # second condition to test: if true return choice2, if false check next condition\n",
    "    ph_flow_short[\"Physical Flow\"] < 500 # third condition to test: if true return choice3, if false default value is returned\n",
    "]\n",
    "\n",
    "choices = [\n",
    "    \"None\",  # choice1\n",
    "    \"Small\", # choice2\n",
    "    \"Big\",   # choice3\n",
    "]\n",
    "\n",
    "ph_flow_short.loc[:,\"Flow_grouped\"] = np.select(conditions, choices, default=\"Large\") #  default value is the value if non of the conditions are true\n",
    "print(ph_flow_short.Flow_grouped.value_counts())\n",
    "ph_flow_short.tail(10)"
   ]
  },
  {
   "cell_type": "markdown",
   "metadata": {},
   "source": [
    "### Exercise \n",
    "\n",
    "This exercise is all about vectorization: \n",
    "\n",
    "- Check out the following dataframe\n",
    "- Create a new column \"Loading_grouped\" in the DataFrame `flow_info` that groups the Loding (in %) using vectorization\n",
    "- Loading less then 5 % is categorized as \"small\", less then 20 % as \"medium\" and more then 20 % as \"large\"\n",
    "- print out the the last 10 rows of the updates dataframe"
   ]
  },
  {
   "cell_type": "code",
   "execution_count": null,
   "metadata": {},
   "outputs": [],
   "source": [
    "physical_flow = pd.read_csv(\"./data/energy/physical_flow_high_voltage_2022_may_30.csv\", sep = \";\")\n",
    "\n",
    "flow_info = physical_flow.loc[:, \"Asset name\": \"Loading\"]\n",
    "flow_info.head(3)"
   ]
  },
  {
   "cell_type": "code",
   "execution_count": null,
   "metadata": {},
   "outputs": [],
   "source": [
    "conditions = [\n",
    "    flow_info[\"Loading\"] < 5, # first condition to test: if true return choice1, if false check next condition\n",
    "    flow_info[\"Loading\"] <= 20, # second condition to test: if true return choice2, if false check next condition\n",
    "    flow_info[\"Loading\"] > 20 # third condition to test: if true return choice3, if false default value is returned\n",
    "]\n",
    "\n",
    "choices = [\n",
    "    \"small\",  # choice1\n",
    "    \"medium\", # choice2\n",
    "    \"large\",   # choice3\n",
    "]\n",
    "\n",
    "flow_info.loc[:,\"Loading_grouped\"] = np.select(conditions, choices) #  default value is the value if non of the conditions are true"
   ]
  },
  {
   "cell_type": "code",
   "execution_count": null,
   "metadata": {},
   "outputs": [],
   "source": [
    "print(flow_info.Loading_grouped.value_counts())\n",
    "flow_info.tail(10)"
   ]
  },
  {
   "cell_type": "markdown",
   "metadata": {},
   "source": [
    "### Advanced Exercise \n",
    "\n",
    "In the follwing, you will calculate the maximum load again. Similar to the exercise from above. However, this time you will use vectorization again.\n",
    "\n",
    "- Work with the dataframe `flow_info`\n",
    "- Create a new column called \"Max_load\" that shows the maximum possible load\n",
    "        - For instance, if the physical flow is 13.75 MW and that equals 0.68% loading, then the max. loading is 2022 MW\n",
    "- Hint: Pay attention to zero values"
   ]
  },
  {
   "cell_type": "code",
   "execution_count": null,
   "metadata": {},
   "outputs": [],
   "source": [
    "flow_info.loc[:, \"Max_load\"] = np.where(\n",
    "    (flow_info[\"Physical Flow\"] > 0) & (flow_info[\"Loading\"] > 0), # <-- condition\n",
    "    flow_info[\"Physical Flow\"] / flow_info[\"Loading\"] * 100, # <-- return if true\n",
    "    0 #<-- return if false\n",
    "    )\n",
    "flow_info.head(3)"
   ]
  },
  {
   "cell_type": "code",
   "execution_count": null,
   "metadata": {},
   "outputs": [],
   "source": []
  },
  {
   "cell_type": "markdown",
   "metadata": {},
   "source": [
    "<br>\n",
    "\n",
    "## Recap, Tips & Takeaways &#128161;\n",
    "\n",
    "<br>"
   ]
  },
  {
   "cell_type": "markdown",
   "metadata": {},
   "source": [
    "<div class=\"alert alert-block alert-success\">\n",
    "\n",
    "**Let's recap what you have learned in this section:**\n",
    "\n",
    "- You can use `apply()` to access and manipulate Series and Dataframes\n",
    "- In a Dataframe, you can loop through rows and columns, you just need to specify the axis: \n",
    "    - axis = 0 for column \n",
    "    - axis = 1 for row\n",
    "- You can speed up the process by using vectorization\n",
    "    - Here, you need to import numpy as np\n",
    "    - `np.where()` is basically like an if statement in Excel\n",
    "    - `np.select()` can be used to define multiple if statements with its conditions and choices \n",
    " \n",
    "</div>"
   ]
  }
 ],
 "metadata": {
  "kernelspec": {
   "display_name": "Python 3",
   "language": "python",
   "name": "python3"
  },
  "language_info": {
   "codemirror_mode": {
    "name": "ipython",
    "version": 3
   },
   "file_extension": ".py",
   "mimetype": "text/x-python",
   "name": "python",
   "nbconvert_exporter": "python",
   "pygments_lexer": "ipython3",
   "version": "3.10.13"
  }
 },
 "nbformat": 4,
 "nbformat_minor": 4
}
