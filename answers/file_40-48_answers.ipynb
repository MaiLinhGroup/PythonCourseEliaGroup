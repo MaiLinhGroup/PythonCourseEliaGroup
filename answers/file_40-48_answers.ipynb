{
 "cells": [
  {
   "cell_type": "markdown",
   "metadata": {},
   "source": [
    "<br>\n",
    "\n",
    "<img src=\"../image/Logo/logo_elia_group.png\" width = 200>\n",
    "\n",
    "<br>"
   ]
  },
  {
   "cell_type": "markdown",
   "metadata": {},
   "source": [
    "# Answers for Pandas Chapter 41-48"
   ]
  },
  {
   "cell_type": "markdown",
   "metadata": {},
   "source": [
    "In the following you will find all the answers to the exercises of the Python Training for Beginners by the Elio Group. Have fun! "
   ]
  },
  {
   "cell_type": "markdown",
   "metadata": {},
   "source": [
    "## (41) Pandas - Data Exploration"
   ]
  },
  {
   "cell_type": "code",
   "execution_count": 3,
   "metadata": {},
   "outputs": [],
   "source": [
    "import pandas as pd\n",
    "pv_power = pd.read_csv(\"./data/energy/ods032.csv\", sep = ';')"
   ]
  },
  {
   "cell_type": "markdown",
   "metadata": {},
   "source": [
    "### Exercise\n",
    "\n",
    "1. Select the first 7 rows, and first 2 columns of `pv_power`, positionally. \n",
    "2. Select rows 10, 15, ans 30, and the columns `Resolution code` and `Region`.\n",
    "\n",
    "&#9200; Still time left? Try this one:\n",
    "\n",
    "3. Select the first 5 rows and columns `Datetime` and `Monitored capacity` of the pv_power table. Hint: you'll need to string together 2 different types of selectors. And remember, google is your friend."
   ]
  },
  {
   "cell_type": "markdown",
   "metadata": {},
   "source": [
    "### Solutions"
   ]
  },
  {
   "cell_type": "code",
   "execution_count": 4,
   "metadata": {},
   "outputs": [
    {
     "data": {
      "text/html": [
       "<div>\n",
       "<style scoped>\n",
       "    .dataframe tbody tr th:only-of-type {\n",
       "        vertical-align: middle;\n",
       "    }\n",
       "\n",
       "    .dataframe tbody tr th {\n",
       "        vertical-align: top;\n",
       "    }\n",
       "\n",
       "    .dataframe thead th {\n",
       "        text-align: right;\n",
       "    }\n",
       "</style>\n",
       "<table border=\"1\" class=\"dataframe\">\n",
       "  <thead>\n",
       "    <tr style=\"text-align: right;\">\n",
       "      <th></th>\n",
       "      <th>Datetime</th>\n",
       "      <th>Resolution code</th>\n",
       "    </tr>\n",
       "  </thead>\n",
       "  <tbody>\n",
       "    <tr>\n",
       "      <th>0</th>\n",
       "      <td>2022-06-21T23:45:00+02:00</td>\n",
       "      <td>PT15M</td>\n",
       "    </tr>\n",
       "    <tr>\n",
       "      <th>1</th>\n",
       "      <td>2022-06-21T23:45:00+02:00</td>\n",
       "      <td>PT15M</td>\n",
       "    </tr>\n",
       "    <tr>\n",
       "      <th>2</th>\n",
       "      <td>2022-06-21T23:45:00+02:00</td>\n",
       "      <td>PT15M</td>\n",
       "    </tr>\n",
       "    <tr>\n",
       "      <th>3</th>\n",
       "      <td>2022-06-21T23:45:00+02:00</td>\n",
       "      <td>PT15M</td>\n",
       "    </tr>\n",
       "    <tr>\n",
       "      <th>4</th>\n",
       "      <td>2022-06-21T23:45:00+02:00</td>\n",
       "      <td>PT15M</td>\n",
       "    </tr>\n",
       "    <tr>\n",
       "      <th>5</th>\n",
       "      <td>2022-06-21T23:45:00+02:00</td>\n",
       "      <td>PT15M</td>\n",
       "    </tr>\n",
       "    <tr>\n",
       "      <th>6</th>\n",
       "      <td>2022-06-21T23:45:00+02:00</td>\n",
       "      <td>PT15M</td>\n",
       "    </tr>\n",
       "  </tbody>\n",
       "</table>\n",
       "</div>"
      ],
      "text/plain": [
       "                    Datetime Resolution code\n",
       "0  2022-06-21T23:45:00+02:00           PT15M\n",
       "1  2022-06-21T23:45:00+02:00           PT15M\n",
       "2  2022-06-21T23:45:00+02:00           PT15M\n",
       "3  2022-06-21T23:45:00+02:00           PT15M\n",
       "4  2022-06-21T23:45:00+02:00           PT15M\n",
       "5  2022-06-21T23:45:00+02:00           PT15M\n",
       "6  2022-06-21T23:45:00+02:00           PT15M"
      ]
     },
     "execution_count": 4,
     "metadata": {},
     "output_type": "execute_result"
    }
   ],
   "source": [
    "#1. Task \n",
    "\n",
    "pv_power.iloc[:7, :2]"
   ]
  },
  {
   "cell_type": "code",
   "execution_count": 5,
   "metadata": {},
   "outputs": [
    {
     "data": {
      "text/html": [
       "<div>\n",
       "<style scoped>\n",
       "    .dataframe tbody tr th:only-of-type {\n",
       "        vertical-align: middle;\n",
       "    }\n",
       "\n",
       "    .dataframe tbody tr th {\n",
       "        vertical-align: top;\n",
       "    }\n",
       "\n",
       "    .dataframe thead th {\n",
       "        text-align: right;\n",
       "    }\n",
       "</style>\n",
       "<table border=\"1\" class=\"dataframe\">\n",
       "  <thead>\n",
       "    <tr style=\"text-align: right;\">\n",
       "      <th></th>\n",
       "      <th>Resolution code</th>\n",
       "      <th>Region</th>\n",
       "    </tr>\n",
       "  </thead>\n",
       "  <tbody>\n",
       "    <tr>\n",
       "      <th>10</th>\n",
       "      <td>PT15M</td>\n",
       "      <td>Antwerp</td>\n",
       "    </tr>\n",
       "    <tr>\n",
       "      <th>15</th>\n",
       "      <td>PT15M</td>\n",
       "      <td>Antwerp</td>\n",
       "    </tr>\n",
       "    <tr>\n",
       "      <th>30</th>\n",
       "      <td>PT15M</td>\n",
       "      <td>East-Flanders</td>\n",
       "    </tr>\n",
       "  </tbody>\n",
       "</table>\n",
       "</div>"
      ],
      "text/plain": [
       "   Resolution code         Region\n",
       "10           PT15M        Antwerp\n",
       "15           PT15M        Antwerp\n",
       "30           PT15M  East-Flanders"
      ]
     },
     "execution_count": 5,
     "metadata": {},
     "output_type": "execute_result"
    }
   ],
   "source": [
    "# 2. Task\n",
    "\n",
    "pv_power.loc[[10, 15, 30], [\"Resolution code\", \"Region\"]]"
   ]
  },
  {
   "cell_type": "code",
   "execution_count": 6,
   "metadata": {},
   "outputs": [
    {
     "data": {
      "text/html": [
       "<div>\n",
       "<style scoped>\n",
       "    .dataframe tbody tr th:only-of-type {\n",
       "        vertical-align: middle;\n",
       "    }\n",
       "\n",
       "    .dataframe tbody tr th {\n",
       "        vertical-align: top;\n",
       "    }\n",
       "\n",
       "    .dataframe thead th {\n",
       "        text-align: right;\n",
       "    }\n",
       "</style>\n",
       "<table border=\"1\" class=\"dataframe\">\n",
       "  <thead>\n",
       "    <tr style=\"text-align: right;\">\n",
       "      <th></th>\n",
       "      <th>Datetime</th>\n",
       "      <th>Monitored capacity</th>\n",
       "    </tr>\n",
       "  </thead>\n",
       "  <tbody>\n",
       "    <tr>\n",
       "      <th>0</th>\n",
       "      <td>2022-06-21T23:45:00+02:00</td>\n",
       "      <td>634.933</td>\n",
       "    </tr>\n",
       "    <tr>\n",
       "      <th>1</th>\n",
       "      <td>2022-06-21T23:45:00+02:00</td>\n",
       "      <td>431.127</td>\n",
       "    </tr>\n",
       "    <tr>\n",
       "      <th>2</th>\n",
       "      <td>2022-06-21T23:45:00+02:00</td>\n",
       "      <td>514.584</td>\n",
       "    </tr>\n",
       "    <tr>\n",
       "      <th>3</th>\n",
       "      <td>2022-06-21T23:45:00+02:00</td>\n",
       "      <td>1127.039</td>\n",
       "    </tr>\n",
       "    <tr>\n",
       "      <th>4</th>\n",
       "      <td>2022-06-21T23:45:00+02:00</td>\n",
       "      <td>195.154</td>\n",
       "    </tr>\n",
       "  </tbody>\n",
       "</table>\n",
       "</div>"
      ],
      "text/plain": [
       "                    Datetime  Monitored capacity\n",
       "0  2022-06-21T23:45:00+02:00             634.933\n",
       "1  2022-06-21T23:45:00+02:00             431.127\n",
       "2  2022-06-21T23:45:00+02:00             514.584\n",
       "3  2022-06-21T23:45:00+02:00            1127.039\n",
       "4  2022-06-21T23:45:00+02:00             195.154"
      ]
     },
     "execution_count": 6,
     "metadata": {},
     "output_type": "execute_result"
    }
   ],
   "source": [
    "# 3. Task \n",
    "\n",
    "pv_power.iloc[:5].loc[:, [\"Datetime\", \"Monitored capacity\"]]"
   ]
  },
  {
   "cell_type": "markdown",
   "metadata": {},
   "source": [
    "## (43) Pandas - Data Joining "
   ]
  },
  {
   "cell_type": "code",
   "execution_count": 2,
   "metadata": {},
   "outputs": [],
   "source": [
    "import pandas as pd"
   ]
  },
  {
   "cell_type": "markdown",
   "metadata": {},
   "source": [
    "### Exercise\n",
    "\n",
    "Now it's your turn! \n",
    "\n",
    "- Check out the following two data frames:"
   ]
  },
  {
   "cell_type": "code",
   "execution_count": 12,
   "metadata": {},
   "outputs": [],
   "source": [
    "df1_job = pd.DataFrame({'employee': ['Bob', 'Jake', 'Ahmed', 'Sue'],\n",
    "                    'group': ['Data Science', 'Data Engineering', 'Data Engineering', 'Data Analyst']})\n",
    "df2_hired = pd.DataFrame({'employee': ['Ahmed', 'Bob', 'Jake', 'Sue'],\n",
    "                    'hire_date': [2006, 2008, 2014, 2021]})"
   ]
  },
  {
   "cell_type": "markdown",
   "metadata": {},
   "source": [
    "- print out the first three rows of each DataFrame before merging\n",
    "- Merge the following dataframes based on their name and save it into a new dataframe called df_job_hired\n",
    "- print out the first 3 rows"
   ]
  },
  {
   "cell_type": "code",
   "execution_count": 13,
   "metadata": {},
   "outputs": [
    {
     "data": {
      "text/html": [
       "<div>\n",
       "<style scoped>\n",
       "    .dataframe tbody tr th:only-of-type {\n",
       "        vertical-align: middle;\n",
       "    }\n",
       "\n",
       "    .dataframe tbody tr th {\n",
       "        vertical-align: top;\n",
       "    }\n",
       "\n",
       "    .dataframe thead th {\n",
       "        text-align: right;\n",
       "    }\n",
       "</style>\n",
       "<table border=\"1\" class=\"dataframe\">\n",
       "  <thead>\n",
       "    <tr style=\"text-align: right;\">\n",
       "      <th></th>\n",
       "      <th>employee</th>\n",
       "      <th>group</th>\n",
       "    </tr>\n",
       "  </thead>\n",
       "  <tbody>\n",
       "    <tr>\n",
       "      <th>0</th>\n",
       "      <td>Bob</td>\n",
       "      <td>Data Science</td>\n",
       "    </tr>\n",
       "    <tr>\n",
       "      <th>1</th>\n",
       "      <td>Jake</td>\n",
       "      <td>Data Engineering</td>\n",
       "    </tr>\n",
       "    <tr>\n",
       "      <th>2</th>\n",
       "      <td>Ahmed</td>\n",
       "      <td>Data Engineering</td>\n",
       "    </tr>\n",
       "  </tbody>\n",
       "</table>\n",
       "</div>"
      ],
      "text/plain": [
       "  employee             group\n",
       "0      Bob      Data Science\n",
       "1     Jake  Data Engineering\n",
       "2    Ahmed  Data Engineering"
      ]
     },
     "execution_count": 13,
     "metadata": {},
     "output_type": "execute_result"
    }
   ],
   "source": [
    "df1_job.head(n=3)"
   ]
  },
  {
   "cell_type": "code",
   "execution_count": 14,
   "metadata": {},
   "outputs": [
    {
     "data": {
      "text/html": [
       "<div>\n",
       "<style scoped>\n",
       "    .dataframe tbody tr th:only-of-type {\n",
       "        vertical-align: middle;\n",
       "    }\n",
       "\n",
       "    .dataframe tbody tr th {\n",
       "        vertical-align: top;\n",
       "    }\n",
       "\n",
       "    .dataframe thead th {\n",
       "        text-align: right;\n",
       "    }\n",
       "</style>\n",
       "<table border=\"1\" class=\"dataframe\">\n",
       "  <thead>\n",
       "    <tr style=\"text-align: right;\">\n",
       "      <th></th>\n",
       "      <th>employee</th>\n",
       "      <th>hire_date</th>\n",
       "    </tr>\n",
       "  </thead>\n",
       "  <tbody>\n",
       "    <tr>\n",
       "      <th>0</th>\n",
       "      <td>Ahmed</td>\n",
       "      <td>2006</td>\n",
       "    </tr>\n",
       "    <tr>\n",
       "      <th>1</th>\n",
       "      <td>Bob</td>\n",
       "      <td>2008</td>\n",
       "    </tr>\n",
       "    <tr>\n",
       "      <th>2</th>\n",
       "      <td>Jake</td>\n",
       "      <td>2014</td>\n",
       "    </tr>\n",
       "  </tbody>\n",
       "</table>\n",
       "</div>"
      ],
      "text/plain": [
       "  employee  hire_date\n",
       "0    Ahmed       2006\n",
       "1      Bob       2008\n",
       "2     Jake       2014"
      ]
     },
     "execution_count": 14,
     "metadata": {},
     "output_type": "execute_result"
    }
   ],
   "source": [
    "df2_hired.head(n=3)"
   ]
  },
  {
   "cell_type": "code",
   "execution_count": 16,
   "metadata": {},
   "outputs": [
    {
     "data": {
      "text/html": [
       "<div>\n",
       "<style scoped>\n",
       "    .dataframe tbody tr th:only-of-type {\n",
       "        vertical-align: middle;\n",
       "    }\n",
       "\n",
       "    .dataframe tbody tr th {\n",
       "        vertical-align: top;\n",
       "    }\n",
       "\n",
       "    .dataframe thead th {\n",
       "        text-align: right;\n",
       "    }\n",
       "</style>\n",
       "<table border=\"1\" class=\"dataframe\">\n",
       "  <thead>\n",
       "    <tr style=\"text-align: right;\">\n",
       "      <th></th>\n",
       "      <th>employee</th>\n",
       "      <th>group</th>\n",
       "      <th>hire_date</th>\n",
       "    </tr>\n",
       "  </thead>\n",
       "  <tbody>\n",
       "    <tr>\n",
       "      <th>0</th>\n",
       "      <td>Bob</td>\n",
       "      <td>Data Science</td>\n",
       "      <td>2008</td>\n",
       "    </tr>\n",
       "    <tr>\n",
       "      <th>1</th>\n",
       "      <td>Jake</td>\n",
       "      <td>Data Engineering</td>\n",
       "      <td>2014</td>\n",
       "    </tr>\n",
       "    <tr>\n",
       "      <th>2</th>\n",
       "      <td>Ahmed</td>\n",
       "      <td>Data Engineering</td>\n",
       "      <td>2006</td>\n",
       "    </tr>\n",
       "    <tr>\n",
       "      <th>3</th>\n",
       "      <td>Sue</td>\n",
       "      <td>Data Analyst</td>\n",
       "      <td>2021</td>\n",
       "    </tr>\n",
       "  </tbody>\n",
       "</table>\n",
       "</div>"
      ],
      "text/plain": [
       "  employee             group  hire_date\n",
       "0      Bob      Data Science       2008\n",
       "1     Jake  Data Engineering       2014\n",
       "2    Ahmed  Data Engineering       2006\n",
       "3      Sue      Data Analyst       2021"
      ]
     },
     "execution_count": 16,
     "metadata": {},
     "output_type": "execute_result"
    }
   ],
   "source": [
    "df_job_hired = df1_job.merge(df2_hired, on = \"employee\")\n",
    "df_job_hired"
   ]
  },
  {
   "cell_type": "markdown",
   "metadata": {},
   "source": [
    "### Advanced Exercise\n",
    "\n",
    "In the DataFrame `df2_hired` somebody changed the name of the employee column. In addition, a column called `responsibility` was added. \n",
    "\n",
    "- See if both `responsibility` columns represent the same values and can be merged into one column.\n",
    "\n",
    "- Merge the two DataFrames, save them in a new variable called `df_job_hired_2`.\n",
    "- Add suffixes (\"_job\", \"_hired\") so you can still distinguish the columns after merging. \n",
    "- In the end, print out the DataFrame.\n",
    "\n",
    "&#128161; <ins>Hint</ins>: Use the parameters left_on, right_on of the .merge() function. And don't forget, you can always check the documentation if needed."
   ]
  },
  {
   "cell_type": "code",
   "execution_count": 2,
   "metadata": {},
   "outputs": [],
   "source": [
    "import pandas as pd"
   ]
  },
  {
   "cell_type": "code",
   "execution_count": 3,
   "metadata": {},
   "outputs": [],
   "source": [
    "df1_job = pd.DataFrame({'employee': ['Bob', 'Jake', 'Lisa', 'Sue'],\n",
    "                       'group': ['Data Science', 'Data Engineering', 'Data Engineering', 'Data Analyst'],\n",
    "                    'responsibility': [\"Energy Forecast\", \"Data pipelines\", \"Data pipelines\", \"Interpreting Results\"]})\n",
    "\n",
    "df2_hired = pd.DataFrame({'employee_names': ['Lisa', 'Bob', 'Jake', 'Sue'],\n",
    "                         'hire_date': [2004, 2008, 2012, 2014],\n",
    "                         'responsibility': [\"yes\", \"no\", \"no\", \"yes\"]})"
   ]
  },
  {
   "cell_type": "code",
   "execution_count": 5,
   "metadata": {},
   "outputs": [
    {
     "data": {
      "text/html": [
       "<div>\n",
       "<style scoped>\n",
       "    .dataframe tbody tr th:only-of-type {\n",
       "        vertical-align: middle;\n",
       "    }\n",
       "\n",
       "    .dataframe tbody tr th {\n",
       "        vertical-align: top;\n",
       "    }\n",
       "\n",
       "    .dataframe thead th {\n",
       "        text-align: right;\n",
       "    }\n",
       "</style>\n",
       "<table border=\"1\" class=\"dataframe\">\n",
       "  <thead>\n",
       "    <tr style=\"text-align: right;\">\n",
       "      <th></th>\n",
       "      <th>employee</th>\n",
       "      <th>group</th>\n",
       "      <th>responsibility</th>\n",
       "    </tr>\n",
       "  </thead>\n",
       "  <tbody>\n",
       "    <tr>\n",
       "      <th>0</th>\n",
       "      <td>Bob</td>\n",
       "      <td>Data Science</td>\n",
       "      <td>Energy Forecast</td>\n",
       "    </tr>\n",
       "    <tr>\n",
       "      <th>1</th>\n",
       "      <td>Jake</td>\n",
       "      <td>Data Engineering</td>\n",
       "      <td>Data pipelines</td>\n",
       "    </tr>\n",
       "    <tr>\n",
       "      <th>2</th>\n",
       "      <td>Lisa</td>\n",
       "      <td>Data Engineering</td>\n",
       "      <td>Data pipelines</td>\n",
       "    </tr>\n",
       "    <tr>\n",
       "      <th>3</th>\n",
       "      <td>Sue</td>\n",
       "      <td>Data Analyst</td>\n",
       "      <td>Interpreting Results</td>\n",
       "    </tr>\n",
       "  </tbody>\n",
       "</table>\n",
       "</div>"
      ],
      "text/plain": [
       "  employee             group        responsibility\n",
       "0      Bob      Data Science       Energy Forecast\n",
       "1     Jake  Data Engineering        Data pipelines\n",
       "2     Lisa  Data Engineering        Data pipelines\n",
       "3      Sue      Data Analyst  Interpreting Results"
      ]
     },
     "execution_count": 5,
     "metadata": {},
     "output_type": "execute_result"
    }
   ],
   "source": [
    "df1_job"
   ]
  },
  {
   "cell_type": "code",
   "execution_count": 6,
   "metadata": {},
   "outputs": [
    {
     "data": {
      "text/html": [
       "<div>\n",
       "<style scoped>\n",
       "    .dataframe tbody tr th:only-of-type {\n",
       "        vertical-align: middle;\n",
       "    }\n",
       "\n",
       "    .dataframe tbody tr th {\n",
       "        vertical-align: top;\n",
       "    }\n",
       "\n",
       "    .dataframe thead th {\n",
       "        text-align: right;\n",
       "    }\n",
       "</style>\n",
       "<table border=\"1\" class=\"dataframe\">\n",
       "  <thead>\n",
       "    <tr style=\"text-align: right;\">\n",
       "      <th></th>\n",
       "      <th>employee_names</th>\n",
       "      <th>hire_date</th>\n",
       "      <th>responsibility</th>\n",
       "    </tr>\n",
       "  </thead>\n",
       "  <tbody>\n",
       "    <tr>\n",
       "      <th>0</th>\n",
       "      <td>Lisa</td>\n",
       "      <td>2004</td>\n",
       "      <td>yes</td>\n",
       "    </tr>\n",
       "    <tr>\n",
       "      <th>1</th>\n",
       "      <td>Bob</td>\n",
       "      <td>2008</td>\n",
       "      <td>no</td>\n",
       "    </tr>\n",
       "    <tr>\n",
       "      <th>2</th>\n",
       "      <td>Jake</td>\n",
       "      <td>2012</td>\n",
       "      <td>no</td>\n",
       "    </tr>\n",
       "    <tr>\n",
       "      <th>3</th>\n",
       "      <td>Sue</td>\n",
       "      <td>2014</td>\n",
       "      <td>yes</td>\n",
       "    </tr>\n",
       "  </tbody>\n",
       "</table>\n",
       "</div>"
      ],
      "text/plain": [
       "  employee_names  hire_date responsibility\n",
       "0           Lisa       2004            yes\n",
       "1            Bob       2008             no\n",
       "2           Jake       2012             no\n",
       "3            Sue       2014            yes"
      ]
     },
     "execution_count": 6,
     "metadata": {},
     "output_type": "execute_result"
    }
   ],
   "source": [
    "df2_hired"
   ]
  },
  {
   "cell_type": "code",
   "execution_count": 7,
   "metadata": {},
   "outputs": [
    {
     "data": {
      "text/plain": [
       "0    False\n",
       "1    False\n",
       "2    False\n",
       "3    False\n",
       "Name: responsibility, dtype: bool"
      ]
     },
     "execution_count": 7,
     "metadata": {},
     "output_type": "execute_result"
    }
   ],
   "source": [
    "df1_job.responsibility == df2_hired.responsibility"
   ]
  },
  {
   "cell_type": "code",
   "execution_count": 8,
   "metadata": {},
   "outputs": [],
   "source": [
    "df_job_hired_2 = df1_job.merge(df2_hired, left_on = \"employee\", right_on = \"employee_names\", suffixes = (\"_job\", \"_hired\"))"
   ]
  },
  {
   "cell_type": "code",
   "execution_count": 17,
   "metadata": {},
   "outputs": [
    {
     "name": "stdout",
     "output_type": "stream",
     "text": [
      "  employee             group    responsibility_job employee_names  hire_date  \\\n",
      "0      Bob      Data Science       Energy Forecast            Bob       2008   \n",
      "1     Jake  Data Engineering        Data pipelines           Jake       2012   \n",
      "2     Lisa  Data Engineering        Data pipelines           Lisa       2004   \n",
      "3      Sue      Data Analyst  Interpreting Results            Sue       2014   \n",
      "\n",
      "  responsibility_hired  \n",
      "0                   no  \n",
      "1                   no  \n",
      "2                  yes  \n",
      "3                  yes  \n"
     ]
    }
   ],
   "source": [
    "print(df_job_hired_2)"
   ]
  },
  {
   "cell_type": "markdown",
   "metadata": {},
   "source": [
    "### Exercise\n",
    "\n",
    "In the following, two dataframes (`dp1_df`, and `dp2_df`) are given. They both describe a number of employees working on a data related project together. They share the same column names. \n",
    "\n",
    "- Concatenate the dataframes and save them in a new dataframe called `data_project_df`.\n",
    "- When you concatenated the dataframes, have a look at the index - it is not continuous. \n",
    "- Add the parameter \"ignore_index = True\" to create a continuous index."
   ]
  },
  {
   "cell_type": "code",
   "execution_count": 4,
   "metadata": {},
   "outputs": [],
   "source": [
    "dp1_df = pd.DataFrame([{'Name': 'Kelly', 'Role': 'Team Lead ML', 'Location': 'State Street'},\n",
    "                         {'Name': 'Sally', 'Role': 'Data Scientist', 'Location': 'Washington Avenue'},\n",
    "                         {'Name': 'James', 'Role': 'Data Engineer', 'Location': 'Washington Avenue'}])\n",
    "dp2_df = pd.DataFrame([{'Name': 'James', 'Role': 'Analyst', 'Location': '1024 Billiard Avenue'},\n",
    "                           {'Name': 'Mike', 'Role': 'Regulations', 'Location': 'Fraternity House #22'},\n",
    "                           {'Name': 'Sally', 'Role': 'MlOps', 'Location': '512 Wilson Crescent'}])"
   ]
  },
  {
   "cell_type": "code",
   "execution_count": 24,
   "metadata": {},
   "outputs": [],
   "source": [
    "data_project_df = pd.concat([dp1_df, dp2_df], ignore_index = True, verify_integrity = True )"
   ]
  },
  {
   "cell_type": "code",
   "execution_count": null,
   "metadata": {},
   "outputs": [],
   "source": [
    "data_project_df"
   ]
  },
  {
   "cell_type": "markdown",
   "metadata": {},
   "source": [
    "## (45) Pandas - Conditional Selections"
   ]
  },
  {
   "cell_type": "markdown",
   "metadata": {},
   "source": [
    "### Excercise\n",
    "\n",
    "1. Look at the dataframe `energy_flow` above and select the control area \"Germany\". \n",
    "2. Safe your selection into a variable calles `germany`.\n",
    "3. Look at the first three rows to see if it worked."
   ]
  },
  {
   "cell_type": "code",
   "execution_count": 23,
   "metadata": {},
   "outputs": [],
   "source": [
    "energy_flow = pd.read_csv(\"../data/energy/physical_flow_2021_1_01.csv\", sep = \";\", index_col = 0)"
   ]
  },
  {
   "cell_type": "code",
   "execution_count": 24,
   "metadata": {},
   "outputs": [
    {
     "data": {
      "text/html": [
       "<div>\n",
       "<style scoped>\n",
       "    .dataframe tbody tr th:only-of-type {\n",
       "        vertical-align: middle;\n",
       "    }\n",
       "\n",
       "    .dataframe tbody tr th {\n",
       "        vertical-align: top;\n",
       "    }\n",
       "\n",
       "    .dataframe thead th {\n",
       "        text-align: right;\n",
       "    }\n",
       "</style>\n",
       "<table border=\"1\" class=\"dataframe\">\n",
       "  <thead>\n",
       "    <tr style=\"text-align: right;\">\n",
       "      <th></th>\n",
       "      <th>Resolution code</th>\n",
       "      <th>Control area</th>\n",
       "      <th>Physical Flow Value</th>\n",
       "    </tr>\n",
       "    <tr>\n",
       "      <th>Datetime</th>\n",
       "      <th></th>\n",
       "      <th></th>\n",
       "      <th></th>\n",
       "    </tr>\n",
       "  </thead>\n",
       "  <tbody>\n",
       "    <tr>\n",
       "      <th>2021-12-01T23:45:00+01:00</th>\n",
       "      <td>PT15M</td>\n",
       "      <td>Netherlands</td>\n",
       "      <td>-419.704</td>\n",
       "    </tr>\n",
       "    <tr>\n",
       "      <th>2021-12-01T23:45:00+01:00</th>\n",
       "      <td>PT15M</td>\n",
       "      <td>UnitedKingdom</td>\n",
       "      <td>1021.774</td>\n",
       "    </tr>\n",
       "    <tr>\n",
       "      <th>2021-12-01T23:45:00+01:00</th>\n",
       "      <td>PT15M</td>\n",
       "      <td>Luxembourg</td>\n",
       "      <td>-53.708</td>\n",
       "    </tr>\n",
       "    <tr>\n",
       "      <th>2021-12-01T23:45:00+01:00</th>\n",
       "      <td>PT15M</td>\n",
       "      <td>Germany</td>\n",
       "      <td>-1001.788</td>\n",
       "    </tr>\n",
       "    <tr>\n",
       "      <th>2021-12-01T23:45:00+01:00</th>\n",
       "      <td>PT15M</td>\n",
       "      <td>France</td>\n",
       "      <td>581.908</td>\n",
       "    </tr>\n",
       "  </tbody>\n",
       "</table>\n",
       "</div>"
      ],
      "text/plain": [
       "                          Resolution code   Control area  Physical Flow Value\n",
       "Datetime                                                                     \n",
       "2021-12-01T23:45:00+01:00           PT15M    Netherlands             -419.704\n",
       "2021-12-01T23:45:00+01:00           PT15M  UnitedKingdom             1021.774\n",
       "2021-12-01T23:45:00+01:00           PT15M     Luxembourg              -53.708\n",
       "2021-12-01T23:45:00+01:00           PT15M        Germany            -1001.788\n",
       "2021-12-01T23:45:00+01:00           PT15M         France              581.908"
      ]
     },
     "execution_count": 24,
     "metadata": {},
     "output_type": "execute_result"
    }
   ],
   "source": [
    "energy_flow.head()"
   ]
  },
  {
   "cell_type": "code",
   "execution_count": null,
   "metadata": {},
   "outputs": [],
   "source": [
    "germany = energy_flow[energy_flow[\"Control area\"] == \"Germany\"]"
   ]
  },
  {
   "cell_type": "code",
   "execution_count": null,
   "metadata": {},
   "outputs": [],
   "source": [
    "germany.head(n=3)"
   ]
  },
  {
   "cell_type": "markdown",
   "metadata": {},
   "source": [
    "<br>"
   ]
  },
  {
   "cell_type": "markdown",
   "metadata": {},
   "source": [
    "### Exercise\n",
    "\n",
    "Now it's your turn. \n",
    "\n",
    "1. Update the following cell to upload the data with \n",
    "    - Datetime being a **DatetimeIndex** \n",
    "    - this DatetimeIndex being the only Index"
   ]
  },
  {
   "cell_type": "code",
   "execution_count": 2,
   "metadata": {},
   "outputs": [],
   "source": [
    "import pandas as pd"
   ]
  },
  {
   "cell_type": "code",
   "execution_count": 4,
   "metadata": {},
   "outputs": [],
   "source": [
    "physical_flow = pd.read_csv(\"../data/energy/physical_flow_2021_1_01.csv\", sep = \";\", parse_dates = True, index_col = 0)"
   ]
  },
  {
   "cell_type": "code",
   "execution_count": 10,
   "metadata": {},
   "outputs": [
    {
     "data": {
      "text/html": [
       "<div>\n",
       "<style scoped>\n",
       "    .dataframe tbody tr th:only-of-type {\n",
       "        vertical-align: middle;\n",
       "    }\n",
       "\n",
       "    .dataframe tbody tr th {\n",
       "        vertical-align: top;\n",
       "    }\n",
       "\n",
       "    .dataframe thead th {\n",
       "        text-align: right;\n",
       "    }\n",
       "</style>\n",
       "<table border=\"1\" class=\"dataframe\">\n",
       "  <thead>\n",
       "    <tr style=\"text-align: right;\">\n",
       "      <th></th>\n",
       "      <th>Resolution code</th>\n",
       "      <th>Control area</th>\n",
       "      <th>Physical Flow Value</th>\n",
       "    </tr>\n",
       "    <tr>\n",
       "      <th>Datetime</th>\n",
       "      <th></th>\n",
       "      <th></th>\n",
       "      <th></th>\n",
       "    </tr>\n",
       "  </thead>\n",
       "  <tbody>\n",
       "    <tr>\n",
       "      <th>2021-12-01 23:45:00+01:00</th>\n",
       "      <td>PT15M</td>\n",
       "      <td>Netherlands</td>\n",
       "      <td>-419.704</td>\n",
       "    </tr>\n",
       "    <tr>\n",
       "      <th>2021-12-01 23:45:00+01:00</th>\n",
       "      <td>PT15M</td>\n",
       "      <td>UnitedKingdom</td>\n",
       "      <td>1021.774</td>\n",
       "    </tr>\n",
       "    <tr>\n",
       "      <th>2021-12-01 23:45:00+01:00</th>\n",
       "      <td>PT15M</td>\n",
       "      <td>Luxembourg</td>\n",
       "      <td>-53.708</td>\n",
       "    </tr>\n",
       "    <tr>\n",
       "      <th>2021-12-01 23:45:00+01:00</th>\n",
       "      <td>PT15M</td>\n",
       "      <td>Germany</td>\n",
       "      <td>-1001.788</td>\n",
       "    </tr>\n",
       "    <tr>\n",
       "      <th>2021-12-01 23:45:00+01:00</th>\n",
       "      <td>PT15M</td>\n",
       "      <td>France</td>\n",
       "      <td>581.908</td>\n",
       "    </tr>\n",
       "  </tbody>\n",
       "</table>\n",
       "</div>"
      ],
      "text/plain": [
       "                          Resolution code   Control area  Physical Flow Value\n",
       "Datetime                                                                     \n",
       "2021-12-01 23:45:00+01:00           PT15M    Netherlands             -419.704\n",
       "2021-12-01 23:45:00+01:00           PT15M  UnitedKingdom             1021.774\n",
       "2021-12-01 23:45:00+01:00           PT15M     Luxembourg              -53.708\n",
       "2021-12-01 23:45:00+01:00           PT15M        Germany            -1001.788\n",
       "2021-12-01 23:45:00+01:00           PT15M         France              581.908"
      ]
     },
     "execution_count": 10,
     "metadata": {},
     "output_type": "execute_result"
    }
   ],
   "source": [
    "physical_flow.head()"
   ]
  },
  {
   "cell_type": "markdown",
   "metadata": {},
   "source": [
    "2. Resemple your data to get the mean() by hour"
   ]
  },
  {
   "cell_type": "code",
   "execution_count": 18,
   "metadata": {},
   "outputs": [],
   "source": [
    "hourly_mean = physical_flow.resample(\"H\").mean()"
   ]
  },
  {
   "cell_type": "code",
   "execution_count": 20,
   "metadata": {},
   "outputs": [],
   "source": [
    "hourly_mean.columns = [\"Physical_Flow_mean\"]"
   ]
  },
  {
   "cell_type": "code",
   "execution_count": 22,
   "metadata": {},
   "outputs": [
    {
     "data": {
      "text/html": [
       "<div>\n",
       "<style scoped>\n",
       "    .dataframe tbody tr th:only-of-type {\n",
       "        vertical-align: middle;\n",
       "    }\n",
       "\n",
       "    .dataframe tbody tr th {\n",
       "        vertical-align: top;\n",
       "    }\n",
       "\n",
       "    .dataframe thead th {\n",
       "        text-align: right;\n",
       "    }\n",
       "</style>\n",
       "<table border=\"1\" class=\"dataframe\">\n",
       "  <thead>\n",
       "    <tr style=\"text-align: right;\">\n",
       "      <th></th>\n",
       "      <th>Physical_Flow_mean</th>\n",
       "    </tr>\n",
       "    <tr>\n",
       "      <th>Datetime</th>\n",
       "      <th></th>\n",
       "    </tr>\n",
       "  </thead>\n",
       "  <tbody>\n",
       "    <tr>\n",
       "      <th>2021-12-01 00:00:00+01:00</th>\n",
       "      <td>264.94165</td>\n",
       "    </tr>\n",
       "    <tr>\n",
       "      <th>2021-12-01 01:00:00+01:00</th>\n",
       "      <td>312.89260</td>\n",
       "    </tr>\n",
       "    <tr>\n",
       "      <th>2021-12-01 02:00:00+01:00</th>\n",
       "      <td>358.70945</td>\n",
       "    </tr>\n",
       "  </tbody>\n",
       "</table>\n",
       "</div>"
      ],
      "text/plain": [
       "                           Physical_Flow_mean\n",
       "Datetime                                     \n",
       "2021-12-01 00:00:00+01:00           264.94165\n",
       "2021-12-01 01:00:00+01:00           312.89260\n",
       "2021-12-01 02:00:00+01:00           358.70945"
      ]
     },
     "execution_count": 22,
     "metadata": {},
     "output_type": "execute_result"
    }
   ],
   "source": [
    "hourly_mean.head(n=3)"
   ]
  },
  {
   "cell_type": "markdown",
   "metadata": {},
   "source": [
    "3. Remove the timezone from `physical_flow` and store the data in a variable called `none_tz`"
   ]
  },
  {
   "cell_type": "code",
   "execution_count": 14,
   "metadata": {},
   "outputs": [],
   "source": [
    "none_tz = physical_flow.tz_localize(None).head()"
   ]
  },
  {
   "cell_type": "code",
   "execution_count": 15,
   "metadata": {},
   "outputs": [
    {
     "data": {
      "text/html": [
       "<div>\n",
       "<style scoped>\n",
       "    .dataframe tbody tr th:only-of-type {\n",
       "        vertical-align: middle;\n",
       "    }\n",
       "\n",
       "    .dataframe tbody tr th {\n",
       "        vertical-align: top;\n",
       "    }\n",
       "\n",
       "    .dataframe thead th {\n",
       "        text-align: right;\n",
       "    }\n",
       "</style>\n",
       "<table border=\"1\" class=\"dataframe\">\n",
       "  <thead>\n",
       "    <tr style=\"text-align: right;\">\n",
       "      <th></th>\n",
       "      <th>Resolution code</th>\n",
       "      <th>Control area</th>\n",
       "      <th>Physical Flow Value</th>\n",
       "    </tr>\n",
       "    <tr>\n",
       "      <th>Datetime</th>\n",
       "      <th></th>\n",
       "      <th></th>\n",
       "      <th></th>\n",
       "    </tr>\n",
       "  </thead>\n",
       "  <tbody>\n",
       "    <tr>\n",
       "      <th>2021-12-01 23:45:00</th>\n",
       "      <td>PT15M</td>\n",
       "      <td>Luxembourg</td>\n",
       "      <td>-53.708</td>\n",
       "    </tr>\n",
       "    <tr>\n",
       "      <th>2021-12-01 23:45:00</th>\n",
       "      <td>PT15M</td>\n",
       "      <td>Germany</td>\n",
       "      <td>-1001.788</td>\n",
       "    </tr>\n",
       "    <tr>\n",
       "      <th>2021-12-01 23:45:00</th>\n",
       "      <td>PT15M</td>\n",
       "      <td>France</td>\n",
       "      <td>581.908</td>\n",
       "    </tr>\n",
       "  </tbody>\n",
       "</table>\n",
       "</div>"
      ],
      "text/plain": [
       "                    Resolution code Control area  Physical Flow Value\n",
       "Datetime                                                             \n",
       "2021-12-01 23:45:00           PT15M   Luxembourg              -53.708\n",
       "2021-12-01 23:45:00           PT15M      Germany            -1001.788\n",
       "2021-12-01 23:45:00           PT15M       France              581.908"
      ]
     },
     "execution_count": 15,
     "metadata": {},
     "output_type": "execute_result"
    }
   ],
   "source": [
    "none_tz.tail(3)"
   ]
  },
  {
   "cell_type": "markdown",
   "metadata": {},
   "source": [
    "4. Select all data from `none_tz` that is from the 2021-12-01 and between 5am and 5:45am, store the data in a variable called `early_morning`"
   ]
  },
  {
   "cell_type": "code",
   "execution_count": 16,
   "metadata": {},
   "outputs": [],
   "source": [
    "late_night = none_tz.loc[\"2021-12-01 23:00:00\":\"2021-12-01 23:45:00\"]"
   ]
  },
  {
   "cell_type": "code",
   "execution_count": 23,
   "metadata": {},
   "outputs": [
    {
     "data": {
      "text/html": [
       "<div>\n",
       "<style scoped>\n",
       "    .dataframe tbody tr th:only-of-type {\n",
       "        vertical-align: middle;\n",
       "    }\n",
       "\n",
       "    .dataframe tbody tr th {\n",
       "        vertical-align: top;\n",
       "    }\n",
       "\n",
       "    .dataframe thead th {\n",
       "        text-align: right;\n",
       "    }\n",
       "</style>\n",
       "<table border=\"1\" class=\"dataframe\">\n",
       "  <thead>\n",
       "    <tr style=\"text-align: right;\">\n",
       "      <th></th>\n",
       "      <th>Resolution code</th>\n",
       "      <th>Control area</th>\n",
       "      <th>Physical Flow Value</th>\n",
       "    </tr>\n",
       "    <tr>\n",
       "      <th>Datetime</th>\n",
       "      <th></th>\n",
       "      <th></th>\n",
       "      <th></th>\n",
       "    </tr>\n",
       "  </thead>\n",
       "  <tbody>\n",
       "    <tr>\n",
       "      <th>2021-12-01 23:45:00</th>\n",
       "      <td>PT15M</td>\n",
       "      <td>Netherlands</td>\n",
       "      <td>-419.704</td>\n",
       "    </tr>\n",
       "    <tr>\n",
       "      <th>2021-12-01 23:45:00</th>\n",
       "      <td>PT15M</td>\n",
       "      <td>UnitedKingdom</td>\n",
       "      <td>1021.774</td>\n",
       "    </tr>\n",
       "    <tr>\n",
       "      <th>2021-12-01 23:45:00</th>\n",
       "      <td>PT15M</td>\n",
       "      <td>Luxembourg</td>\n",
       "      <td>-53.708</td>\n",
       "    </tr>\n",
       "    <tr>\n",
       "      <th>2021-12-01 23:45:00</th>\n",
       "      <td>PT15M</td>\n",
       "      <td>Germany</td>\n",
       "      <td>-1001.788</td>\n",
       "    </tr>\n",
       "    <tr>\n",
       "      <th>2021-12-01 23:45:00</th>\n",
       "      <td>PT15M</td>\n",
       "      <td>France</td>\n",
       "      <td>581.908</td>\n",
       "    </tr>\n",
       "  </tbody>\n",
       "</table>\n",
       "</div>"
      ],
      "text/plain": [
       "                    Resolution code   Control area  Physical Flow Value\n",
       "Datetime                                                               \n",
       "2021-12-01 23:45:00           PT15M    Netherlands             -419.704\n",
       "2021-12-01 23:45:00           PT15M  UnitedKingdom             1021.774\n",
       "2021-12-01 23:45:00           PT15M     Luxembourg              -53.708\n",
       "2021-12-01 23:45:00           PT15M        Germany            -1001.788\n",
       "2021-12-01 23:45:00           PT15M         France              581.908"
      ]
     },
     "execution_count": 23,
     "metadata": {},
     "output_type": "execute_result"
    }
   ],
   "source": [
    "late_night"
   ]
  },
  {
   "cell_type": "markdown",
   "metadata": {},
   "source": [
    "### Exercise \n",
    "\n",
    "Let's play around a bit using the physical flow data again."
   ]
  },
  {
   "cell_type": "code",
   "execution_count": 31,
   "metadata": {},
   "outputs": [],
   "source": [
    "import pandas as pd"
   ]
  },
  {
   "cell_type": "code",
   "execution_count": 32,
   "metadata": {},
   "outputs": [],
   "source": [
    "physical_flow = pd.read_csv(\"../data/energy/physical_flow_2021_1_01.csv\", sep = \";\")"
   ]
  },
  {
   "cell_type": "code",
   "execution_count": 33,
   "metadata": {},
   "outputs": [
    {
     "data": {
      "text/html": [
       "<div>\n",
       "<style scoped>\n",
       "    .dataframe tbody tr th:only-of-type {\n",
       "        vertical-align: middle;\n",
       "    }\n",
       "\n",
       "    .dataframe tbody tr th {\n",
       "        vertical-align: top;\n",
       "    }\n",
       "\n",
       "    .dataframe thead th {\n",
       "        text-align: right;\n",
       "    }\n",
       "</style>\n",
       "<table border=\"1\" class=\"dataframe\">\n",
       "  <thead>\n",
       "    <tr style=\"text-align: right;\">\n",
       "      <th></th>\n",
       "      <th>Datetime</th>\n",
       "      <th>Resolution code</th>\n",
       "      <th>Control area</th>\n",
       "      <th>Physical Flow Value</th>\n",
       "    </tr>\n",
       "  </thead>\n",
       "  <tbody>\n",
       "    <tr>\n",
       "      <th>0</th>\n",
       "      <td>2021-12-01T23:45:00+01:00</td>\n",
       "      <td>PT15M</td>\n",
       "      <td>Netherlands</td>\n",
       "      <td>-419.704</td>\n",
       "    </tr>\n",
       "    <tr>\n",
       "      <th>1</th>\n",
       "      <td>2021-12-01T23:45:00+01:00</td>\n",
       "      <td>PT15M</td>\n",
       "      <td>UnitedKingdom</td>\n",
       "      <td>1021.774</td>\n",
       "    </tr>\n",
       "    <tr>\n",
       "      <th>2</th>\n",
       "      <td>2021-12-01T23:45:00+01:00</td>\n",
       "      <td>PT15M</td>\n",
       "      <td>Luxembourg</td>\n",
       "      <td>-53.708</td>\n",
       "    </tr>\n",
       "  </tbody>\n",
       "</table>\n",
       "</div>"
      ],
      "text/plain": [
       "                    Datetime Resolution code   Control area  \\\n",
       "0  2021-12-01T23:45:00+01:00           PT15M    Netherlands   \n",
       "1  2021-12-01T23:45:00+01:00           PT15M  UnitedKingdom   \n",
       "2  2021-12-01T23:45:00+01:00           PT15M     Luxembourg   \n",
       "\n",
       "   Physical Flow Value  \n",
       "0             -419.704  \n",
       "1             1021.774  \n",
       "2              -53.708  "
      ]
     },
     "execution_count": 33,
     "metadata": {},
     "output_type": "execute_result"
    }
   ],
   "source": [
    "physical_flow.head(n=3)"
   ]
  },
  {
   "cell_type": "markdown",
   "metadata": {},
   "source": [
    "1. Convert your `Datetime` data into real Datetime objects by using `pd.to_datetime`"
   ]
  },
  {
   "cell_type": "code",
   "execution_count": 34,
   "metadata": {},
   "outputs": [],
   "source": [
    "physical_flow[\"Datetime\"] = pd.to_datetime(physical_flow[\"Datetime\"], format = \"%Y-%m-%dT%H:%M:%S%z\")"
   ]
  },
  {
   "cell_type": "markdown",
   "metadata": {},
   "source": [
    "2. Print out the name of the day from 4th row"
   ]
  },
  {
   "cell_type": "code",
   "execution_count": 35,
   "metadata": {},
   "outputs": [],
   "source": [
    "day_name = physical_flow.loc[4, \"Datetime\"].day_name()"
   ]
  },
  {
   "cell_type": "code",
   "execution_count": 37,
   "metadata": {},
   "outputs": [
    {
     "name": "stdout",
     "output_type": "stream",
     "text": [
      "Wednesday\n"
     ]
    }
   ],
   "source": [
    "print(day_name)"
   ]
  },
  {
   "cell_type": "markdown",
   "metadata": {},
   "source": [
    "3. Let's now say, that there was a huge imbalance on the net on the 23th of July in 2002.\n",
    "    - Turn the following string into a datetime using `pd.to_datetime`\n",
    "    - print out a String saying \"Exact time of imbalance: Tuesday, Jul 07th 23:07:44:000000\""
   ]
  },
  {
   "cell_type": "code",
   "execution_count": 42,
   "metadata": {},
   "outputs": [
    {
     "data": {
      "text/plain": [
       "Timestamp('2002-07-23 23:07:44')"
      ]
     },
     "execution_count": 42,
     "metadata": {},
     "output_type": "execute_result"
    }
   ],
   "source": [
    "imbalance_date = \"23/07/2002 23:07:44\"\n",
    "imbalance_date = pd.to_datetime(imbalance_date)\n",
    "imbalance_date"
   ]
  },
  {
   "cell_type": "code",
   "execution_count": 43,
   "metadata": {},
   "outputs": [
    {
     "name": "stdout",
     "output_type": "stream",
     "text": [
      "Exact time of imalance: Tuesday, Jul 07th 23:07:44:000000\n"
     ]
    }
   ],
   "source": [
    "print(imbalance_date.strftime(\"Exact time of imalance: %A, %b %mth %H:%M:%S:%f\"))"
   ]
  },
  {
   "cell_type": "markdown",
   "metadata": {},
   "source": [
    "## (47) Pandas - Advanced Manipulations\n",
    "\n",
    "### Exercise\n",
    "\n",
    "Let's do another one. <br>\n",
    "1. First, create a new function called `flow_check` that returns \">200 MW\" if the `Physical Flow` value is bigger than 200 MW and \"<200 MW\" if it is less than 200 MW.\n",
    "2. Create a new column called `Flow Size` that applies this function onto your dataframe"
   ]
  },
  {
   "cell_type": "code",
   "execution_count": 4,
   "metadata": {},
   "outputs": [],
   "source": [
    "import pandas as pd"
   ]
  },
  {
   "cell_type": "code",
   "execution_count": 6,
   "metadata": {},
   "outputs": [],
   "source": [
    "physical_flow = pd.read_csv(\"../data/energy/physical_flow_high_voltage_2022_may_30.csv\", sep = \";\")"
   ]
  },
  {
   "cell_type": "code",
   "execution_count": 7,
   "metadata": {},
   "outputs": [
    {
     "data": {
      "text/html": [
       "<div>\n",
       "<style scoped>\n",
       "    .dataframe tbody tr th:only-of-type {\n",
       "        vertical-align: middle;\n",
       "    }\n",
       "\n",
       "    .dataframe tbody tr th {\n",
       "        vertical-align: top;\n",
       "    }\n",
       "\n",
       "    .dataframe thead th {\n",
       "        text-align: right;\n",
       "    }\n",
       "</style>\n",
       "<table border=\"1\" class=\"dataframe\">\n",
       "  <thead>\n",
       "    <tr style=\"text-align: right;\">\n",
       "      <th></th>\n",
       "      <th>Resolution code</th>\n",
       "      <th>Asset Elia ID</th>\n",
       "      <th>Asset name</th>\n",
       "      <th>Asset type</th>\n",
       "      <th>Base Voltage</th>\n",
       "      <th>AC/DC</th>\n",
       "      <th>Physical Flow</th>\n",
       "      <th>Loading</th>\n",
       "    </tr>\n",
       "  </thead>\n",
       "  <tbody>\n",
       "    <tr>\n",
       "      <th>0</th>\n",
       "      <td>PT15M</td>\n",
       "      <td>380_51_LILLO</td>\n",
       "      <td>DOEL-MERCATOR 380.51</td>\n",
       "      <td>Internal Line</td>\n",
       "      <td>380.0</td>\n",
       "      <td>AC</td>\n",
       "      <td>13.754076</td>\n",
       "      <td>0.68</td>\n",
       "    </tr>\n",
       "    <tr>\n",
       "      <th>1</th>\n",
       "      <td>PT15M</td>\n",
       "      <td>380_74_HORTA</td>\n",
       "      <td>HORTA-MERCATOR 380.74</td>\n",
       "      <td>Internal Line</td>\n",
       "      <td>380.0</td>\n",
       "      <td>AC</td>\n",
       "      <td>238.395599</td>\n",
       "      <td>7.01</td>\n",
       "    </tr>\n",
       "    <tr>\n",
       "      <th>2</th>\n",
       "      <td>PT15M</td>\n",
       "      <td>380_29</td>\n",
       "      <td>RILLAND-ZANDVLIET 380.29</td>\n",
       "      <td>Tieline</td>\n",
       "      <td>380.0</td>\n",
       "      <td>AC</td>\n",
       "      <td>232.342749</td>\n",
       "      <td>10.78</td>\n",
       "    </tr>\n",
       "    <tr>\n",
       "      <th>3</th>\n",
       "      <td>PT15M</td>\n",
       "      <td>380_111</td>\n",
       "      <td>GEZELLE-STEVIN 380.111</td>\n",
       "      <td>Internal Line</td>\n",
       "      <td>380.0</td>\n",
       "      <td>AC</td>\n",
       "      <td>121.828900</td>\n",
       "      <td>3.72</td>\n",
       "    </tr>\n",
       "    <tr>\n",
       "      <th>4</th>\n",
       "      <td>PT15M</td>\n",
       "      <td>380_79</td>\n",
       "      <td>AVELGEM-MASTAING 380.79</td>\n",
       "      <td>Tieline</td>\n",
       "      <td>380.0</td>\n",
       "      <td>AC</td>\n",
       "      <td>0.015625</td>\n",
       "      <td>0.00</td>\n",
       "    </tr>\n",
       "    <tr>\n",
       "      <th>5</th>\n",
       "      <td>PT15M</td>\n",
       "      <td>380_33_BRUEG</td>\n",
       "      <td>BRUEGEL-COURCELLES 380.33</td>\n",
       "      <td>Internal Line</td>\n",
       "      <td>380.0</td>\n",
       "      <td>AC</td>\n",
       "      <td>24.655853</td>\n",
       "      <td>1.77</td>\n",
       "    </tr>\n",
       "    <tr>\n",
       "      <th>6</th>\n",
       "      <td>PT15M</td>\n",
       "      <td>380_26</td>\n",
       "      <td>DOEL-ZANDVLIET 380.26</td>\n",
       "      <td>Internal Line</td>\n",
       "      <td>380.0</td>\n",
       "      <td>AC</td>\n",
       "      <td>298.491598</td>\n",
       "      <td>18.90</td>\n",
       "    </tr>\n",
       "    <tr>\n",
       "      <th>7</th>\n",
       "      <td>PT15M</td>\n",
       "      <td>380_109</td>\n",
       "      <td>GEZELLE-VAN MAERLANT 380.109</td>\n",
       "      <td>Internal Line</td>\n",
       "      <td>380.0</td>\n",
       "      <td>AC</td>\n",
       "      <td>0.030151</td>\n",
       "      <td>0.00</td>\n",
       "    </tr>\n",
       "    <tr>\n",
       "      <th>8</th>\n",
       "      <td>PT15M</td>\n",
       "      <td>380_107</td>\n",
       "      <td>GEZELLE-VAN MAERLANT 380.107</td>\n",
       "      <td>Internal Line</td>\n",
       "      <td>380.0</td>\n",
       "      <td>AC</td>\n",
       "      <td>0.030151</td>\n",
       "      <td>0.00</td>\n",
       "    </tr>\n",
       "    <tr>\n",
       "      <th>9</th>\n",
       "      <td>PT15M</td>\n",
       "      <td>380_10</td>\n",
       "      <td>ACHENE-GRAMME 380.10</td>\n",
       "      <td>Internal Line</td>\n",
       "      <td>380.0</td>\n",
       "      <td>AC</td>\n",
       "      <td>440.964253</td>\n",
       "      <td>24.38</td>\n",
       "    </tr>\n",
       "    <tr>\n",
       "      <th>10</th>\n",
       "      <td>PT15M</td>\n",
       "      <td>380_28</td>\n",
       "      <td>MAASBRACHT-VAN EYCK 380.28</td>\n",
       "      <td>Tieline</td>\n",
       "      <td>380.0</td>\n",
       "      <td>AC</td>\n",
       "      <td>57.433527</td>\n",
       "      <td>3.64</td>\n",
       "    </tr>\n",
       "  </tbody>\n",
       "</table>\n",
       "</div>"
      ],
      "text/plain": [
       "   Resolution code Asset Elia ID                    Asset name     Asset type  \\\n",
       "0            PT15M  380_51_LILLO          DOEL-MERCATOR 380.51  Internal Line   \n",
       "1            PT15M  380_74_HORTA         HORTA-MERCATOR 380.74  Internal Line   \n",
       "2            PT15M        380_29      RILLAND-ZANDVLIET 380.29        Tieline   \n",
       "3            PT15M       380_111        GEZELLE-STEVIN 380.111  Internal Line   \n",
       "4            PT15M        380_79       AVELGEM-MASTAING 380.79        Tieline   \n",
       "5            PT15M  380_33_BRUEG     BRUEGEL-COURCELLES 380.33  Internal Line   \n",
       "6            PT15M        380_26         DOEL-ZANDVLIET 380.26  Internal Line   \n",
       "7            PT15M       380_109  GEZELLE-VAN MAERLANT 380.109  Internal Line   \n",
       "8            PT15M       380_107  GEZELLE-VAN MAERLANT 380.107  Internal Line   \n",
       "9            PT15M        380_10          ACHENE-GRAMME 380.10  Internal Line   \n",
       "10           PT15M        380_28    MAASBRACHT-VAN EYCK 380.28        Tieline   \n",
       "\n",
       "    Base Voltage AC/DC  Physical Flow  Loading  \n",
       "0          380.0    AC      13.754076     0.68  \n",
       "1          380.0    AC     238.395599     7.01  \n",
       "2          380.0    AC     232.342749    10.78  \n",
       "3          380.0    AC     121.828900     3.72  \n",
       "4          380.0    AC       0.015625     0.00  \n",
       "5          380.0    AC      24.655853     1.77  \n",
       "6          380.0    AC     298.491598    18.90  \n",
       "7          380.0    AC       0.030151     0.00  \n",
       "8          380.0    AC       0.030151     0.00  \n",
       "9          380.0    AC     440.964253    24.38  \n",
       "10         380.0    AC      57.433527     3.64  "
      ]
     },
     "execution_count": 7,
     "metadata": {},
     "output_type": "execute_result"
    }
   ],
   "source": [
    "ph_flow_short = physical_flow.loc[:10,\"Resolution code\":\"Loading\"]\n",
    "ph_flow_short"
   ]
  },
  {
   "cell_type": "code",
   "execution_count": 8,
   "metadata": {},
   "outputs": [],
   "source": [
    "def flow_size(row):\n",
    "    if row[\"Physical Flow\"] >= 200:\n",
    "        return \">200 MW\"\n",
    "    else: \n",
    "        return \"<200 MW\""
   ]
  },
  {
   "cell_type": "code",
   "execution_count": 10,
   "metadata": {},
   "outputs": [
    {
     "data": {
      "text/html": [
       "<div>\n",
       "<style scoped>\n",
       "    .dataframe tbody tr th:only-of-type {\n",
       "        vertical-align: middle;\n",
       "    }\n",
       "\n",
       "    .dataframe tbody tr th {\n",
       "        vertical-align: top;\n",
       "    }\n",
       "\n",
       "    .dataframe thead th {\n",
       "        text-align: right;\n",
       "    }\n",
       "</style>\n",
       "<table border=\"1\" class=\"dataframe\">\n",
       "  <thead>\n",
       "    <tr style=\"text-align: right;\">\n",
       "      <th></th>\n",
       "      <th>Resolution code</th>\n",
       "      <th>Asset Elia ID</th>\n",
       "      <th>Asset name</th>\n",
       "      <th>Asset type</th>\n",
       "      <th>Base Voltage</th>\n",
       "      <th>AC/DC</th>\n",
       "      <th>Physical Flow</th>\n",
       "      <th>Loading</th>\n",
       "      <th>Flow Size</th>\n",
       "    </tr>\n",
       "  </thead>\n",
       "  <tbody>\n",
       "    <tr>\n",
       "      <th>6</th>\n",
       "      <td>PT15M</td>\n",
       "      <td>380_26</td>\n",
       "      <td>DOEL-ZANDVLIET 380.26</td>\n",
       "      <td>Internal Line</td>\n",
       "      <td>380.0</td>\n",
       "      <td>AC</td>\n",
       "      <td>298.491598</td>\n",
       "      <td>18.90</td>\n",
       "      <td>&gt;200 MW</td>\n",
       "    </tr>\n",
       "    <tr>\n",
       "      <th>7</th>\n",
       "      <td>PT15M</td>\n",
       "      <td>380_109</td>\n",
       "      <td>GEZELLE-VAN MAERLANT 380.109</td>\n",
       "      <td>Internal Line</td>\n",
       "      <td>380.0</td>\n",
       "      <td>AC</td>\n",
       "      <td>0.030151</td>\n",
       "      <td>0.00</td>\n",
       "      <td>&lt;200 MW</td>\n",
       "    </tr>\n",
       "    <tr>\n",
       "      <th>8</th>\n",
       "      <td>PT15M</td>\n",
       "      <td>380_107</td>\n",
       "      <td>GEZELLE-VAN MAERLANT 380.107</td>\n",
       "      <td>Internal Line</td>\n",
       "      <td>380.0</td>\n",
       "      <td>AC</td>\n",
       "      <td>0.030151</td>\n",
       "      <td>0.00</td>\n",
       "      <td>&lt;200 MW</td>\n",
       "    </tr>\n",
       "    <tr>\n",
       "      <th>9</th>\n",
       "      <td>PT15M</td>\n",
       "      <td>380_10</td>\n",
       "      <td>ACHENE-GRAMME 380.10</td>\n",
       "      <td>Internal Line</td>\n",
       "      <td>380.0</td>\n",
       "      <td>AC</td>\n",
       "      <td>440.964253</td>\n",
       "      <td>24.38</td>\n",
       "      <td>&gt;200 MW</td>\n",
       "    </tr>\n",
       "    <tr>\n",
       "      <th>10</th>\n",
       "      <td>PT15M</td>\n",
       "      <td>380_28</td>\n",
       "      <td>MAASBRACHT-VAN EYCK 380.28</td>\n",
       "      <td>Tieline</td>\n",
       "      <td>380.0</td>\n",
       "      <td>AC</td>\n",
       "      <td>57.433527</td>\n",
       "      <td>3.64</td>\n",
       "      <td>&lt;200 MW</td>\n",
       "    </tr>\n",
       "  </tbody>\n",
       "</table>\n",
       "</div>"
      ],
      "text/plain": [
       "   Resolution code Asset Elia ID                    Asset name     Asset type  \\\n",
       "6            PT15M        380_26         DOEL-ZANDVLIET 380.26  Internal Line   \n",
       "7            PT15M       380_109  GEZELLE-VAN MAERLANT 380.109  Internal Line   \n",
       "8            PT15M       380_107  GEZELLE-VAN MAERLANT 380.107  Internal Line   \n",
       "9            PT15M        380_10          ACHENE-GRAMME 380.10  Internal Line   \n",
       "10           PT15M        380_28    MAASBRACHT-VAN EYCK 380.28        Tieline   \n",
       "\n",
       "    Base Voltage AC/DC  Physical Flow  Loading Flow Size  \n",
       "6          380.0    AC     298.491598    18.90   >200 MW  \n",
       "7          380.0    AC       0.030151     0.00   <200 MW  \n",
       "8          380.0    AC       0.030151     0.00   <200 MW  \n",
       "9          380.0    AC     440.964253    24.38   >200 MW  \n",
       "10         380.0    AC      57.433527     3.64   <200 MW  "
      ]
     },
     "execution_count": 10,
     "metadata": {},
     "output_type": "execute_result"
    }
   ],
   "source": [
    "ph_flow_short.loc[:, \"Flow Size\"] = ph_flow_short.apply(flow_size, axis = 1)\n",
    "ph_flow_short.tail()"
   ]
  },
  {
   "cell_type": "markdown",
   "metadata": {},
   "source": [
    "### Advanced Exercise\n",
    "In your dataframe, the physical flow indicates how heavily the line is loaded relative to the maximum possible line loading.\n",
    "\n",
    "1. Create a new column that returns the maximum possible loading.\n",
    "2. For instance, if the physical flow is 13.75 MW and that equals 0.68% loading, then the max. loading is 20,22 MW. \n",
    "3. Name the new column \"Max. Loading\""
   ]
  },
  {
   "cell_type": "code",
   "execution_count": 13,
   "metadata": {},
   "outputs": [],
   "source": [
    "import pandas as pd"
   ]
  },
  {
   "cell_type": "code",
   "execution_count": 14,
   "metadata": {},
   "outputs": [],
   "source": [
    "physical_flow = pd.read_csv(\"../data/energy/physical_flow_high_voltage_2022_may_30.csv\", sep = \";\")"
   ]
  },
  {
   "cell_type": "code",
   "execution_count": 16,
   "metadata": {},
   "outputs": [
    {
     "data": {
      "text/html": [
       "<div>\n",
       "<style scoped>\n",
       "    .dataframe tbody tr th:only-of-type {\n",
       "        vertical-align: middle;\n",
       "    }\n",
       "\n",
       "    .dataframe tbody tr th {\n",
       "        vertical-align: top;\n",
       "    }\n",
       "\n",
       "    .dataframe thead th {\n",
       "        text-align: right;\n",
       "    }\n",
       "</style>\n",
       "<table border=\"1\" class=\"dataframe\">\n",
       "  <thead>\n",
       "    <tr style=\"text-align: right;\">\n",
       "      <th></th>\n",
       "      <th>Resolution code</th>\n",
       "      <th>Asset Elia ID</th>\n",
       "      <th>Asset name</th>\n",
       "      <th>Asset type</th>\n",
       "      <th>Base Voltage</th>\n",
       "      <th>AC/DC</th>\n",
       "      <th>Physical Flow</th>\n",
       "      <th>Loading</th>\n",
       "    </tr>\n",
       "  </thead>\n",
       "  <tbody>\n",
       "    <tr>\n",
       "      <th>0</th>\n",
       "      <td>PT15M</td>\n",
       "      <td>380_51_LILLO</td>\n",
       "      <td>DOEL-MERCATOR 380.51</td>\n",
       "      <td>Internal Line</td>\n",
       "      <td>380.0</td>\n",
       "      <td>AC</td>\n",
       "      <td>13.754076</td>\n",
       "      <td>0.68</td>\n",
       "    </tr>\n",
       "    <tr>\n",
       "      <th>1</th>\n",
       "      <td>PT15M</td>\n",
       "      <td>380_74_HORTA</td>\n",
       "      <td>HORTA-MERCATOR 380.74</td>\n",
       "      <td>Internal Line</td>\n",
       "      <td>380.0</td>\n",
       "      <td>AC</td>\n",
       "      <td>238.395599</td>\n",
       "      <td>7.01</td>\n",
       "    </tr>\n",
       "    <tr>\n",
       "      <th>2</th>\n",
       "      <td>PT15M</td>\n",
       "      <td>380_29</td>\n",
       "      <td>RILLAND-ZANDVLIET 380.29</td>\n",
       "      <td>Tieline</td>\n",
       "      <td>380.0</td>\n",
       "      <td>AC</td>\n",
       "      <td>232.342749</td>\n",
       "      <td>10.78</td>\n",
       "    </tr>\n",
       "    <tr>\n",
       "      <th>3</th>\n",
       "      <td>PT15M</td>\n",
       "      <td>380_111</td>\n",
       "      <td>GEZELLE-STEVIN 380.111</td>\n",
       "      <td>Internal Line</td>\n",
       "      <td>380.0</td>\n",
       "      <td>AC</td>\n",
       "      <td>121.828900</td>\n",
       "      <td>3.72</td>\n",
       "    </tr>\n",
       "    <tr>\n",
       "      <th>4</th>\n",
       "      <td>PT15M</td>\n",
       "      <td>380_79</td>\n",
       "      <td>AVELGEM-MASTAING 380.79</td>\n",
       "      <td>Tieline</td>\n",
       "      <td>380.0</td>\n",
       "      <td>AC</td>\n",
       "      <td>0.015625</td>\n",
       "      <td>0.00</td>\n",
       "    </tr>\n",
       "  </tbody>\n",
       "</table>\n",
       "</div>"
      ],
      "text/plain": [
       "  Resolution code Asset Elia ID                Asset name     Asset type  \\\n",
       "0           PT15M  380_51_LILLO      DOEL-MERCATOR 380.51  Internal Line   \n",
       "1           PT15M  380_74_HORTA     HORTA-MERCATOR 380.74  Internal Line   \n",
       "2           PT15M        380_29  RILLAND-ZANDVLIET 380.29        Tieline   \n",
       "3           PT15M       380_111    GEZELLE-STEVIN 380.111  Internal Line   \n",
       "4           PT15M        380_79   AVELGEM-MASTAING 380.79        Tieline   \n",
       "\n",
       "   Base Voltage AC/DC  Physical Flow  Loading  \n",
       "0         380.0    AC      13.754076     0.68  \n",
       "1         380.0    AC     238.395599     7.01  \n",
       "2         380.0    AC     232.342749    10.78  \n",
       "3         380.0    AC     121.828900     3.72  \n",
       "4         380.0    AC       0.015625     0.00  "
      ]
     },
     "execution_count": 16,
     "metadata": {},
     "output_type": "execute_result"
    }
   ],
   "source": [
    "ph_flow_short = physical_flow.loc[:10,\"Resolution code\":\"Loading\"]\n",
    "ph_flow_short.head()"
   ]
  },
  {
   "cell_type": "code",
   "execution_count": 29,
   "metadata": {},
   "outputs": [],
   "source": [
    "def max_calculator(row):\n",
    "    if (row[\"Physical Flow\"] > 0) & (row[\"Loading\"] > 0):\n",
    "        return row[\"Physical Flow\"] / row[\"Loading\"] *100\n",
    "    else:\n",
    "        return 0"
   ]
  },
  {
   "cell_type": "code",
   "execution_count": 30,
   "metadata": {},
   "outputs": [
    {
     "data": {
      "text/html": [
       "<div>\n",
       "<style scoped>\n",
       "    .dataframe tbody tr th:only-of-type {\n",
       "        vertical-align: middle;\n",
       "    }\n",
       "\n",
       "    .dataframe tbody tr th {\n",
       "        vertical-align: top;\n",
       "    }\n",
       "\n",
       "    .dataframe thead th {\n",
       "        text-align: right;\n",
       "    }\n",
       "</style>\n",
       "<table border=\"1\" class=\"dataframe\">\n",
       "  <thead>\n",
       "    <tr style=\"text-align: right;\">\n",
       "      <th></th>\n",
       "      <th>Resolution code</th>\n",
       "      <th>Asset Elia ID</th>\n",
       "      <th>Asset name</th>\n",
       "      <th>Asset type</th>\n",
       "      <th>Base Voltage</th>\n",
       "      <th>AC/DC</th>\n",
       "      <th>Physical Flow</th>\n",
       "      <th>Loading</th>\n",
       "      <th>Max. Loading</th>\n",
       "    </tr>\n",
       "  </thead>\n",
       "  <tbody>\n",
       "    <tr>\n",
       "      <th>0</th>\n",
       "      <td>PT15M</td>\n",
       "      <td>380_51_LILLO</td>\n",
       "      <td>DOEL-MERCATOR 380.51</td>\n",
       "      <td>Internal Line</td>\n",
       "      <td>380.0</td>\n",
       "      <td>AC</td>\n",
       "      <td>13.754076</td>\n",
       "      <td>0.68</td>\n",
       "      <td>2022.658205</td>\n",
       "    </tr>\n",
       "    <tr>\n",
       "      <th>1</th>\n",
       "      <td>PT15M</td>\n",
       "      <td>380_74_HORTA</td>\n",
       "      <td>HORTA-MERCATOR 380.74</td>\n",
       "      <td>Internal Line</td>\n",
       "      <td>380.0</td>\n",
       "      <td>AC</td>\n",
       "      <td>238.395599</td>\n",
       "      <td>7.01</td>\n",
       "      <td>3400.793142</td>\n",
       "    </tr>\n",
       "    <tr>\n",
       "      <th>2</th>\n",
       "      <td>PT15M</td>\n",
       "      <td>380_29</td>\n",
       "      <td>RILLAND-ZANDVLIET 380.29</td>\n",
       "      <td>Tieline</td>\n",
       "      <td>380.0</td>\n",
       "      <td>AC</td>\n",
       "      <td>232.342749</td>\n",
       "      <td>10.78</td>\n",
       "      <td>2155.313073</td>\n",
       "    </tr>\n",
       "    <tr>\n",
       "      <th>3</th>\n",
       "      <td>PT15M</td>\n",
       "      <td>380_111</td>\n",
       "      <td>GEZELLE-STEVIN 380.111</td>\n",
       "      <td>Internal Line</td>\n",
       "      <td>380.0</td>\n",
       "      <td>AC</td>\n",
       "      <td>121.828900</td>\n",
       "      <td>3.72</td>\n",
       "      <td>3274.970430</td>\n",
       "    </tr>\n",
       "    <tr>\n",
       "      <th>4</th>\n",
       "      <td>PT15M</td>\n",
       "      <td>380_79</td>\n",
       "      <td>AVELGEM-MASTAING 380.79</td>\n",
       "      <td>Tieline</td>\n",
       "      <td>380.0</td>\n",
       "      <td>AC</td>\n",
       "      <td>0.015625</td>\n",
       "      <td>0.00</td>\n",
       "      <td>0.000000</td>\n",
       "    </tr>\n",
       "  </tbody>\n",
       "</table>\n",
       "</div>"
      ],
      "text/plain": [
       "  Resolution code Asset Elia ID                Asset name     Asset type  \\\n",
       "0           PT15M  380_51_LILLO      DOEL-MERCATOR 380.51  Internal Line   \n",
       "1           PT15M  380_74_HORTA     HORTA-MERCATOR 380.74  Internal Line   \n",
       "2           PT15M        380_29  RILLAND-ZANDVLIET 380.29        Tieline   \n",
       "3           PT15M       380_111    GEZELLE-STEVIN 380.111  Internal Line   \n",
       "4           PT15M        380_79   AVELGEM-MASTAING 380.79        Tieline   \n",
       "\n",
       "   Base Voltage AC/DC  Physical Flow  Loading  Max. Loading  \n",
       "0         380.0    AC      13.754076     0.68   2022.658205  \n",
       "1         380.0    AC     238.395599     7.01   3400.793142  \n",
       "2         380.0    AC     232.342749    10.78   2155.313073  \n",
       "3         380.0    AC     121.828900     3.72   3274.970430  \n",
       "4         380.0    AC       0.015625     0.00      0.000000  "
      ]
     },
     "execution_count": 30,
     "metadata": {},
     "output_type": "execute_result"
    }
   ],
   "source": [
    "ph_flow_short.loc[:, \"Max. Loading\"] = ph_flow_short.apply(max_calculator, axis = 1)\n",
    "ph_flow_short.head()"
   ]
  },
  {
   "cell_type": "markdown",
   "metadata": {},
   "source": [
    "### Exercise \n",
    "\n",
    "This exercise is all about vectorization: \n",
    "\n",
    "- Check out the following dataframe\n",
    "- Create a new column \"Loading_grouped\" in the DataFrame `flow_info` that groups the Loding (in %) using vectorization\n",
    "- Loading less then 5 % is categorized as \"small\", less then 20 % as \"medium\" and more then 20 % as \"large\"\n",
    "- print out the the last 10 rows of the updates dataframe"
   ]
  },
  {
   "cell_type": "code",
   "execution_count": 20,
   "metadata": {},
   "outputs": [],
   "source": [
    "import numpy as np "
   ]
  },
  {
   "cell_type": "code",
   "execution_count": 22,
   "metadata": {},
   "outputs": [
    {
     "data": {
      "text/html": [
       "<div>\n",
       "<style scoped>\n",
       "    .dataframe tbody tr th:only-of-type {\n",
       "        vertical-align: middle;\n",
       "    }\n",
       "\n",
       "    .dataframe tbody tr th {\n",
       "        vertical-align: top;\n",
       "    }\n",
       "\n",
       "    .dataframe thead th {\n",
       "        text-align: right;\n",
       "    }\n",
       "</style>\n",
       "<table border=\"1\" class=\"dataframe\">\n",
       "  <thead>\n",
       "    <tr style=\"text-align: right;\">\n",
       "      <th></th>\n",
       "      <th>Asset name</th>\n",
       "      <th>Asset type</th>\n",
       "      <th>Base Voltage</th>\n",
       "      <th>AC/DC</th>\n",
       "      <th>Physical Flow</th>\n",
       "      <th>Loading</th>\n",
       "    </tr>\n",
       "  </thead>\n",
       "  <tbody>\n",
       "    <tr>\n",
       "      <th>0</th>\n",
       "      <td>DOEL-MERCATOR 380.51</td>\n",
       "      <td>Internal Line</td>\n",
       "      <td>380.0</td>\n",
       "      <td>AC</td>\n",
       "      <td>13.754076</td>\n",
       "      <td>0.68</td>\n",
       "    </tr>\n",
       "    <tr>\n",
       "      <th>1</th>\n",
       "      <td>HORTA-MERCATOR 380.74</td>\n",
       "      <td>Internal Line</td>\n",
       "      <td>380.0</td>\n",
       "      <td>AC</td>\n",
       "      <td>238.395599</td>\n",
       "      <td>7.01</td>\n",
       "    </tr>\n",
       "    <tr>\n",
       "      <th>2</th>\n",
       "      <td>RILLAND-ZANDVLIET 380.29</td>\n",
       "      <td>Tieline</td>\n",
       "      <td>380.0</td>\n",
       "      <td>AC</td>\n",
       "      <td>232.342749</td>\n",
       "      <td>10.78</td>\n",
       "    </tr>\n",
       "  </tbody>\n",
       "</table>\n",
       "</div>"
      ],
      "text/plain": [
       "                 Asset name     Asset type  Base Voltage AC/DC  Physical Flow  \\\n",
       "0      DOEL-MERCATOR 380.51  Internal Line         380.0    AC      13.754076   \n",
       "1     HORTA-MERCATOR 380.74  Internal Line         380.0    AC     238.395599   \n",
       "2  RILLAND-ZANDVLIET 380.29        Tieline         380.0    AC     232.342749   \n",
       "\n",
       "   Loading  \n",
       "0     0.68  \n",
       "1     7.01  \n",
       "2    10.78  "
      ]
     },
     "execution_count": 22,
     "metadata": {},
     "output_type": "execute_result"
    }
   ],
   "source": [
    "physical_flow = pd.read_csv(\"../data/energy/physical_flow_high_voltage_2022_may_30.csv\", sep = \";\")\n",
    "\n",
    "flow_info = physical_flow.loc[:, \"Asset name\": \"Loading\"]\n",
    "flow_info.head(3)"
   ]
  },
  {
   "cell_type": "code",
   "execution_count": 23,
   "metadata": {},
   "outputs": [],
   "source": [
    "conditions = [\n",
    "    flow_info[\"Loading\"] < 5, # first condition to test: if true return choice1, if false check next condition\n",
    "    flow_info[\"Loading\"] <= 20, # second condition to test: if true return choice2, if false check next condition\n",
    "    flow_info[\"Loading\"] > 20 # third condition to test: if true return choice3, if false default value is returned\n",
    "]\n",
    "\n",
    "choices = [\n",
    "    \"small\",  # choice1\n",
    "    \"medium\", # choice2\n",
    "    \"large\",   # choice3\n",
    "]\n",
    "\n",
    "flow_info.loc[:,\"Loading_grouped\"] = np.select(conditions, choices) #  default value is the value if non of the conditions are true"
   ]
  },
  {
   "cell_type": "code",
   "execution_count": 25,
   "metadata": {},
   "outputs": [
    {
     "name": "stdout",
     "output_type": "stream",
     "text": [
      "medium    2170\n",
      "large     1658\n",
      "small     1248\n",
      "Name: Loading_grouped, dtype: int64\n"
     ]
    },
    {
     "data": {
      "text/html": [
       "<div>\n",
       "<style scoped>\n",
       "    .dataframe tbody tr th:only-of-type {\n",
       "        vertical-align: middle;\n",
       "    }\n",
       "\n",
       "    .dataframe tbody tr th {\n",
       "        vertical-align: top;\n",
       "    }\n",
       "\n",
       "    .dataframe thead th {\n",
       "        text-align: right;\n",
       "    }\n",
       "</style>\n",
       "<table border=\"1\" class=\"dataframe\">\n",
       "  <thead>\n",
       "    <tr style=\"text-align: right;\">\n",
       "      <th></th>\n",
       "      <th>Asset name</th>\n",
       "      <th>Asset type</th>\n",
       "      <th>Base Voltage</th>\n",
       "      <th>AC/DC</th>\n",
       "      <th>Physical Flow</th>\n",
       "      <th>Loading</th>\n",
       "      <th>Loading_grouped</th>\n",
       "    </tr>\n",
       "  </thead>\n",
       "  <tbody>\n",
       "    <tr>\n",
       "      <th>5066</th>\n",
       "      <td>MAASBRACHT-VAN EYCK 380.28</td>\n",
       "      <td>Tieline</td>\n",
       "      <td>380.0</td>\n",
       "      <td>AC</td>\n",
       "      <td>64.885999</td>\n",
       "      <td>4.11</td>\n",
       "      <td>small</td>\n",
       "    </tr>\n",
       "    <tr>\n",
       "      <th>5067</th>\n",
       "      <td>GRAMME-LIXHE 380.11</td>\n",
       "      <td>Internal Line</td>\n",
       "      <td>380.0</td>\n",
       "      <td>AC</td>\n",
       "      <td>254.106699</td>\n",
       "      <td>14.87</td>\n",
       "      <td>medium</td>\n",
       "    </tr>\n",
       "    <tr>\n",
       "      <th>5068</th>\n",
       "      <td>DOEL-MERCATOR 380.52</td>\n",
       "      <td>Internal Line</td>\n",
       "      <td>380.0</td>\n",
       "      <td>AC</td>\n",
       "      <td>550.735256</td>\n",
       "      <td>37.37</td>\n",
       "      <td>large</td>\n",
       "    </tr>\n",
       "    <tr>\n",
       "      <th>5069</th>\n",
       "      <td>HORTA-VAN MAERLANT 380.104</td>\n",
       "      <td>Internal Line</td>\n",
       "      <td>380.0</td>\n",
       "      <td>AC</td>\n",
       "      <td>248.927759</td>\n",
       "      <td>7.20</td>\n",
       "      <td>medium</td>\n",
       "    </tr>\n",
       "    <tr>\n",
       "      <th>5070</th>\n",
       "      <td>DOEL-MERCATOR 380.51</td>\n",
       "      <td>Internal Line</td>\n",
       "      <td>380.0</td>\n",
       "      <td>AC</td>\n",
       "      <td>2.042895</td>\n",
       "      <td>0.10</td>\n",
       "      <td>small</td>\n",
       "    </tr>\n",
       "    <tr>\n",
       "      <th>5071</th>\n",
       "      <td>COURCELLES-GRAMME 380.31</td>\n",
       "      <td>Internal Line</td>\n",
       "      <td>380.0</td>\n",
       "      <td>AC</td>\n",
       "      <td>154.208288</td>\n",
       "      <td>8.47</td>\n",
       "      <td>medium</td>\n",
       "    </tr>\n",
       "    <tr>\n",
       "      <th>5072</th>\n",
       "      <td>HORTA-MERCATOR 380.74</td>\n",
       "      <td>Internal Line</td>\n",
       "      <td>380.0</td>\n",
       "      <td>AC</td>\n",
       "      <td>95.991292</td>\n",
       "      <td>3.32</td>\n",
       "      <td>small</td>\n",
       "    </tr>\n",
       "    <tr>\n",
       "      <th>5073</th>\n",
       "      <td>BRUEGEL-MERCATOR 380.36</td>\n",
       "      <td>Internal Line</td>\n",
       "      <td>380.0</td>\n",
       "      <td>AC</td>\n",
       "      <td>748.364497</td>\n",
       "      <td>47.38</td>\n",
       "      <td>large</td>\n",
       "    </tr>\n",
       "    <tr>\n",
       "      <th>5074</th>\n",
       "      <td>HORTA-VAN MAERLANT 380.103</td>\n",
       "      <td>Internal Line</td>\n",
       "      <td>380.0</td>\n",
       "      <td>AC</td>\n",
       "      <td>207.980390</td>\n",
       "      <td>6.19</td>\n",
       "      <td>medium</td>\n",
       "    </tr>\n",
       "    <tr>\n",
       "      <th>5075</th>\n",
       "      <td>BRUEGEL-COURCELLES 380.34</td>\n",
       "      <td>Internal Line</td>\n",
       "      <td>380.0</td>\n",
       "      <td>AC</td>\n",
       "      <td>42.436825</td>\n",
       "      <td>2.69</td>\n",
       "      <td>small</td>\n",
       "    </tr>\n",
       "  </tbody>\n",
       "</table>\n",
       "</div>"
      ],
      "text/plain": [
       "                      Asset name     Asset type  Base Voltage AC/DC  \\\n",
       "5066  MAASBRACHT-VAN EYCK 380.28        Tieline         380.0    AC   \n",
       "5067         GRAMME-LIXHE 380.11  Internal Line         380.0    AC   \n",
       "5068        DOEL-MERCATOR 380.52  Internal Line         380.0    AC   \n",
       "5069  HORTA-VAN MAERLANT 380.104  Internal Line         380.0    AC   \n",
       "5070        DOEL-MERCATOR 380.51  Internal Line         380.0    AC   \n",
       "5071    COURCELLES-GRAMME 380.31  Internal Line         380.0    AC   \n",
       "5072       HORTA-MERCATOR 380.74  Internal Line         380.0    AC   \n",
       "5073     BRUEGEL-MERCATOR 380.36  Internal Line         380.0    AC   \n",
       "5074  HORTA-VAN MAERLANT 380.103  Internal Line         380.0    AC   \n",
       "5075   BRUEGEL-COURCELLES 380.34  Internal Line         380.0    AC   \n",
       "\n",
       "      Physical Flow  Loading Loading_grouped  \n",
       "5066      64.885999     4.11           small  \n",
       "5067     254.106699    14.87          medium  \n",
       "5068     550.735256    37.37           large  \n",
       "5069     248.927759     7.20          medium  \n",
       "5070       2.042895     0.10           small  \n",
       "5071     154.208288     8.47          medium  \n",
       "5072      95.991292     3.32           small  \n",
       "5073     748.364497    47.38           large  \n",
       "5074     207.980390     6.19          medium  \n",
       "5075      42.436825     2.69           small  "
      ]
     },
     "execution_count": 25,
     "metadata": {},
     "output_type": "execute_result"
    }
   ],
   "source": [
    "print(flow_info.Loading_grouped.value_counts())\n",
    "flow_info.tail(10)"
   ]
  },
  {
   "cell_type": "markdown",
   "metadata": {},
   "source": [
    "### Advanced Exercise \n",
    "\n",
    "In the follwing, you will calculate the maximum load again. Similar to the exercise from above. However, this time you will use vectorization again.\n",
    "\n",
    "- Work with the dataframe `flow_info`\n",
    "- Create a new column called \"Max_load\" that shows the maximum possible load\n",
    "        - For instance, if the physical flow is 13.75 MW and that equals 0.68% loading, then the max. loading is 20,22 MW\n",
    "- Hint: Pay attention to zero values"
   ]
  },
  {
   "cell_type": "code",
   "execution_count": null,
   "metadata": {},
   "outputs": [],
   "source": [
    "import numpy as np \n",
    "physical_flow = pd.read_csv(\"../data/energy/physical_flow_high_voltage_2022_may_30.csv\", sep = \";\")\n",
    "\n",
    "flow_info = physical_flow.loc[:, \"Asset name\": \"Loading\"]\n",
    "flow_info.head(3)"
   ]
  },
  {
   "cell_type": "code",
   "execution_count": 31,
   "metadata": {},
   "outputs": [
    {
     "data": {
      "text/html": [
       "<div>\n",
       "<style scoped>\n",
       "    .dataframe tbody tr th:only-of-type {\n",
       "        vertical-align: middle;\n",
       "    }\n",
       "\n",
       "    .dataframe tbody tr th {\n",
       "        vertical-align: top;\n",
       "    }\n",
       "\n",
       "    .dataframe thead th {\n",
       "        text-align: right;\n",
       "    }\n",
       "</style>\n",
       "<table border=\"1\" class=\"dataframe\">\n",
       "  <thead>\n",
       "    <tr style=\"text-align: right;\">\n",
       "      <th></th>\n",
       "      <th>Asset name</th>\n",
       "      <th>Asset type</th>\n",
       "      <th>Base Voltage</th>\n",
       "      <th>AC/DC</th>\n",
       "      <th>Physical Flow</th>\n",
       "      <th>Loading</th>\n",
       "      <th>Loading_grouped</th>\n",
       "      <th>Max_load</th>\n",
       "    </tr>\n",
       "  </thead>\n",
       "  <tbody>\n",
       "    <tr>\n",
       "      <th>0</th>\n",
       "      <td>DOEL-MERCATOR 380.51</td>\n",
       "      <td>Internal Line</td>\n",
       "      <td>380.0</td>\n",
       "      <td>AC</td>\n",
       "      <td>13.754076</td>\n",
       "      <td>0.68</td>\n",
       "      <td>small</td>\n",
       "      <td>2022.658205</td>\n",
       "    </tr>\n",
       "    <tr>\n",
       "      <th>1</th>\n",
       "      <td>HORTA-MERCATOR 380.74</td>\n",
       "      <td>Internal Line</td>\n",
       "      <td>380.0</td>\n",
       "      <td>AC</td>\n",
       "      <td>238.395599</td>\n",
       "      <td>7.01</td>\n",
       "      <td>medium</td>\n",
       "      <td>3400.793142</td>\n",
       "    </tr>\n",
       "    <tr>\n",
       "      <th>2</th>\n",
       "      <td>RILLAND-ZANDVLIET 380.29</td>\n",
       "      <td>Tieline</td>\n",
       "      <td>380.0</td>\n",
       "      <td>AC</td>\n",
       "      <td>232.342749</td>\n",
       "      <td>10.78</td>\n",
       "      <td>medium</td>\n",
       "      <td>2155.313073</td>\n",
       "    </tr>\n",
       "  </tbody>\n",
       "</table>\n",
       "</div>"
      ],
      "text/plain": [
       "                 Asset name     Asset type  Base Voltage AC/DC  Physical Flow  \\\n",
       "0      DOEL-MERCATOR 380.51  Internal Line         380.0    AC      13.754076   \n",
       "1     HORTA-MERCATOR 380.74  Internal Line         380.0    AC     238.395599   \n",
       "2  RILLAND-ZANDVLIET 380.29        Tieline         380.0    AC     232.342749   \n",
       "\n",
       "   Loading Loading_grouped     Max_load  \n",
       "0     0.68           small  2022.658205  \n",
       "1     7.01          medium  3400.793142  \n",
       "2    10.78          medium  2155.313073  "
      ]
     },
     "execution_count": 31,
     "metadata": {},
     "output_type": "execute_result"
    }
   ],
   "source": [
    "flow_info.loc[:, \"Max_load\"] = np.where(\n",
    "    (flow_info[\"Physical Flow\"] > 0) & (flow_info[\"Loading\"] > 0), # <-- condition\n",
    "    flow_info[\"Physical Flow\"] / flow_info[\"Loading\"] * 100, # <-- return if true\n",
    "    0 #<-- return if false\n",
    "    )\n",
    "flow_info.head(3)"
   ]
  },
  {
   "cell_type": "markdown",
   "metadata": {},
   "source": [
    "## (48) Pandas - Data Visualization\n"
   ]
  },
  {
   "cell_type": "markdown",
   "metadata": {},
   "source": [
    "### Exercise"
   ]
  },
  {
   "cell_type": "code",
   "execution_count": null,
   "metadata": {},
   "outputs": [],
   "source": [
    "plt.axhline(y=0.5, color='r', linestyle='--')"
   ]
  }
 ],
 "metadata": {
  "kernelspec": {
   "display_name": "Python 3",
   "language": "python",
   "name": "python3"
  },
  "language_info": {
   "codemirror_mode": {
    "name": "ipython",
    "version": 3
   },
   "file_extension": ".py",
   "mimetype": "text/x-python",
   "name": "python",
   "nbconvert_exporter": "python",
   "pygments_lexer": "ipython3",
   "version": "3.8.5"
  }
 },
 "nbformat": 4,
 "nbformat_minor": 4
}
