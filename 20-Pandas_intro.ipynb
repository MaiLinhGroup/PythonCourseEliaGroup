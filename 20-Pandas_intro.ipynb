{
 "cells": [
  {
   "cell_type": "markdown",
   "metadata": {},
   "source": [
    "<br>\n",
    "\n",
    "<img src=\"./image/Logo/logo_elia_group.png\" width = 200>\n",
    "\n",
    "<br>"
   ]
  },
  {
   "cell_type": "markdown",
   "metadata": {},
   "source": [
    "# Python for Data Wrangling\n",
    "<br> \n",
    "\n",
    "## Intro to Pandas\n",
    "\n",
    "Welcome back! In this section you will learn about one of the most important packages for data scientists: Pandas. Pandas is a [package](https://data36.com/python-import-built-in-modules-data-science/) in Python used for data formatting, analysis and manipulation. It helps you to deal with 2-D table-like data structures, which is what business people and other stakeholders are used to seeing.<br> \n",
    "\n",
    "Pandas gives you all the tools to..\n",
    "- **clean up** and organize your data (i.e. resampling, filling missing values)\n",
    "- \"**automate the boring stuff**\" and quickly add value to any team\n",
    "- work with other packages and libraries like `matplotlib` or `Scikit-Learn`\n",
    "- actually make sense of your data set!\n",
    "\n",
    "The cool thing about Pandas is that it allows you way more flexibility compared to Excel. Also, it empowers you to work with massive data sets without getting lost or having trubble to upload it. <br>\n",
    "\n",
    "Sounds good? Let's do this.\n",
    "\n",
    "<img src=\"./image/Icons/Icon_2019_WEB_progression.png\">"
   ]
  },
  {
   "cell_type": "markdown",
   "metadata": {},
   "source": [
    "### When to use Pandas\n",
    "\n",
    "Maybe you already have an idea when Pandas comes in handy. The following figuere shows you the entire data science pipeline. Can you spot Pandas?"
   ]
  },
  {
   "cell_type": "markdown",
   "metadata": {},
   "source": [
    "<br>\n",
    "\n",
    "<img src= \"./image/ds_path.png\">\n",
    "\n",
    "<br>\n",
    "\n",
    "[source](https://medium.com/dunder-data/how-to-learn-pandas-108905ab4955)"
   ]
  },
  {
   "cell_type": "markdown",
   "metadata": {},
   "source": [
    "### Importing Pandas\n",
    "\n",
    "As being said, Pandas gives you a great way to deal with 2-D data structures (like SQL or Excel tables) in Python, which isn't \"native\" to the language. That's why you have to `import` the package.  By `import`-ing the package, you just allow the current .py or .ipynb file you're working on to use the functionality of the package. Additionally, shortening pandas to `pd` is common. <br>\n",
    "\n",
    "In case, you cannot import pandas, you need to install it by `pip install pandas`. Pip is a package installer that helps you installing new libraries to your working environment."
   ]
  },
  {
   "cell_type": "code",
   "execution_count": null,
   "metadata": {},
   "outputs": [],
   "source": [
    "import pandas as pd "
   ]
  },
  {
   "cell_type": "code",
   "execution_count": null,
   "metadata": {},
   "outputs": [],
   "source": [
    "#check for the current version like this \n",
    "pd.__version__"
   ]
  },
  {
   "cell_type": "markdown",
   "metadata": {},
   "source": [
    "### Additional Data Types in Pandas\n",
    "\n",
    "Let's recap the datatypes you are already familiar with:"
   ]
  },
  {
   "cell_type": "code",
   "execution_count": null,
   "metadata": {},
   "outputs": [],
   "source": [
    "float(16)"
   ]
  },
  {
   "cell_type": "code",
   "execution_count": null,
   "metadata": {},
   "outputs": [],
   "source": [
    "int(16)"
   ]
  },
  {
   "cell_type": "code",
   "execution_count": null,
   "metadata": {},
   "outputs": [],
   "source": [
    "str(16)"
   ]
  },
  {
   "cell_type": "code",
   "execution_count": null,
   "metadata": {},
   "outputs": [],
   "source": [
    "bool(16)"
   ]
  },
  {
   "cell_type": "code",
   "execution_count": null,
   "metadata": {},
   "outputs": [],
   "source": [
    "list([1,2,3])"
   ]
  },
  {
   "cell_type": "markdown",
   "metadata": {},
   "source": [
    "When working with Pandas, you will make use of additional datatypes: \n",
    "\n",
    "- **pd.Series**:\n",
    "    - 1-D data structure; single columns.\n",
    "\n",
    "- **pd.DataFrame**:\n",
    "    - 2-D data structure (better known as a table w/ named columns & numbered rows).\n",
    "    \n",
    "Pandas adds those two more datatypes to the ones that are native to Python. <br>\n",
    "In this training, you will mainly **focus on DataFrames**, since they are super important in data science (you cannot train a model with only 1 single array of data)."
   ]
  },
  {
   "cell_type": "markdown",
   "metadata": {},
   "source": [
    "### Series"
   ]
  },
  {
   "cell_type": "markdown",
   "metadata": {},
   "source": [
    "Per definition, Pandas series are one-dimensional data structures which can hold data such as strings, integers and other Python objects. Just like a column in a table. In Python, a Pandas series can be easily created using `pandas.Series()`. \n",
    "<br>\n",
    "\n",
    "Take a look at the following example: "
   ]
  },
  {
   "cell_type": "code",
   "execution_count": null,
   "metadata": {},
   "outputs": [],
   "source": [
    "import pandas as pd"
   ]
  },
  {
   "cell_type": "code",
   "execution_count": null,
   "metadata": {},
   "outputs": [],
   "source": [
    "grid_load = [1182.06, 1067.81, 7538.02]\n",
    "\n",
    "grid_load_series = pd.Series(grid_load)"
   ]
  },
  {
   "cell_type": "code",
   "execution_count": null,
   "metadata": {},
   "outputs": [],
   "source": [
    "print(grid_load_series)"
   ]
  },
  {
   "cell_type": "markdown",
   "metadata": {},
   "source": [
    "In comparison, this is how a list looks like: "
   ]
  },
  {
   "cell_type": "code",
   "execution_count": null,
   "metadata": {},
   "outputs": [],
   "source": [
    "print(grid_load)"
   ]
  },
  {
   "cell_type": "markdown",
   "metadata": {},
   "source": [
    "You can access each item of a Series by using its index:"
   ]
  },
  {
   "cell_type": "code",
   "execution_count": null,
   "metadata": {},
   "outputs": [],
   "source": [
    "grid_load_series[0]"
   ]
  },
  {
   "cell_type": "markdown",
   "metadata": {},
   "source": [
    "Or create even new indexes: "
   ]
  },
  {
   "cell_type": "code",
   "execution_count": null,
   "metadata": {},
   "outputs": [],
   "source": [
    "grid_load_index = pd.Series(grid_load, index = [\"Jan\", \"Feb\", \"March\"])"
   ]
  },
  {
   "cell_type": "code",
   "execution_count": null,
   "metadata": {},
   "outputs": [],
   "source": [
    "grid_load_index"
   ]
  },
  {
   "cell_type": "markdown",
   "metadata": {},
   "source": [
    "### DataFrames\n",
    "\n",
    "So, the first question you probably ask yourself is \"What is a Data Frame made of?\". Again, a dataframe is like a 2D data structure and therefore consists of rows and columns. Let's create a Dataframe from a list of lists and check its components."
   ]
  },
  {
   "cell_type": "code",
   "execution_count": null,
   "metadata": {},
   "outputs": [],
   "source": [
    "list_of_lists = [[\"Wallonia\", 4339.61],[\"Flanders\",1536.84],[\"Flemish-Brabant\",514.58]]\n",
    "list_of_lists"
   ]
  },
  {
   "cell_type": "code",
   "execution_count": null,
   "metadata": {},
   "outputs": [],
   "source": [
    "df = pd.DataFrame(list_of_lists,columns = [\"Region\", \"Monitored_Capacity\"])\n",
    "df"
   ]
  },
  {
   "cell_type": "markdown",
   "metadata": {},
   "source": [
    "See, with `pd.DataFrame` you can easily create a Data Frame from a list of lists or dictionaries. Let's have a look at the different components: "
   ]
  },
  {
   "cell_type": "code",
   "execution_count": null,
   "metadata": {},
   "outputs": [],
   "source": [
    "df.columns"
   ]
  },
  {
   "cell_type": "code",
   "execution_count": null,
   "metadata": {},
   "outputs": [],
   "source": [
    "df.index"
   ]
  },
  {
   "cell_type": "code",
   "execution_count": null,
   "metadata": {},
   "outputs": [],
   "source": [
    "df.values[0]"
   ]
  },
  {
   "cell_type": "markdown",
   "metadata": {},
   "source": [
    "## Pandas for Data Understanding and Analysis\n",
    "\n",
    "### Importing a Data Frame\n",
    "\n",
    "Let's have a look at a way bigger data set. Therefore, you will use the original dataset of photovoltaic power production estimation and forecast on Belgian grid. This data set is from the [Elia Open Source API.](\"https://opendata.elia.be/explore/dataset/ods087/information/\") But no worries, the data set is already downloaded into your data folder. <br>\n",
    "\n",
    "- 1. First, use the `read_csv` function to load your data from a csv file into a DataFrame:"
   ]
  },
  {
   "cell_type": "code",
   "execution_count": null,
   "metadata": {},
   "outputs": [],
   "source": [
    "#since the csv is separated by a ; this has to be clarified in the read_csv function\n",
    "pv_power = pd.read_csv(\"./data/energy/ods087.csv\", sep = ';') "
   ]
  },
  {
   "cell_type": "markdown",
   "metadata": {},
   "source": [
    "- 2. Second, quickly look at your data\n",
    "\n",
    "To get a first overview of your data, there are several things you can do. `dataframe_name.head()` shows the first n rows (5 by default) in order (imported!). This is important as it is not sorted. So the first row you see may not be the \"actual\" first row, or the first row you expect to see."
   ]
  },
  {
   "cell_type": "code",
   "execution_count": null,
   "metadata": {},
   "outputs": [],
   "source": [
    "pv_power.head()"
   ]
  },
  {
   "cell_type": "markdown",
   "metadata": {},
   "source": [
    "If you, for instance, would like to see the first 10 rows, you need to set n to 10:"
   ]
  },
  {
   "cell_type": "code",
   "execution_count": null,
   "metadata": {},
   "outputs": [],
   "source": [
    "pv_power.head(n=10)"
   ]
  },
  {
   "cell_type": "markdown",
   "metadata": {},
   "source": [
    "You can also look at the **last** n rows. `dataframe_name.tail()` shows last n rows in order of imported (below we limit it to three):"
   ]
  },
  {
   "cell_type": "code",
   "execution_count": null,
   "metadata": {},
   "outputs": [],
   "source": [
    "pv_power.tail(n=3)"
   ]
  },
  {
   "cell_type": "markdown",
   "metadata": {},
   "source": [
    "If you would like to know **how many rows or columns** your data set has, you can apply `dataframe_name.shape`:"
   ]
  },
  {
   "cell_type": "code",
   "execution_count": null,
   "metadata": {},
   "outputs": [],
   "source": [
    "#The first entry stands for the number of rows, the second entry for the number of columns\n",
    "pv_power.shape "
   ]
  },
  {
   "cell_type": "code",
   "execution_count": null,
   "metadata": {},
   "outputs": [],
   "source": [
    "rows = pv_power.shape[0] \n",
    "rows"
   ]
  },
  {
   "cell_type": "markdown",
   "metadata": {},
   "source": [
    "You can also quickly look at the data types of each of our columns:\n",
    "- each column has a single data type\n",
    "- pandas has figured out some of our column's data types for us"
   ]
  },
  {
   "cell_type": "code",
   "execution_count": null,
   "metadata": {},
   "outputs": [],
   "source": [
    "pv_power.dtypes"
   ]
  },
  {
   "cell_type": "markdown",
   "metadata": {},
   "source": [
    "- 3. Third, get basic statistics\n",
    "    * Also pretty useful is `dataframe_name.describe()` - a method which generates summary statistics of the columns:"
   ]
  },
  {
   "cell_type": "code",
   "execution_count": null,
   "metadata": {},
   "outputs": [],
   "source": [
    "pv_power.describe()"
   ]
  },
  {
   "cell_type": "markdown",
   "metadata": {},
   "source": [
    "### Exercise\n",
    "<br> \n",
    "\n",
    "Alright, let's practise! &#128512;\n",
    "\n",
    "1. Get the last 25 rows of the Data Frame `pv_power`\n",
    "2. Get the number of columns in the DataFrame. Save this as a new variable called `columns`. Print the result."
   ]
  },
  {
   "cell_type": "code",
   "execution_count": null,
   "metadata": {},
   "outputs": [],
   "source": []
  },
  {
   "cell_type": "code",
   "execution_count": null,
   "metadata": {},
   "outputs": [],
   "source": []
  },
  {
   "cell_type": "markdown",
   "metadata": {},
   "source": [
    "## Extra resources\n",
    "To know more about series and dataframe read:\n",
    "- [Series vs Dataframe](https://composingprograms.com/pages/14-designing-functions.html)"
   ]
  }
 ],
 "metadata": {
  "kernelspec": {
   "display_name": "Python 3",
   "language": "python",
   "name": "python3"
  },
  "language_info": {
   "codemirror_mode": {
    "name": "ipython",
    "version": 3
   },
   "file_extension": ".py",
   "mimetype": "text/x-python",
   "name": "python",
   "nbconvert_exporter": "python",
   "pygments_lexer": "ipython3",
   "version": "3.10.13"
  }
 },
 "nbformat": 4,
 "nbformat_minor": 4
}
