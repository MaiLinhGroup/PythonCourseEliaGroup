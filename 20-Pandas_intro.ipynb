{
 "cells": [
  {
   "cell_type": "markdown",
   "metadata": {},
   "source": [
    "<br>\n",
    "\n",
    "<img src=\"./image/Logo/logo_elia_group.png\" width = 200>\n",
    "\n",
    "<br>"
   ]
  },
  {
   "cell_type": "markdown",
   "metadata": {},
   "source": [
    "# Python for Data Wrangling\n",
    "<br> \n",
    "\n",
    "## Intro to Pandas\n",
    "\n",
    "Welcome back! In this section you will learn about one of the most important packages for data scientists: Pandas. Pandas is a [package](https://data36.com/python-import-built-in-modules-data-science/) in Python used for data formatting, analysis and manipulation. It helps you to deal with 2-D table-like data structures, which is what business people and other stakeholders are used to seeing.<br> \n",
    "\n",
    "Pandas gives you all the tools to..\n",
    "- **clean up** and organize your data (i.e. resampling, filling missing values)\n",
    "- \"**automate the boring stuff**\" and quickly add value to any team\n",
    "- work with other packages and libraries like `matplotlib` or `Scikit-Learn`\n",
    "- actually make sense of your data set!\n",
    "\n",
    "The cool thing about Pandas is that it allows you way more flexibility compared to Excel. Also, it empowers you to work with massive data sets without getting lost or having trubble to upload it. <br>\n",
    "\n",
    "Sounds good? Let's do this.\n",
    "\n",
    "<img src=\"./image/Icons/Icon_2019_WEB_progression.png\">"
   ]
  },
  {
   "cell_type": "markdown",
   "metadata": {},
   "source": [
    "### When to use Pandas\n",
    "\n",
    "Maybe you already have an idea when Pandas comes in handy. The following figuere shows you the entire data science pipeline. Can you spot Pandas?"
   ]
  },
  {
   "cell_type": "markdown",
   "metadata": {},
   "source": [
    "<br>\n",
    "\n",
    "<img src= \"./image/ds_path.png\">\n",
    "\n",
    "<br>\n",
    "\n",
    "[source](https://medium.com/dunder-data/how-to-learn-pandas-108905ab4955)"
   ]
  },
  {
   "cell_type": "markdown",
   "metadata": {},
   "source": [
    "### Importing Pandas\n",
    "\n",
    "As being said, Pandas gives you a great way to deal with 2-D data structures (like SQL or Excel tables) in Python, which isn't \"native\" to the language. That's why you have to `import` the package.  By `import`-ing the package, you just allow the current .py or .ipynb file you're working on to use the functionality of the package. Additionally, shortening pandas to `pd` is common. <br>\n",
    "\n",
    "In case, you cannot import pandas, you need to install it by `pip install pandas`. Pip is a package installer that helps you installing new libraries to your working environment."
   ]
  },
  {
   "cell_type": "code",
   "execution_count": 1,
   "metadata": {},
   "outputs": [],
   "source": [
    "import pandas as pd "
   ]
  },
  {
   "cell_type": "code",
   "execution_count": 2,
   "metadata": {},
   "outputs": [
    {
     "data": {
      "text/plain": [
       "'1.1.1'"
      ]
     },
     "execution_count": 2,
     "metadata": {},
     "output_type": "execute_result"
    }
   ],
   "source": [
    "#check for the current version like this \n",
    "pd.__version__"
   ]
  },
  {
   "cell_type": "markdown",
   "metadata": {},
   "source": [
    "### Additional Data Types in Pandas\n",
    "\n",
    "Let's recap the datatypes you are already familiar with:"
   ]
  },
  {
   "cell_type": "code",
   "execution_count": 3,
   "metadata": {},
   "outputs": [
    {
     "data": {
      "text/plain": [
       "16.0"
      ]
     },
     "execution_count": 3,
     "metadata": {},
     "output_type": "execute_result"
    }
   ],
   "source": [
    "float(16)"
   ]
  },
  {
   "cell_type": "code",
   "execution_count": 4,
   "metadata": {},
   "outputs": [
    {
     "data": {
      "text/plain": [
       "16"
      ]
     },
     "execution_count": 4,
     "metadata": {},
     "output_type": "execute_result"
    }
   ],
   "source": [
    "int(16)"
   ]
  },
  {
   "cell_type": "code",
   "execution_count": 5,
   "metadata": {},
   "outputs": [
    {
     "data": {
      "text/plain": [
       "'16'"
      ]
     },
     "execution_count": 5,
     "metadata": {},
     "output_type": "execute_result"
    }
   ],
   "source": [
    "str(16)"
   ]
  },
  {
   "cell_type": "code",
   "execution_count": 6,
   "metadata": {},
   "outputs": [
    {
     "data": {
      "text/plain": [
       "True"
      ]
     },
     "execution_count": 6,
     "metadata": {},
     "output_type": "execute_result"
    }
   ],
   "source": [
    "bool(16)"
   ]
  },
  {
   "cell_type": "code",
   "execution_count": 8,
   "metadata": {},
   "outputs": [
    {
     "data": {
      "text/plain": [
       "[1, 2, 3]"
      ]
     },
     "execution_count": 8,
     "metadata": {},
     "output_type": "execute_result"
    }
   ],
   "source": [
    "list([1,2,3])"
   ]
  },
  {
   "cell_type": "markdown",
   "metadata": {},
   "source": [
    "When working with Pandas, you will make use of additional datatypes: \n",
    "\n",
    "- **pd.Series**:\n",
    "    - 1-D data structure; single columns.\n",
    "\n",
    "- **pd.DataFrame**:\n",
    "    - 2-D data structure (better known as a table w/ named columns & numbered rows).\n",
    "    \n",
    "Pandas adds those two more datatypes to the ones that are native to Python. <br>\n",
    "In this training, you will mainly **focus on DataFrames**, since they are super important in data science (you cannot train a model with only 1 single array of data)."
   ]
  },
  {
   "cell_type": "markdown",
   "metadata": {},
   "source": [
    "### Series"
   ]
  },
  {
   "cell_type": "markdown",
   "metadata": {},
   "source": [
    "Per definition, Pandas series are one-dimensional data structures which can hold data such as strings, integers and other Python objects. Just like a column in a table. In Python, a Pandas series can be easily created using `pandas.Series()`. \n",
    "<br>\n",
    "\n",
    "Take a look at the following example: "
   ]
  },
  {
   "cell_type": "code",
   "execution_count": 3,
   "metadata": {},
   "outputs": [],
   "source": [
    "import pandas as pd"
   ]
  },
  {
   "cell_type": "code",
   "execution_count": 4,
   "metadata": {},
   "outputs": [],
   "source": [
    "grid_load = [1182.06, 1067.81, 7538.02]\n",
    "\n",
    "grid_load_series = pd.Series(grid_load)"
   ]
  },
  {
   "cell_type": "code",
   "execution_count": 22,
   "metadata": {},
   "outputs": [
    {
     "name": "stdout",
     "output_type": "stream",
     "text": [
      "0    1182.06\n",
      "1    1067.81\n",
      "2    7538.02\n",
      "dtype: float64\n"
     ]
    }
   ],
   "source": [
    "print(grid_load_series)"
   ]
  },
  {
   "cell_type": "markdown",
   "metadata": {},
   "source": [
    "In comparison, this is how a list looks like: "
   ]
  },
  {
   "cell_type": "code",
   "execution_count": 23,
   "metadata": {},
   "outputs": [
    {
     "name": "stdout",
     "output_type": "stream",
     "text": [
      "[1182.06, 1067.81, 7538.02]\n"
     ]
    }
   ],
   "source": [
    "print(grid_load)"
   ]
  },
  {
   "cell_type": "markdown",
   "metadata": {},
   "source": [
    "You can access each item of a Series by using its index:"
   ]
  },
  {
   "cell_type": "code",
   "execution_count": 24,
   "metadata": {},
   "outputs": [
    {
     "data": {
      "text/plain": [
       "1182.06"
      ]
     },
     "execution_count": 24,
     "metadata": {},
     "output_type": "execute_result"
    }
   ],
   "source": [
    "grid_load_series[0]"
   ]
  },
  {
   "cell_type": "markdown",
   "metadata": {},
   "source": [
    "Or create even new indexes: "
   ]
  },
  {
   "cell_type": "code",
   "execution_count": 20,
   "metadata": {},
   "outputs": [],
   "source": [
    "grid_load_index = pd.Series(grid_load, index = [\"Jan\", \"Feb\", \"March\"])"
   ]
  },
  {
   "cell_type": "code",
   "execution_count": 21,
   "metadata": {},
   "outputs": [
    {
     "data": {
      "text/plain": [
       "Jan      1182.06\n",
       "Feb      1067.81\n",
       "March    7538.02\n",
       "dtype: float64"
      ]
     },
     "execution_count": 21,
     "metadata": {},
     "output_type": "execute_result"
    }
   ],
   "source": [
    "grid_load_index"
   ]
  },
  {
   "cell_type": "markdown",
   "metadata": {},
   "source": [
    "### DataFrames\n",
    "\n",
    "So, the first question you probably ask yourself is \"What is a Data Frame made of?\". Again, a dataframe is like a 2D data structure and therefore consists of rows and columns. Let's create a Dataframe from a list of lists and check its components."
   ]
  },
  {
   "cell_type": "code",
   "execution_count": 13,
   "metadata": {},
   "outputs": [
    {
     "data": {
      "text/plain": [
       "[['Wallonia', 4339.61], ['Flanders', 1536.84], ['Flemish-Brabant', 514.58]]"
      ]
     },
     "execution_count": 13,
     "metadata": {},
     "output_type": "execute_result"
    }
   ],
   "source": [
    "list_of_lists = [[\"Wallonia\", 4339.61],[\"Flanders\",1536.84],[\"Flemish-Brabant\",514.58]]\n",
    "list_of_lists"
   ]
  },
  {
   "cell_type": "code",
   "execution_count": 23,
   "metadata": {},
   "outputs": [
    {
     "data": {
      "text/html": [
       "<div>\n",
       "<style scoped>\n",
       "    .dataframe tbody tr th:only-of-type {\n",
       "        vertical-align: middle;\n",
       "    }\n",
       "\n",
       "    .dataframe tbody tr th {\n",
       "        vertical-align: top;\n",
       "    }\n",
       "\n",
       "    .dataframe thead th {\n",
       "        text-align: right;\n",
       "    }\n",
       "</style>\n",
       "<table border=\"1\" class=\"dataframe\">\n",
       "  <thead>\n",
       "    <tr style=\"text-align: right;\">\n",
       "      <th></th>\n",
       "      <th>Region</th>\n",
       "      <th>Monitored_Capacity</th>\n",
       "    </tr>\n",
       "  </thead>\n",
       "  <tbody>\n",
       "    <tr>\n",
       "      <th>0</th>\n",
       "      <td>Wallonia</td>\n",
       "      <td>4339.61</td>\n",
       "    </tr>\n",
       "    <tr>\n",
       "      <th>1</th>\n",
       "      <td>Flanders</td>\n",
       "      <td>1536.84</td>\n",
       "    </tr>\n",
       "    <tr>\n",
       "      <th>2</th>\n",
       "      <td>Flemish-Brabant</td>\n",
       "      <td>514.58</td>\n",
       "    </tr>\n",
       "  </tbody>\n",
       "</table>\n",
       "</div>"
      ],
      "text/plain": [
       "            Region  Monitored_Capacity\n",
       "0         Wallonia             4339.61\n",
       "1         Flanders             1536.84\n",
       "2  Flemish-Brabant              514.58"
      ]
     },
     "execution_count": 23,
     "metadata": {},
     "output_type": "execute_result"
    }
   ],
   "source": [
    "df = pd.DataFrame(list_of_lists,columns = [\"Region\", \"Monitored_Capacity\"])\n",
    "df"
   ]
  },
  {
   "cell_type": "markdown",
   "metadata": {},
   "source": [
    "See, with `pd.DataFrame` you can easily create a Data Frame from a list of lists or dictionaries. Let's have a look at the different components: "
   ]
  },
  {
   "cell_type": "code",
   "execution_count": 24,
   "metadata": {},
   "outputs": [
    {
     "data": {
      "text/plain": [
       "Index(['Region', 'Monitored_Capacity'], dtype='object')"
      ]
     },
     "execution_count": 24,
     "metadata": {},
     "output_type": "execute_result"
    }
   ],
   "source": [
    "df.columns"
   ]
  },
  {
   "cell_type": "code",
   "execution_count": 25,
   "metadata": {},
   "outputs": [
    {
     "data": {
      "text/plain": [
       "RangeIndex(start=0, stop=3, step=1)"
      ]
     },
     "execution_count": 25,
     "metadata": {},
     "output_type": "execute_result"
    }
   ],
   "source": [
    "df.index"
   ]
  },
  {
   "cell_type": "code",
   "execution_count": 27,
   "metadata": {},
   "outputs": [
    {
     "data": {
      "text/plain": [
       "array(['Wallonia', 4339.61], dtype=object)"
      ]
     },
     "execution_count": 27,
     "metadata": {},
     "output_type": "execute_result"
    }
   ],
   "source": [
    "df.values[0]"
   ]
  },
  {
   "cell_type": "markdown",
   "metadata": {},
   "source": [
    "## Pandas for Data Understanding and Analysis\n",
    "\n",
    "### Importing a Data Frame\n",
    "\n",
    "Let's have a look at a way bigger data set. Therefore, you will use the original dataset of photovoltaic power production estimation and forecast on Belgian grid. This data set is from the [Elia Open Source API.](\"https://opendata.elia.be/explore/dataset/ods087/information/\") But no worries, the data set is already downloaded into your data folder. <br>\n",
    "\n",
    "- 1. First, use the `read_csv` function to load your data from a csv file into a DataFrame:"
   ]
  },
  {
   "cell_type": "code",
   "execution_count": 37,
   "metadata": {},
   "outputs": [],
   "source": [
    "#since the csv is separated by a ; this has to be clarified in the read_csv function\n",
    "pv_power = pd.read_csv(\"./data/energy/ods087.csv\", sep = ';') "
   ]
  },
  {
   "cell_type": "markdown",
   "metadata": {},
   "source": [
    "- 2. Second, quickly look at your data\n",
    "\n",
    "To get a first overview of your data, there are several things you can do. `dataframe_name.head()` shows the first n rows (5 by default) in order (imported!). This is important as it is not sorted. So the first row you see may not be the \"actual\" first row, or the first row you expect to see."
   ]
  },
  {
   "cell_type": "code",
   "execution_count": 38,
   "metadata": {},
   "outputs": [
    {
     "data": {
      "text/html": [
       "<div>\n",
       "<style scoped>\n",
       "    .dataframe tbody tr th:only-of-type {\n",
       "        vertical-align: middle;\n",
       "    }\n",
       "\n",
       "    .dataframe tbody tr th {\n",
       "        vertical-align: top;\n",
       "    }\n",
       "\n",
       "    .dataframe thead th {\n",
       "        text-align: right;\n",
       "    }\n",
       "</style>\n",
       "<table border=\"1\" class=\"dataframe\">\n",
       "  <thead>\n",
       "    <tr style=\"text-align: right;\">\n",
       "      <th></th>\n",
       "      <th>Datetime</th>\n",
       "      <th>Resolution code</th>\n",
       "      <th>Region</th>\n",
       "      <th>Measured &amp; upscaled</th>\n",
       "      <th>Most recent forecast</th>\n",
       "      <th>Day Ahead 11AM Forecast</th>\n",
       "      <th>Day-ahead 6PM forecast</th>\n",
       "      <th>Week-ahead forecast</th>\n",
       "      <th>Monitored capacity</th>\n",
       "      <th>Load factor</th>\n",
       "    </tr>\n",
       "  </thead>\n",
       "  <tbody>\n",
       "    <tr>\n",
       "      <th>0</th>\n",
       "      <td>2022-06-22T23:45:00+02:00</td>\n",
       "      <td>PT15M</td>\n",
       "      <td>Flanders</td>\n",
       "      <td>0.0</td>\n",
       "      <td>0.0</td>\n",
       "      <td>0.0</td>\n",
       "      <td>0.0</td>\n",
       "      <td>0.0</td>\n",
       "      <td>4339.61</td>\n",
       "      <td>0.0</td>\n",
       "    </tr>\n",
       "    <tr>\n",
       "      <th>1</th>\n",
       "      <td>2022-06-22T23:45:00+02:00</td>\n",
       "      <td>PT15M</td>\n",
       "      <td>Wallonia</td>\n",
       "      <td>0.0</td>\n",
       "      <td>0.0</td>\n",
       "      <td>0.0</td>\n",
       "      <td>0.0</td>\n",
       "      <td>0.0</td>\n",
       "      <td>1536.84</td>\n",
       "      <td>0.0</td>\n",
       "    </tr>\n",
       "    <tr>\n",
       "      <th>2</th>\n",
       "      <td>2022-06-22T23:45:00+02:00</td>\n",
       "      <td>PT15M</td>\n",
       "      <td>Limburg</td>\n",
       "      <td>0.0</td>\n",
       "      <td>0.0</td>\n",
       "      <td>0.0</td>\n",
       "      <td>0.0</td>\n",
       "      <td>0.0</td>\n",
       "      <td>624.64</td>\n",
       "      <td>0.0</td>\n",
       "    </tr>\n",
       "    <tr>\n",
       "      <th>3</th>\n",
       "      <td>2022-06-22T23:45:00+02:00</td>\n",
       "      <td>PT15M</td>\n",
       "      <td>Flemish-Brabant</td>\n",
       "      <td>0.0</td>\n",
       "      <td>0.0</td>\n",
       "      <td>0.0</td>\n",
       "      <td>0.0</td>\n",
       "      <td>0.0</td>\n",
       "      <td>514.58</td>\n",
       "      <td>0.0</td>\n",
       "    </tr>\n",
       "    <tr>\n",
       "      <th>4</th>\n",
       "      <td>2022-06-22T23:45:00+02:00</td>\n",
       "      <td>PT15M</td>\n",
       "      <td>Walloon-Brabant</td>\n",
       "      <td>0.0</td>\n",
       "      <td>0.0</td>\n",
       "      <td>0.0</td>\n",
       "      <td>0.0</td>\n",
       "      <td>0.0</td>\n",
       "      <td>122.48</td>\n",
       "      <td>0.0</td>\n",
       "    </tr>\n",
       "  </tbody>\n",
       "</table>\n",
       "</div>"
      ],
      "text/plain": [
       "                    Datetime Resolution code           Region  \\\n",
       "0  2022-06-22T23:45:00+02:00           PT15M         Flanders   \n",
       "1  2022-06-22T23:45:00+02:00           PT15M         Wallonia   \n",
       "2  2022-06-22T23:45:00+02:00           PT15M          Limburg   \n",
       "3  2022-06-22T23:45:00+02:00           PT15M  Flemish-Brabant   \n",
       "4  2022-06-22T23:45:00+02:00           PT15M  Walloon-Brabant   \n",
       "\n",
       "   Measured & upscaled  Most recent forecast  Day Ahead 11AM Forecast  \\\n",
       "0                  0.0                   0.0                      0.0   \n",
       "1                  0.0                   0.0                      0.0   \n",
       "2                  0.0                   0.0                      0.0   \n",
       "3                  0.0                   0.0                      0.0   \n",
       "4                  0.0                   0.0                      0.0   \n",
       "\n",
       "   Day-ahead 6PM forecast  Week-ahead forecast  Monitored capacity  \\\n",
       "0                     0.0                  0.0             4339.61   \n",
       "1                     0.0                  0.0             1536.84   \n",
       "2                     0.0                  0.0              624.64   \n",
       "3                     0.0                  0.0              514.58   \n",
       "4                     0.0                  0.0              122.48   \n",
       "\n",
       "   Load factor  \n",
       "0          0.0  \n",
       "1          0.0  \n",
       "2          0.0  \n",
       "3          0.0  \n",
       "4          0.0  "
      ]
     },
     "execution_count": 38,
     "metadata": {},
     "output_type": "execute_result"
    }
   ],
   "source": [
    "pv_power.head()"
   ]
  },
  {
   "cell_type": "markdown",
   "metadata": {},
   "source": [
    "If you, for instance, would like to see the first 10 rows, you need to set n to 10:"
   ]
  },
  {
   "cell_type": "code",
   "execution_count": 40,
   "metadata": {},
   "outputs": [
    {
     "data": {
      "text/html": [
       "<div>\n",
       "<style scoped>\n",
       "    .dataframe tbody tr th:only-of-type {\n",
       "        vertical-align: middle;\n",
       "    }\n",
       "\n",
       "    .dataframe tbody tr th {\n",
       "        vertical-align: top;\n",
       "    }\n",
       "\n",
       "    .dataframe thead th {\n",
       "        text-align: right;\n",
       "    }\n",
       "</style>\n",
       "<table border=\"1\" class=\"dataframe\">\n",
       "  <thead>\n",
       "    <tr style=\"text-align: right;\">\n",
       "      <th></th>\n",
       "      <th>Datetime</th>\n",
       "      <th>Resolution code</th>\n",
       "      <th>Region</th>\n",
       "      <th>Measured &amp; upscaled</th>\n",
       "      <th>Most recent forecast</th>\n",
       "      <th>Day Ahead 11AM Forecast</th>\n",
       "      <th>Day-ahead 6PM forecast</th>\n",
       "      <th>Week-ahead forecast</th>\n",
       "      <th>Monitored capacity</th>\n",
       "      <th>Load factor</th>\n",
       "    </tr>\n",
       "  </thead>\n",
       "  <tbody>\n",
       "    <tr>\n",
       "      <th>0</th>\n",
       "      <td>2022-06-22T23:45:00+02:00</td>\n",
       "      <td>PT15M</td>\n",
       "      <td>Flanders</td>\n",
       "      <td>0.0</td>\n",
       "      <td>0.0</td>\n",
       "      <td>0.0</td>\n",
       "      <td>0.0</td>\n",
       "      <td>0.0</td>\n",
       "      <td>4339.61</td>\n",
       "      <td>0.0</td>\n",
       "    </tr>\n",
       "    <tr>\n",
       "      <th>1</th>\n",
       "      <td>2022-06-22T23:45:00+02:00</td>\n",
       "      <td>PT15M</td>\n",
       "      <td>Wallonia</td>\n",
       "      <td>0.0</td>\n",
       "      <td>0.0</td>\n",
       "      <td>0.0</td>\n",
       "      <td>0.0</td>\n",
       "      <td>0.0</td>\n",
       "      <td>1536.84</td>\n",
       "      <td>0.0</td>\n",
       "    </tr>\n",
       "    <tr>\n",
       "      <th>2</th>\n",
       "      <td>2022-06-22T23:45:00+02:00</td>\n",
       "      <td>PT15M</td>\n",
       "      <td>Limburg</td>\n",
       "      <td>0.0</td>\n",
       "      <td>0.0</td>\n",
       "      <td>0.0</td>\n",
       "      <td>0.0</td>\n",
       "      <td>0.0</td>\n",
       "      <td>624.64</td>\n",
       "      <td>0.0</td>\n",
       "    </tr>\n",
       "    <tr>\n",
       "      <th>3</th>\n",
       "      <td>2022-06-22T23:45:00+02:00</td>\n",
       "      <td>PT15M</td>\n",
       "      <td>Flemish-Brabant</td>\n",
       "      <td>0.0</td>\n",
       "      <td>0.0</td>\n",
       "      <td>0.0</td>\n",
       "      <td>0.0</td>\n",
       "      <td>0.0</td>\n",
       "      <td>514.58</td>\n",
       "      <td>0.0</td>\n",
       "    </tr>\n",
       "    <tr>\n",
       "      <th>4</th>\n",
       "      <td>2022-06-22T23:45:00+02:00</td>\n",
       "      <td>PT15M</td>\n",
       "      <td>Walloon-Brabant</td>\n",
       "      <td>0.0</td>\n",
       "      <td>0.0</td>\n",
       "      <td>0.0</td>\n",
       "      <td>0.0</td>\n",
       "      <td>0.0</td>\n",
       "      <td>122.48</td>\n",
       "      <td>0.0</td>\n",
       "    </tr>\n",
       "    <tr>\n",
       "      <th>5</th>\n",
       "      <td>2022-06-22T23:45:00+02:00</td>\n",
       "      <td>PT15M</td>\n",
       "      <td>Hainaut</td>\n",
       "      <td>0.0</td>\n",
       "      <td>0.0</td>\n",
       "      <td>0.0</td>\n",
       "      <td>0.0</td>\n",
       "      <td>0.0</td>\n",
       "      <td>431.13</td>\n",
       "      <td>0.0</td>\n",
       "    </tr>\n",
       "    <tr>\n",
       "      <th>6</th>\n",
       "      <td>2022-06-22T23:45:00+02:00</td>\n",
       "      <td>PT15M</td>\n",
       "      <td>Brussels</td>\n",
       "      <td>0.0</td>\n",
       "      <td>0.0</td>\n",
       "      <td>0.0</td>\n",
       "      <td>0.0</td>\n",
       "      <td>0.0</td>\n",
       "      <td>128.47</td>\n",
       "      <td>0.0</td>\n",
       "    </tr>\n",
       "    <tr>\n",
       "      <th>7</th>\n",
       "      <td>2022-06-22T23:45:00+02:00</td>\n",
       "      <td>PT15M</td>\n",
       "      <td>Antwerp</td>\n",
       "      <td>0.0</td>\n",
       "      <td>0.0</td>\n",
       "      <td>0.0</td>\n",
       "      <td>0.0</td>\n",
       "      <td>0.0</td>\n",
       "      <td>1129.31</td>\n",
       "      <td>0.0</td>\n",
       "    </tr>\n",
       "    <tr>\n",
       "      <th>8</th>\n",
       "      <td>2022-06-22T23:45:00+02:00</td>\n",
       "      <td>PT15M</td>\n",
       "      <td>Liège</td>\n",
       "      <td>0.0</td>\n",
       "      <td>0.0</td>\n",
       "      <td>0.0</td>\n",
       "      <td>0.0</td>\n",
       "      <td>0.0</td>\n",
       "      <td>634.93</td>\n",
       "      <td>0.0</td>\n",
       "    </tr>\n",
       "    <tr>\n",
       "      <th>9</th>\n",
       "      <td>2022-06-22T23:45:00+02:00</td>\n",
       "      <td>PT15M</td>\n",
       "      <td>West-Flanders</td>\n",
       "      <td>0.0</td>\n",
       "      <td>0.0</td>\n",
       "      <td>0.0</td>\n",
       "      <td>0.0</td>\n",
       "      <td>0.0</td>\n",
       "      <td>944.04</td>\n",
       "      <td>0.0</td>\n",
       "    </tr>\n",
       "  </tbody>\n",
       "</table>\n",
       "</div>"
      ],
      "text/plain": [
       "                    Datetime Resolution code           Region  \\\n",
       "0  2022-06-22T23:45:00+02:00           PT15M         Flanders   \n",
       "1  2022-06-22T23:45:00+02:00           PT15M         Wallonia   \n",
       "2  2022-06-22T23:45:00+02:00           PT15M          Limburg   \n",
       "3  2022-06-22T23:45:00+02:00           PT15M  Flemish-Brabant   \n",
       "4  2022-06-22T23:45:00+02:00           PT15M  Walloon-Brabant   \n",
       "5  2022-06-22T23:45:00+02:00           PT15M          Hainaut   \n",
       "6  2022-06-22T23:45:00+02:00           PT15M         Brussels   \n",
       "7  2022-06-22T23:45:00+02:00           PT15M          Antwerp   \n",
       "8  2022-06-22T23:45:00+02:00           PT15M            Liège   \n",
       "9  2022-06-22T23:45:00+02:00           PT15M    West-Flanders   \n",
       "\n",
       "   Measured & upscaled  Most recent forecast  Day Ahead 11AM Forecast  \\\n",
       "0                  0.0                   0.0                      0.0   \n",
       "1                  0.0                   0.0                      0.0   \n",
       "2                  0.0                   0.0                      0.0   \n",
       "3                  0.0                   0.0                      0.0   \n",
       "4                  0.0                   0.0                      0.0   \n",
       "5                  0.0                   0.0                      0.0   \n",
       "6                  0.0                   0.0                      0.0   \n",
       "7                  0.0                   0.0                      0.0   \n",
       "8                  0.0                   0.0                      0.0   \n",
       "9                  0.0                   0.0                      0.0   \n",
       "\n",
       "   Day-ahead 6PM forecast  Week-ahead forecast  Monitored capacity  \\\n",
       "0                     0.0                  0.0             4339.61   \n",
       "1                     0.0                  0.0             1536.84   \n",
       "2                     0.0                  0.0              624.64   \n",
       "3                     0.0                  0.0              514.58   \n",
       "4                     0.0                  0.0              122.48   \n",
       "5                     0.0                  0.0              431.13   \n",
       "6                     0.0                  0.0              128.47   \n",
       "7                     0.0                  0.0             1129.31   \n",
       "8                     0.0                  0.0              634.93   \n",
       "9                     0.0                  0.0              944.04   \n",
       "\n",
       "   Load factor  \n",
       "0          0.0  \n",
       "1          0.0  \n",
       "2          0.0  \n",
       "3          0.0  \n",
       "4          0.0  \n",
       "5          0.0  \n",
       "6          0.0  \n",
       "7          0.0  \n",
       "8          0.0  \n",
       "9          0.0  "
      ]
     },
     "execution_count": 40,
     "metadata": {},
     "output_type": "execute_result"
    }
   ],
   "source": [
    "pv_power.head(n=10)"
   ]
  },
  {
   "cell_type": "markdown",
   "metadata": {},
   "source": [
    "You can also look at the **last** n rows. `dataframe_name.tail()` shows last n rows in order of imported (below we limit it to three):"
   ]
  },
  {
   "cell_type": "code",
   "execution_count": 43,
   "metadata": {},
   "outputs": [
    {
     "data": {
      "text/html": [
       "<div>\n",
       "<style scoped>\n",
       "    .dataframe tbody tr th:only-of-type {\n",
       "        vertical-align: middle;\n",
       "    }\n",
       "\n",
       "    .dataframe tbody tr th {\n",
       "        vertical-align: top;\n",
       "    }\n",
       "\n",
       "    .dataframe thead th {\n",
       "        text-align: right;\n",
       "    }\n",
       "</style>\n",
       "<table border=\"1\" class=\"dataframe\">\n",
       "  <thead>\n",
       "    <tr style=\"text-align: right;\">\n",
       "      <th></th>\n",
       "      <th>Datetime</th>\n",
       "      <th>Resolution code</th>\n",
       "      <th>Region</th>\n",
       "      <th>Measured &amp; upscaled</th>\n",
       "      <th>Most recent forecast</th>\n",
       "      <th>Day Ahead 11AM Forecast</th>\n",
       "      <th>Day-ahead 6PM forecast</th>\n",
       "      <th>Week-ahead forecast</th>\n",
       "      <th>Monitored capacity</th>\n",
       "      <th>Load factor</th>\n",
       "    </tr>\n",
       "  </thead>\n",
       "  <tbody>\n",
       "    <tr>\n",
       "      <th>10749</th>\n",
       "      <td>2022-06-15T00:00:00+02:00</td>\n",
       "      <td>PT15M</td>\n",
       "      <td>Antwerp</td>\n",
       "      <td>0.0</td>\n",
       "      <td>0.0</td>\n",
       "      <td>0.0</td>\n",
       "      <td>0.0</td>\n",
       "      <td>0.0</td>\n",
       "      <td>1129.31</td>\n",
       "      <td>0.0</td>\n",
       "    </tr>\n",
       "    <tr>\n",
       "      <th>10750</th>\n",
       "      <td>2022-06-15T00:00:00+02:00</td>\n",
       "      <td>PT15M</td>\n",
       "      <td>Flemish-Brabant</td>\n",
       "      <td>0.0</td>\n",
       "      <td>0.0</td>\n",
       "      <td>0.0</td>\n",
       "      <td>0.0</td>\n",
       "      <td>0.0</td>\n",
       "      <td>514.58</td>\n",
       "      <td>0.0</td>\n",
       "    </tr>\n",
       "    <tr>\n",
       "      <th>10751</th>\n",
       "      <td>2022-06-15T00:00:00+02:00</td>\n",
       "      <td>PT15M</td>\n",
       "      <td>Luxembourg</td>\n",
       "      <td>0.0</td>\n",
       "      <td>0.0</td>\n",
       "      <td>0.0</td>\n",
       "      <td>0.0</td>\n",
       "      <td>0.0</td>\n",
       "      <td>153.14</td>\n",
       "      <td>0.0</td>\n",
       "    </tr>\n",
       "  </tbody>\n",
       "</table>\n",
       "</div>"
      ],
      "text/plain": [
       "                        Datetime Resolution code           Region  \\\n",
       "10749  2022-06-15T00:00:00+02:00           PT15M          Antwerp   \n",
       "10750  2022-06-15T00:00:00+02:00           PT15M  Flemish-Brabant   \n",
       "10751  2022-06-15T00:00:00+02:00           PT15M       Luxembourg   \n",
       "\n",
       "       Measured & upscaled  Most recent forecast  Day Ahead 11AM Forecast  \\\n",
       "10749                  0.0                   0.0                      0.0   \n",
       "10750                  0.0                   0.0                      0.0   \n",
       "10751                  0.0                   0.0                      0.0   \n",
       "\n",
       "       Day-ahead 6PM forecast  Week-ahead forecast  Monitored capacity  \\\n",
       "10749                     0.0                  0.0             1129.31   \n",
       "10750                     0.0                  0.0              514.58   \n",
       "10751                     0.0                  0.0              153.14   \n",
       "\n",
       "       Load factor  \n",
       "10749          0.0  \n",
       "10750          0.0  \n",
       "10751          0.0  "
      ]
     },
     "execution_count": 43,
     "metadata": {},
     "output_type": "execute_result"
    }
   ],
   "source": [
    "pv_power.tail(n=3)"
   ]
  },
  {
   "cell_type": "markdown",
   "metadata": {},
   "source": [
    "If you would like to know **how many rows or columns** your data set has, you can apply `dataframe_name.shape`:"
   ]
  },
  {
   "cell_type": "code",
   "execution_count": 44,
   "metadata": {},
   "outputs": [
    {
     "data": {
      "text/plain": [
       "(10752, 10)"
      ]
     },
     "execution_count": 44,
     "metadata": {},
     "output_type": "execute_result"
    }
   ],
   "source": [
    "#The first entry stands for the number of rows, the second entry for the number of columns\n",
    "pv_power.shape "
   ]
  },
  {
   "cell_type": "code",
   "execution_count": 45,
   "metadata": {},
   "outputs": [
    {
     "data": {
      "text/plain": [
       "10752"
      ]
     },
     "execution_count": 45,
     "metadata": {},
     "output_type": "execute_result"
    }
   ],
   "source": [
    "rows = pv_power.shape[0] \n",
    "rows"
   ]
  },
  {
   "cell_type": "markdown",
   "metadata": {},
   "source": [
    "You can also quickly look at the data types of each of our columns:\n",
    "- each column has a single data type\n",
    "- pandas has figured out some of our column's data types for us"
   ]
  },
  {
   "cell_type": "code",
   "execution_count": 48,
   "metadata": {},
   "outputs": [
    {
     "data": {
      "text/plain": [
       "Datetime                    object\n",
       "Resolution code             object\n",
       "Region                      object\n",
       "Measured & upscaled        float64\n",
       "Most recent forecast       float64\n",
       "Day Ahead 11AM Forecast    float64\n",
       "Day-ahead 6PM forecast     float64\n",
       "Week-ahead forecast        float64\n",
       "Monitored capacity         float64\n",
       "Load factor                float64\n",
       "dtype: object"
      ]
     },
     "execution_count": 48,
     "metadata": {},
     "output_type": "execute_result"
    }
   ],
   "source": [
    "pv_power.dtypes"
   ]
  },
  {
   "cell_type": "markdown",
   "metadata": {},
   "source": [
    "- 3. Third, get basic statistics\n",
    "    * Also pretty useful is `dataframe_name.describe()` - a method which generates summary statistics of the columns:"
   ]
  },
  {
   "cell_type": "code",
   "execution_count": 49,
   "metadata": {},
   "outputs": [
    {
     "data": {
      "text/html": [
       "<div>\n",
       "<style scoped>\n",
       "    .dataframe tbody tr th:only-of-type {\n",
       "        vertical-align: middle;\n",
       "    }\n",
       "\n",
       "    .dataframe tbody tr th {\n",
       "        vertical-align: top;\n",
       "    }\n",
       "\n",
       "    .dataframe thead th {\n",
       "        text-align: right;\n",
       "    }\n",
       "</style>\n",
       "<table border=\"1\" class=\"dataframe\">\n",
       "  <thead>\n",
       "    <tr style=\"text-align: right;\">\n",
       "      <th></th>\n",
       "      <th>Measured &amp; upscaled</th>\n",
       "      <th>Most recent forecast</th>\n",
       "      <th>Day Ahead 11AM Forecast</th>\n",
       "      <th>Day-ahead 6PM forecast</th>\n",
       "      <th>Week-ahead forecast</th>\n",
       "      <th>Monitored capacity</th>\n",
       "      <th>Load factor</th>\n",
       "    </tr>\n",
       "  </thead>\n",
       "  <tbody>\n",
       "    <tr>\n",
       "      <th>count</th>\n",
       "      <td>10752.000000</td>\n",
       "      <td>10752.000000</td>\n",
       "      <td>10752.00000</td>\n",
       "      <td>10752.000000</td>\n",
       "      <td>10752.000000</td>\n",
       "      <td>10752.000000</td>\n",
       "      <td>10752.000000</td>\n",
       "    </tr>\n",
       "    <tr>\n",
       "      <th>mean</th>\n",
       "      <td>11.506617</td>\n",
       "      <td>258.958466</td>\n",
       "      <td>86.05619</td>\n",
       "      <td>44.592186</td>\n",
       "      <td>184.330829</td>\n",
       "      <td>1277.591429</td>\n",
       "      <td>0.944686</td>\n",
       "    </tr>\n",
       "    <tr>\n",
       "      <th>std</th>\n",
       "      <td>133.146356</td>\n",
       "      <td>590.832202</td>\n",
       "      <td>406.77067</td>\n",
       "      <td>301.471405</td>\n",
       "      <td>458.736165</td>\n",
       "      <td>1672.876738</td>\n",
       "      <td>6.647404</td>\n",
       "    </tr>\n",
       "    <tr>\n",
       "      <th>min</th>\n",
       "      <td>0.000000</td>\n",
       "      <td>0.000000</td>\n",
       "      <td>0.00000</td>\n",
       "      <td>0.000000</td>\n",
       "      <td>0.000000</td>\n",
       "      <td>122.480000</td>\n",
       "      <td>0.000000</td>\n",
       "    </tr>\n",
       "    <tr>\n",
       "      <th>25%</th>\n",
       "      <td>0.000000</td>\n",
       "      <td>0.000000</td>\n",
       "      <td>0.00000</td>\n",
       "      <td>0.000000</td>\n",
       "      <td>0.000000</td>\n",
       "      <td>195.150000</td>\n",
       "      <td>0.000000</td>\n",
       "    </tr>\n",
       "    <tr>\n",
       "      <th>50%</th>\n",
       "      <td>0.000000</td>\n",
       "      <td>43.210000</td>\n",
       "      <td>0.00000</td>\n",
       "      <td>0.000000</td>\n",
       "      <td>16.455000</td>\n",
       "      <td>629.785000</td>\n",
       "      <td>0.000000</td>\n",
       "    </tr>\n",
       "    <tr>\n",
       "      <th>75%</th>\n",
       "      <td>0.000000</td>\n",
       "      <td>242.337500</td>\n",
       "      <td>0.00000</td>\n",
       "      <td>0.000000</td>\n",
       "      <td>148.660000</td>\n",
       "      <td>1129.310000</td>\n",
       "      <td>0.000000</td>\n",
       "    </tr>\n",
       "    <tr>\n",
       "      <th>max</th>\n",
       "      <td>3893.500000</td>\n",
       "      <td>4373.190000</td>\n",
       "      <td>4502.88000</td>\n",
       "      <td>4522.980000</td>\n",
       "      <td>3639.020000</td>\n",
       "      <td>6004.920000</td>\n",
       "      <td>68.750000</td>\n",
       "    </tr>\n",
       "  </tbody>\n",
       "</table>\n",
       "</div>"
      ],
      "text/plain": [
       "       Measured & upscaled  Most recent forecast  Day Ahead 11AM Forecast  \\\n",
       "count         10752.000000          10752.000000              10752.00000   \n",
       "mean             11.506617            258.958466                 86.05619   \n",
       "std             133.146356            590.832202                406.77067   \n",
       "min               0.000000              0.000000                  0.00000   \n",
       "25%               0.000000              0.000000                  0.00000   \n",
       "50%               0.000000             43.210000                  0.00000   \n",
       "75%               0.000000            242.337500                  0.00000   \n",
       "max            3893.500000           4373.190000               4502.88000   \n",
       "\n",
       "       Day-ahead 6PM forecast  Week-ahead forecast  Monitored capacity  \\\n",
       "count            10752.000000         10752.000000        10752.000000   \n",
       "mean                44.592186           184.330829         1277.591429   \n",
       "std                301.471405           458.736165         1672.876738   \n",
       "min                  0.000000             0.000000          122.480000   \n",
       "25%                  0.000000             0.000000          195.150000   \n",
       "50%                  0.000000            16.455000          629.785000   \n",
       "75%                  0.000000           148.660000         1129.310000   \n",
       "max               4522.980000          3639.020000         6004.920000   \n",
       "\n",
       "        Load factor  \n",
       "count  10752.000000  \n",
       "mean       0.944686  \n",
       "std        6.647404  \n",
       "min        0.000000  \n",
       "25%        0.000000  \n",
       "50%        0.000000  \n",
       "75%        0.000000  \n",
       "max       68.750000  "
      ]
     },
     "execution_count": 49,
     "metadata": {},
     "output_type": "execute_result"
    }
   ],
   "source": [
    "pv_power.describe()"
   ]
  },
  {
   "cell_type": "markdown",
   "metadata": {},
   "source": [
    "### Exercise\n",
    "<br> \n",
    "\n",
    "Alright, let's practise! &#128512;\n",
    "\n",
    "1. Get the last 25 rows of the Data Frame `pv_power`\n",
    "2. Get the number of columns in the DataFrame. Save this as a new variable called `columns`. Print the result."
   ]
  },
  {
   "cell_type": "code",
   "execution_count": null,
   "metadata": {},
   "outputs": [],
   "source": []
  },
  {
   "cell_type": "code",
   "execution_count": null,
   "metadata": {},
   "outputs": [],
   "source": []
  }
 ],
 "metadata": {
  "kernelspec": {
   "display_name": "Python 3",
   "language": "python",
   "name": "python3"
  },
  "language_info": {
   "codemirror_mode": {
    "name": "ipython",
    "version": 3
   },
   "file_extension": ".py",
   "mimetype": "text/x-python",
   "name": "python",
   "nbconvert_exporter": "python",
   "pygments_lexer": "ipython3",
   "version": "3.8.5"
  }
 },
 "nbformat": 4,
 "nbformat_minor": 4
}
