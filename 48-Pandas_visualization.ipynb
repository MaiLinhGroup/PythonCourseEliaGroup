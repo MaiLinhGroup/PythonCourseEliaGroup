{
 "cells": [
  {
   "cell_type": "markdown",
   "metadata": {},
   "source": [
    "<br>\n",
    "\n",
    "<img src=\"./image/Logo/logo_elia_group.png\" width = 200>\n",
    "\n",
    "<br>"
   ]
  },
  {
   "cell_type": "markdown",
   "metadata": {},
   "source": [
    "# Data Visualization\n",
    "<br>\n",
    "\n",
    "&#128077; Congratulations, you have learned the basics of Python. Now you can sit back and relax. The following section is the fun part and should give you a short overview of how you can quickly visualize your data. Because this is where you get all the \"WOW\" ah \"Ahhhs\". There are three visualization libraries, which you can use to visualize your data: **matplotlib** and **seaborn** as well as **plotly**.\n",
    "\n",
    "\n",
    "**Matplotlib**\n",
    "- was built to emulate MATLAB graphic commands but is independent of Matplab\n",
    "- one of the most often used libraries\n",
    "\n",
    "**Seaborn**\n",
    "- built on Matplotlib\n",
    "- adds additional functionality\n",
    "- works well with pandas data structure like DataFrames/Series\n",
    "\n",
    "**Plotly**\n",
    "- creates interactive graphs by default\n",
    "- is just really cool stuff &#128526;\n"
   ]
  },
  {
   "cell_type": "markdown",
   "metadata": {},
   "source": [
    "## Make your data ready for Visualization\n",
    "<br>\n",
    "\n",
    "But before you do fancy bar charts, boxplots or interactive graphs, you have to prepare your data in order to subsequently visualize it. But no worries, this is what you have been trained for all along. <br>\n",
    "1. First, upload your data: "
   ]
  },
  {
   "cell_type": "code",
   "execution_count": 112,
   "metadata": {},
   "outputs": [],
   "source": [
    "import pandas as pd"
   ]
  },
  {
   "cell_type": "code",
   "execution_count": 202,
   "metadata": {},
   "outputs": [],
   "source": [
    "energy_borders = pd.read_csv(\"./data/energy/physical_flow_2021_1_01.csv\", sep = \";\")"
   ]
  },
  {
   "cell_type": "markdown",
   "metadata": {},
   "source": [
    "2. Understand your data. In this case: A positive value means export from Belgium, while negative value means import into Belgium."
   ]
  },
  {
   "cell_type": "code",
   "execution_count": 203,
   "metadata": {},
   "outputs": [
    {
     "data": {
      "text/html": [
       "<div>\n",
       "<style scoped>\n",
       "    .dataframe tbody tr th:only-of-type {\n",
       "        vertical-align: middle;\n",
       "    }\n",
       "\n",
       "    .dataframe tbody tr th {\n",
       "        vertical-align: top;\n",
       "    }\n",
       "\n",
       "    .dataframe thead th {\n",
       "        text-align: right;\n",
       "    }\n",
       "</style>\n",
       "<table border=\"1\" class=\"dataframe\">\n",
       "  <thead>\n",
       "    <tr style=\"text-align: right;\">\n",
       "      <th></th>\n",
       "      <th>Datetime</th>\n",
       "      <th>Resolution code</th>\n",
       "      <th>Control area</th>\n",
       "      <th>Physical Flow Value</th>\n",
       "    </tr>\n",
       "  </thead>\n",
       "  <tbody>\n",
       "    <tr>\n",
       "      <th>0</th>\n",
       "      <td>2021-12-01T23:45:00+01:00</td>\n",
       "      <td>PT15M</td>\n",
       "      <td>Netherlands</td>\n",
       "      <td>-419.704</td>\n",
       "    </tr>\n",
       "    <tr>\n",
       "      <th>1</th>\n",
       "      <td>2021-12-01T23:45:00+01:00</td>\n",
       "      <td>PT15M</td>\n",
       "      <td>UnitedKingdom</td>\n",
       "      <td>1021.774</td>\n",
       "    </tr>\n",
       "    <tr>\n",
       "      <th>2</th>\n",
       "      <td>2021-12-01T23:45:00+01:00</td>\n",
       "      <td>PT15M</td>\n",
       "      <td>Luxembourg</td>\n",
       "      <td>-53.708</td>\n",
       "    </tr>\n",
       "  </tbody>\n",
       "</table>\n",
       "</div>"
      ],
      "text/plain": [
       "                    Datetime Resolution code   Control area  \\\n",
       "0  2021-12-01T23:45:00+01:00           PT15M    Netherlands   \n",
       "1  2021-12-01T23:45:00+01:00           PT15M  UnitedKingdom   \n",
       "2  2021-12-01T23:45:00+01:00           PT15M     Luxembourg   \n",
       "\n",
       "   Physical Flow Value  \n",
       "0             -419.704  \n",
       "1             1021.774  \n",
       "2              -53.708  "
      ]
     },
     "execution_count": 203,
     "metadata": {},
     "output_type": "execute_result"
    }
   ],
   "source": [
    "energy_borders.head(3)"
   ]
  },
  {
   "cell_type": "code",
   "execution_count": 204,
   "metadata": {},
   "outputs": [
    {
     "data": {
      "text/plain": [
       "Datetime                object\n",
       "Resolution code         object\n",
       "Control area            object\n",
       "Physical Flow Value    float64\n",
       "dtype: object"
      ]
     },
     "execution_count": 204,
     "metadata": {},
     "output_type": "execute_result"
    }
   ],
   "source": [
    "energy_borders.dtypes"
   ]
  },
  {
   "cell_type": "markdown",
   "metadata": {},
   "source": [
    "3. Check for missing values and replace or drop them if there are any "
   ]
  },
  {
   "cell_type": "code",
   "execution_count": 206,
   "metadata": {},
   "outputs": [
    {
     "data": {
      "text/plain": [
       "False"
      ]
     },
     "execution_count": 206,
     "metadata": {},
     "output_type": "execute_result"
    }
   ],
   "source": [
    "energy_borders.isna().any().any()"
   ]
  },
  {
   "cell_type": "markdown",
   "metadata": {},
   "source": [
    "4. Convert your Datetime data into a Datetime object"
   ]
  },
  {
   "cell_type": "code",
   "execution_count": 207,
   "metadata": {},
   "outputs": [],
   "source": [
    "energy_borders[\"Datetime\"] = pd.to_datetime(energy_borders[\"Datetime\"])"
   ]
  },
  {
   "cell_type": "markdown",
   "metadata": {},
   "source": [
    "&#128077; Great! Now your data is ready to be visualized."
   ]
  },
  {
   "cell_type": "markdown",
   "metadata": {},
   "source": [
    "But before we get started with the different libraries, there is an easy and super short way to visualize your data ad-hoc:\n",
    "- `df_name.plot()` \n",
    "\n",
    "This is a Pandas in-built function. As default, matplotlib is used as plotting backend. "
   ]
  },
  {
   "cell_type": "code",
   "execution_count": 234,
   "metadata": {},
   "outputs": [
    {
     "data": {
      "text/plain": [
       "<matplotlib.axes._subplots.AxesSubplot at 0x7f19c0aada00>"
      ]
     },
     "execution_count": 234,
     "metadata": {},
     "output_type": "execute_result"
    },
    {
     "data": {
      "image/png": "[encoded data removed]",
      "text/plain": [
       "<Figure size 432x288 with 1 Axes>"
      ]
     },
     "metadata": {
      "needs_background": "light"
     },
     "output_type": "display_data"
    }
   ],
   "source": [
    "germany.plot(x = \"Datetime\", y = \"Physical Flow Value\")"
   ]
  },
  {
   "cell_type": "markdown",
   "metadata": {},
   "source": [
    "Sure, this is not the most fancy plot. However, to get a first idea of how your data looks, this can come in handy!"
   ]
  },
  {
   "cell_type": "markdown",
   "metadata": {},
   "source": [
    "## Matplotlib\n",
    "<br>\n",
    "\n",
    "Matplotlib is often used in research or scientific backgrounds. You can do all sorts of plots with it, from bar charts and histograms to scatterplots and boxplots.\n",
    "There are many different ways of how to use Matplotlib, which is provided through the submodule called pyplot. \n",
    "\n",
    "- plt.subplots is the basic command to start with. It creates two objects:\n",
    "    - a figure (fig): container that holds everything you see on the page\n",
    "    - an axes object (ax): canvas on which you will draw on  \n",
    "- feel free to check ou the [user guide](https://matplotlib.org/stable/tutorials/introductory/usage.html#sphx-glr-tutorials-introductory-usage-py)"
   ]
  },
  {
   "cell_type": "markdown",
   "metadata": {},
   "source": [
    "<img src = \"./image/matplotlib_example.png\" width = 400>\n",
    "\n",
    "[Image Source](https://matplotlib.org/stable/gallery/lines_bars_and_markers/spectrum_demo.html#sphx-glr-gallery-lines-bars-and-markers-spectrum-demo-py)"
   ]
  },
  {
   "cell_type": "markdown",
   "metadata": {},
   "source": [
    "## Example Matplotlib\n",
    "\n",
    "Let's do an example plot with Matplotlib. For that, check out all countries within your dataframes. All of them represent neighbouring bidding zones:"
   ]
  },
  {
   "cell_type": "code",
   "execution_count": 225,
   "metadata": {},
   "outputs": [
    {
     "data": {
      "text/plain": [
       "array(['Netherlands', 'UnitedKingdom', 'Luxembourg', 'Germany', 'France'],\n",
       "      dtype=object)"
      ]
     },
     "execution_count": 225,
     "metadata": {},
     "output_type": "execute_result"
    }
   ],
   "source": [
    "energy_borders[\"Control area\"].unique()"
   ]
  },
  {
   "cell_type": "code",
   "execution_count": 227,
   "metadata": {},
   "outputs": [],
   "source": [
    "germany = energy_borders.loc[energy_borders[\"Control area\"] == \"Germany\"]\n",
    "france = energy_borders.loc[energy_borders[\"Control area\"] == \"France\"]"
   ]
  },
  {
   "cell_type": "code",
   "execution_count": 228,
   "metadata": {},
   "outputs": [
    {
     "data": {
      "text/html": [
       "<div>\n",
       "<style scoped>\n",
       "    .dataframe tbody tr th:only-of-type {\n",
       "        vertical-align: middle;\n",
       "    }\n",
       "\n",
       "    .dataframe tbody tr th {\n",
       "        vertical-align: top;\n",
       "    }\n",
       "\n",
       "    .dataframe thead th {\n",
       "        text-align: right;\n",
       "    }\n",
       "</style>\n",
       "<table border=\"1\" class=\"dataframe\">\n",
       "  <thead>\n",
       "    <tr style=\"text-align: right;\">\n",
       "      <th></th>\n",
       "      <th>Datetime</th>\n",
       "      <th>Resolution code</th>\n",
       "      <th>Control area</th>\n",
       "      <th>Physical Flow Value</th>\n",
       "    </tr>\n",
       "  </thead>\n",
       "  <tbody>\n",
       "    <tr>\n",
       "      <th>3</th>\n",
       "      <td>2021-12-01 23:45:00+01:00</td>\n",
       "      <td>PT15M</td>\n",
       "      <td>Germany</td>\n",
       "      <td>-1001.788</td>\n",
       "    </tr>\n",
       "    <tr>\n",
       "      <th>9</th>\n",
       "      <td>2021-12-01 23:30:00+01:00</td>\n",
       "      <td>PT15M</td>\n",
       "      <td>Germany</td>\n",
       "      <td>-1002.104</td>\n",
       "    </tr>\n",
       "    <tr>\n",
       "      <th>13</th>\n",
       "      <td>2021-12-01 23:15:00+01:00</td>\n",
       "      <td>PT15M</td>\n",
       "      <td>Germany</td>\n",
       "      <td>-1001.796</td>\n",
       "    </tr>\n",
       "  </tbody>\n",
       "</table>\n",
       "</div>"
      ],
      "text/plain": [
       "                    Datetime Resolution code Control area  Physical Flow Value\n",
       "3  2021-12-01 23:45:00+01:00           PT15M      Germany            -1001.788\n",
       "9  2021-12-01 23:30:00+01:00           PT15M      Germany            -1002.104\n",
       "13 2021-12-01 23:15:00+01:00           PT15M      Germany            -1001.796"
      ]
     },
     "execution_count": 228,
     "metadata": {},
     "output_type": "execute_result"
    }
   ],
   "source": [
    "germany.head(3)"
   ]
  },
  {
   "cell_type": "code",
   "execution_count": 229,
   "metadata": {},
   "outputs": [
    {
     "data": {
      "text/html": [
       "<div>\n",
       "<style scoped>\n",
       "    .dataframe tbody tr th:only-of-type {\n",
       "        vertical-align: middle;\n",
       "    }\n",
       "\n",
       "    .dataframe tbody tr th {\n",
       "        vertical-align: top;\n",
       "    }\n",
       "\n",
       "    .dataframe thead th {\n",
       "        text-align: right;\n",
       "    }\n",
       "</style>\n",
       "<table border=\"1\" class=\"dataframe\">\n",
       "  <thead>\n",
       "    <tr style=\"text-align: right;\">\n",
       "      <th></th>\n",
       "      <th>Datetime</th>\n",
       "      <th>Resolution code</th>\n",
       "      <th>Control area</th>\n",
       "      <th>Physical Flow Value</th>\n",
       "    </tr>\n",
       "  </thead>\n",
       "  <tbody>\n",
       "    <tr>\n",
       "      <th>4</th>\n",
       "      <td>2021-12-01 23:45:00+01:00</td>\n",
       "      <td>PT15M</td>\n",
       "      <td>France</td>\n",
       "      <td>581.908</td>\n",
       "    </tr>\n",
       "    <tr>\n",
       "      <th>5</th>\n",
       "      <td>2021-12-01 23:30:00+01:00</td>\n",
       "      <td>PT15M</td>\n",
       "      <td>France</td>\n",
       "      <td>691.116</td>\n",
       "    </tr>\n",
       "    <tr>\n",
       "      <th>10</th>\n",
       "      <td>2021-12-01 23:15:00+01:00</td>\n",
       "      <td>PT15M</td>\n",
       "      <td>France</td>\n",
       "      <td>523.224</td>\n",
       "    </tr>\n",
       "  </tbody>\n",
       "</table>\n",
       "</div>"
      ],
      "text/plain": [
       "                    Datetime Resolution code Control area  Physical Flow Value\n",
       "4  2021-12-01 23:45:00+01:00           PT15M       France              581.908\n",
       "5  2021-12-01 23:30:00+01:00           PT15M       France              691.116\n",
       "10 2021-12-01 23:15:00+01:00           PT15M       France              523.224"
      ]
     },
     "execution_count": 229,
     "metadata": {},
     "output_type": "execute_result"
    }
   ],
   "source": [
    "france.head(3)"
   ]
  },
  {
   "cell_type": "markdown",
   "metadata": {},
   "source": [
    "Let's visualize!"
   ]
  },
  {
   "cell_type": "code",
   "execution_count": 233,
   "metadata": {},
   "outputs": [
    {
     "data": {
      "image/png": "[encoded data removed]",
      "text/plain": [
       "<Figure size 432x288 with 1 Axes>"
      ]
     },
     "metadata": {
      "needs_background": "light"
     },
     "output_type": "display_data"
    }
   ],
   "source": [
    "# import of the module and naming it plt (convention)\n",
    "import matplotlib.pyplot as plt\n",
    "\n",
    "\n",
    "# creating the fig, axes object\n",
    "#fig is like a paper, ax is what you draw on it \n",
    "fig, ax = plt.subplots()\n",
    "\n",
    "# adding data to our plot\n",
    "ax.plot(germany[\"Datetime\"],germany[\"Physical Flow Value\"], label = \"Germany\") # adding the first line plot\n",
    "ax.plot(france[\"Datetime\"], france[\"Physical Flow Value\"], label = \"France\") # adding the second line plot\n",
    "\n",
    "ax.set_ylabel(\"Physical Flow in MW\") # setting the label of the y axis\n",
    "ax.legend() # adding a legend\n",
    "plt.xticks(rotation = 45) \n",
    "\n",
    "#plt.xticks(rotation = 45) # changing the rotation of x-label\n",
    "\n",
    "# showing our plot\n",
    "plt.show()"
   ]
  },
  {
   "cell_type": "markdown",
   "metadata": {},
   "source": [
    "### Exercise\n",
    "\n",
    "Look at the plot above and try to add a line of code that implements a horizontal line at y = 0, which, in this case, marks the threshold of import or export. <br>\n",
    "Remember, you can find basically everything in the documentation, stackoverflow or just by googling it, "
   ]
  },
  {
   "cell_type": "code",
   "execution_count": null,
   "metadata": {},
   "outputs": [],
   "source": []
  },
  {
   "cell_type": "markdown",
   "metadata": {},
   "source": [
    "## Seaborn \n",
    "\n",
    "Seaborn is a data visualization library based on matplotlib. It is great for statistical data visualization. In order to work with seaborn you have to import both - matplotlib as well as seaborn. Check out the [documentation](https://seaborn.pydata.org/introduction.html) to get more info. \n",
    "<br>\n",
    "\n",
    "<img src = \"./image/seaborn_example_plot.png\" width = 500>\n",
    "\n",
    "So let's get right to it!"
   ]
  },
  {
   "cell_type": "code",
   "execution_count": 136,
   "metadata": {},
   "outputs": [],
   "source": [
    "energy_borders_2 = pd.read_csv(\"./data/energy/physical_flow_2021_1_01.csv\", sep = \";\")\n",
    "#do not import your Datetime as DatetimeIndex"
   ]
  },
  {
   "cell_type": "code",
   "execution_count": 137,
   "metadata": {},
   "outputs": [],
   "source": [
    "energy_borders_2[\"Datetime\"] = pd.to_datetime(energy_borders_2[\"Datetime\"] )\n",
    "#convert Datetime as Datetime Object with pd.to_datetime"
   ]
  },
  {
   "cell_type": "code",
   "execution_count": 235,
   "metadata": {},
   "outputs": [],
   "source": [
    "import matplotlib.pyplot as plt\n",
    "import seaborn as sns"
   ]
  },
  {
   "cell_type": "markdown",
   "metadata": {},
   "source": [
    "Select the bidding zone that you would like to visualize: "
   ]
  },
  {
   "cell_type": "code",
   "execution_count": 122,
   "metadata": {},
   "outputs": [
    {
     "data": {
      "text/plain": [
       "array(['Netherlands', 'UnitedKingdom', 'Luxembourg', 'Germany', 'France'],\n",
       "      dtype=object)"
      ]
     },
     "execution_count": 122,
     "metadata": {},
     "output_type": "execute_result"
    }
   ],
   "source": [
    "energy_borders_2[\"Control area\"].unique()"
   ]
  },
  {
   "cell_type": "code",
   "execution_count": 123,
   "metadata": {},
   "outputs": [],
   "source": [
    "luxembourg = energy_borders_2[energy_borders_2[\"Control area\"] == \"Luxembourg\"]\n",
    "netherlands = energy_borders_2[energy_borders_2[\"Control area\"] == \"Netherlands\"]"
   ]
  },
  {
   "cell_type": "code",
   "execution_count": 96,
   "metadata": {},
   "outputs": [
    {
     "data": {
      "text/html": [
       "<div>\n",
       "<style scoped>\n",
       "    .dataframe tbody tr th:only-of-type {\n",
       "        vertical-align: middle;\n",
       "    }\n",
       "\n",
       "    .dataframe tbody tr th {\n",
       "        vertical-align: top;\n",
       "    }\n",
       "\n",
       "    .dataframe thead th {\n",
       "        text-align: right;\n",
       "    }\n",
       "</style>\n",
       "<table border=\"1\" class=\"dataframe\">\n",
       "  <thead>\n",
       "    <tr style=\"text-align: right;\">\n",
       "      <th></th>\n",
       "      <th>Datetime</th>\n",
       "      <th>Resolution code</th>\n",
       "      <th>Control area</th>\n",
       "      <th>Physical Flow Value</th>\n",
       "    </tr>\n",
       "  </thead>\n",
       "  <tbody>\n",
       "    <tr>\n",
       "      <th>2</th>\n",
       "      <td>2021-12-01 23:45:00+01:00</td>\n",
       "      <td>PT15M</td>\n",
       "      <td>Luxembourg</td>\n",
       "      <td>-53.708</td>\n",
       "    </tr>\n",
       "    <tr>\n",
       "      <th>7</th>\n",
       "      <td>2021-12-01 23:30:00+01:00</td>\n",
       "      <td>PT15M</td>\n",
       "      <td>Luxembourg</td>\n",
       "      <td>-57.983</td>\n",
       "    </tr>\n",
       "    <tr>\n",
       "      <th>12</th>\n",
       "      <td>2021-12-01 23:15:00+01:00</td>\n",
       "      <td>PT15M</td>\n",
       "      <td>Luxembourg</td>\n",
       "      <td>-24.082</td>\n",
       "    </tr>\n",
       "  </tbody>\n",
       "</table>\n",
       "</div>"
      ],
      "text/plain": [
       "                    Datetime Resolution code Control area  Physical Flow Value\n",
       "2  2021-12-01 23:45:00+01:00           PT15M   Luxembourg              -53.708\n",
       "7  2021-12-01 23:30:00+01:00           PT15M   Luxembourg              -57.983\n",
       "12 2021-12-01 23:15:00+01:00           PT15M   Luxembourg              -24.082"
      ]
     },
     "execution_count": 96,
     "metadata": {},
     "output_type": "execute_result"
    }
   ],
   "source": [
    "luxembourg.head(3)"
   ]
  },
  {
   "cell_type": "code",
   "execution_count": 97,
   "metadata": {},
   "outputs": [
    {
     "data": {
      "text/html": [
       "<div>\n",
       "<style scoped>\n",
       "    .dataframe tbody tr th:only-of-type {\n",
       "        vertical-align: middle;\n",
       "    }\n",
       "\n",
       "    .dataframe tbody tr th {\n",
       "        vertical-align: top;\n",
       "    }\n",
       "\n",
       "    .dataframe thead th {\n",
       "        text-align: right;\n",
       "    }\n",
       "</style>\n",
       "<table border=\"1\" class=\"dataframe\">\n",
       "  <thead>\n",
       "    <tr style=\"text-align: right;\">\n",
       "      <th></th>\n",
       "      <th>Datetime</th>\n",
       "      <th>Resolution code</th>\n",
       "      <th>Control area</th>\n",
       "      <th>Physical Flow Value</th>\n",
       "    </tr>\n",
       "  </thead>\n",
       "  <tbody>\n",
       "    <tr>\n",
       "      <th>0</th>\n",
       "      <td>2021-12-01 23:45:00+01:00</td>\n",
       "      <td>PT15M</td>\n",
       "      <td>Netherlands</td>\n",
       "      <td>-419.704</td>\n",
       "    </tr>\n",
       "    <tr>\n",
       "      <th>6</th>\n",
       "      <td>2021-12-01 23:30:00+01:00</td>\n",
       "      <td>PT15M</td>\n",
       "      <td>Netherlands</td>\n",
       "      <td>-494.816</td>\n",
       "    </tr>\n",
       "    <tr>\n",
       "      <th>14</th>\n",
       "      <td>2021-12-01 23:15:00+01:00</td>\n",
       "      <td>PT15M</td>\n",
       "      <td>Netherlands</td>\n",
       "      <td>-368.288</td>\n",
       "    </tr>\n",
       "  </tbody>\n",
       "</table>\n",
       "</div>"
      ],
      "text/plain": [
       "                    Datetime Resolution code Control area  Physical Flow Value\n",
       "0  2021-12-01 23:45:00+01:00           PT15M  Netherlands             -419.704\n",
       "6  2021-12-01 23:30:00+01:00           PT15M  Netherlands             -494.816\n",
       "14 2021-12-01 23:15:00+01:00           PT15M  Netherlands             -368.288"
      ]
     },
     "execution_count": 97,
     "metadata": {},
     "output_type": "execute_result"
    }
   ],
   "source": [
    "netherlands.head(3)"
   ]
  },
  {
   "cell_type": "markdown",
   "metadata": {},
   "source": [
    "Data visualization: "
   ]
  },
  {
   "cell_type": "code",
   "execution_count": 124,
   "metadata": {},
   "outputs": [
    {
     "data": {
      "image/png": "[encoded data removed]",
      "text/plain": [
       "<Figure size 432x288 with 1 Axes>"
      ]
     },
     "metadata": {
      "needs_background": "light"
     },
     "output_type": "display_data"
    }
   ],
   "source": [
    "sns.lineplot(x = \"Datetime\", y = \"Physical Flow Value\", data = luxembourg, label = \"Luxembourg\") # plotting Luxembourg\n",
    "sns.lineplot(x = \"Datetime\", y = \"Physical Flow Value\", data = netherlands, label = \"Netherlands\") # plotting Netherlands\n",
    "plt.xticks(rotation=45)\n",
    "plt.legend()\n",
    "\n",
    "plt.gcf().axes[0].yaxis.get_major_formatter().set_scientific(False) # transforming y labels to whole numbers\n",
    "plt.show()"
   ]
  },
  {
   "cell_type": "markdown",
   "metadata": {},
   "source": [
    "Cool right? Notice that the x and y labels are automatically set by the column name. <br>\n",
    "You can also create a data set with multiple selected coundtries and visualize them: "
   ]
  },
  {
   "cell_type": "code",
   "execution_count": 103,
   "metadata": {},
   "outputs": [
    {
     "data": {
      "image/png": "[encoded data removed]",
      "text/plain": [
       "<Figure size 432x288 with 1 Axes>"
      ]
     },
     "metadata": {
      "needs_background": "light"
     },
     "output_type": "display_data"
    }
   ],
   "source": [
    "\n",
    "filter_countries = (energy_borders_2[\"Control area\"] == \"Germany\") | (energy_borders_2[\"Control area\"] == \"Netherlands\") | (energy_borders_2[\"Control area\"] == \"Luxembourg\") \n",
    "\n",
    "sns.lineplot(x = \"Datetime\", y = \"Physical Flow Value\", hue = \"Control area\", data = energy_borders_2[filter_countries])\n",
    "plt.xticks(rotation=45)\n",
    "plt.show()"
   ]
  },
  {
   "cell_type": "markdown",
   "metadata": {},
   "source": [
    "## Plotly\n",
    "<br>\n",
    "\n",
    "Plotly is bye far the most fun library for data visualization. The main advantage of this library is that its plot are interactive plots by default. With mouse hover functionality, interactive buttons (e.g. zoom in, etc). It is a javaScript graphing library, but has a Python wrapper, so there is no need to know JavaScript. \n",
    "\n",
    "There are three ways on how Plotly Figures can be created:\n",
    "\n",
    "- **plotly.express** for simple, quick plots (px) (1)**\n",
    "    - specify a DataFrame and its columns as arguments\n",
    "    - quick, nice but less customization\n",
    "- **plotly.graph_objects** for more customization (go)  (2)\n",
    "    - go.X methods (go.Bar(), go.Scatter()\n",
    "    - many more customization options, but more code needed\n",
    "        - e.g. you have to call the whole Dataframe with the column\n",
    "- **plotly.figure_factory** for specific, advanced figures\n",
    "\n",
    "If you want to learn more about Plotly, check out the **Documentations** links below:\n",
    "\n",
    "1. [Basics](https://plotly.com/python/)\n",
    "2. [Plotly Express](https://plotly.com/python-api-reference/plotly.express.html)\n",
    "3. [Graph_opbjects page](https://plotly.com/python-api-reference/plotly.graph_objects.html)\n",
    "4. [go.Figure](https://plotly.com/python-api-reference/generated/plotly.graph_objects.Figure.html)"
   ]
  },
  {
   "cell_type": "markdown",
   "metadata": {},
   "source": [
    "### Plotly Express"
   ]
  },
  {
   "cell_type": "code",
   "execution_count": 237,
   "metadata": {},
   "outputs": [
    {
     "data": {
      "application/vnd.plotly.v1+json": {
       "config": {
        "plotlyServerURL": "https://plot.ly"
       },
       "data": [
        {
         "alignmentgroup": "True",
         "hovertemplate": "Control Area=%{x}<br>Mean Physical Flow in MW=%{y}<extra></extra>",
         "legendgroup": "",
         "marker": {
          "color": "#636efa"
         },
         "name": "",
         "offsetgroup": "",
         "orientation": "v",
         "showlegend": false,
         "textposition": "auto",
         "type": "bar",
         "x": [
          "Luxembourg",
          "Netherlands",
          "Germany",
          "France"
         ],
         "xaxis": "x",
         "y": [
          -234.05,
          378.23,
          120.42,
          -232.09
         ],
         "yaxis": "y"
        }
       ],
       "layout": {
        "autosize": true,
        "barmode": "relative",
        "legend": {
         "tracegroupgap": 0
        },
        "template": {
         "data": {
          "bar": [
           {
            "error_x": {
             "color": "#2a3f5f"
            },
            "error_y": {
             "color": "#2a3f5f"
            },
            "marker": {
             "line": {
              "color": "#E5ECF6",
              "width": 0.5
             }
            },
            "type": "bar"
           }
          ],
          "barpolar": [
           {
            "marker": {
             "line": {
              "color": "#E5ECF6",
              "width": 0.5
             }
            },
            "type": "barpolar"
           }
          ],
          "carpet": [
           {
            "aaxis": {
             "endlinecolor": "#2a3f5f",
             "gridcolor": "white",
             "linecolor": "white",
             "minorgridcolor": "white",
             "startlinecolor": "#2a3f5f"
            },
            "baxis": {
             "endlinecolor": "#2a3f5f",
             "gridcolor": "white",
             "linecolor": "white",
             "minorgridcolor": "white",
             "startlinecolor": "#2a3f5f"
            },
            "type": "carpet"
           }
          ],
          "choropleth": [
           {
            "colorbar": {
             "outlinewidth": 0,
             "ticks": ""
            },
            "type": "choropleth"
           }
          ],
          "contour": [
           {
            "colorbar": {
             "outlinewidth": 0,
             "ticks": ""
            },
            "colorscale": [
             [
              0,
              "#0d0887"
             ],
             [
              0.1111111111111111,
              "#46039f"
             ],
             [
              0.2222222222222222,
              "#7201a8"
             ],
             [
              0.3333333333333333,
              "#9c179e"
             ],
             [
              0.4444444444444444,
              "#bd3786"
             ],
             [
              0.5555555555555556,
              "#d8576b"
             ],
             [
              0.6666666666666666,
              "#ed7953"
             ],
             [
              0.7777777777777778,
              "#fb9f3a"
             ],
             [
              0.8888888888888888,
              "#fdca26"
             ],
             [
              1,
              "#f0f921"
             ]
            ],
            "type": "contour"
           }
          ],
          "contourcarpet": [
           {
            "colorbar": {
             "outlinewidth": 0,
             "ticks": ""
            },
            "type": "contourcarpet"
           }
          ],
          "heatmap": [
           {
            "colorbar": {
             "outlinewidth": 0,
             "ticks": ""
            },
            "colorscale": [
             [
              0,
              "#0d0887"
             ],
             [
              0.1111111111111111,
              "#46039f"
             ],
             [
              0.2222222222222222,
              "#7201a8"
             ],
             [
              0.3333333333333333,
              "#9c179e"
             ],
             [
              0.4444444444444444,
              "#bd3786"
             ],
             [
              0.5555555555555556,
              "#d8576b"
             ],
             [
              0.6666666666666666,
              "#ed7953"
             ],
             [
              0.7777777777777778,
              "#fb9f3a"
             ],
             [
              0.8888888888888888,
              "#fdca26"
             ],
             [
              1,
              "#f0f921"
             ]
            ],
            "type": "heatmap"
           }
          ],
          "heatmapgl": [
           {
            "colorbar": {
             "outlinewidth": 0,
             "ticks": ""
            },
            "colorscale": [
             [
              0,
              "#0d0887"
             ],
             [
              0.1111111111111111,
              "#46039f"
             ],
             [
              0.2222222222222222,
              "#7201a8"
             ],
             [
              0.3333333333333333,
              "#9c179e"
             ],
             [
              0.4444444444444444,
              "#bd3786"
             ],
             [
              0.5555555555555556,
              "#d8576b"
             ],
             [
              0.6666666666666666,
              "#ed7953"
             ],
             [
              0.7777777777777778,
              "#fb9f3a"
             ],
             [
              0.8888888888888888,
              "#fdca26"
             ],
             [
              1,
              "#f0f921"
             ]
            ],
            "type": "heatmapgl"
           }
          ],
          "histogram": [
           {
            "marker": {
             "colorbar": {
              "outlinewidth": 0,
              "ticks": ""
             }
            },
            "type": "histogram"
           }
          ],
          "histogram2d": [
           {
            "colorbar": {
             "outlinewidth": 0,
             "ticks": ""
            },
            "colorscale": [
             [
              0,
              "#0d0887"
             ],
             [
              0.1111111111111111,
              "#46039f"
             ],
             [
              0.2222222222222222,
              "#7201a8"
             ],
             [
              0.3333333333333333,
              "#9c179e"
             ],
             [
              0.4444444444444444,
              "#bd3786"
             ],
             [
              0.5555555555555556,
              "#d8576b"
             ],
             [
              0.6666666666666666,
              "#ed7953"
             ],
             [
              0.7777777777777778,
              "#fb9f3a"
             ],
             [
              0.8888888888888888,
              "#fdca26"
             ],
             [
              1,
              "#f0f921"
             ]
            ],
            "type": "histogram2d"
           }
          ],
          "histogram2dcontour": [
           {
            "colorbar": {
             "outlinewidth": 0,
             "ticks": ""
            },
            "colorscale": [
             [
              0,
              "#0d0887"
             ],
             [
              0.1111111111111111,
              "#46039f"
             ],
             [
              0.2222222222222222,
              "#7201a8"
             ],
             [
              0.3333333333333333,
              "#9c179e"
             ],
             [
              0.4444444444444444,
              "#bd3786"
             ],
             [
              0.5555555555555556,
              "#d8576b"
             ],
             [
              0.6666666666666666,
              "#ed7953"
             ],
             [
              0.7777777777777778,
              "#fb9f3a"
             ],
             [
              0.8888888888888888,
              "#fdca26"
             ],
             [
              1,
              "#f0f921"
             ]
            ],
            "type": "histogram2dcontour"
           }
          ],
          "mesh3d": [
           {
            "colorbar": {
             "outlinewidth": 0,
             "ticks": ""
            },
            "type": "mesh3d"
           }
          ],
          "parcoords": [
           {
            "line": {
             "colorbar": {
              "outlinewidth": 0,
              "ticks": ""
             }
            },
            "type": "parcoords"
           }
          ],
          "pie": [
           {
            "automargin": true,
            "type": "pie"
           }
          ],
          "scatter": [
           {
            "marker": {
             "colorbar": {
              "outlinewidth": 0,
              "ticks": ""
             }
            },
            "type": "scatter"
           }
          ],
          "scatter3d": [
           {
            "line": {
             "colorbar": {
              "outlinewidth": 0,
              "ticks": ""
             }
            },
            "marker": {
             "colorbar": {
              "outlinewidth": 0,
              "ticks": ""
             }
            },
            "type": "scatter3d"
           }
          ],
          "scattercarpet": [
           {
            "marker": {
             "colorbar": {
              "outlinewidth": 0,
              "ticks": ""
             }
            },
            "type": "scattercarpet"
           }
          ],
          "scattergeo": [
           {
            "marker": {
             "colorbar": {
              "outlinewidth": 0,
              "ticks": ""
             }
            },
            "type": "scattergeo"
           }
          ],
          "scattergl": [
           {
            "marker": {
             "colorbar": {
              "outlinewidth": 0,
              "ticks": ""
             }
            },
            "type": "scattergl"
           }
          ],
          "scattermapbox": [
           {
            "marker": {
             "colorbar": {
              "outlinewidth": 0,
              "ticks": ""
             }
            },
            "type": "scattermapbox"
           }
          ],
          "scatterpolar": [
           {
            "marker": {
             "colorbar": {
              "outlinewidth": 0,
              "ticks": ""
             }
            },
            "type": "scatterpolar"
           }
          ],
          "scatterpolargl": [
           {
            "marker": {
             "colorbar": {
              "outlinewidth": 0,
              "ticks": ""
             }
            },
            "type": "scatterpolargl"
           }
          ],
          "scatterternary": [
           {
            "marker": {
             "colorbar": {
              "outlinewidth": 0,
              "ticks": ""
             }
            },
            "type": "scatterternary"
           }
          ],
          "surface": [
           {
            "colorbar": {
             "outlinewidth": 0,
             "ticks": ""
            },
            "colorscale": [
             [
              0,
              "#0d0887"
             ],
             [
              0.1111111111111111,
              "#46039f"
             ],
             [
              0.2222222222222222,
              "#7201a8"
             ],
             [
              0.3333333333333333,
              "#9c179e"
             ],
             [
              0.4444444444444444,
              "#bd3786"
             ],
             [
              0.5555555555555556,
              "#d8576b"
             ],
             [
              0.6666666666666666,
              "#ed7953"
             ],
             [
              0.7777777777777778,
              "#fb9f3a"
             ],
             [
              0.8888888888888888,
              "#fdca26"
             ],
             [
              1,
              "#f0f921"
             ]
            ],
            "type": "surface"
           }
          ],
          "table": [
           {
            "cells": {
             "fill": {
              "color": "#EBF0F8"
             },
             "line": {
              "color": "white"
             }
            },
            "header": {
             "fill": {
              "color": "#C8D4E3"
             },
             "line": {
              "color": "white"
             }
            },
            "type": "table"
           }
          ]
         },
         "layout": {
          "annotationdefaults": {
           "arrowcolor": "#2a3f5f",
           "arrowhead": 0,
           "arrowwidth": 1
          },
          "autotypenumbers": "strict",
          "coloraxis": {
           "colorbar": {
            "outlinewidth": 0,
            "ticks": ""
           }
          },
          "colorscale": {
           "diverging": [
            [
             0,
             "#8e0152"
            ],
            [
             0.1,
             "#c51b7d"
            ],
            [
             0.2,
             "#de77ae"
            ],
            [
             0.3,
             "#f1b6da"
            ],
            [
             0.4,
             "#fde0ef"
            ],
            [
             0.5,
             "#f7f7f7"
            ],
            [
             0.6,
             "#e6f5d0"
            ],
            [
             0.7,
             "#b8e186"
            ],
            [
             0.8,
             "#7fbc41"
            ],
            [
             0.9,
             "#4d9221"
            ],
            [
             1,
             "#276419"
            ]
           ],
           "sequential": [
            [
             0,
             "#0d0887"
            ],
            [
             0.1111111111111111,
             "#46039f"
            ],
            [
             0.2222222222222222,
             "#7201a8"
            ],
            [
             0.3333333333333333,
             "#9c179e"
            ],
            [
             0.4444444444444444,
             "#bd3786"
            ],
            [
             0.5555555555555556,
             "#d8576b"
            ],
            [
             0.6666666666666666,
             "#ed7953"
            ],
            [
             0.7777777777777778,
             "#fb9f3a"
            ],
            [
             0.8888888888888888,
             "#fdca26"
            ],
            [
             1,
             "#f0f921"
            ]
           ],
           "sequentialminus": [
            [
             0,
             "#0d0887"
            ],
            [
             0.1111111111111111,
             "#46039f"
            ],
            [
             0.2222222222222222,
             "#7201a8"
            ],
            [
             0.3333333333333333,
             "#9c179e"
            ],
            [
             0.4444444444444444,
             "#bd3786"
            ],
            [
             0.5555555555555556,
             "#d8576b"
            ],
            [
             0.6666666666666666,
             "#ed7953"
            ],
            [
             0.7777777777777778,
             "#fb9f3a"
            ],
            [
             0.8888888888888888,
             "#fdca26"
            ],
            [
             1,
             "#f0f921"
            ]
           ]
          },
          "colorway": [
           "#636efa",
           "#EF553B",
           "#00cc96",
           "#ab63fa",
           "#FFA15A",
           "#19d3f3",
           "#FF6692",
           "#B6E880",
           "#FF97FF",
           "#FECB52"
          ],
          "font": {
           "color": "#2a3f5f"
          },
          "geo": {
           "bgcolor": "white",
           "lakecolor": "white",
           "landcolor": "#E5ECF6",
           "showlakes": true,
           "showland": true,
           "subunitcolor": "white"
          },
          "hoverlabel": {
           "align": "left"
          },
          "hovermode": "closest",
          "mapbox": {
           "style": "light"
          },
          "paper_bgcolor": "white",
          "plot_bgcolor": "#E5ECF6",
          "polar": {
           "angularaxis": {
            "gridcolor": "white",
            "linecolor": "white",
            "ticks": ""
           },
           "bgcolor": "#E5ECF6",
           "radialaxis": {
            "gridcolor": "white",
            "linecolor": "white",
            "ticks": ""
           }
          },
          "scene": {
           "xaxis": {
            "backgroundcolor": "#E5ECF6",
            "gridcolor": "white",
            "gridwidth": 2,
            "linecolor": "white",
            "showbackground": true,
            "ticks": "",
            "zerolinecolor": "white"
           },
           "yaxis": {
            "backgroundcolor": "#E5ECF6",
            "gridcolor": "white",
            "gridwidth": 2,
            "linecolor": "white",
            "showbackground": true,
            "ticks": "",
            "zerolinecolor": "white"
           },
           "zaxis": {
            "backgroundcolor": "#E5ECF6",
            "gridcolor": "white",
            "gridwidth": 2,
            "linecolor": "white",
            "showbackground": true,
            "ticks": "",
            "zerolinecolor": "white"
           }
          },
          "shapedefaults": {
           "line": {
            "color": "#2a3f5f"
           }
          },
          "ternary": {
           "aaxis": {
            "gridcolor": "white",
            "linecolor": "white",
            "ticks": ""
           },
           "baxis": {
            "gridcolor": "white",
            "linecolor": "white",
            "ticks": ""
           },
           "bgcolor": "#E5ECF6",
           "caxis": {
            "gridcolor": "white",
            "linecolor": "white",
            "ticks": ""
           }
          },
          "title": {
           "x": 0.05
          },
          "xaxis": {
           "automargin": true,
           "gridcolor": "white",
           "linecolor": "white",
           "ticks": "",
           "title": {
            "standoff": 15
           },
           "zerolinecolor": "white",
           "zerolinewidth": 2
          },
          "yaxis": {
           "automargin": true,
           "gridcolor": "white",
           "linecolor": "white",
           "ticks": "",
           "title": {
            "standoff": 15
           },
           "zerolinecolor": "white",
           "zerolinewidth": 2
          }
         }
        },
        "title": {
         "text": "Physical Flow by Area"
        },
        "xaxis": {
         "anchor": "y",
         "autorange": true,
         "domain": [
          0,
          1
         ],
         "range": [
          -0.5,
          3.5
         ],
         "title": {
          "text": "Control Area"
         },
         "type": "category"
        },
        "yaxis": {
         "anchor": "x",
         "autorange": true,
         "domain": [
          0,
          1
         ],
         "range": [
          -268.0655555555556,
          412.2455555555556
         ],
         "title": {
          "text": "Mean Physical Flow in MW"
         },
         "type": "linear"
        }
       }
      },
      "image/png": "[encoded data removed]",
      "text/html": [
       "<div>                            <div id=\"52fbaf70-85ce-4cbb-9746-b8769624018b\" class=\"plotly-graph-div\" style=\"height:525px; width:100%;\"></div>            <script type=\"text/javascript\">                require([\"plotly\"], function(Plotly) {                    window.PLOTLYENV=window.PLOTLYENV || {};                                    if (document.getElementById(\"52fbaf70-85ce-4cbb-9746-b8769624018b\")) {                    Plotly.newPlot(                        \"52fbaf70-85ce-4cbb-9746-b8769624018b\",                        [{\"alignmentgroup\": \"True\", \"hovertemplate\": \"Control Area=%{x}<br>Mean Physical Flow in MW=%{y}<extra></extra>\", \"legendgroup\": \"\", \"marker\": {\"color\": \"#636efa\"}, \"name\": \"\", \"offsetgroup\": \"\", \"orientation\": \"v\", \"showlegend\": false, \"textposition\": \"auto\", \"type\": \"bar\", \"x\": [\"Luxembourg\", \"Netherlands\", \"Germany\", \"France\"], \"xaxis\": \"x\", \"y\": [-234.05, 378.23, 120.42, -232.09], \"yaxis\": \"y\"}],                        {\"barmode\": \"relative\", \"legend\": {\"tracegroupgap\": 0}, \"template\": {\"data\": {\"bar\": [{\"error_x\": {\"color\": \"#2a3f5f\"}, \"error_y\": {\"color\": \"#2a3f5f\"}, \"marker\": {\"line\": {\"color\": \"#E5ECF6\", \"width\": 0.5}}, \"type\": \"bar\"}], \"barpolar\": [{\"marker\": {\"line\": {\"color\": \"#E5ECF6\", \"width\": 0.5}}, \"type\": \"barpolar\"}], \"carpet\": [{\"aaxis\": {\"endlinecolor\": \"#2a3f5f\", \"gridcolor\": \"white\", \"linecolor\": \"white\", \"minorgridcolor\": \"white\", \"startlinecolor\": \"#2a3f5f\"}, \"baxis\": {\"endlinecolor\": \"#2a3f5f\", \"gridcolor\": \"white\", \"linecolor\": \"white\", \"minorgridcolor\": \"white\", \"startlinecolor\": \"#2a3f5f\"}, \"type\": \"carpet\"}], \"choropleth\": [{\"colorbar\": {\"outlinewidth\": 0, \"ticks\": \"\"}, \"type\": \"choropleth\"}], \"contour\": [{\"colorbar\": {\"outlinewidth\": 0, \"ticks\": \"\"}, \"colorscale\": [[0.0, \"#0d0887\"], [0.1111111111111111, \"#46039f\"], [0.2222222222222222, \"#7201a8\"], [0.3333333333333333, \"#9c179e\"], [0.4444444444444444, \"#bd3786\"], [0.5555555555555556, \"#d8576b\"], [0.6666666666666666, \"#ed7953\"], [0.7777777777777778, \"#fb9f3a\"], [0.8888888888888888, \"#fdca26\"], [1.0, \"#f0f921\"]], \"type\": \"contour\"}], \"contourcarpet\": [{\"colorbar\": {\"outlinewidth\": 0, \"ticks\": \"\"}, \"type\": \"contourcarpet\"}], \"heatmap\": [{\"colorbar\": {\"outlinewidth\": 0, \"ticks\": \"\"}, \"colorscale\": [[0.0, \"#0d0887\"], [0.1111111111111111, \"#46039f\"], [0.2222222222222222, \"#7201a8\"], [0.3333333333333333, \"#9c179e\"], [0.4444444444444444, \"#bd3786\"], [0.5555555555555556, \"#d8576b\"], [0.6666666666666666, \"#ed7953\"], [0.7777777777777778, \"#fb9f3a\"], [0.8888888888888888, \"#fdca26\"], [1.0, \"#f0f921\"]], \"type\": \"heatmap\"}], \"heatmapgl\": [{\"colorbar\": {\"outlinewidth\": 0, \"ticks\": \"\"}, \"colorscale\": [[0.0, \"#0d0887\"], [0.1111111111111111, \"#46039f\"], [0.2222222222222222, \"#7201a8\"], [0.3333333333333333, \"#9c179e\"], [0.4444444444444444, \"#bd3786\"], [0.5555555555555556, \"#d8576b\"], [0.6666666666666666, \"#ed7953\"], [0.7777777777777778, \"#fb9f3a\"], [0.8888888888888888, \"#fdca26\"], [1.0, \"#f0f921\"]], \"type\": \"heatmapgl\"}], \"histogram\": [{\"marker\": {\"colorbar\": {\"outlinewidth\": 0, \"ticks\": \"\"}}, \"type\": \"histogram\"}], \"histogram2d\": [{\"colorbar\": {\"outlinewidth\": 0, \"ticks\": \"\"}, \"colorscale\": [[0.0, \"#0d0887\"], [0.1111111111111111, \"#46039f\"], [0.2222222222222222, \"#7201a8\"], [0.3333333333333333, \"#9c179e\"], [0.4444444444444444, \"#bd3786\"], [0.5555555555555556, \"#d8576b\"], [0.6666666666666666, \"#ed7953\"], [0.7777777777777778, \"#fb9f3a\"], [0.8888888888888888, \"#fdca26\"], [1.0, \"#f0f921\"]], \"type\": \"histogram2d\"}], \"histogram2dcontour\": [{\"colorbar\": {\"outlinewidth\": 0, \"ticks\": \"\"}, \"colorscale\": [[0.0, \"#0d0887\"], [0.1111111111111111, \"#46039f\"], [0.2222222222222222, \"#7201a8\"], [0.3333333333333333, \"#9c179e\"], [0.4444444444444444, \"#bd3786\"], [0.5555555555555556, \"#d8576b\"], [0.6666666666666666, \"#ed7953\"], [0.7777777777777778, \"#fb9f3a\"], [0.8888888888888888, \"#fdca26\"], [1.0, \"#f0f921\"]], \"type\": \"histogram2dcontour\"}], \"mesh3d\": [{\"colorbar\": {\"outlinewidth\": 0, \"ticks\": \"\"}, \"type\": \"mesh3d\"}], \"parcoords\": [{\"line\": {\"colorbar\": {\"outlinewidth\": 0, \"ticks\": \"\"}}, \"type\": \"parcoords\"}], \"pie\": [{\"automargin\": true, \"type\": \"pie\"}], \"scatter\": [{\"marker\": {\"colorbar\": {\"outlinewidth\": 0, \"ticks\": \"\"}}, \"type\": \"scatter\"}], \"scatter3d\": [{\"line\": {\"colorbar\": {\"outlinewidth\": 0, \"ticks\": \"\"}}, \"marker\": {\"colorbar\": {\"outlinewidth\": 0, \"ticks\": \"\"}}, \"type\": \"scatter3d\"}], \"scattercarpet\": [{\"marker\": {\"colorbar\": {\"outlinewidth\": 0, \"ticks\": \"\"}}, \"type\": \"scattercarpet\"}], \"scattergeo\": [{\"marker\": {\"colorbar\": {\"outlinewidth\": 0, \"ticks\": \"\"}}, \"type\": \"scattergeo\"}], \"scattergl\": [{\"marker\": {\"colorbar\": {\"outlinewidth\": 0, \"ticks\": \"\"}}, \"type\": \"scattergl\"}], \"scattermapbox\": [{\"marker\": {\"colorbar\": {\"outlinewidth\": 0, \"ticks\": \"\"}}, \"type\": \"scattermapbox\"}], \"scatterpolar\": [{\"marker\": {\"colorbar\": {\"outlinewidth\": 0, \"ticks\": \"\"}}, \"type\": \"scatterpolar\"}], \"scatterpolargl\": [{\"marker\": {\"colorbar\": {\"outlinewidth\": 0, \"ticks\": \"\"}}, \"type\": \"scatterpolargl\"}], \"scatterternary\": [{\"marker\": {\"colorbar\": {\"outlinewidth\": 0, \"ticks\": \"\"}}, \"type\": \"scatterternary\"}], \"surface\": [{\"colorbar\": {\"outlinewidth\": 0, \"ticks\": \"\"}, \"colorscale\": [[0.0, \"#0d0887\"], [0.1111111111111111, \"#46039f\"], [0.2222222222222222, \"#7201a8\"], [0.3333333333333333, \"#9c179e\"], [0.4444444444444444, \"#bd3786\"], [0.5555555555555556, \"#d8576b\"], [0.6666666666666666, \"#ed7953\"], [0.7777777777777778, \"#fb9f3a\"], [0.8888888888888888, \"#fdca26\"], [1.0, \"#f0f921\"]], \"type\": \"surface\"}], \"table\": [{\"cells\": {\"fill\": {\"color\": \"#EBF0F8\"}, \"line\": {\"color\": \"white\"}}, \"header\": {\"fill\": {\"color\": \"#C8D4E3\"}, \"line\": {\"color\": \"white\"}}, \"type\": \"table\"}]}, \"layout\": {\"annotationdefaults\": {\"arrowcolor\": \"#2a3f5f\", \"arrowhead\": 0, \"arrowwidth\": 1}, \"autotypenumbers\": \"strict\", \"coloraxis\": {\"colorbar\": {\"outlinewidth\": 0, \"ticks\": \"\"}}, \"colorscale\": {\"diverging\": [[0, \"#8e0152\"], [0.1, \"#c51b7d\"], [0.2, \"#de77ae\"], [0.3, \"#f1b6da\"], [0.4, \"#fde0ef\"], [0.5, \"#f7f7f7\"], [0.6, \"#e6f5d0\"], [0.7, \"#b8e186\"], [0.8, \"#7fbc41\"], [0.9, \"#4d9221\"], [1, \"#276419\"]], \"sequential\": [[0.0, \"#0d0887\"], [0.1111111111111111, \"#46039f\"], [0.2222222222222222, \"#7201a8\"], [0.3333333333333333, \"#9c179e\"], [0.4444444444444444, \"#bd3786\"], [0.5555555555555556, \"#d8576b\"], [0.6666666666666666, \"#ed7953\"], [0.7777777777777778, \"#fb9f3a\"], [0.8888888888888888, \"#fdca26\"], [1.0, \"#f0f921\"]], \"sequentialminus\": [[0.0, \"#0d0887\"], [0.1111111111111111, \"#46039f\"], [0.2222222222222222, \"#7201a8\"], [0.3333333333333333, \"#9c179e\"], [0.4444444444444444, \"#bd3786\"], [0.5555555555555556, \"#d8576b\"], [0.6666666666666666, \"#ed7953\"], [0.7777777777777778, \"#fb9f3a\"], [0.8888888888888888, \"#fdca26\"], [1.0, \"#f0f921\"]]}, \"colorway\": [\"#636efa\", \"#EF553B\", \"#00cc96\", \"#ab63fa\", \"#FFA15A\", \"#19d3f3\", \"#FF6692\", \"#B6E880\", \"#FF97FF\", \"#FECB52\"], \"font\": {\"color\": \"#2a3f5f\"}, \"geo\": {\"bgcolor\": \"white\", \"lakecolor\": \"white\", \"landcolor\": \"#E5ECF6\", \"showlakes\": true, \"showland\": true, \"subunitcolor\": \"white\"}, \"hoverlabel\": {\"align\": \"left\"}, \"hovermode\": \"closest\", \"mapbox\": {\"style\": \"light\"}, \"paper_bgcolor\": \"white\", \"plot_bgcolor\": \"#E5ECF6\", \"polar\": {\"angularaxis\": {\"gridcolor\": \"white\", \"linecolor\": \"white\", \"ticks\": \"\"}, \"bgcolor\": \"#E5ECF6\", \"radialaxis\": {\"gridcolor\": \"white\", \"linecolor\": \"white\", \"ticks\": \"\"}}, \"scene\": {\"xaxis\": {\"backgroundcolor\": \"#E5ECF6\", \"gridcolor\": \"white\", \"gridwidth\": 2, \"linecolor\": \"white\", \"showbackground\": true, \"ticks\": \"\", \"zerolinecolor\": \"white\"}, \"yaxis\": {\"backgroundcolor\": \"#E5ECF6\", \"gridcolor\": \"white\", \"gridwidth\": 2, \"linecolor\": \"white\", \"showbackground\": true, \"ticks\": \"\", \"zerolinecolor\": \"white\"}, \"zaxis\": {\"backgroundcolor\": \"#E5ECF6\", \"gridcolor\": \"white\", \"gridwidth\": 2, \"linecolor\": \"white\", \"showbackground\": true, \"ticks\": \"\", \"zerolinecolor\": \"white\"}}, \"shapedefaults\": {\"line\": {\"color\": \"#2a3f5f\"}}, \"ternary\": {\"aaxis\": {\"gridcolor\": \"white\", \"linecolor\": \"white\", \"ticks\": \"\"}, \"baxis\": {\"gridcolor\": \"white\", \"linecolor\": \"white\", \"ticks\": \"\"}, \"bgcolor\": \"#E5ECF6\", \"caxis\": {\"gridcolor\": \"white\", \"linecolor\": \"white\", \"ticks\": \"\"}}, \"title\": {\"x\": 0.05}, \"xaxis\": {\"automargin\": true, \"gridcolor\": \"white\", \"linecolor\": \"white\", \"ticks\": \"\", \"title\": {\"standoff\": 15}, \"zerolinecolor\": \"white\", \"zerolinewidth\": 2}, \"yaxis\": {\"automargin\": true, \"gridcolor\": \"white\", \"linecolor\": \"white\", \"ticks\": \"\", \"title\": {\"standoff\": 15}, \"zerolinecolor\": \"white\", \"zerolinewidth\": 2}}}, \"title\": {\"text\": \"Physical Flow by Area\"}, \"xaxis\": {\"anchor\": \"y\", \"domain\": [0.0, 1.0], \"title\": {\"text\": \"Control Area\"}}, \"yaxis\": {\"anchor\": \"x\", \"domain\": [0.0, 1.0], \"title\": {\"text\": \"Mean Physical Flow in MW\"}}},                        {\"responsive\": true}                    ).then(function(){\n",
       "                            \n",
       "var gd = document.getElementById('52fbaf70-85ce-4cbb-9746-b8769624018b');\n",
       "var x = new MutationObserver(function (mutations, observer) {{\n",
       "        var display = window.getComputedStyle(gd).display;\n",
       "        if (!display || display === 'none') {{\n",
       "            console.log([gd, 'removed!']);\n",
       "            Plotly.purge(gd);\n",
       "            observer.disconnect();\n",
       "        }}\n",
       "}});\n",
       "\n",
       "// Listen for the removal of the full notebook cells\n",
       "var notebookContainer = gd.closest('#notebook-container');\n",
       "if (notebookContainer) {{\n",
       "    x.observe(notebookContainer, {childList: true});\n",
       "}}\n",
       "\n",
       "// Listen for the clearing of the current output cell\n",
       "var outputEl = gd.closest('.output');\n",
       "if (outputEl) {{\n",
       "    x.observe(outputEl, {childList: true});\n",
       "}}\n",
       "\n",
       "                        })                };                });            </script>        </div>"
      ]
     },
     "metadata": {},
     "output_type": "display_data"
    },
    {
     "name": "stdout",
     "output_type": "stream",
     "text": [
      "Figure({\n",
      "    'data': [{'alignmentgroup': 'True',\n",
      "              'hovertemplate': 'Control Area=%{x}<br>Mean Physical Flow in MW=%{y}<extra></extra>',\n",
      "              'legendgroup': '',\n",
      "              'marker': {'color': '#636efa'},\n",
      "              'name': '',\n",
      "              'offsetgroup': '',\n",
      "              'orientation': 'v',\n",
      "              'showlegend': False,\n",
      "              'textposition': 'auto',\n",
      "              'type': 'bar',\n",
      "              'x': array(['Luxembourg', 'Netherlands', 'Germany', 'France'], dtype=object),\n",
      "              'xaxis': 'x',\n",
      "              'y': array([-234.05,  378.23,  120.42, -232.09]),\n",
      "              'yaxis': 'y'}],\n",
      "    'layout': {'barmode': 'relative',\n",
      "               'legend': {'tracegroupgap': 0},\n",
      "               'template': '...',\n",
      "               'title': {'text': 'Physical Flow by Area'},\n",
      "               'xaxis': {'anchor': 'y', 'domain': [0.0, 1.0], 'title': {'text': 'Control Area'}},\n",
      "               'yaxis': {'anchor': 'x', 'domain': [0.0, 1.0], 'title': {'text': 'Mean Physical Flow in MW'}}}\n",
      "})\n"
     ]
    }
   ],
   "source": [
    "import pandas as pd\n",
    "import plotly.express as px\n",
    "\n",
    "# creating a dummy dataframe\n",
    "flow_by_area = pd.DataFrame({\"Control Area\":[\"Luxembourg\", \"Netherlands\", \"Germany\", \"France\"], \"Mean Physical Flow in MW\": [-234.05,378.23,120.42,-232.09]})\n",
    "\n",
    "#  create the plot\n",
    "fig  = px.bar(data_frame = flow_by_area, x = \"Control Area\", y = \"Mean Physical Flow in MW\", title = \"Physical Flow by Area\")\n",
    "fig.show()\n",
    "print(fig)"
   ]
  },
  {
   "cell_type": "markdown",
   "metadata": {},
   "source": [
    "But what if you would like to change the colour? No problem!"
   ]
  },
  {
   "cell_type": "code",
   "execution_count": 133,
   "metadata": {},
   "outputs": [
    {
     "data": {
      "application/vnd.plotly.v1+json": {
       "config": {
        "plotlyServerURL": "https://plot.ly"
       },
       "data": [
        {
         "alignmentgroup": "True",
         "hovertemplate": "Control Area=%{x}<br>Mean Physical Flow in MW=%{marker.color}<extra></extra>",
         "legendgroup": "",
         "marker": {
          "color": [
           -234.05,
           378.23,
           120.42,
           -232.09
          ],
          "coloraxis": "coloraxis"
         },
         "name": "",
         "offsetgroup": "",
         "orientation": "v",
         "showlegend": false,
         "textposition": "auto",
         "type": "bar",
         "x": [
          "Luxembourg",
          "Netherlands",
          "Germany",
          "France"
         ],
         "xaxis": "x",
         "y": [
          -234.05,
          378.23,
          120.42,
          -232.09
         ],
         "yaxis": "y"
        }
       ],
       "layout": {
        "autosize": true,
        "barmode": "relative",
        "coloraxis": {
         "colorbar": {
          "title": {
           "text": "Mean Physical Flow in MW"
          }
         },
         "colorscale": [
          [
           0,
           "rgb(0,255,0)"
          ],
          [
           1,
           "rgb(0,178,238)"
          ]
         ]
        },
        "legend": {
         "tracegroupgap": 0
        },
        "template": {
         "data": {
          "bar": [
           {
            "error_x": {
             "color": "#2a3f5f"
            },
            "error_y": {
             "color": "#2a3f5f"
            },
            "marker": {
             "line": {
              "color": "#E5ECF6",
              "width": 0.5
             }
            },
            "type": "bar"
           }
          ],
          "barpolar": [
           {
            "marker": {
             "line": {
              "color": "#E5ECF6",
              "width": 0.5
             }
            },
            "type": "barpolar"
           }
          ],
          "carpet": [
           {
            "aaxis": {
             "endlinecolor": "#2a3f5f",
             "gridcolor": "white",
             "linecolor": "white",
             "minorgridcolor": "white",
             "startlinecolor": "#2a3f5f"
            },
            "baxis": {
             "endlinecolor": "#2a3f5f",
             "gridcolor": "white",
             "linecolor": "white",
             "minorgridcolor": "white",
             "startlinecolor": "#2a3f5f"
            },
            "type": "carpet"
           }
          ],
          "choropleth": [
           {
            "colorbar": {
             "outlinewidth": 0,
             "ticks": ""
            },
            "type": "choropleth"
           }
          ],
          "contour": [
           {
            "colorbar": {
             "outlinewidth": 0,
             "ticks": ""
            },
            "colorscale": [
             [
              0,
              "#0d0887"
             ],
             [
              0.1111111111111111,
              "#46039f"
             ],
             [
              0.2222222222222222,
              "#7201a8"
             ],
             [
              0.3333333333333333,
              "#9c179e"
             ],
             [
              0.4444444444444444,
              "#bd3786"
             ],
             [
              0.5555555555555556,
              "#d8576b"
             ],
             [
              0.6666666666666666,
              "#ed7953"
             ],
             [
              0.7777777777777778,
              "#fb9f3a"
             ],
             [
              0.8888888888888888,
              "#fdca26"
             ],
             [
              1,
              "#f0f921"
             ]
            ],
            "type": "contour"
           }
          ],
          "contourcarpet": [
           {
            "colorbar": {
             "outlinewidth": 0,
             "ticks": ""
            },
            "type": "contourcarpet"
           }
          ],
          "heatmap": [
           {
            "colorbar": {
             "outlinewidth": 0,
             "ticks": ""
            },
            "colorscale": [
             [
              0,
              "#0d0887"
             ],
             [
              0.1111111111111111,
              "#46039f"
             ],
             [
              0.2222222222222222,
              "#7201a8"
             ],
             [
              0.3333333333333333,
              "#9c179e"
             ],
             [
              0.4444444444444444,
              "#bd3786"
             ],
             [
              0.5555555555555556,
              "#d8576b"
             ],
             [
              0.6666666666666666,
              "#ed7953"
             ],
             [
              0.7777777777777778,
              "#fb9f3a"
             ],
             [
              0.8888888888888888,
              "#fdca26"
             ],
             [
              1,
              "#f0f921"
             ]
            ],
            "type": "heatmap"
           }
          ],
          "heatmapgl": [
           {
            "colorbar": {
             "outlinewidth": 0,
             "ticks": ""
            },
            "colorscale": [
             [
              0,
              "#0d0887"
             ],
             [
              0.1111111111111111,
              "#46039f"
             ],
             [
              0.2222222222222222,
              "#7201a8"
             ],
             [
              0.3333333333333333,
              "#9c179e"
             ],
             [
              0.4444444444444444,
              "#bd3786"
             ],
             [
              0.5555555555555556,
              "#d8576b"
             ],
             [
              0.6666666666666666,
              "#ed7953"
             ],
             [
              0.7777777777777778,
              "#fb9f3a"
             ],
             [
              0.8888888888888888,
              "#fdca26"
             ],
             [
              1,
              "#f0f921"
             ]
            ],
            "type": "heatmapgl"
           }
          ],
          "histogram": [
           {
            "marker": {
             "colorbar": {
              "outlinewidth": 0,
              "ticks": ""
             }
            },
            "type": "histogram"
           }
          ],
          "histogram2d": [
           {
            "colorbar": {
             "outlinewidth": 0,
             "ticks": ""
            },
            "colorscale": [
             [
              0,
              "#0d0887"
             ],
             [
              0.1111111111111111,
              "#46039f"
             ],
             [
              0.2222222222222222,
              "#7201a8"
             ],
             [
              0.3333333333333333,
              "#9c179e"
             ],
             [
              0.4444444444444444,
              "#bd3786"
             ],
             [
              0.5555555555555556,
              "#d8576b"
             ],
             [
              0.6666666666666666,
              "#ed7953"
             ],
             [
              0.7777777777777778,
              "#fb9f3a"
             ],
             [
              0.8888888888888888,
              "#fdca26"
             ],
             [
              1,
              "#f0f921"
             ]
            ],
            "type": "histogram2d"
           }
          ],
          "histogram2dcontour": [
           {
            "colorbar": {
             "outlinewidth": 0,
             "ticks": ""
            },
            "colorscale": [
             [
              0,
              "#0d0887"
             ],
             [
              0.1111111111111111,
              "#46039f"
             ],
             [
              0.2222222222222222,
              "#7201a8"
             ],
             [
              0.3333333333333333,
              "#9c179e"
             ],
             [
              0.4444444444444444,
              "#bd3786"
             ],
             [
              0.5555555555555556,
              "#d8576b"
             ],
             [
              0.6666666666666666,
              "#ed7953"
             ],
             [
              0.7777777777777778,
              "#fb9f3a"
             ],
             [
              0.8888888888888888,
              "#fdca26"
             ],
             [
              1,
              "#f0f921"
             ]
            ],
            "type": "histogram2dcontour"
           }
          ],
          "mesh3d": [
           {
            "colorbar": {
             "outlinewidth": 0,
             "ticks": ""
            },
            "type": "mesh3d"
           }
          ],
          "parcoords": [
           {
            "line": {
             "colorbar": {
              "outlinewidth": 0,
              "ticks": ""
             }
            },
            "type": "parcoords"
           }
          ],
          "pie": [
           {
            "automargin": true,
            "type": "pie"
           }
          ],
          "scatter": [
           {
            "marker": {
             "colorbar": {
              "outlinewidth": 0,
              "ticks": ""
             }
            },
            "type": "scatter"
           }
          ],
          "scatter3d": [
           {
            "line": {
             "colorbar": {
              "outlinewidth": 0,
              "ticks": ""
             }
            },
            "marker": {
             "colorbar": {
              "outlinewidth": 0,
              "ticks": ""
             }
            },
            "type": "scatter3d"
           }
          ],
          "scattercarpet": [
           {
            "marker": {
             "colorbar": {
              "outlinewidth": 0,
              "ticks": ""
             }
            },
            "type": "scattercarpet"
           }
          ],
          "scattergeo": [
           {
            "marker": {
             "colorbar": {
              "outlinewidth": 0,
              "ticks": ""
             }
            },
            "type": "scattergeo"
           }
          ],
          "scattergl": [
           {
            "marker": {
             "colorbar": {
              "outlinewidth": 0,
              "ticks": ""
             }
            },
            "type": "scattergl"
           }
          ],
          "scattermapbox": [
           {
            "marker": {
             "colorbar": {
              "outlinewidth": 0,
              "ticks": ""
             }
            },
            "type": "scattermapbox"
           }
          ],
          "scatterpolar": [
           {
            "marker": {
             "colorbar": {
              "outlinewidth": 0,
              "ticks": ""
             }
            },
            "type": "scatterpolar"
           }
          ],
          "scatterpolargl": [
           {
            "marker": {
             "colorbar": {
              "outlinewidth": 0,
              "ticks": ""
             }
            },
            "type": "scatterpolargl"
           }
          ],
          "scatterternary": [
           {
            "marker": {
             "colorbar": {
              "outlinewidth": 0,
              "ticks": ""
             }
            },
            "type": "scatterternary"
           }
          ],
          "surface": [
           {
            "colorbar": {
             "outlinewidth": 0,
             "ticks": ""
            },
            "colorscale": [
             [
              0,
              "#0d0887"
             ],
             [
              0.1111111111111111,
              "#46039f"
             ],
             [
              0.2222222222222222,
              "#7201a8"
             ],
             [
              0.3333333333333333,
              "#9c179e"
             ],
             [
              0.4444444444444444,
              "#bd3786"
             ],
             [
              0.5555555555555556,
              "#d8576b"
             ],
             [
              0.6666666666666666,
              "#ed7953"
             ],
             [
              0.7777777777777778,
              "#fb9f3a"
             ],
             [
              0.8888888888888888,
              "#fdca26"
             ],
             [
              1,
              "#f0f921"
             ]
            ],
            "type": "surface"
           }
          ],
          "table": [
           {
            "cells": {
             "fill": {
              "color": "#EBF0F8"
             },
             "line": {
              "color": "white"
             }
            },
            "header": {
             "fill": {
              "color": "#C8D4E3"
             },
             "line": {
              "color": "white"
             }
            },
            "type": "table"
           }
          ]
         },
         "layout": {
          "annotationdefaults": {
           "arrowcolor": "#2a3f5f",
           "arrowhead": 0,
           "arrowwidth": 1
          },
          "autotypenumbers": "strict",
          "coloraxis": {
           "colorbar": {
            "outlinewidth": 0,
            "ticks": ""
           }
          },
          "colorscale": {
           "diverging": [
            [
             0,
             "#8e0152"
            ],
            [
             0.1,
             "#c51b7d"
            ],
            [
             0.2,
             "#de77ae"
            ],
            [
             0.3,
             "#f1b6da"
            ],
            [
             0.4,
             "#fde0ef"
            ],
            [
             0.5,
             "#f7f7f7"
            ],
            [
             0.6,
             "#e6f5d0"
            ],
            [
             0.7,
             "#b8e186"
            ],
            [
             0.8,
             "#7fbc41"
            ],
            [
             0.9,
             "#4d9221"
            ],
            [
             1,
             "#276419"
            ]
           ],
           "sequential": [
            [
             0,
             "#0d0887"
            ],
            [
             0.1111111111111111,
             "#46039f"
            ],
            [
             0.2222222222222222,
             "#7201a8"
            ],
            [
             0.3333333333333333,
             "#9c179e"
            ],
            [
             0.4444444444444444,
             "#bd3786"
            ],
            [
             0.5555555555555556,
             "#d8576b"
            ],
            [
             0.6666666666666666,
             "#ed7953"
            ],
            [
             0.7777777777777778,
             "#fb9f3a"
            ],
            [
             0.8888888888888888,
             "#fdca26"
            ],
            [
             1,
             "#f0f921"
            ]
           ],
           "sequentialminus": [
            [
             0,
             "#0d0887"
            ],
            [
             0.1111111111111111,
             "#46039f"
            ],
            [
             0.2222222222222222,
             "#7201a8"
            ],
            [
             0.3333333333333333,
             "#9c179e"
            ],
            [
             0.4444444444444444,
             "#bd3786"
            ],
            [
             0.5555555555555556,
             "#d8576b"
            ],
            [
             0.6666666666666666,
             "#ed7953"
            ],
            [
             0.7777777777777778,
             "#fb9f3a"
            ],
            [
             0.8888888888888888,
             "#fdca26"
            ],
            [
             1,
             "#f0f921"
            ]
           ]
          },
          "colorway": [
           "#636efa",
           "#EF553B",
           "#00cc96",
           "#ab63fa",
           "#FFA15A",
           "#19d3f3",
           "#FF6692",
           "#B6E880",
           "#FF97FF",
           "#FECB52"
          ],
          "font": {
           "color": "#2a3f5f"
          },
          "geo": {
           "bgcolor": "white",
           "lakecolor": "white",
           "landcolor": "#E5ECF6",
           "showlakes": true,
           "showland": true,
           "subunitcolor": "white"
          },
          "hoverlabel": {
           "align": "left"
          },
          "hovermode": "closest",
          "mapbox": {
           "style": "light"
          },
          "paper_bgcolor": "white",
          "plot_bgcolor": "#E5ECF6",
          "polar": {
           "angularaxis": {
            "gridcolor": "white",
            "linecolor": "white",
            "ticks": ""
           },
           "bgcolor": "#E5ECF6",
           "radialaxis": {
            "gridcolor": "white",
            "linecolor": "white",
            "ticks": ""
           }
          },
          "scene": {
           "xaxis": {
            "backgroundcolor": "#E5ECF6",
            "gridcolor": "white",
            "gridwidth": 2,
            "linecolor": "white",
            "showbackground": true,
            "ticks": "",
            "zerolinecolor": "white"
           },
           "yaxis": {
            "backgroundcolor": "#E5ECF6",
            "gridcolor": "white",
            "gridwidth": 2,
            "linecolor": "white",
            "showbackground": true,
            "ticks": "",
            "zerolinecolor": "white"
           },
           "zaxis": {
            "backgroundcolor": "#E5ECF6",
            "gridcolor": "white",
            "gridwidth": 2,
            "linecolor": "white",
            "showbackground": true,
            "ticks": "",
            "zerolinecolor": "white"
           }
          },
          "shapedefaults": {
           "line": {
            "color": "#2a3f5f"
           }
          },
          "ternary": {
           "aaxis": {
            "gridcolor": "white",
            "linecolor": "white",
            "ticks": ""
           },
           "baxis": {
            "gridcolor": "white",
            "linecolor": "white",
            "ticks": ""
           },
           "bgcolor": "#E5ECF6",
           "caxis": {
            "gridcolor": "white",
            "linecolor": "white",
            "ticks": ""
           }
          },
          "title": {
           "x": 0.05
          },
          "xaxis": {
           "automargin": true,
           "gridcolor": "white",
           "linecolor": "white",
           "ticks": "",
           "title": {
            "standoff": 15
           },
           "zerolinecolor": "white",
           "zerolinewidth": 2
          },
          "yaxis": {
           "automargin": true,
           "gridcolor": "white",
           "linecolor": "white",
           "ticks": "",
           "title": {
            "standoff": 15
           },
           "zerolinecolor": "white",
           "zerolinewidth": 2
          }
         }
        },
        "title": {
         "text": "Physical Flow by Area"
        },
        "xaxis": {
         "anchor": "y",
         "autorange": true,
         "domain": [
          0,
          1
         ],
         "range": [
          -0.5,
          3.5
         ],
         "title": {
          "text": "Control Area"
         },
         "type": "category"
        },
        "yaxis": {
         "anchor": "x",
         "autorange": true,
         "domain": [
          0,
          1
         ],
         "range": [
          -268.0655555555556,
          412.2455555555556
         ],
         "title": {
          "text": "Mean Physical Flow in MW"
         },
         "type": "linear"
        }
       }
      },
      "image/png": "[encoded data removed]",
      "text/html": [
       "<div>                            <div id=\"842a177c-bf61-4d05-be5e-ff07510cf592\" class=\"plotly-graph-div\" style=\"height:525px; width:100%;\"></div>            <script type=\"text/javascript\">                require([\"plotly\"], function(Plotly) {                    window.PLOTLYENV=window.PLOTLYENV || {};                                    if (document.getElementById(\"842a177c-bf61-4d05-be5e-ff07510cf592\")) {                    Plotly.newPlot(                        \"842a177c-bf61-4d05-be5e-ff07510cf592\",                        [{\"alignmentgroup\": \"True\", \"hovertemplate\": \"Control Area=%{x}<br>Mean Physical Flow in MW=%{marker.color}<extra></extra>\", \"legendgroup\": \"\", \"marker\": {\"color\": [-234.05, 378.23, 120.42, -232.09], \"coloraxis\": \"coloraxis\"}, \"name\": \"\", \"offsetgroup\": \"\", \"orientation\": \"v\", \"showlegend\": false, \"textposition\": \"auto\", \"type\": \"bar\", \"x\": [\"Luxembourg\", \"Netherlands\", \"Germany\", \"France\"], \"xaxis\": \"x\", \"y\": [-234.05, 378.23, 120.42, -232.09], \"yaxis\": \"y\"}],                        {\"barmode\": \"relative\", \"coloraxis\": {\"colorbar\": {\"title\": {\"text\": \"Mean Physical Flow in MW\"}}, \"colorscale\": [[0.0, \"rgb(0,255,0)\"], [1.0, \"rgb(0,178,238)\"]]}, \"legend\": {\"tracegroupgap\": 0}, \"template\": {\"data\": {\"bar\": [{\"error_x\": {\"color\": \"#2a3f5f\"}, \"error_y\": {\"color\": \"#2a3f5f\"}, \"marker\": {\"line\": {\"color\": \"#E5ECF6\", \"width\": 0.5}}, \"type\": \"bar\"}], \"barpolar\": [{\"marker\": {\"line\": {\"color\": \"#E5ECF6\", \"width\": 0.5}}, \"type\": \"barpolar\"}], \"carpet\": [{\"aaxis\": {\"endlinecolor\": \"#2a3f5f\", \"gridcolor\": \"white\", \"linecolor\": \"white\", \"minorgridcolor\": \"white\", \"startlinecolor\": \"#2a3f5f\"}, \"baxis\": {\"endlinecolor\": \"#2a3f5f\", \"gridcolor\": \"white\", \"linecolor\": \"white\", \"minorgridcolor\": \"white\", \"startlinecolor\": \"#2a3f5f\"}, \"type\": \"carpet\"}], \"choropleth\": [{\"colorbar\": {\"outlinewidth\": 0, \"ticks\": \"\"}, \"type\": \"choropleth\"}], \"contour\": [{\"colorbar\": {\"outlinewidth\": 0, \"ticks\": \"\"}, \"colorscale\": [[0.0, \"#0d0887\"], [0.1111111111111111, \"#46039f\"], [0.2222222222222222, \"#7201a8\"], [0.3333333333333333, \"#9c179e\"], [0.4444444444444444, \"#bd3786\"], [0.5555555555555556, \"#d8576b\"], [0.6666666666666666, \"#ed7953\"], [0.7777777777777778, \"#fb9f3a\"], [0.8888888888888888, \"#fdca26\"], [1.0, \"#f0f921\"]], \"type\": \"contour\"}], \"contourcarpet\": [{\"colorbar\": {\"outlinewidth\": 0, \"ticks\": \"\"}, \"type\": \"contourcarpet\"}], \"heatmap\": [{\"colorbar\": {\"outlinewidth\": 0, \"ticks\": \"\"}, \"colorscale\": [[0.0, \"#0d0887\"], [0.1111111111111111, \"#46039f\"], [0.2222222222222222, \"#7201a8\"], [0.3333333333333333, \"#9c179e\"], [0.4444444444444444, \"#bd3786\"], [0.5555555555555556, \"#d8576b\"], [0.6666666666666666, \"#ed7953\"], [0.7777777777777778, \"#fb9f3a\"], [0.8888888888888888, \"#fdca26\"], [1.0, \"#f0f921\"]], \"type\": \"heatmap\"}], \"heatmapgl\": [{\"colorbar\": {\"outlinewidth\": 0, \"ticks\": \"\"}, \"colorscale\": [[0.0, \"#0d0887\"], [0.1111111111111111, \"#46039f\"], [0.2222222222222222, \"#7201a8\"], [0.3333333333333333, \"#9c179e\"], [0.4444444444444444, \"#bd3786\"], [0.5555555555555556, \"#d8576b\"], [0.6666666666666666, \"#ed7953\"], [0.7777777777777778, \"#fb9f3a\"], [0.8888888888888888, \"#fdca26\"], [1.0, \"#f0f921\"]], \"type\": \"heatmapgl\"}], \"histogram\": [{\"marker\": {\"colorbar\": {\"outlinewidth\": 0, \"ticks\": \"\"}}, \"type\": \"histogram\"}], \"histogram2d\": [{\"colorbar\": {\"outlinewidth\": 0, \"ticks\": \"\"}, \"colorscale\": [[0.0, \"#0d0887\"], [0.1111111111111111, \"#46039f\"], [0.2222222222222222, \"#7201a8\"], [0.3333333333333333, \"#9c179e\"], [0.4444444444444444, \"#bd3786\"], [0.5555555555555556, \"#d8576b\"], [0.6666666666666666, \"#ed7953\"], [0.7777777777777778, \"#fb9f3a\"], [0.8888888888888888, \"#fdca26\"], [1.0, \"#f0f921\"]], \"type\": \"histogram2d\"}], \"histogram2dcontour\": [{\"colorbar\": {\"outlinewidth\": 0, \"ticks\": \"\"}, \"colorscale\": [[0.0, \"#0d0887\"], [0.1111111111111111, \"#46039f\"], [0.2222222222222222, \"#7201a8\"], [0.3333333333333333, \"#9c179e\"], [0.4444444444444444, \"#bd3786\"], [0.5555555555555556, \"#d8576b\"], [0.6666666666666666, \"#ed7953\"], [0.7777777777777778, \"#fb9f3a\"], [0.8888888888888888, \"#fdca26\"], [1.0, \"#f0f921\"]], \"type\": \"histogram2dcontour\"}], \"mesh3d\": [{\"colorbar\": {\"outlinewidth\": 0, \"ticks\": \"\"}, \"type\": \"mesh3d\"}], \"parcoords\": [{\"line\": {\"colorbar\": {\"outlinewidth\": 0, \"ticks\": \"\"}}, \"type\": \"parcoords\"}], \"pie\": [{\"automargin\": true, \"type\": \"pie\"}], \"scatter\": [{\"marker\": {\"colorbar\": {\"outlinewidth\": 0, \"ticks\": \"\"}}, \"type\": \"scatter\"}], \"scatter3d\": [{\"line\": {\"colorbar\": {\"outlinewidth\": 0, \"ticks\": \"\"}}, \"marker\": {\"colorbar\": {\"outlinewidth\": 0, \"ticks\": \"\"}}, \"type\": \"scatter3d\"}], \"scattercarpet\": [{\"marker\": {\"colorbar\": {\"outlinewidth\": 0, \"ticks\": \"\"}}, \"type\": \"scattercarpet\"}], \"scattergeo\": [{\"marker\": {\"colorbar\": {\"outlinewidth\": 0, \"ticks\": \"\"}}, \"type\": \"scattergeo\"}], \"scattergl\": [{\"marker\": {\"colorbar\": {\"outlinewidth\": 0, \"ticks\": \"\"}}, \"type\": \"scattergl\"}], \"scattermapbox\": [{\"marker\": {\"colorbar\": {\"outlinewidth\": 0, \"ticks\": \"\"}}, \"type\": \"scattermapbox\"}], \"scatterpolar\": [{\"marker\": {\"colorbar\": {\"outlinewidth\": 0, \"ticks\": \"\"}}, \"type\": \"scatterpolar\"}], \"scatterpolargl\": [{\"marker\": {\"colorbar\": {\"outlinewidth\": 0, \"ticks\": \"\"}}, \"type\": \"scatterpolargl\"}], \"scatterternary\": [{\"marker\": {\"colorbar\": {\"outlinewidth\": 0, \"ticks\": \"\"}}, \"type\": \"scatterternary\"}], \"surface\": [{\"colorbar\": {\"outlinewidth\": 0, \"ticks\": \"\"}, \"colorscale\": [[0.0, \"#0d0887\"], [0.1111111111111111, \"#46039f\"], [0.2222222222222222, \"#7201a8\"], [0.3333333333333333, \"#9c179e\"], [0.4444444444444444, \"#bd3786\"], [0.5555555555555556, \"#d8576b\"], [0.6666666666666666, \"#ed7953\"], [0.7777777777777778, \"#fb9f3a\"], [0.8888888888888888, \"#fdca26\"], [1.0, \"#f0f921\"]], \"type\": \"surface\"}], \"table\": [{\"cells\": {\"fill\": {\"color\": \"#EBF0F8\"}, \"line\": {\"color\": \"white\"}}, \"header\": {\"fill\": {\"color\": \"#C8D4E3\"}, \"line\": {\"color\": \"white\"}}, \"type\": \"table\"}]}, \"layout\": {\"annotationdefaults\": {\"arrowcolor\": \"#2a3f5f\", \"arrowhead\": 0, \"arrowwidth\": 1}, \"autotypenumbers\": \"strict\", \"coloraxis\": {\"colorbar\": {\"outlinewidth\": 0, \"ticks\": \"\"}}, \"colorscale\": {\"diverging\": [[0, \"#8e0152\"], [0.1, \"#c51b7d\"], [0.2, \"#de77ae\"], [0.3, \"#f1b6da\"], [0.4, \"#fde0ef\"], [0.5, \"#f7f7f7\"], [0.6, \"#e6f5d0\"], [0.7, \"#b8e186\"], [0.8, \"#7fbc41\"], [0.9, \"#4d9221\"], [1, \"#276419\"]], \"sequential\": [[0.0, \"#0d0887\"], [0.1111111111111111, \"#46039f\"], [0.2222222222222222, \"#7201a8\"], [0.3333333333333333, \"#9c179e\"], [0.4444444444444444, \"#bd3786\"], [0.5555555555555556, \"#d8576b\"], [0.6666666666666666, \"#ed7953\"], [0.7777777777777778, \"#fb9f3a\"], [0.8888888888888888, \"#fdca26\"], [1.0, \"#f0f921\"]], \"sequentialminus\": [[0.0, \"#0d0887\"], [0.1111111111111111, \"#46039f\"], [0.2222222222222222, \"#7201a8\"], [0.3333333333333333, \"#9c179e\"], [0.4444444444444444, \"#bd3786\"], [0.5555555555555556, \"#d8576b\"], [0.6666666666666666, \"#ed7953\"], [0.7777777777777778, \"#fb9f3a\"], [0.8888888888888888, \"#fdca26\"], [1.0, \"#f0f921\"]]}, \"colorway\": [\"#636efa\", \"#EF553B\", \"#00cc96\", \"#ab63fa\", \"#FFA15A\", \"#19d3f3\", \"#FF6692\", \"#B6E880\", \"#FF97FF\", \"#FECB52\"], \"font\": {\"color\": \"#2a3f5f\"}, \"geo\": {\"bgcolor\": \"white\", \"lakecolor\": \"white\", \"landcolor\": \"#E5ECF6\", \"showlakes\": true, \"showland\": true, \"subunitcolor\": \"white\"}, \"hoverlabel\": {\"align\": \"left\"}, \"hovermode\": \"closest\", \"mapbox\": {\"style\": \"light\"}, \"paper_bgcolor\": \"white\", \"plot_bgcolor\": \"#E5ECF6\", \"polar\": {\"angularaxis\": {\"gridcolor\": \"white\", \"linecolor\": \"white\", \"ticks\": \"\"}, \"bgcolor\": \"#E5ECF6\", \"radialaxis\": {\"gridcolor\": \"white\", \"linecolor\": \"white\", \"ticks\": \"\"}}, \"scene\": {\"xaxis\": {\"backgroundcolor\": \"#E5ECF6\", \"gridcolor\": \"white\", \"gridwidth\": 2, \"linecolor\": \"white\", \"showbackground\": true, \"ticks\": \"\", \"zerolinecolor\": \"white\"}, \"yaxis\": {\"backgroundcolor\": \"#E5ECF6\", \"gridcolor\": \"white\", \"gridwidth\": 2, \"linecolor\": \"white\", \"showbackground\": true, \"ticks\": \"\", \"zerolinecolor\": \"white\"}, \"zaxis\": {\"backgroundcolor\": \"#E5ECF6\", \"gridcolor\": \"white\", \"gridwidth\": 2, \"linecolor\": \"white\", \"showbackground\": true, \"ticks\": \"\", \"zerolinecolor\": \"white\"}}, \"shapedefaults\": {\"line\": {\"color\": \"#2a3f5f\"}}, \"ternary\": {\"aaxis\": {\"gridcolor\": \"white\", \"linecolor\": \"white\", \"ticks\": \"\"}, \"baxis\": {\"gridcolor\": \"white\", \"linecolor\": \"white\", \"ticks\": \"\"}, \"bgcolor\": \"#E5ECF6\", \"caxis\": {\"gridcolor\": \"white\", \"linecolor\": \"white\", \"ticks\": \"\"}}, \"title\": {\"x\": 0.05}, \"xaxis\": {\"automargin\": true, \"gridcolor\": \"white\", \"linecolor\": \"white\", \"ticks\": \"\", \"title\": {\"standoff\": 15}, \"zerolinecolor\": \"white\", \"zerolinewidth\": 2}, \"yaxis\": {\"automargin\": true, \"gridcolor\": \"white\", \"linecolor\": \"white\", \"ticks\": \"\", \"title\": {\"standoff\": 15}, \"zerolinecolor\": \"white\", \"zerolinewidth\": 2}}}, \"title\": {\"text\": \"Physical Flow by Area\"}, \"xaxis\": {\"anchor\": \"y\", \"domain\": [0.0, 1.0], \"title\": {\"text\": \"Control Area\"}}, \"yaxis\": {\"anchor\": \"x\", \"domain\": [0.0, 1.0], \"title\": {\"text\": \"Mean Physical Flow in MW\"}}},                        {\"responsive\": true}                    ).then(function(){\n",
       "                            \n",
       "var gd = document.getElementById('842a177c-bf61-4d05-be5e-ff07510cf592');\n",
       "var x = new MutationObserver(function (mutations, observer) {{\n",
       "        var display = window.getComputedStyle(gd).display;\n",
       "        if (!display || display === 'none') {{\n",
       "            console.log([gd, 'removed!']);\n",
       "            Plotly.purge(gd);\n",
       "            observer.disconnect();\n",
       "        }}\n",
       "}});\n",
       "\n",
       "// Listen for the removal of the full notebook cells\n",
       "var notebookContainer = gd.closest('#notebook-container');\n",
       "if (notebookContainer) {{\n",
       "    x.observe(notebookContainer, {childList: true});\n",
       "}}\n",
       "\n",
       "// Listen for the clearing of the current output cell\n",
       "var outputEl = gd.closest('.output');\n",
       "if (outputEl) {{\n",
       "    x.observe(outputEl, {childList: true});\n",
       "}}\n",
       "\n",
       "                        })                };                });            </script>        </div>"
      ]
     },
     "metadata": {},
     "output_type": "display_data"
    }
   ],
   "source": [
    "# creating a dummy dataframe\n",
    "flow_by_area = pd.DataFrame({\"Control Area\":[\"Luxembourg\", \"Netherlands\", \"Germany\", \"France\"], \"Mean Physical Flow in MW\": [-234.05,378.23,120.42,-232.09]})\n",
    "\n",
    "#  create the graph - adding color by specificing the color argument with the column score and creating a custom scale (not necessary)\n",
    "fig  = px.bar(data_frame = flow_by_area, x = \"Control Area\", y = \"Mean Physical Flow in MW\", title = \"Physical Flow by Area\", color=\"Mean Physical Flow in MW\",  color_continuous_scale=[\"rgb(0,255,0)\",\"rgb(0,178,238)\"])\n",
    "fig.show()"
   ]
  },
  {
   "cell_type": "markdown",
   "metadata": {},
   "source": [
    "### Scatterplot\n",
    "\n",
    "Scatterplot are pretty useful to observe relationships between variables. It uses dots to represent a (x,y) value pairs. In plotly, you can easily add hover or mouseover effects to display further info on each value pair. But first, let's have a look at the data you are using again: "
   ]
  },
  {
   "cell_type": "code",
   "execution_count": 144,
   "metadata": {},
   "outputs": [
    {
     "data": {
      "text/html": [
       "<div>\n",
       "<style scoped>\n",
       "    .dataframe tbody tr th:only-of-type {\n",
       "        vertical-align: middle;\n",
       "    }\n",
       "\n",
       "    .dataframe tbody tr th {\n",
       "        vertical-align: top;\n",
       "    }\n",
       "\n",
       "    .dataframe thead th {\n",
       "        text-align: right;\n",
       "    }\n",
       "</style>\n",
       "<table border=\"1\" class=\"dataframe\">\n",
       "  <thead>\n",
       "    <tr style=\"text-align: right;\">\n",
       "      <th></th>\n",
       "      <th>Datetime</th>\n",
       "      <th>Resolution code</th>\n",
       "      <th>Control area</th>\n",
       "      <th>Physical Flow Value</th>\n",
       "    </tr>\n",
       "  </thead>\n",
       "  <tbody>\n",
       "    <tr>\n",
       "      <th>0</th>\n",
       "      <td>2021-12-01 23:45:00+01:00</td>\n",
       "      <td>PT15M</td>\n",
       "      <td>Netherlands</td>\n",
       "      <td>-419.704</td>\n",
       "    </tr>\n",
       "    <tr>\n",
       "      <th>1</th>\n",
       "      <td>2021-12-01 23:45:00+01:00</td>\n",
       "      <td>PT15M</td>\n",
       "      <td>UnitedKingdom</td>\n",
       "      <td>1021.774</td>\n",
       "    </tr>\n",
       "    <tr>\n",
       "      <th>2</th>\n",
       "      <td>2021-12-01 23:45:00+01:00</td>\n",
       "      <td>PT15M</td>\n",
       "      <td>Luxembourg</td>\n",
       "      <td>-53.708</td>\n",
       "    </tr>\n",
       "    <tr>\n",
       "      <th>3</th>\n",
       "      <td>2021-12-01 23:45:00+01:00</td>\n",
       "      <td>PT15M</td>\n",
       "      <td>Germany</td>\n",
       "      <td>-1001.788</td>\n",
       "    </tr>\n",
       "    <tr>\n",
       "      <th>4</th>\n",
       "      <td>2021-12-01 23:45:00+01:00</td>\n",
       "      <td>PT15M</td>\n",
       "      <td>France</td>\n",
       "      <td>581.908</td>\n",
       "    </tr>\n",
       "  </tbody>\n",
       "</table>\n",
       "</div>"
      ],
      "text/plain": [
       "                   Datetime Resolution code   Control area  \\\n",
       "0 2021-12-01 23:45:00+01:00           PT15M    Netherlands   \n",
       "1 2021-12-01 23:45:00+01:00           PT15M  UnitedKingdom   \n",
       "2 2021-12-01 23:45:00+01:00           PT15M     Luxembourg   \n",
       "3 2021-12-01 23:45:00+01:00           PT15M        Germany   \n",
       "4 2021-12-01 23:45:00+01:00           PT15M         France   \n",
       "\n",
       "   Physical Flow Value  \n",
       "0             -419.704  \n",
       "1             1021.774  \n",
       "2              -53.708  \n",
       "3            -1001.788  \n",
       "4              581.908  "
      ]
     },
     "execution_count": 144,
     "metadata": {},
     "output_type": "execute_result"
    }
   ],
   "source": [
    "energy_borders_2.head()"
   ]
  },
  {
   "cell_type": "code",
   "execution_count": 151,
   "metadata": {},
   "outputs": [
    {
     "data": {
      "application/vnd.plotly.v1+json": {
       "config": {
        "plotlyServerURL": "https://plot.ly"
       },
       "data": [
        {
         "customdata": [
          [
           "PT15M",
           "Netherlands"
          ],
          [
           "PT15M",
           "Netherlands"
          ],
          [
           "PT15M",
           "Netherlands"
          ],
          [
           "PT15M",
           "Netherlands"
          ],
          [
           "PT15M",
           "Netherlands"
          ],
          [
           "PT15M",
           "Netherlands"
          ],
          [
           "PT15M",
           "Netherlands"
          ],
          [
           "PT15M",
           "Netherlands"
          ],
          [
           "PT15M",
           "Netherlands"
          ],
          [
           "PT15M",
           "Netherlands"
          ],
          [
           "PT15M",
           "Netherlands"
          ],
          [
           "PT15M",
           "Netherlands"
          ],
          [
           "PT15M",
           "Netherlands"
          ],
          [
           "PT15M",
           "Netherlands"
          ],
          [
           "PT15M",
           "Netherlands"
          ],
          [
           "PT15M",
           "Netherlands"
          ],
          [
           "PT15M",
           "Netherlands"
          ],
          [
           "PT15M",
           "Netherlands"
          ],
          [
           "PT15M",
           "Netherlands"
          ],
          [
           "PT15M",
           "Netherlands"
          ],
          [
           "PT15M",
           "Netherlands"
          ],
          [
           "PT15M",
           "Netherlands"
          ],
          [
           "PT15M",
           "Netherlands"
          ],
          [
           "PT15M",
           "Netherlands"
          ],
          [
           "PT15M",
           "Netherlands"
          ],
          [
           "PT15M",
           "Netherlands"
          ],
          [
           "PT15M",
           "Netherlands"
          ],
          [
           "PT15M",
           "Netherlands"
          ],
          [
           "PT15M",
           "Netherlands"
          ],
          [
           "PT15M",
           "Netherlands"
          ],
          [
           "PT15M",
           "Netherlands"
          ],
          [
           "PT15M",
           "Netherlands"
          ],
          [
           "PT15M",
           "Netherlands"
          ],
          [
           "PT15M",
           "Netherlands"
          ],
          [
           "PT15M",
           "Netherlands"
          ],
          [
           "PT15M",
           "Netherlands"
          ],
          [
           "PT15M",
           "Netherlands"
          ],
          [
           "PT15M",
           "Netherlands"
          ],
          [
           "PT15M",
           "Netherlands"
          ],
          [
           "PT15M",
           "Netherlands"
          ],
          [
           "PT15M",
           "Netherlands"
          ],
          [
           "PT15M",
           "Netherlands"
          ],
          [
           "PT15M",
           "Netherlands"
          ],
          [
           "PT15M",
           "Netherlands"
          ],
          [
           "PT15M",
           "Netherlands"
          ],
          [
           "PT15M",
           "Netherlands"
          ],
          [
           "PT15M",
           "Netherlands"
          ],
          [
           "PT15M",
           "Netherlands"
          ],
          [
           "PT15M",
           "Netherlands"
          ],
          [
           "PT15M",
           "Netherlands"
          ],
          [
           "PT15M",
           "Netherlands"
          ],
          [
           "PT15M",
           "Netherlands"
          ],
          [
           "PT15M",
           "Netherlands"
          ],
          [
           "PT15M",
           "Netherlands"
          ],
          [
           "PT15M",
           "Netherlands"
          ],
          [
           "PT15M",
           "Netherlands"
          ],
          [
           "PT15M",
           "Netherlands"
          ],
          [
           "PT15M",
           "Netherlands"
          ],
          [
           "PT15M",
           "Netherlands"
          ],
          [
           "PT15M",
           "Netherlands"
          ],
          [
           "PT15M",
           "Netherlands"
          ],
          [
           "PT15M",
           "Netherlands"
          ],
          [
           "PT15M",
           "Netherlands"
          ],
          [
           "PT15M",
           "Netherlands"
          ],
          [
           "PT15M",
           "Netherlands"
          ],
          [
           "PT15M",
           "Netherlands"
          ],
          [
           "PT15M",
           "Netherlands"
          ],
          [
           "PT15M",
           "Netherlands"
          ],
          [
           "PT15M",
           "Netherlands"
          ],
          [
           "PT15M",
           "Netherlands"
          ],
          [
           "PT15M",
           "Netherlands"
          ],
          [
           "PT15M",
           "Netherlands"
          ],
          [
           "PT15M",
           "Netherlands"
          ],
          [
           "PT15M",
           "Netherlands"
          ],
          [
           "PT15M",
           "Netherlands"
          ],
          [
           "PT15M",
           "Netherlands"
          ],
          [
           "PT15M",
           "Netherlands"
          ],
          [
           "PT15M",
           "Netherlands"
          ],
          [
           "PT15M",
           "Netherlands"
          ],
          [
           "PT15M",
           "Netherlands"
          ],
          [
           "PT15M",
           "Netherlands"
          ],
          [
           "PT15M",
           "Netherlands"
          ],
          [
           "PT15M",
           "Netherlands"
          ],
          [
           "PT15M",
           "Netherlands"
          ],
          [
           "PT15M",
           "Netherlands"
          ],
          [
           "PT15M",
           "Netherlands"
          ],
          [
           "PT15M",
           "Netherlands"
          ],
          [
           "PT15M",
           "Netherlands"
          ],
          [
           "PT15M",
           "Netherlands"
          ],
          [
           "PT15M",
           "Netherlands"
          ],
          [
           "PT15M",
           "Netherlands"
          ],
          [
           "PT15M",
           "Netherlands"
          ],
          [
           "PT15M",
           "Netherlands"
          ],
          [
           "PT15M",
           "Netherlands"
          ],
          [
           "PT15M",
           "Netherlands"
          ],
          [
           "PT15M",
           "Netherlands"
          ]
         ],
         "hovertemplate": "<b>%{hovertext}</b><br><br>Control area=%{customdata[1]}<br>Datetime=%{x}<br>Physical Flow Value=%{y}<br>Resolution code=%{customdata[0]}<extra></extra>",
         "hovertext": [
          "Netherlands",
          "Netherlands",
          "Netherlands",
          "Netherlands",
          "Netherlands",
          "Netherlands",
          "Netherlands",
          "Netherlands",
          "Netherlands",
          "Netherlands",
          "Netherlands",
          "Netherlands",
          "Netherlands",
          "Netherlands",
          "Netherlands",
          "Netherlands",
          "Netherlands",
          "Netherlands",
          "Netherlands",
          "Netherlands",
          "Netherlands",
          "Netherlands",
          "Netherlands",
          "Netherlands",
          "Netherlands",
          "Netherlands",
          "Netherlands",
          "Netherlands",
          "Netherlands",
          "Netherlands",
          "Netherlands",
          "Netherlands",
          "Netherlands",
          "Netherlands",
          "Netherlands",
          "Netherlands",
          "Netherlands",
          "Netherlands",
          "Netherlands",
          "Netherlands",
          "Netherlands",
          "Netherlands",
          "Netherlands",
          "Netherlands",
          "Netherlands",
          "Netherlands",
          "Netherlands",
          "Netherlands",
          "Netherlands",
          "Netherlands",
          "Netherlands",
          "Netherlands",
          "Netherlands",
          "Netherlands",
          "Netherlands",
          "Netherlands",
          "Netherlands",
          "Netherlands",
          "Netherlands",
          "Netherlands",
          "Netherlands",
          "Netherlands",
          "Netherlands",
          "Netherlands",
          "Netherlands",
          "Netherlands",
          "Netherlands",
          "Netherlands",
          "Netherlands",
          "Netherlands",
          "Netherlands",
          "Netherlands",
          "Netherlands",
          "Netherlands",
          "Netherlands",
          "Netherlands",
          "Netherlands",
          "Netherlands",
          "Netherlands",
          "Netherlands",
          "Netherlands",
          "Netherlands",
          "Netherlands",
          "Netherlands",
          "Netherlands",
          "Netherlands",
          "Netherlands",
          "Netherlands",
          "Netherlands",
          "Netherlands",
          "Netherlands",
          "Netherlands",
          "Netherlands",
          "Netherlands",
          "Netherlands",
          "Netherlands"
         ],
         "legendgroup": "Netherlands",
         "marker": {
          "color": "#636efa",
          "symbol": "circle"
         },
         "mode": "markers",
         "name": "Netherlands",
         "orientation": "v",
         "showlegend": true,
         "type": "scatter",
         "x": [
          "2021-12-01T23:45:00+01:00",
          "2021-12-01T23:30:00+01:00",
          "2021-12-01T23:15:00+01:00",
          "2021-12-01T23:00:00+01:00",
          "2021-12-01T22:45:00+01:00",
          "2021-12-01T22:30:00+01:00",
          "2021-12-01T22:15:00+01:00",
          "2021-12-01T22:00:00+01:00",
          "2021-12-01T21:45:00+01:00",
          "2021-12-01T21:30:00+01:00",
          "2021-12-01T21:15:00+01:00",
          "2021-12-01T21:00:00+01:00",
          "2021-12-01T20:45:00+01:00",
          "2021-12-01T20:30:00+01:00",
          "2021-12-01T20:15:00+01:00",
          "2021-12-01T20:00:00+01:00",
          "2021-12-01T19:45:00+01:00",
          "2021-12-01T19:30:00+01:00",
          "2021-12-01T19:15:00+01:00",
          "2021-12-01T19:00:00+01:00",
          "2021-12-01T18:45:00+01:00",
          "2021-12-01T18:30:00+01:00",
          "2021-12-01T18:15:00+01:00",
          "2021-12-01T18:00:00+01:00",
          "2021-12-01T17:45:00+01:00",
          "2021-12-01T17:30:00+01:00",
          "2021-12-01T17:15:00+01:00",
          "2021-12-01T17:00:00+01:00",
          "2021-12-01T16:45:00+01:00",
          "2021-12-01T16:30:00+01:00",
          "2021-12-01T16:15:00+01:00",
          "2021-12-01T16:00:00+01:00",
          "2021-12-01T15:45:00+01:00",
          "2021-12-01T15:30:00+01:00",
          "2021-12-01T15:15:00+01:00",
          "2021-12-01T15:00:00+01:00",
          "2021-12-01T14:45:00+01:00",
          "2021-12-01T14:30:00+01:00",
          "2021-12-01T14:15:00+01:00",
          "2021-12-01T14:00:00+01:00",
          "2021-12-01T13:45:00+01:00",
          "2021-12-01T13:30:00+01:00",
          "2021-12-01T13:15:00+01:00",
          "2021-12-01T13:00:00+01:00",
          "2021-12-01T12:45:00+01:00",
          "2021-12-01T12:30:00+01:00",
          "2021-12-01T12:15:00+01:00",
          "2021-12-01T12:00:00+01:00",
          "2021-12-01T11:45:00+01:00",
          "2021-12-01T11:30:00+01:00",
          "2021-12-01T11:15:00+01:00",
          "2021-12-01T11:00:00+01:00",
          "2021-12-01T10:45:00+01:00",
          "2021-12-01T10:30:00+01:00",
          "2021-12-01T10:15:00+01:00",
          "2021-12-01T10:00:00+01:00",
          "2021-12-01T09:45:00+01:00",
          "2021-12-01T09:30:00+01:00",
          "2021-12-01T09:15:00+01:00",
          "2021-12-01T09:00:00+01:00",
          "2021-12-01T08:45:00+01:00",
          "2021-12-01T08:30:00+01:00",
          "2021-12-01T08:15:00+01:00",
          "2021-12-01T08:00:00+01:00",
          "2021-12-01T07:45:00+01:00",
          "2021-12-01T07:30:00+01:00",
          "2021-12-01T07:15:00+01:00",
          "2021-12-01T07:00:00+01:00",
          "2021-12-01T06:45:00+01:00",
          "2021-12-01T06:30:00+01:00",
          "2021-12-01T06:15:00+01:00",
          "2021-12-01T06:00:00+01:00",
          "2021-12-01T05:45:00+01:00",
          "2021-12-01T05:30:00+01:00",
          "2021-12-01T05:15:00+01:00",
          "2021-12-01T05:00:00+01:00",
          "2021-12-01T04:45:00+01:00",
          "2021-12-01T04:30:00+01:00",
          "2021-12-01T04:15:00+01:00",
          "2021-12-01T04:00:00+01:00",
          "2021-12-01T03:45:00+01:00",
          "2021-12-01T03:30:00+01:00",
          "2021-12-01T03:15:00+01:00",
          "2021-12-01T03:00:00+01:00",
          "2021-12-01T02:45:00+01:00",
          "2021-12-01T02:30:00+01:00",
          "2021-12-01T02:15:00+01:00",
          "2021-12-01T02:00:00+01:00",
          "2021-12-01T01:45:00+01:00",
          "2021-12-01T01:30:00+01:00",
          "2021-12-01T01:15:00+01:00",
          "2021-12-01T01:00:00+01:00",
          "2021-12-01T00:45:00+01:00",
          "2021-12-01T00:30:00+01:00",
          "2021-12-01T00:15:00+01:00",
          "2021-12-01T00:00:00+01:00"
         ],
         "xaxis": "x",
         "y": [
          -419.704,
          -494.816,
          -368.288,
          -480.8,
          -613.988,
          -664.408,
          -673.2760000000001,
          -555.82,
          -642.464,
          -652.964,
          -601.76,
          -637.996,
          -521.952,
          -717.3439999999999,
          -688.076,
          -729.34,
          -447.06800000000004,
          -386.62800000000004,
          -471.436,
          -594.2,
          -841.22,
          -752.0239999999999,
          -691.932,
          -638.388,
          -563.2,
          -566.828,
          -511.644,
          -253.86,
          155.89600000000002,
          349.296,
          285.92,
          304.228,
          283.36,
          261.972,
          286.63599999999997,
          195.584,
          407.444,
          452.832,
          442.57599999999996,
          209.672,
          387.836,
          470.296,
          568.4,
          562.6759999999999,
          425.76,
          366.26,
          418.764,
          352.292,
          413.28,
          442.19199999999995,
          535.164,
          430.44,
          535.644,
          522.36,
          380.816,
          410.64,
          389.272,
          284.82,
          329.55199999999996,
          259.30400000000003,
          651.86,
          744.98,
          851.3439999999999,
          808.096,
          499.68800000000005,
          548.964,
          598.672,
          572.216,
          714.06,
          799.824,
          708.544,
          675.628,
          682.6160000000001,
          782.1080000000001,
          781.1560000000001,
          880.1519999999999,
          1169.264,
          1218.38,
          1177.016,
          1087.088,
          957.32,
          904.012,
          1040.688,
          904.68,
          772.8560000000001,
          736.916,
          724.4639999999999,
          719.5360000000001,
          368.392,
          192.15599999999998,
          265.35200000000003,
          241.36,
          -381.348,
          -476.31199999999995,
          -621.188,
          -299.01599999999996
         ],
         "yaxis": "y"
        },
        {
         "customdata": [
          [
           "PT15M",
           "UnitedKingdom"
          ],
          [
           "PT15M",
           "UnitedKingdom"
          ],
          [
           "PT15M",
           "UnitedKingdom"
          ],
          [
           "PT15M",
           "UnitedKingdom"
          ],
          [
           "PT15M",
           "UnitedKingdom"
          ],
          [
           "PT15M",
           "UnitedKingdom"
          ],
          [
           "PT15M",
           "UnitedKingdom"
          ],
          [
           "PT15M",
           "UnitedKingdom"
          ],
          [
           "PT15M",
           "UnitedKingdom"
          ],
          [
           "PT15M",
           "UnitedKingdom"
          ],
          [
           "PT15M",
           "UnitedKingdom"
          ],
          [
           "PT15M",
           "UnitedKingdom"
          ],
          [
           "PT15M",
           "UnitedKingdom"
          ],
          [
           "PT15M",
           "UnitedKingdom"
          ],
          [
           "PT15M",
           "UnitedKingdom"
          ],
          [
           "PT15M",
           "UnitedKingdom"
          ],
          [
           "PT15M",
           "UnitedKingdom"
          ],
          [
           "PT15M",
           "UnitedKingdom"
          ],
          [
           "PT15M",
           "UnitedKingdom"
          ],
          [
           "PT15M",
           "UnitedKingdom"
          ],
          [
           "PT15M",
           "UnitedKingdom"
          ],
          [
           "PT15M",
           "UnitedKingdom"
          ],
          [
           "PT15M",
           "UnitedKingdom"
          ],
          [
           "PT15M",
           "UnitedKingdom"
          ],
          [
           "PT15M",
           "UnitedKingdom"
          ],
          [
           "PT15M",
           "UnitedKingdom"
          ],
          [
           "PT15M",
           "UnitedKingdom"
          ],
          [
           "PT15M",
           "UnitedKingdom"
          ],
          [
           "PT15M",
           "UnitedKingdom"
          ],
          [
           "PT15M",
           "UnitedKingdom"
          ],
          [
           "PT15M",
           "UnitedKingdom"
          ],
          [
           "PT15M",
           "UnitedKingdom"
          ],
          [
           "PT15M",
           "UnitedKingdom"
          ],
          [
           "PT15M",
           "UnitedKingdom"
          ],
          [
           "PT15M",
           "UnitedKingdom"
          ],
          [
           "PT15M",
           "UnitedKingdom"
          ],
          [
           "PT15M",
           "UnitedKingdom"
          ],
          [
           "PT15M",
           "UnitedKingdom"
          ],
          [
           "PT15M",
           "UnitedKingdom"
          ],
          [
           "PT15M",
           "UnitedKingdom"
          ],
          [
           "PT15M",
           "UnitedKingdom"
          ],
          [
           "PT15M",
           "UnitedKingdom"
          ],
          [
           "PT15M",
           "UnitedKingdom"
          ],
          [
           "PT15M",
           "UnitedKingdom"
          ],
          [
           "PT15M",
           "UnitedKingdom"
          ],
          [
           "PT15M",
           "UnitedKingdom"
          ],
          [
           "PT15M",
           "UnitedKingdom"
          ],
          [
           "PT15M",
           "UnitedKingdom"
          ],
          [
           "PT15M",
           "UnitedKingdom"
          ],
          [
           "PT15M",
           "UnitedKingdom"
          ],
          [
           "PT15M",
           "UnitedKingdom"
          ],
          [
           "PT15M",
           "UnitedKingdom"
          ],
          [
           "PT15M",
           "UnitedKingdom"
          ],
          [
           "PT15M",
           "UnitedKingdom"
          ],
          [
           "PT15M",
           "UnitedKingdom"
          ],
          [
           "PT15M",
           "UnitedKingdom"
          ],
          [
           "PT15M",
           "UnitedKingdom"
          ],
          [
           "PT15M",
           "UnitedKingdom"
          ],
          [
           "PT15M",
           "UnitedKingdom"
          ],
          [
           "PT15M",
           "UnitedKingdom"
          ],
          [
           "PT15M",
           "UnitedKingdom"
          ],
          [
           "PT15M",
           "UnitedKingdom"
          ],
          [
           "PT15M",
           "UnitedKingdom"
          ],
          [
           "PT15M",
           "UnitedKingdom"
          ],
          [
           "PT15M",
           "UnitedKingdom"
          ],
          [
           "PT15M",
           "UnitedKingdom"
          ],
          [
           "PT15M",
           "UnitedKingdom"
          ],
          [
           "PT15M",
           "UnitedKingdom"
          ],
          [
           "PT15M",
           "UnitedKingdom"
          ],
          [
           "PT15M",
           "UnitedKingdom"
          ],
          [
           "PT15M",
           "UnitedKingdom"
          ],
          [
           "PT15M",
           "UnitedKingdom"
          ],
          [
           "PT15M",
           "UnitedKingdom"
          ],
          [
           "PT15M",
           "UnitedKingdom"
          ],
          [
           "PT15M",
           "UnitedKingdom"
          ],
          [
           "PT15M",
           "UnitedKingdom"
          ],
          [
           "PT15M",
           "UnitedKingdom"
          ],
          [
           "PT15M",
           "UnitedKingdom"
          ],
          [
           "PT15M",
           "UnitedKingdom"
          ],
          [
           "PT15M",
           "UnitedKingdom"
          ],
          [
           "PT15M",
           "UnitedKingdom"
          ],
          [
           "PT15M",
           "UnitedKingdom"
          ],
          [
           "PT15M",
           "UnitedKingdom"
          ],
          [
           "PT15M",
           "UnitedKingdom"
          ],
          [
           "PT15M",
           "UnitedKingdom"
          ],
          [
           "PT15M",
           "UnitedKingdom"
          ],
          [
           "PT15M",
           "UnitedKingdom"
          ],
          [
           "PT15M",
           "UnitedKingdom"
          ],
          [
           "PT15M",
           "UnitedKingdom"
          ],
          [
           "PT15M",
           "UnitedKingdom"
          ],
          [
           "PT15M",
           "UnitedKingdom"
          ],
          [
           "PT15M",
           "UnitedKingdom"
          ],
          [
           "PT15M",
           "UnitedKingdom"
          ],
          [
           "PT15M",
           "UnitedKingdom"
          ],
          [
           "PT15M",
           "UnitedKingdom"
          ],
          [
           "PT15M",
           "UnitedKingdom"
          ]
         ],
         "hovertemplate": "<b>%{hovertext}</b><br><br>Control area=%{customdata[1]}<br>Datetime=%{x}<br>Physical Flow Value=%{y}<br>Resolution code=%{customdata[0]}<extra></extra>",
         "hovertext": [
          "UnitedKingdom",
          "UnitedKingdom",
          "UnitedKingdom",
          "UnitedKingdom",
          "UnitedKingdom",
          "UnitedKingdom",
          "UnitedKingdom",
          "UnitedKingdom",
          "UnitedKingdom",
          "UnitedKingdom",
          "UnitedKingdom",
          "UnitedKingdom",
          "UnitedKingdom",
          "UnitedKingdom",
          "UnitedKingdom",
          "UnitedKingdom",
          "UnitedKingdom",
          "UnitedKingdom",
          "UnitedKingdom",
          "UnitedKingdom",
          "UnitedKingdom",
          "UnitedKingdom",
          "UnitedKingdom",
          "UnitedKingdom",
          "UnitedKingdom",
          "UnitedKingdom",
          "UnitedKingdom",
          "UnitedKingdom",
          "UnitedKingdom",
          "UnitedKingdom",
          "UnitedKingdom",
          "UnitedKingdom",
          "UnitedKingdom",
          "UnitedKingdom",
          "UnitedKingdom",
          "UnitedKingdom",
          "UnitedKingdom",
          "UnitedKingdom",
          "UnitedKingdom",
          "UnitedKingdom",
          "UnitedKingdom",
          "UnitedKingdom",
          "UnitedKingdom",
          "UnitedKingdom",
          "UnitedKingdom",
          "UnitedKingdom",
          "UnitedKingdom",
          "UnitedKingdom",
          "UnitedKingdom",
          "UnitedKingdom",
          "UnitedKingdom",
          "UnitedKingdom",
          "UnitedKingdom",
          "UnitedKingdom",
          "UnitedKingdom",
          "UnitedKingdom",
          "UnitedKingdom",
          "UnitedKingdom",
          "UnitedKingdom",
          "UnitedKingdom",
          "UnitedKingdom",
          "UnitedKingdom",
          "UnitedKingdom",
          "UnitedKingdom",
          "UnitedKingdom",
          "UnitedKingdom",
          "UnitedKingdom",
          "UnitedKingdom",
          "UnitedKingdom",
          "UnitedKingdom",
          "UnitedKingdom",
          "UnitedKingdom",
          "UnitedKingdom",
          "UnitedKingdom",
          "UnitedKingdom",
          "UnitedKingdom",
          "UnitedKingdom",
          "UnitedKingdom",
          "UnitedKingdom",
          "UnitedKingdom",
          "UnitedKingdom",
          "UnitedKingdom",
          "UnitedKingdom",
          "UnitedKingdom",
          "UnitedKingdom",
          "UnitedKingdom",
          "UnitedKingdom",
          "UnitedKingdom",
          "UnitedKingdom",
          "UnitedKingdom",
          "UnitedKingdom",
          "UnitedKingdom",
          "UnitedKingdom",
          "UnitedKingdom",
          "UnitedKingdom",
          "UnitedKingdom"
         ],
         "legendgroup": "UnitedKingdom",
         "marker": {
          "color": "#EF553B",
          "symbol": "circle"
         },
         "mode": "markers",
         "name": "UnitedKingdom",
         "orientation": "v",
         "showlegend": true,
         "type": "scatter",
         "x": [
          "2021-12-01T23:45:00+01:00",
          "2021-12-01T23:30:00+01:00",
          "2021-12-01T23:15:00+01:00",
          "2021-12-01T23:00:00+01:00",
          "2021-12-01T22:45:00+01:00",
          "2021-12-01T22:30:00+01:00",
          "2021-12-01T22:15:00+01:00",
          "2021-12-01T22:00:00+01:00",
          "2021-12-01T21:45:00+01:00",
          "2021-12-01T21:30:00+01:00",
          "2021-12-01T21:15:00+01:00",
          "2021-12-01T21:00:00+01:00",
          "2021-12-01T20:45:00+01:00",
          "2021-12-01T20:30:00+01:00",
          "2021-12-01T20:15:00+01:00",
          "2021-12-01T20:00:00+01:00",
          "2021-12-01T19:45:00+01:00",
          "2021-12-01T19:30:00+01:00",
          "2021-12-01T19:15:00+01:00",
          "2021-12-01T19:00:00+01:00",
          "2021-12-01T18:45:00+01:00",
          "2021-12-01T18:30:00+01:00",
          "2021-12-01T18:15:00+01:00",
          "2021-12-01T18:00:00+01:00",
          "2021-12-01T17:45:00+01:00",
          "2021-12-01T17:30:00+01:00",
          "2021-12-01T17:15:00+01:00",
          "2021-12-01T17:00:00+01:00",
          "2021-12-01T16:45:00+01:00",
          "2021-12-01T16:30:00+01:00",
          "2021-12-01T16:15:00+01:00",
          "2021-12-01T16:00:00+01:00",
          "2021-12-01T15:45:00+01:00",
          "2021-12-01T15:30:00+01:00",
          "2021-12-01T15:15:00+01:00",
          "2021-12-01T15:00:00+01:00",
          "2021-12-01T14:45:00+01:00",
          "2021-12-01T14:30:00+01:00",
          "2021-12-01T14:15:00+01:00",
          "2021-12-01T14:00:00+01:00",
          "2021-12-01T13:45:00+01:00",
          "2021-12-01T13:30:00+01:00",
          "2021-12-01T13:15:00+01:00",
          "2021-12-01T13:00:00+01:00",
          "2021-12-01T12:45:00+01:00",
          "2021-12-01T12:30:00+01:00",
          "2021-12-01T12:15:00+01:00",
          "2021-12-01T12:00:00+01:00",
          "2021-12-01T11:45:00+01:00",
          "2021-12-01T11:30:00+01:00",
          "2021-12-01T11:15:00+01:00",
          "2021-12-01T11:00:00+01:00",
          "2021-12-01T10:45:00+01:00",
          "2021-12-01T10:30:00+01:00",
          "2021-12-01T10:15:00+01:00",
          "2021-12-01T10:00:00+01:00",
          "2021-12-01T09:45:00+01:00",
          "2021-12-01T09:30:00+01:00",
          "2021-12-01T09:15:00+01:00",
          "2021-12-01T09:00:00+01:00",
          "2021-12-01T08:45:00+01:00",
          "2021-12-01T08:30:00+01:00",
          "2021-12-01T08:15:00+01:00",
          "2021-12-01T08:00:00+01:00",
          "2021-12-01T07:45:00+01:00",
          "2021-12-01T07:30:00+01:00",
          "2021-12-01T07:15:00+01:00",
          "2021-12-01T07:00:00+01:00",
          "2021-12-01T06:45:00+01:00",
          "2021-12-01T06:30:00+01:00",
          "2021-12-01T06:15:00+01:00",
          "2021-12-01T06:00:00+01:00",
          "2021-12-01T05:45:00+01:00",
          "2021-12-01T05:30:00+01:00",
          "2021-12-01T05:15:00+01:00",
          "2021-12-01T05:00:00+01:00",
          "2021-12-01T04:45:00+01:00",
          "2021-12-01T04:30:00+01:00",
          "2021-12-01T04:15:00+01:00",
          "2021-12-01T04:00:00+01:00",
          "2021-12-01T03:45:00+01:00",
          "2021-12-01T03:30:00+01:00",
          "2021-12-01T03:15:00+01:00",
          "2021-12-01T03:00:00+01:00",
          "2021-12-01T02:45:00+01:00",
          "2021-12-01T02:30:00+01:00",
          "2021-12-01T02:15:00+01:00",
          "2021-12-01T02:00:00+01:00",
          "2021-12-01T01:45:00+01:00",
          "2021-12-01T01:30:00+01:00",
          "2021-12-01T01:15:00+01:00",
          "2021-12-01T01:00:00+01:00",
          "2021-12-01T00:45:00+01:00",
          "2021-12-01T00:30:00+01:00",
          "2021-12-01T00:15:00+01:00",
          "2021-12-01T00:00:00+01:00"
         ],
         "xaxis": "x",
         "y": [
          1021.7739999999999,
          1023.455,
          1023.362,
          1022.415,
          900.567,
          899.155,
          899.2760000000001,
          900.437,
          1024.272,
          1025.628,
          1025.405,
          1025.5539999999999,
          1044.2089999999998,
          1044.181,
          1044.32,
          1044.2089999999998,
          1044.2830000000001,
          1044.274,
          1044.292,
          1044.292,
          1044.2830000000001,
          1044.302,
          1044.237,
          1044.19,
          1044.33,
          1044.2,
          1044.172,
          1041.813,
          871.743,
          869.2080000000001,
          869.2360000000001,
          869.543,
          925.945,
          926.084,
          926.065,
          926.1489999999999,
          909.5369999999999,
          909.732,
          909.5089999999999,
          903.696,
          641.966,
          635.874,
          635.967,
          636.376,
          724.5169999999999,
          725.13,
          725.12,
          728.0360000000001,
          914.895,
          917.8939999999999,
          917.829,
          916.919,
          803.53,
          802.295,
          802.415,
          804.3,
          959.216,
          961.4069999999999,
          961.2769999999999,
          935.166,
          417.13800000000003,
          390.849,
          390.72900000000004,
          417.574,
          944.052,
          971.529,
          971.566,
          970.804,
          867.008,
          866.3480000000001,
          866.237,
          839.7819999999999,
          321.577,
          295.159,
          295.168,
          293.116,
          139.306,
          137.27200000000002,
          137.282,
          143.067,
          403.785,
          409.978,
          410.043,
          438.92199999999997,
          982.467,
          1012.043,
          1011.9960000000001,
          1012.061,
          1023.427,
          1023.3439999999999,
          1023.529,
          1023.362,
          1023.566,
          1023.4830000000001,
          1023.585,
          1022.926
         ],
         "yaxis": "y"
        },
        {
         "customdata": [
          [
           "PT15M",
           "Luxembourg"
          ],
          [
           "PT15M",
           "Luxembourg"
          ],
          [
           "PT15M",
           "Luxembourg"
          ],
          [
           "PT15M",
           "Luxembourg"
          ],
          [
           "PT15M",
           "Luxembourg"
          ],
          [
           "PT15M",
           "Luxembourg"
          ],
          [
           "PT15M",
           "Luxembourg"
          ],
          [
           "PT15M",
           "Luxembourg"
          ],
          [
           "PT15M",
           "Luxembourg"
          ],
          [
           "PT15M",
           "Luxembourg"
          ],
          [
           "PT15M",
           "Luxembourg"
          ],
          [
           "PT15M",
           "Luxembourg"
          ],
          [
           "PT15M",
           "Luxembourg"
          ],
          [
           "PT15M",
           "Luxembourg"
          ],
          [
           "PT15M",
           "Luxembourg"
          ],
          [
           "PT15M",
           "Luxembourg"
          ],
          [
           "PT15M",
           "Luxembourg"
          ],
          [
           "PT15M",
           "Luxembourg"
          ],
          [
           "PT15M",
           "Luxembourg"
          ],
          [
           "PT15M",
           "Luxembourg"
          ],
          [
           "PT15M",
           "Luxembourg"
          ],
          [
           "PT15M",
           "Luxembourg"
          ],
          [
           "PT15M",
           "Luxembourg"
          ],
          [
           "PT15M",
           "Luxembourg"
          ],
          [
           "PT15M",
           "Luxembourg"
          ],
          [
           "PT15M",
           "Luxembourg"
          ],
          [
           "PT15M",
           "Luxembourg"
          ],
          [
           "PT15M",
           "Luxembourg"
          ],
          [
           "PT15M",
           "Luxembourg"
          ],
          [
           "PT15M",
           "Luxembourg"
          ],
          [
           "PT15M",
           "Luxembourg"
          ],
          [
           "PT15M",
           "Luxembourg"
          ],
          [
           "PT15M",
           "Luxembourg"
          ],
          [
           "PT15M",
           "Luxembourg"
          ],
          [
           "PT15M",
           "Luxembourg"
          ],
          [
           "PT15M",
           "Luxembourg"
          ],
          [
           "PT15M",
           "Luxembourg"
          ],
          [
           "PT15M",
           "Luxembourg"
          ],
          [
           "PT15M",
           "Luxembourg"
          ],
          [
           "PT15M",
           "Luxembourg"
          ],
          [
           "PT15M",
           "Luxembourg"
          ],
          [
           "PT15M",
           "Luxembourg"
          ],
          [
           "PT15M",
           "Luxembourg"
          ],
          [
           "PT15M",
           "Luxembourg"
          ],
          [
           "PT15M",
           "Luxembourg"
          ],
          [
           "PT15M",
           "Luxembourg"
          ],
          [
           "PT15M",
           "Luxembourg"
          ],
          [
           "PT15M",
           "Luxembourg"
          ],
          [
           "PT15M",
           "Luxembourg"
          ],
          [
           "PT15M",
           "Luxembourg"
          ],
          [
           "PT15M",
           "Luxembourg"
          ],
          [
           "PT15M",
           "Luxembourg"
          ],
          [
           "PT15M",
           "Luxembourg"
          ],
          [
           "PT15M",
           "Luxembourg"
          ],
          [
           "PT15M",
           "Luxembourg"
          ],
          [
           "PT15M",
           "Luxembourg"
          ],
          [
           "PT15M",
           "Luxembourg"
          ],
          [
           "PT15M",
           "Luxembourg"
          ],
          [
           "PT15M",
           "Luxembourg"
          ],
          [
           "PT15M",
           "Luxembourg"
          ],
          [
           "PT15M",
           "Luxembourg"
          ],
          [
           "PT15M",
           "Luxembourg"
          ],
          [
           "PT15M",
           "Luxembourg"
          ],
          [
           "PT15M",
           "Luxembourg"
          ],
          [
           "PT15M",
           "Luxembourg"
          ],
          [
           "PT15M",
           "Luxembourg"
          ],
          [
           "PT15M",
           "Luxembourg"
          ],
          [
           "PT15M",
           "Luxembourg"
          ],
          [
           "PT15M",
           "Luxembourg"
          ],
          [
           "PT15M",
           "Luxembourg"
          ],
          [
           "PT15M",
           "Luxembourg"
          ],
          [
           "PT15M",
           "Luxembourg"
          ],
          [
           "PT15M",
           "Luxembourg"
          ],
          [
           "PT15M",
           "Luxembourg"
          ],
          [
           "PT15M",
           "Luxembourg"
          ],
          [
           "PT15M",
           "Luxembourg"
          ],
          [
           "PT15M",
           "Luxembourg"
          ],
          [
           "PT15M",
           "Luxembourg"
          ],
          [
           "PT15M",
           "Luxembourg"
          ],
          [
           "PT15M",
           "Luxembourg"
          ],
          [
           "PT15M",
           "Luxembourg"
          ],
          [
           "PT15M",
           "Luxembourg"
          ],
          [
           "PT15M",
           "Luxembourg"
          ],
          [
           "PT15M",
           "Luxembourg"
          ],
          [
           "PT15M",
           "Luxembourg"
          ],
          [
           "PT15M",
           "Luxembourg"
          ],
          [
           "PT15M",
           "Luxembourg"
          ],
          [
           "PT15M",
           "Luxembourg"
          ],
          [
           "PT15M",
           "Luxembourg"
          ],
          [
           "PT15M",
           "Luxembourg"
          ],
          [
           "PT15M",
           "Luxembourg"
          ],
          [
           "PT15M",
           "Luxembourg"
          ],
          [
           "PT15M",
           "Luxembourg"
          ],
          [
           "PT15M",
           "Luxembourg"
          ],
          [
           "PT15M",
           "Luxembourg"
          ],
          [
           "PT15M",
           "Luxembourg"
          ]
         ],
         "hovertemplate": "<b>%{hovertext}</b><br><br>Control area=%{customdata[1]}<br>Datetime=%{x}<br>Physical Flow Value=%{y}<br>Resolution code=%{customdata[0]}<extra></extra>",
         "hovertext": [
          "Luxembourg",
          "Luxembourg",
          "Luxembourg",
          "Luxembourg",
          "Luxembourg",
          "Luxembourg",
          "Luxembourg",
          "Luxembourg",
          "Luxembourg",
          "Luxembourg",
          "Luxembourg",
          "Luxembourg",
          "Luxembourg",
          "Luxembourg",
          "Luxembourg",
          "Luxembourg",
          "Luxembourg",
          "Luxembourg",
          "Luxembourg",
          "Luxembourg",
          "Luxembourg",
          "Luxembourg",
          "Luxembourg",
          "Luxembourg",
          "Luxembourg",
          "Luxembourg",
          "Luxembourg",
          "Luxembourg",
          "Luxembourg",
          "Luxembourg",
          "Luxembourg",
          "Luxembourg",
          "Luxembourg",
          "Luxembourg",
          "Luxembourg",
          "Luxembourg",
          "Luxembourg",
          "Luxembourg",
          "Luxembourg",
          "Luxembourg",
          "Luxembourg",
          "Luxembourg",
          "Luxembourg",
          "Luxembourg",
          "Luxembourg",
          "Luxembourg",
          "Luxembourg",
          "Luxembourg",
          "Luxembourg",
          "Luxembourg",
          "Luxembourg",
          "Luxembourg",
          "Luxembourg",
          "Luxembourg",
          "Luxembourg",
          "Luxembourg",
          "Luxembourg",
          "Luxembourg",
          "Luxembourg",
          "Luxembourg",
          "Luxembourg",
          "Luxembourg",
          "Luxembourg",
          "Luxembourg",
          "Luxembourg",
          "Luxembourg",
          "Luxembourg",
          "Luxembourg",
          "Luxembourg",
          "Luxembourg",
          "Luxembourg",
          "Luxembourg",
          "Luxembourg",
          "Luxembourg",
          "Luxembourg",
          "Luxembourg",
          "Luxembourg",
          "Luxembourg",
          "Luxembourg",
          "Luxembourg",
          "Luxembourg",
          "Luxembourg",
          "Luxembourg",
          "Luxembourg",
          "Luxembourg",
          "Luxembourg",
          "Luxembourg",
          "Luxembourg",
          "Luxembourg",
          "Luxembourg",
          "Luxembourg",
          "Luxembourg",
          "Luxembourg",
          "Luxembourg",
          "Luxembourg",
          "Luxembourg"
         ],
         "legendgroup": "Luxembourg",
         "marker": {
          "color": "#00cc96",
          "symbol": "circle"
         },
         "mode": "markers",
         "name": "Luxembourg",
         "orientation": "v",
         "showlegend": true,
         "type": "scatter",
         "x": [
          "2021-12-01T23:45:00+01:00",
          "2021-12-01T23:30:00+01:00",
          "2021-12-01T23:15:00+01:00",
          "2021-12-01T23:00:00+01:00",
          "2021-12-01T22:45:00+01:00",
          "2021-12-01T22:30:00+01:00",
          "2021-12-01T22:15:00+01:00",
          "2021-12-01T22:00:00+01:00",
          "2021-12-01T21:45:00+01:00",
          "2021-12-01T21:30:00+01:00",
          "2021-12-01T21:15:00+01:00",
          "2021-12-01T21:00:00+01:00",
          "2021-12-01T20:45:00+01:00",
          "2021-12-01T20:30:00+01:00",
          "2021-12-01T20:15:00+01:00",
          "2021-12-01T20:00:00+01:00",
          "2021-12-01T19:45:00+01:00",
          "2021-12-01T19:30:00+01:00",
          "2021-12-01T19:15:00+01:00",
          "2021-12-01T19:00:00+01:00",
          "2021-12-01T18:45:00+01:00",
          "2021-12-01T18:30:00+01:00",
          "2021-12-01T18:15:00+01:00",
          "2021-12-01T18:00:00+01:00",
          "2021-12-01T17:45:00+01:00",
          "2021-12-01T17:30:00+01:00",
          "2021-12-01T17:15:00+01:00",
          "2021-12-01T17:00:00+01:00",
          "2021-12-01T16:45:00+01:00",
          "2021-12-01T16:30:00+01:00",
          "2021-12-01T16:15:00+01:00",
          "2021-12-01T16:00:00+01:00",
          "2021-12-01T15:45:00+01:00",
          "2021-12-01T15:30:00+01:00",
          "2021-12-01T15:15:00+01:00",
          "2021-12-01T15:00:00+01:00",
          "2021-12-01T14:45:00+01:00",
          "2021-12-01T14:30:00+01:00",
          "2021-12-01T14:15:00+01:00",
          "2021-12-01T14:00:00+01:00",
          "2021-12-01T13:45:00+01:00",
          "2021-12-01T13:30:00+01:00",
          "2021-12-01T13:15:00+01:00",
          "2021-12-01T13:00:00+01:00",
          "2021-12-01T12:45:00+01:00",
          "2021-12-01T12:30:00+01:00",
          "2021-12-01T12:15:00+01:00",
          "2021-12-01T12:00:00+01:00",
          "2021-12-01T11:45:00+01:00",
          "2021-12-01T11:30:00+01:00",
          "2021-12-01T11:15:00+01:00",
          "2021-12-01T11:00:00+01:00",
          "2021-12-01T10:45:00+01:00",
          "2021-12-01T10:30:00+01:00",
          "2021-12-01T10:15:00+01:00",
          "2021-12-01T10:00:00+01:00",
          "2021-12-01T09:45:00+01:00",
          "2021-12-01T09:30:00+01:00",
          "2021-12-01T09:15:00+01:00",
          "2021-12-01T09:00:00+01:00",
          "2021-12-01T08:45:00+01:00",
          "2021-12-01T08:30:00+01:00",
          "2021-12-01T08:15:00+01:00",
          "2021-12-01T08:00:00+01:00",
          "2021-12-01T07:45:00+01:00",
          "2021-12-01T07:30:00+01:00",
          "2021-12-01T07:15:00+01:00",
          "2021-12-01T07:00:00+01:00",
          "2021-12-01T06:45:00+01:00",
          "2021-12-01T06:30:00+01:00",
          "2021-12-01T06:15:00+01:00",
          "2021-12-01T06:00:00+01:00",
          "2021-12-01T05:45:00+01:00",
          "2021-12-01T05:30:00+01:00",
          "2021-12-01T05:15:00+01:00",
          "2021-12-01T05:00:00+01:00",
          "2021-12-01T04:45:00+01:00",
          "2021-12-01T04:30:00+01:00",
          "2021-12-01T04:15:00+01:00",
          "2021-12-01T04:00:00+01:00",
          "2021-12-01T03:45:00+01:00",
          "2021-12-01T03:30:00+01:00",
          "2021-12-01T03:15:00+01:00",
          "2021-12-01T03:00:00+01:00",
          "2021-12-01T02:45:00+01:00",
          "2021-12-01T02:30:00+01:00",
          "2021-12-01T02:15:00+01:00",
          "2021-12-01T02:00:00+01:00",
          "2021-12-01T01:45:00+01:00",
          "2021-12-01T01:30:00+01:00",
          "2021-12-01T01:15:00+01:00",
          "2021-12-01T01:00:00+01:00",
          "2021-12-01T00:45:00+01:00",
          "2021-12-01T00:30:00+01:00",
          "2021-12-01T00:15:00+01:00",
          "2021-12-01T00:00:00+01:00"
         ],
         "xaxis": "x",
         "y": [
          -53.708,
          -57.983000000000004,
          -24.081999999999997,
          -9.66,
          2.907,
          10.273,
          6.273,
          -11.136,
          22.386999999999997,
          5.864,
          48.891000000000005,
          -10.537,
          13.1,
          -13.720999999999998,
          -13.276,
          -38.499,
          13.655999999999999,
          -8.379,
          -66.42399999999999,
          -75.357,
          -43.343999999999994,
          -40.157,
          18.777,
          7.3629999999999995,
          -18.774,
          29.433000000000003,
          25.605999999999998,
          17.017,
          51.726000000000006,
          99.956,
          104.59700000000001,
          143.025,
          84.875,
          77.168,
          72.638,
          57.917,
          100.56299999999999,
          80.65100000000001,
          59.058,
          51.988,
          70.22,
          56.583,
          66.084,
          69.53,
          106.882,
          81.764,
          99.292,
          117.089,
          132.781,
          122.803,
          116.405,
          103.785,
          120.385,
          96.243,
          93.464,
          75.488,
          100.73700000000001,
          97.745,
          107.821,
          98.10799999999999,
          94.70200000000001,
          87.07799999999999,
          103.501,
          131.588,
          97.316,
          93.632,
          96.927,
          111.415,
          146.281,
          151.04399999999998,
          162.69,
          170.732,
          169.063,
          189.511,
          164.183,
          176.321,
          219.52,
          212.86700000000002,
          208.609,
          205.31900000000002,
          195.455,
          194.31099999999998,
          189.24200000000002,
          160.857,
          101.179,
          101.866,
          101.619,
          67.88600000000001,
          47.963,
          12.14,
          19.413,
          14.55,
          -46.478,
          -17.605,
          -47.253,
          -78.695
         ],
         "yaxis": "y"
        },
        {
         "customdata": [
          [
           "PT15M",
           "Germany"
          ],
          [
           "PT15M",
           "Germany"
          ],
          [
           "PT15M",
           "Germany"
          ],
          [
           "PT15M",
           "Germany"
          ],
          [
           "PT15M",
           "Germany"
          ],
          [
           "PT15M",
           "Germany"
          ],
          [
           "PT15M",
           "Germany"
          ],
          [
           "PT15M",
           "Germany"
          ],
          [
           "PT15M",
           "Germany"
          ],
          [
           "PT15M",
           "Germany"
          ],
          [
           "PT15M",
           "Germany"
          ],
          [
           "PT15M",
           "Germany"
          ],
          [
           "PT15M",
           "Germany"
          ],
          [
           "PT15M",
           "Germany"
          ],
          [
           "PT15M",
           "Germany"
          ],
          [
           "PT15M",
           "Germany"
          ],
          [
           "PT15M",
           "Germany"
          ],
          [
           "PT15M",
           "Germany"
          ],
          [
           "PT15M",
           "Germany"
          ],
          [
           "PT15M",
           "Germany"
          ],
          [
           "PT15M",
           "Germany"
          ],
          [
           "PT15M",
           "Germany"
          ],
          [
           "PT15M",
           "Germany"
          ],
          [
           "PT15M",
           "Germany"
          ],
          [
           "PT15M",
           "Germany"
          ],
          [
           "PT15M",
           "Germany"
          ],
          [
           "PT15M",
           "Germany"
          ],
          [
           "PT15M",
           "Germany"
          ],
          [
           "PT15M",
           "Germany"
          ],
          [
           "PT15M",
           "Germany"
          ],
          [
           "PT15M",
           "Germany"
          ],
          [
           "PT15M",
           "Germany"
          ],
          [
           "PT15M",
           "Germany"
          ],
          [
           "PT15M",
           "Germany"
          ],
          [
           "PT15M",
           "Germany"
          ],
          [
           "PT15M",
           "Germany"
          ],
          [
           "PT15M",
           "Germany"
          ],
          [
           "PT15M",
           "Germany"
          ],
          [
           "PT15M",
           "Germany"
          ],
          [
           "PT15M",
           "Germany"
          ],
          [
           "PT15M",
           "Germany"
          ],
          [
           "PT15M",
           "Germany"
          ],
          [
           "PT15M",
           "Germany"
          ],
          [
           "PT15M",
           "Germany"
          ],
          [
           "PT15M",
           "Germany"
          ],
          [
           "PT15M",
           "Germany"
          ],
          [
           "PT15M",
           "Germany"
          ],
          [
           "PT15M",
           "Germany"
          ],
          [
           "PT15M",
           "Germany"
          ],
          [
           "PT15M",
           "Germany"
          ],
          [
           "PT15M",
           "Germany"
          ],
          [
           "PT15M",
           "Germany"
          ],
          [
           "PT15M",
           "Germany"
          ],
          [
           "PT15M",
           "Germany"
          ],
          [
           "PT15M",
           "Germany"
          ],
          [
           "PT15M",
           "Germany"
          ],
          [
           "PT15M",
           "Germany"
          ],
          [
           "PT15M",
           "Germany"
          ],
          [
           "PT15M",
           "Germany"
          ],
          [
           "PT15M",
           "Germany"
          ],
          [
           "PT15M",
           "Germany"
          ],
          [
           "PT15M",
           "Germany"
          ],
          [
           "PT15M",
           "Germany"
          ],
          [
           "PT15M",
           "Germany"
          ],
          [
           "PT15M",
           "Germany"
          ],
          [
           "PT15M",
           "Germany"
          ],
          [
           "PT15M",
           "Germany"
          ],
          [
           "PT15M",
           "Germany"
          ],
          [
           "PT15M",
           "Germany"
          ],
          [
           "PT15M",
           "Germany"
          ],
          [
           "PT15M",
           "Germany"
          ],
          [
           "PT15M",
           "Germany"
          ],
          [
           "PT15M",
           "Germany"
          ],
          [
           "PT15M",
           "Germany"
          ],
          [
           "PT15M",
           "Germany"
          ],
          [
           "PT15M",
           "Germany"
          ],
          [
           "PT15M",
           "Germany"
          ],
          [
           "PT15M",
           "Germany"
          ],
          [
           "PT15M",
           "Germany"
          ],
          [
           "PT15M",
           "Germany"
          ],
          [
           "PT15M",
           "Germany"
          ],
          [
           "PT15M",
           "Germany"
          ],
          [
           "PT15M",
           "Germany"
          ],
          [
           "PT15M",
           "Germany"
          ],
          [
           "PT15M",
           "Germany"
          ],
          [
           "PT15M",
           "Germany"
          ],
          [
           "PT15M",
           "Germany"
          ],
          [
           "PT15M",
           "Germany"
          ],
          [
           "PT15M",
           "Germany"
          ],
          [
           "PT15M",
           "Germany"
          ],
          [
           "PT15M",
           "Germany"
          ],
          [
           "PT15M",
           "Germany"
          ],
          [
           "PT15M",
           "Germany"
          ],
          [
           "PT15M",
           "Germany"
          ],
          [
           "PT15M",
           "Germany"
          ],
          [
           "PT15M",
           "Germany"
          ]
         ],
         "hovertemplate": "<b>%{hovertext}</b><br><br>Control area=%{customdata[1]}<br>Datetime=%{x}<br>Physical Flow Value=%{y}<br>Resolution code=%{customdata[0]}<extra></extra>",
         "hovertext": [
          "Germany",
          "Germany",
          "Germany",
          "Germany",
          "Germany",
          "Germany",
          "Germany",
          "Germany",
          "Germany",
          "Germany",
          "Germany",
          "Germany",
          "Germany",
          "Germany",
          "Germany",
          "Germany",
          "Germany",
          "Germany",
          "Germany",
          "Germany",
          "Germany",
          "Germany",
          "Germany",
          "Germany",
          "Germany",
          "Germany",
          "Germany",
          "Germany",
          "Germany",
          "Germany",
          "Germany",
          "Germany",
          "Germany",
          "Germany",
          "Germany",
          "Germany",
          "Germany",
          "Germany",
          "Germany",
          "Germany",
          "Germany",
          "Germany",
          "Germany",
          "Germany",
          "Germany",
          "Germany",
          "Germany",
          "Germany",
          "Germany",
          "Germany",
          "Germany",
          "Germany",
          "Germany",
          "Germany",
          "Germany",
          "Germany",
          "Germany",
          "Germany",
          "Germany",
          "Germany",
          "Germany",
          "Germany",
          "Germany",
          "Germany",
          "Germany",
          "Germany",
          "Germany",
          "Germany",
          "Germany",
          "Germany",
          "Germany",
          "Germany",
          "Germany",
          "Germany",
          "Germany",
          "Germany",
          "Germany",
          "Germany",
          "Germany",
          "Germany",
          "Germany",
          "Germany",
          "Germany",
          "Germany",
          "Germany",
          "Germany",
          "Germany",
          "Germany",
          "Germany",
          "Germany",
          "Germany",
          "Germany",
          "Germany",
          "Germany",
          "Germany",
          "Germany"
         ],
         "legendgroup": "Germany",
         "marker": {
          "color": "#ab63fa",
          "symbol": "circle"
         },
         "mode": "markers",
         "name": "Germany",
         "orientation": "v",
         "showlegend": true,
         "type": "scatter",
         "x": [
          "2021-12-01T23:45:00+01:00",
          "2021-12-01T23:30:00+01:00",
          "2021-12-01T23:15:00+01:00",
          "2021-12-01T23:00:00+01:00",
          "2021-12-01T22:45:00+01:00",
          "2021-12-01T22:30:00+01:00",
          "2021-12-01T22:15:00+01:00",
          "2021-12-01T22:00:00+01:00",
          "2021-12-01T21:45:00+01:00",
          "2021-12-01T21:30:00+01:00",
          "2021-12-01T21:15:00+01:00",
          "2021-12-01T21:00:00+01:00",
          "2021-12-01T20:45:00+01:00",
          "2021-12-01T20:30:00+01:00",
          "2021-12-01T20:15:00+01:00",
          "2021-12-01T20:00:00+01:00",
          "2021-12-01T19:45:00+01:00",
          "2021-12-01T19:30:00+01:00",
          "2021-12-01T19:15:00+01:00",
          "2021-12-01T19:00:00+01:00",
          "2021-12-01T18:45:00+01:00",
          "2021-12-01T18:30:00+01:00",
          "2021-12-01T18:15:00+01:00",
          "2021-12-01T18:00:00+01:00",
          "2021-12-01T17:45:00+01:00",
          "2021-12-01T17:30:00+01:00",
          "2021-12-01T17:15:00+01:00",
          "2021-12-01T17:00:00+01:00",
          "2021-12-01T16:45:00+01:00",
          "2021-12-01T16:30:00+01:00",
          "2021-12-01T16:15:00+01:00",
          "2021-12-01T16:00:00+01:00",
          "2021-12-01T15:45:00+01:00",
          "2021-12-01T15:30:00+01:00",
          "2021-12-01T15:15:00+01:00",
          "2021-12-01T15:00:00+01:00",
          "2021-12-01T14:45:00+01:00",
          "2021-12-01T14:30:00+01:00",
          "2021-12-01T14:15:00+01:00",
          "2021-12-01T14:00:00+01:00",
          "2021-12-01T13:45:00+01:00",
          "2021-12-01T13:30:00+01:00",
          "2021-12-01T13:15:00+01:00",
          "2021-12-01T13:00:00+01:00",
          "2021-12-01T12:45:00+01:00",
          "2021-12-01T12:30:00+01:00",
          "2021-12-01T12:15:00+01:00",
          "2021-12-01T12:00:00+01:00",
          "2021-12-01T11:45:00+01:00",
          "2021-12-01T11:30:00+01:00",
          "2021-12-01T11:15:00+01:00",
          "2021-12-01T11:00:00+01:00",
          "2021-12-01T10:45:00+01:00",
          "2021-12-01T10:30:00+01:00",
          "2021-12-01T10:15:00+01:00",
          "2021-12-01T10:00:00+01:00",
          "2021-12-01T09:45:00+01:00",
          "2021-12-01T09:30:00+01:00",
          "2021-12-01T09:15:00+01:00",
          "2021-12-01T09:00:00+01:00",
          "2021-12-01T08:45:00+01:00",
          "2021-12-01T08:30:00+01:00",
          "2021-12-01T08:15:00+01:00",
          "2021-12-01T08:00:00+01:00",
          "2021-12-01T07:45:00+01:00",
          "2021-12-01T07:30:00+01:00",
          "2021-12-01T07:15:00+01:00",
          "2021-12-01T07:00:00+01:00",
          "2021-12-01T06:45:00+01:00",
          "2021-12-01T06:30:00+01:00",
          "2021-12-01T06:15:00+01:00",
          "2021-12-01T06:00:00+01:00",
          "2021-12-01T05:45:00+01:00",
          "2021-12-01T05:30:00+01:00",
          "2021-12-01T05:15:00+01:00",
          "2021-12-01T05:00:00+01:00",
          "2021-12-01T04:45:00+01:00",
          "2021-12-01T04:30:00+01:00",
          "2021-12-01T04:15:00+01:00",
          "2021-12-01T04:00:00+01:00",
          "2021-12-01T03:45:00+01:00",
          "2021-12-01T03:30:00+01:00",
          "2021-12-01T03:15:00+01:00",
          "2021-12-01T03:00:00+01:00",
          "2021-12-01T02:45:00+01:00",
          "2021-12-01T02:30:00+01:00",
          "2021-12-01T02:15:00+01:00",
          "2021-12-01T02:00:00+01:00",
          "2021-12-01T01:45:00+01:00",
          "2021-12-01T01:30:00+01:00",
          "2021-12-01T01:15:00+01:00",
          "2021-12-01T01:00:00+01:00",
          "2021-12-01T00:45:00+01:00",
          "2021-12-01T00:30:00+01:00",
          "2021-12-01T00:15:00+01:00",
          "2021-12-01T00:00:00+01:00"
         ],
         "xaxis": "x",
         "y": [
          -1001.788,
          -1002.1039999999999,
          -1001.796,
          -1001.716,
          -994.56,
          -999.2239999999999,
          -1001.7639999999999,
          -955.804,
          -919.788,
          -833.1160000000001,
          -854.2239999999999,
          -849.232,
          -625.54,
          -589.12,
          -600.396,
          -601.656,
          -666.628,
          -671.96,
          -655.76,
          -685.948,
          -857.436,
          -978.544,
          -997.7280000000001,
          -1001.64,
          -1002.0319999999999,
          -1001.632,
          -1001.612,
          -972.84,
          -750.2760000000001,
          -719.888,
          -699.2360000000001,
          -671.3480000000001,
          -519.664,
          -501.404,
          -499.61199999999997,
          -503.444,
          -579.3240000000001,
          -586.464,
          -586.444,
          -595.22,
          -684.6560000000001,
          -693.368,
          -693.008,
          -687.952,
          -639.668,
          -634.78,
          -633.32,
          -573.996,
          -745.2439999999999,
          -751.944,
          -770.288,
          -762.3639999999999,
          -665.2,
          -649.604,
          -655.7719999999999,
          -642.64,
          -513.5319999999999,
          -501.276,
          -501.28,
          -511.74,
          -614.928,
          -624.604,
          -624.016,
          -596.836,
          -537.172,
          -538.3480000000001,
          -522.304,
          -534.096,
          -947.164,
          -999.3,
          -962.8839999999999,
          -976.4119999999999,
          -811.148,
          -724.0319999999999,
          -704.62,
          -695.62,
          -630.172,
          -621.3480000000001,
          -603.264,
          -508.51599999999996,
          -708.664,
          -708.232,
          -703.696,
          -728.2080000000001,
          -977.796,
          -1001.216,
          -990.36,
          -960.8760000000001,
          -574.2,
          -540.628,
          -536.7919999999999,
          -476.668,
          181.62400000000002,
          205.84,
          205.1,
          103.704
         ],
         "yaxis": "y"
        },
        {
         "customdata": [
          [
           "PT15M",
           "France"
          ],
          [
           "PT15M",
           "France"
          ],
          [
           "PT15M",
           "France"
          ],
          [
           "PT15M",
           "France"
          ],
          [
           "PT15M",
           "France"
          ],
          [
           "PT15M",
           "France"
          ],
          [
           "PT15M",
           "France"
          ],
          [
           "PT15M",
           "France"
          ],
          [
           "PT15M",
           "France"
          ],
          [
           "PT15M",
           "France"
          ],
          [
           "PT15M",
           "France"
          ],
          [
           "PT15M",
           "France"
          ],
          [
           "PT15M",
           "France"
          ],
          [
           "PT15M",
           "France"
          ],
          [
           "PT15M",
           "France"
          ],
          [
           "PT15M",
           "France"
          ],
          [
           "PT15M",
           "France"
          ],
          [
           "PT15M",
           "France"
          ],
          [
           "PT15M",
           "France"
          ],
          [
           "PT15M",
           "France"
          ],
          [
           "PT15M",
           "France"
          ],
          [
           "PT15M",
           "France"
          ],
          [
           "PT15M",
           "France"
          ],
          [
           "PT15M",
           "France"
          ],
          [
           "PT15M",
           "France"
          ],
          [
           "PT15M",
           "France"
          ],
          [
           "PT15M",
           "France"
          ],
          [
           "PT15M",
           "France"
          ],
          [
           "PT15M",
           "France"
          ],
          [
           "PT15M",
           "France"
          ],
          [
           "PT15M",
           "France"
          ],
          [
           "PT15M",
           "France"
          ],
          [
           "PT15M",
           "France"
          ],
          [
           "PT15M",
           "France"
          ],
          [
           "PT15M",
           "France"
          ],
          [
           "PT15M",
           "France"
          ],
          [
           "PT15M",
           "France"
          ],
          [
           "PT15M",
           "France"
          ],
          [
           "PT15M",
           "France"
          ],
          [
           "PT15M",
           "France"
          ],
          [
           "PT15M",
           "France"
          ],
          [
           "PT15M",
           "France"
          ],
          [
           "PT15M",
           "France"
          ],
          [
           "PT15M",
           "France"
          ],
          [
           "PT15M",
           "France"
          ],
          [
           "PT15M",
           "France"
          ],
          [
           "PT15M",
           "France"
          ],
          [
           "PT15M",
           "France"
          ],
          [
           "PT15M",
           "France"
          ],
          [
           "PT15M",
           "France"
          ],
          [
           "PT15M",
           "France"
          ],
          [
           "PT15M",
           "France"
          ],
          [
           "PT15M",
           "France"
          ],
          [
           "PT15M",
           "France"
          ],
          [
           "PT15M",
           "France"
          ],
          [
           "PT15M",
           "France"
          ],
          [
           "PT15M",
           "France"
          ],
          [
           "PT15M",
           "France"
          ],
          [
           "PT15M",
           "France"
          ],
          [
           "PT15M",
           "France"
          ],
          [
           "PT15M",
           "France"
          ],
          [
           "PT15M",
           "France"
          ],
          [
           "PT15M",
           "France"
          ],
          [
           "PT15M",
           "France"
          ],
          [
           "PT15M",
           "France"
          ],
          [
           "PT15M",
           "France"
          ],
          [
           "PT15M",
           "France"
          ],
          [
           "PT15M",
           "France"
          ],
          [
           "PT15M",
           "France"
          ],
          [
           "PT15M",
           "France"
          ],
          [
           "PT15M",
           "France"
          ],
          [
           "PT15M",
           "France"
          ],
          [
           "PT15M",
           "France"
          ],
          [
           "PT15M",
           "France"
          ],
          [
           "PT15M",
           "France"
          ],
          [
           "PT15M",
           "France"
          ],
          [
           "PT15M",
           "France"
          ],
          [
           "PT15M",
           "France"
          ],
          [
           "PT15M",
           "France"
          ],
          [
           "PT15M",
           "France"
          ],
          [
           "PT15M",
           "France"
          ],
          [
           "PT15M",
           "France"
          ],
          [
           "PT15M",
           "France"
          ],
          [
           "PT15M",
           "France"
          ],
          [
           "PT15M",
           "France"
          ],
          [
           "PT15M",
           "France"
          ],
          [
           "PT15M",
           "France"
          ],
          [
           "PT15M",
           "France"
          ],
          [
           "PT15M",
           "France"
          ],
          [
           "PT15M",
           "France"
          ],
          [
           "PT15M",
           "France"
          ],
          [
           "PT15M",
           "France"
          ],
          [
           "PT15M",
           "France"
          ],
          [
           "PT15M",
           "France"
          ],
          [
           "PT15M",
           "France"
          ],
          [
           "PT15M",
           "France"
          ]
         ],
         "hovertemplate": "<b>%{hovertext}</b><br><br>Control area=%{customdata[1]}<br>Datetime=%{x}<br>Physical Flow Value=%{y}<br>Resolution code=%{customdata[0]}<extra></extra>",
         "hovertext": [
          "France",
          "France",
          "France",
          "France",
          "France",
          "France",
          "France",
          "France",
          "France",
          "France",
          "France",
          "France",
          "France",
          "France",
          "France",
          "France",
          "France",
          "France",
          "France",
          "France",
          "France",
          "France",
          "France",
          "France",
          "France",
          "France",
          "France",
          "France",
          "France",
          "France",
          "France",
          "France",
          "France",
          "France",
          "France",
          "France",
          "France",
          "France",
          "France",
          "France",
          "France",
          "France",
          "France",
          "France",
          "France",
          "France",
          "France",
          "France",
          "France",
          "France",
          "France",
          "France",
          "France",
          "France",
          "France",
          "France",
          "France",
          "France",
          "France",
          "France",
          "France",
          "France",
          "France",
          "France",
          "France",
          "France",
          "France",
          "France",
          "France",
          "France",
          "France",
          "France",
          "France",
          "France",
          "France",
          "France",
          "France",
          "France",
          "France",
          "France",
          "France",
          "France",
          "France",
          "France",
          "France",
          "France",
          "France",
          "France",
          "France",
          "France",
          "France",
          "France",
          "France",
          "France",
          "France",
          "France"
         ],
         "legendgroup": "France",
         "marker": {
          "color": "#FFA15A",
          "symbol": "circle"
         },
         "mode": "markers",
         "name": "France",
         "orientation": "v",
         "showlegend": true,
         "type": "scatter",
         "x": [
          "2021-12-01T23:45:00+01:00",
          "2021-12-01T23:30:00+01:00",
          "2021-12-01T23:15:00+01:00",
          "2021-12-01T23:00:00+01:00",
          "2021-12-01T22:45:00+01:00",
          "2021-12-01T22:30:00+01:00",
          "2021-12-01T22:15:00+01:00",
          "2021-12-01T22:00:00+01:00",
          "2021-12-01T21:45:00+01:00",
          "2021-12-01T21:30:00+01:00",
          "2021-12-01T21:15:00+01:00",
          "2021-12-01T21:00:00+01:00",
          "2021-12-01T20:45:00+01:00",
          "2021-12-01T20:30:00+01:00",
          "2021-12-01T20:15:00+01:00",
          "2021-12-01T20:00:00+01:00",
          "2021-12-01T19:45:00+01:00",
          "2021-12-01T19:30:00+01:00",
          "2021-12-01T19:15:00+01:00",
          "2021-12-01T19:00:00+01:00",
          "2021-12-01T18:45:00+01:00",
          "2021-12-01T18:30:00+01:00",
          "2021-12-01T18:15:00+01:00",
          "2021-12-01T18:00:00+01:00",
          "2021-12-01T17:45:00+01:00",
          "2021-12-01T17:30:00+01:00",
          "2021-12-01T17:15:00+01:00",
          "2021-12-01T17:00:00+01:00",
          "2021-12-01T16:45:00+01:00",
          "2021-12-01T16:30:00+01:00",
          "2021-12-01T16:15:00+01:00",
          "2021-12-01T16:00:00+01:00",
          "2021-12-01T15:45:00+01:00",
          "2021-12-01T15:30:00+01:00",
          "2021-12-01T15:15:00+01:00",
          "2021-12-01T15:00:00+01:00",
          "2021-12-01T14:45:00+01:00",
          "2021-12-01T14:30:00+01:00",
          "2021-12-01T14:15:00+01:00",
          "2021-12-01T14:00:00+01:00",
          "2021-12-01T13:45:00+01:00",
          "2021-12-01T13:30:00+01:00",
          "2021-12-01T13:15:00+01:00",
          "2021-12-01T13:00:00+01:00",
          "2021-12-01T12:45:00+01:00",
          "2021-12-01T12:30:00+01:00",
          "2021-12-01T12:15:00+01:00",
          "2021-12-01T12:00:00+01:00",
          "2021-12-01T11:45:00+01:00",
          "2021-12-01T11:30:00+01:00",
          "2021-12-01T11:15:00+01:00",
          "2021-12-01T11:00:00+01:00",
          "2021-12-01T10:45:00+01:00",
          "2021-12-01T10:30:00+01:00",
          "2021-12-01T10:15:00+01:00",
          "2021-12-01T10:00:00+01:00",
          "2021-12-01T09:45:00+01:00",
          "2021-12-01T09:30:00+01:00",
          "2021-12-01T09:15:00+01:00",
          "2021-12-01T09:00:00+01:00",
          "2021-12-01T08:45:00+01:00",
          "2021-12-01T08:30:00+01:00",
          "2021-12-01T08:15:00+01:00",
          "2021-12-01T08:00:00+01:00",
          "2021-12-01T07:45:00+01:00",
          "2021-12-01T07:30:00+01:00",
          "2021-12-01T07:15:00+01:00",
          "2021-12-01T07:00:00+01:00",
          "2021-12-01T06:45:00+01:00",
          "2021-12-01T06:30:00+01:00",
          "2021-12-01T06:15:00+01:00",
          "2021-12-01T06:00:00+01:00",
          "2021-12-01T05:45:00+01:00",
          "2021-12-01T05:30:00+01:00",
          "2021-12-01T05:15:00+01:00",
          "2021-12-01T05:00:00+01:00",
          "2021-12-01T04:45:00+01:00",
          "2021-12-01T04:30:00+01:00",
          "2021-12-01T04:15:00+01:00",
          "2021-12-01T04:00:00+01:00",
          "2021-12-01T03:45:00+01:00",
          "2021-12-01T03:30:00+01:00",
          "2021-12-01T03:15:00+01:00",
          "2021-12-01T03:00:00+01:00",
          "2021-12-01T02:45:00+01:00",
          "2021-12-01T02:30:00+01:00",
          "2021-12-01T02:15:00+01:00",
          "2021-12-01T02:00:00+01:00",
          "2021-12-01T01:45:00+01:00",
          "2021-12-01T01:30:00+01:00",
          "2021-12-01T01:15:00+01:00",
          "2021-12-01T01:00:00+01:00",
          "2021-12-01T00:45:00+01:00",
          "2021-12-01T00:30:00+01:00",
          "2021-12-01T00:15:00+01:00",
          "2021-12-01T00:00:00+01:00"
         ],
         "xaxis": "x",
         "y": [
          581.908,
          691.1160000000001,
          523.224,
          483.944,
          634.868,
          604.86,
          509.88,
          557.896,
          522.98,
          602.276,
          508.48400000000004,
          570.068,
          239.024,
          398.004,
          270.192,
          341.06800000000004,
          803.188,
          819.76,
          1008.808,
          1106.14,
          1707.2320000000002,
          1587.9520000000002,
          1466.828,
          1263.34,
          1147.212,
          1190.312,
          1314.68,
          1061.776,
          452.284,
          279.008,
          380.408,
          299.608,
          -322.42,
          -356.38,
          -338.7,
          -199.94,
          -126.336,
          -130.436,
          -139.196,
          10.344000000000001,
          142.60399999999998,
          67.804,
          -46.812,
          -58.82,
          -37.176,
          143.756,
          177.21200000000002,
          302.332,
          77.172,
          43.496,
          -103.884,
          -92.28,
          -264.568,
          -126.72399999999999,
          -37.768,
          -89.396,
          -538.028,
          -477.84,
          -457.56800000000004,
          -400.184,
          -96.54799999999999,
          -29.56,
          -59.068000000000005,
          163.232,
          -334.32800000000003,
          -509.344,
          -393.332,
          -242.59599999999998,
          582.248,
          557.3480000000001,
          675.092,
          698.7080000000001,
          690.2280000000001,
          609.42,
          638.148,
          601.524,
          672.0239999999999,
          657.84,
          652.8919999999999,
          867.232,
          938.6239999999999,
          990.072,
          834.716,
          1017.212,
          910.556,
          960.544,
          938.5,
          949.948,
          764.3960000000001,
          869.84,
          799.66,
          697.2560000000001,
          635.24,
          598.724,
          741.508,
          501.42800000000005
         ],
         "yaxis": "y"
        }
       ],
       "layout": {
        "annotations": [
         {
          "arrowhead": 3,
          "font": {
           "color": "black",
           "size": 10
          },
          "showarrow": true,
          "text": "Look at this outlier",
          "x": "2021-12-01 18:45:00+01:00",
          "y": 1707.232
         }
        ],
        "autosize": true,
        "legend": {
         "title": {
          "text": "Control area"
         },
         "tracegroupgap": 0
        },
        "margin": {
         "t": 60
        },
        "template": {
         "data": {
          "bar": [
           {
            "error_x": {
             "color": "#2a3f5f"
            },
            "error_y": {
             "color": "#2a3f5f"
            },
            "marker": {
             "line": {
              "color": "#E5ECF6",
              "width": 0.5
             }
            },
            "type": "bar"
           }
          ],
          "barpolar": [
           {
            "marker": {
             "line": {
              "color": "#E5ECF6",
              "width": 0.5
             }
            },
            "type": "barpolar"
           }
          ],
          "carpet": [
           {
            "aaxis": {
             "endlinecolor": "#2a3f5f",
             "gridcolor": "white",
             "linecolor": "white",
             "minorgridcolor": "white",
             "startlinecolor": "#2a3f5f"
            },
            "baxis": {
             "endlinecolor": "#2a3f5f",
             "gridcolor": "white",
             "linecolor": "white",
             "minorgridcolor": "white",
             "startlinecolor": "#2a3f5f"
            },
            "type": "carpet"
           }
          ],
          "choropleth": [
           {
            "colorbar": {
             "outlinewidth": 0,
             "ticks": ""
            },
            "type": "choropleth"
           }
          ],
          "contour": [
           {
            "colorbar": {
             "outlinewidth": 0,
             "ticks": ""
            },
            "colorscale": [
             [
              0,
              "#0d0887"
             ],
             [
              0.1111111111111111,
              "#46039f"
             ],
             [
              0.2222222222222222,
              "#7201a8"
             ],
             [
              0.3333333333333333,
              "#9c179e"
             ],
             [
              0.4444444444444444,
              "#bd3786"
             ],
             [
              0.5555555555555556,
              "#d8576b"
             ],
             [
              0.6666666666666666,
              "#ed7953"
             ],
             [
              0.7777777777777778,
              "#fb9f3a"
             ],
             [
              0.8888888888888888,
              "#fdca26"
             ],
             [
              1,
              "#f0f921"
             ]
            ],
            "type": "contour"
           }
          ],
          "contourcarpet": [
           {
            "colorbar": {
             "outlinewidth": 0,
             "ticks": ""
            },
            "type": "contourcarpet"
           }
          ],
          "heatmap": [
           {
            "colorbar": {
             "outlinewidth": 0,
             "ticks": ""
            },
            "colorscale": [
             [
              0,
              "#0d0887"
             ],
             [
              0.1111111111111111,
              "#46039f"
             ],
             [
              0.2222222222222222,
              "#7201a8"
             ],
             [
              0.3333333333333333,
              "#9c179e"
             ],
             [
              0.4444444444444444,
              "#bd3786"
             ],
             [
              0.5555555555555556,
              "#d8576b"
             ],
             [
              0.6666666666666666,
              "#ed7953"
             ],
             [
              0.7777777777777778,
              "#fb9f3a"
             ],
             [
              0.8888888888888888,
              "#fdca26"
             ],
             [
              1,
              "#f0f921"
             ]
            ],
            "type": "heatmap"
           }
          ],
          "heatmapgl": [
           {
            "colorbar": {
             "outlinewidth": 0,
             "ticks": ""
            },
            "colorscale": [
             [
              0,
              "#0d0887"
             ],
             [
              0.1111111111111111,
              "#46039f"
             ],
             [
              0.2222222222222222,
              "#7201a8"
             ],
             [
              0.3333333333333333,
              "#9c179e"
             ],
             [
              0.4444444444444444,
              "#bd3786"
             ],
             [
              0.5555555555555556,
              "#d8576b"
             ],
             [
              0.6666666666666666,
              "#ed7953"
             ],
             [
              0.7777777777777778,
              "#fb9f3a"
             ],
             [
              0.8888888888888888,
              "#fdca26"
             ],
             [
              1,
              "#f0f921"
             ]
            ],
            "type": "heatmapgl"
           }
          ],
          "histogram": [
           {
            "marker": {
             "colorbar": {
              "outlinewidth": 0,
              "ticks": ""
             }
            },
            "type": "histogram"
           }
          ],
          "histogram2d": [
           {
            "colorbar": {
             "outlinewidth": 0,
             "ticks": ""
            },
            "colorscale": [
             [
              0,
              "#0d0887"
             ],
             [
              0.1111111111111111,
              "#46039f"
             ],
             [
              0.2222222222222222,
              "#7201a8"
             ],
             [
              0.3333333333333333,
              "#9c179e"
             ],
             [
              0.4444444444444444,
              "#bd3786"
             ],
             [
              0.5555555555555556,
              "#d8576b"
             ],
             [
              0.6666666666666666,
              "#ed7953"
             ],
             [
              0.7777777777777778,
              "#fb9f3a"
             ],
             [
              0.8888888888888888,
              "#fdca26"
             ],
             [
              1,
              "#f0f921"
             ]
            ],
            "type": "histogram2d"
           }
          ],
          "histogram2dcontour": [
           {
            "colorbar": {
             "outlinewidth": 0,
             "ticks": ""
            },
            "colorscale": [
             [
              0,
              "#0d0887"
             ],
             [
              0.1111111111111111,
              "#46039f"
             ],
             [
              0.2222222222222222,
              "#7201a8"
             ],
             [
              0.3333333333333333,
              "#9c179e"
             ],
             [
              0.4444444444444444,
              "#bd3786"
             ],
             [
              0.5555555555555556,
              "#d8576b"
             ],
             [
              0.6666666666666666,
              "#ed7953"
             ],
             [
              0.7777777777777778,
              "#fb9f3a"
             ],
             [
              0.8888888888888888,
              "#fdca26"
             ],
             [
              1,
              "#f0f921"
             ]
            ],
            "type": "histogram2dcontour"
           }
          ],
          "mesh3d": [
           {
            "colorbar": {
             "outlinewidth": 0,
             "ticks": ""
            },
            "type": "mesh3d"
           }
          ],
          "parcoords": [
           {
            "line": {
             "colorbar": {
              "outlinewidth": 0,
              "ticks": ""
             }
            },
            "type": "parcoords"
           }
          ],
          "pie": [
           {
            "automargin": true,
            "type": "pie"
           }
          ],
          "scatter": [
           {
            "marker": {
             "colorbar": {
              "outlinewidth": 0,
              "ticks": ""
             }
            },
            "type": "scatter"
           }
          ],
          "scatter3d": [
           {
            "line": {
             "colorbar": {
              "outlinewidth": 0,
              "ticks": ""
             }
            },
            "marker": {
             "colorbar": {
              "outlinewidth": 0,
              "ticks": ""
             }
            },
            "type": "scatter3d"
           }
          ],
          "scattercarpet": [
           {
            "marker": {
             "colorbar": {
              "outlinewidth": 0,
              "ticks": ""
             }
            },
            "type": "scattercarpet"
           }
          ],
          "scattergeo": [
           {
            "marker": {
             "colorbar": {
              "outlinewidth": 0,
              "ticks": ""
             }
            },
            "type": "scattergeo"
           }
          ],
          "scattergl": [
           {
            "marker": {
             "colorbar": {
              "outlinewidth": 0,
              "ticks": ""
             }
            },
            "type": "scattergl"
           }
          ],
          "scattermapbox": [
           {
            "marker": {
             "colorbar": {
              "outlinewidth": 0,
              "ticks": ""
             }
            },
            "type": "scattermapbox"
           }
          ],
          "scatterpolar": [
           {
            "marker": {
             "colorbar": {
              "outlinewidth": 0,
              "ticks": ""
             }
            },
            "type": "scatterpolar"
           }
          ],
          "scatterpolargl": [
           {
            "marker": {
             "colorbar": {
              "outlinewidth": 0,
              "ticks": ""
             }
            },
            "type": "scatterpolargl"
           }
          ],
          "scatterternary": [
           {
            "marker": {
             "colorbar": {
              "outlinewidth": 0,
              "ticks": ""
             }
            },
            "type": "scatterternary"
           }
          ],
          "surface": [
           {
            "colorbar": {
             "outlinewidth": 0,
             "ticks": ""
            },
            "colorscale": [
             [
              0,
              "#0d0887"
             ],
             [
              0.1111111111111111,
              "#46039f"
             ],
             [
              0.2222222222222222,
              "#7201a8"
             ],
             [
              0.3333333333333333,
              "#9c179e"
             ],
             [
              0.4444444444444444,
              "#bd3786"
             ],
             [
              0.5555555555555556,
              "#d8576b"
             ],
             [
              0.6666666666666666,
              "#ed7953"
             ],
             [
              0.7777777777777778,
              "#fb9f3a"
             ],
             [
              0.8888888888888888,
              "#fdca26"
             ],
             [
              1,
              "#f0f921"
             ]
            ],
            "type": "surface"
           }
          ],
          "table": [
           {
            "cells": {
             "fill": {
              "color": "#EBF0F8"
             },
             "line": {
              "color": "white"
             }
            },
            "header": {
             "fill": {
              "color": "#C8D4E3"
             },
             "line": {
              "color": "white"
             }
            },
            "type": "table"
           }
          ]
         },
         "layout": {
          "annotationdefaults": {
           "arrowcolor": "#2a3f5f",
           "arrowhead": 0,
           "arrowwidth": 1
          },
          "autotypenumbers": "strict",
          "coloraxis": {
           "colorbar": {
            "outlinewidth": 0,
            "ticks": ""
           }
          },
          "colorscale": {
           "diverging": [
            [
             0,
             "#8e0152"
            ],
            [
             0.1,
             "#c51b7d"
            ],
            [
             0.2,
             "#de77ae"
            ],
            [
             0.3,
             "#f1b6da"
            ],
            [
             0.4,
             "#fde0ef"
            ],
            [
             0.5,
             "#f7f7f7"
            ],
            [
             0.6,
             "#e6f5d0"
            ],
            [
             0.7,
             "#b8e186"
            ],
            [
             0.8,
             "#7fbc41"
            ],
            [
             0.9,
             "#4d9221"
            ],
            [
             1,
             "#276419"
            ]
           ],
           "sequential": [
            [
             0,
             "#0d0887"
            ],
            [
             0.1111111111111111,
             "#46039f"
            ],
            [
             0.2222222222222222,
             "#7201a8"
            ],
            [
             0.3333333333333333,
             "#9c179e"
            ],
            [
             0.4444444444444444,
             "#bd3786"
            ],
            [
             0.5555555555555556,
             "#d8576b"
            ],
            [
             0.6666666666666666,
             "#ed7953"
            ],
            [
             0.7777777777777778,
             "#fb9f3a"
            ],
            [
             0.8888888888888888,
             "#fdca26"
            ],
            [
             1,
             "#f0f921"
            ]
           ],
           "sequentialminus": [
            [
             0,
             "#0d0887"
            ],
            [
             0.1111111111111111,
             "#46039f"
            ],
            [
             0.2222222222222222,
             "#7201a8"
            ],
            [
             0.3333333333333333,
             "#9c179e"
            ],
            [
             0.4444444444444444,
             "#bd3786"
            ],
            [
             0.5555555555555556,
             "#d8576b"
            ],
            [
             0.6666666666666666,
             "#ed7953"
            ],
            [
             0.7777777777777778,
             "#fb9f3a"
            ],
            [
             0.8888888888888888,
             "#fdca26"
            ],
            [
             1,
             "#f0f921"
            ]
           ]
          },
          "colorway": [
           "#636efa",
           "#EF553B",
           "#00cc96",
           "#ab63fa",
           "#FFA15A",
           "#19d3f3",
           "#FF6692",
           "#B6E880",
           "#FF97FF",
           "#FECB52"
          ],
          "font": {
           "color": "#2a3f5f"
          },
          "geo": {
           "bgcolor": "white",
           "lakecolor": "white",
           "landcolor": "#E5ECF6",
           "showlakes": true,
           "showland": true,
           "subunitcolor": "white"
          },
          "hoverlabel": {
           "align": "left"
          },
          "hovermode": "closest",
          "mapbox": {
           "style": "light"
          },
          "paper_bgcolor": "white",
          "plot_bgcolor": "#E5ECF6",
          "polar": {
           "angularaxis": {
            "gridcolor": "white",
            "linecolor": "white",
            "ticks": ""
           },
           "bgcolor": "#E5ECF6",
           "radialaxis": {
            "gridcolor": "white",
            "linecolor": "white",
            "ticks": ""
           }
          },
          "scene": {
           "xaxis": {
            "backgroundcolor": "#E5ECF6",
            "gridcolor": "white",
            "gridwidth": 2,
            "linecolor": "white",
            "showbackground": true,
            "ticks": "",
            "zerolinecolor": "white"
           },
           "yaxis": {
            "backgroundcolor": "#E5ECF6",
            "gridcolor": "white",
            "gridwidth": 2,
            "linecolor": "white",
            "showbackground": true,
            "ticks": "",
            "zerolinecolor": "white"
           },
           "zaxis": {
            "backgroundcolor": "#E5ECF6",
            "gridcolor": "white",
            "gridwidth": 2,
            "linecolor": "white",
            "showbackground": true,
            "ticks": "",
            "zerolinecolor": "white"
           }
          },
          "shapedefaults": {
           "line": {
            "color": "#2a3f5f"
           }
          },
          "ternary": {
           "aaxis": {
            "gridcolor": "white",
            "linecolor": "white",
            "ticks": ""
           },
           "baxis": {
            "gridcolor": "white",
            "linecolor": "white",
            "ticks": ""
           },
           "bgcolor": "#E5ECF6",
           "caxis": {
            "gridcolor": "white",
            "linecolor": "white",
            "ticks": ""
           }
          },
          "title": {
           "x": 0.05
          },
          "xaxis": {
           "automargin": true,
           "gridcolor": "white",
           "linecolor": "white",
           "ticks": "",
           "title": {
            "standoff": 15
           },
           "zerolinecolor": "white",
           "zerolinewidth": 2
          },
          "yaxis": {
           "automargin": true,
           "gridcolor": "white",
           "linecolor": "white",
           "ticks": "",
           "title": {
            "standoff": 15
           },
           "zerolinecolor": "white",
           "zerolinewidth": 2
          }
         }
        },
        "xaxis": {
         "anchor": "y",
         "autorange": true,
         "domain": [
          0,
          1
         ],
         "range": [
          "2021-11-30 22:31:09.3154",
          "2021-12-02 01:13:50.6846"
         ],
         "title": {
          "text": "Datetime"
         },
         "type": "date"
        },
        "yaxis": {
         "anchor": "x",
         "autorange": true,
         "domain": [
          0,
          1
         ],
         "range": [
          -1208.4530326409495,
          2114.570350148368
         ],
         "title": {
          "text": "Physical Flow Value"
         },
         "type": "linear"
        }
       }
      },
      "image/png": "[encoded data removed]",
      "text/html": [
       "<div>                            <div id=\"8903eb3b-39dc-45f2-80ff-91910fcc26db\" class=\"plotly-graph-div\" style=\"height:525px; width:100%;\"></div>            <script type=\"text/javascript\">                require([\"plotly\"], function(Plotly) {                    window.PLOTLYENV=window.PLOTLYENV || {};                                    if (document.getElementById(\"8903eb3b-39dc-45f2-80ff-91910fcc26db\")) {                    Plotly.newPlot(                        \"8903eb3b-39dc-45f2-80ff-91910fcc26db\",                        [{\"customdata\": [[\"PT15M\", \"Netherlands\"], [\"PT15M\", \"Netherlands\"], [\"PT15M\", \"Netherlands\"], [\"PT15M\", \"Netherlands\"], [\"PT15M\", \"Netherlands\"], [\"PT15M\", \"Netherlands\"], [\"PT15M\", \"Netherlands\"], [\"PT15M\", \"Netherlands\"], [\"PT15M\", \"Netherlands\"], [\"PT15M\", \"Netherlands\"], [\"PT15M\", \"Netherlands\"], [\"PT15M\", \"Netherlands\"], [\"PT15M\", \"Netherlands\"], [\"PT15M\", \"Netherlands\"], [\"PT15M\", \"Netherlands\"], [\"PT15M\", \"Netherlands\"], [\"PT15M\", \"Netherlands\"], [\"PT15M\", \"Netherlands\"], [\"PT15M\", \"Netherlands\"], [\"PT15M\", \"Netherlands\"], [\"PT15M\", \"Netherlands\"], [\"PT15M\", \"Netherlands\"], [\"PT15M\", \"Netherlands\"], [\"PT15M\", \"Netherlands\"], [\"PT15M\", \"Netherlands\"], [\"PT15M\", \"Netherlands\"], [\"PT15M\", \"Netherlands\"], [\"PT15M\", \"Netherlands\"], [\"PT15M\", \"Netherlands\"], [\"PT15M\", \"Netherlands\"], [\"PT15M\", \"Netherlands\"], [\"PT15M\", \"Netherlands\"], [\"PT15M\", \"Netherlands\"], [\"PT15M\", \"Netherlands\"], [\"PT15M\", \"Netherlands\"], [\"PT15M\", \"Netherlands\"], [\"PT15M\", \"Netherlands\"], [\"PT15M\", \"Netherlands\"], [\"PT15M\", \"Netherlands\"], [\"PT15M\", \"Netherlands\"], [\"PT15M\", \"Netherlands\"], [\"PT15M\", \"Netherlands\"], [\"PT15M\", \"Netherlands\"], [\"PT15M\", \"Netherlands\"], [\"PT15M\", \"Netherlands\"], [\"PT15M\", \"Netherlands\"], [\"PT15M\", \"Netherlands\"], [\"PT15M\", \"Netherlands\"], [\"PT15M\", \"Netherlands\"], [\"PT15M\", \"Netherlands\"], [\"PT15M\", \"Netherlands\"], [\"PT15M\", \"Netherlands\"], [\"PT15M\", \"Netherlands\"], [\"PT15M\", \"Netherlands\"], [\"PT15M\", \"Netherlands\"], [\"PT15M\", \"Netherlands\"], [\"PT15M\", \"Netherlands\"], [\"PT15M\", \"Netherlands\"], [\"PT15M\", \"Netherlands\"], [\"PT15M\", \"Netherlands\"], [\"PT15M\", \"Netherlands\"], [\"PT15M\", \"Netherlands\"], [\"PT15M\", \"Netherlands\"], [\"PT15M\", \"Netherlands\"], [\"PT15M\", \"Netherlands\"], [\"PT15M\", \"Netherlands\"], [\"PT15M\", \"Netherlands\"], [\"PT15M\", \"Netherlands\"], [\"PT15M\", \"Netherlands\"], [\"PT15M\", \"Netherlands\"], [\"PT15M\", \"Netherlands\"], [\"PT15M\", \"Netherlands\"], [\"PT15M\", \"Netherlands\"], [\"PT15M\", \"Netherlands\"], [\"PT15M\", \"Netherlands\"], [\"PT15M\", \"Netherlands\"], [\"PT15M\", \"Netherlands\"], [\"PT15M\", \"Netherlands\"], [\"PT15M\", \"Netherlands\"], [\"PT15M\", \"Netherlands\"], [\"PT15M\", \"Netherlands\"], [\"PT15M\", \"Netherlands\"], [\"PT15M\", \"Netherlands\"], [\"PT15M\", \"Netherlands\"], [\"PT15M\", \"Netherlands\"], [\"PT15M\", \"Netherlands\"], [\"PT15M\", \"Netherlands\"], [\"PT15M\", \"Netherlands\"], [\"PT15M\", \"Netherlands\"], [\"PT15M\", \"Netherlands\"], [\"PT15M\", \"Netherlands\"], [\"PT15M\", \"Netherlands\"], [\"PT15M\", \"Netherlands\"], [\"PT15M\", \"Netherlands\"], [\"PT15M\", \"Netherlands\"], [\"PT15M\", \"Netherlands\"]], \"hovertemplate\": \"<b>%{hovertext}</b><br><br>Control area=%{customdata[1]}<br>Datetime=%{x}<br>Physical Flow Value=%{y}<br>Resolution code=%{customdata[0]}<extra></extra>\", \"hovertext\": [\"Netherlands\", \"Netherlands\", \"Netherlands\", \"Netherlands\", \"Netherlands\", \"Netherlands\", \"Netherlands\", \"Netherlands\", \"Netherlands\", \"Netherlands\", \"Netherlands\", \"Netherlands\", \"Netherlands\", \"Netherlands\", \"Netherlands\", \"Netherlands\", \"Netherlands\", \"Netherlands\", \"Netherlands\", \"Netherlands\", \"Netherlands\", \"Netherlands\", \"Netherlands\", \"Netherlands\", \"Netherlands\", \"Netherlands\", \"Netherlands\", \"Netherlands\", \"Netherlands\", \"Netherlands\", \"Netherlands\", \"Netherlands\", \"Netherlands\", \"Netherlands\", \"Netherlands\", \"Netherlands\", \"Netherlands\", \"Netherlands\", \"Netherlands\", \"Netherlands\", \"Netherlands\", \"Netherlands\", \"Netherlands\", \"Netherlands\", \"Netherlands\", \"Netherlands\", \"Netherlands\", \"Netherlands\", \"Netherlands\", \"Netherlands\", \"Netherlands\", \"Netherlands\", \"Netherlands\", \"Netherlands\", \"Netherlands\", \"Netherlands\", \"Netherlands\", \"Netherlands\", \"Netherlands\", \"Netherlands\", \"Netherlands\", \"Netherlands\", \"Netherlands\", \"Netherlands\", \"Netherlands\", \"Netherlands\", \"Netherlands\", \"Netherlands\", \"Netherlands\", \"Netherlands\", \"Netherlands\", \"Netherlands\", \"Netherlands\", \"Netherlands\", \"Netherlands\", \"Netherlands\", \"Netherlands\", \"Netherlands\", \"Netherlands\", \"Netherlands\", \"Netherlands\", \"Netherlands\", \"Netherlands\", \"Netherlands\", \"Netherlands\", \"Netherlands\", \"Netherlands\", \"Netherlands\", \"Netherlands\", \"Netherlands\", \"Netherlands\", \"Netherlands\", \"Netherlands\", \"Netherlands\", \"Netherlands\", \"Netherlands\"], \"legendgroup\": \"Netherlands\", \"marker\": {\"color\": \"#636efa\", \"symbol\": \"circle\"}, \"mode\": \"markers\", \"name\": \"Netherlands\", \"orientation\": \"v\", \"showlegend\": true, \"type\": \"scatter\", \"x\": [\"2021-12-01T23:45:00+01:00\", \"2021-12-01T23:30:00+01:00\", \"2021-12-01T23:15:00+01:00\", \"2021-12-01T23:00:00+01:00\", \"2021-12-01T22:45:00+01:00\", \"2021-12-01T22:30:00+01:00\", \"2021-12-01T22:15:00+01:00\", \"2021-12-01T22:00:00+01:00\", \"2021-12-01T21:45:00+01:00\", \"2021-12-01T21:30:00+01:00\", \"2021-12-01T21:15:00+01:00\", \"2021-12-01T21:00:00+01:00\", \"2021-12-01T20:45:00+01:00\", \"2021-12-01T20:30:00+01:00\", \"2021-12-01T20:15:00+01:00\", \"2021-12-01T20:00:00+01:00\", \"2021-12-01T19:45:00+01:00\", \"2021-12-01T19:30:00+01:00\", \"2021-12-01T19:15:00+01:00\", \"2021-12-01T19:00:00+01:00\", \"2021-12-01T18:45:00+01:00\", \"2021-12-01T18:30:00+01:00\", \"2021-12-01T18:15:00+01:00\", \"2021-12-01T18:00:00+01:00\", \"2021-12-01T17:45:00+01:00\", \"2021-12-01T17:30:00+01:00\", \"2021-12-01T17:15:00+01:00\", \"2021-12-01T17:00:00+01:00\", \"2021-12-01T16:45:00+01:00\", \"2021-12-01T16:30:00+01:00\", \"2021-12-01T16:15:00+01:00\", \"2021-12-01T16:00:00+01:00\", \"2021-12-01T15:45:00+01:00\", \"2021-12-01T15:30:00+01:00\", \"2021-12-01T15:15:00+01:00\", \"2021-12-01T15:00:00+01:00\", \"2021-12-01T14:45:00+01:00\", \"2021-12-01T14:30:00+01:00\", \"2021-12-01T14:15:00+01:00\", \"2021-12-01T14:00:00+01:00\", \"2021-12-01T13:45:00+01:00\", \"2021-12-01T13:30:00+01:00\", \"2021-12-01T13:15:00+01:00\", \"2021-12-01T13:00:00+01:00\", \"2021-12-01T12:45:00+01:00\", \"2021-12-01T12:30:00+01:00\", \"2021-12-01T12:15:00+01:00\", \"2021-12-01T12:00:00+01:00\", \"2021-12-01T11:45:00+01:00\", \"2021-12-01T11:30:00+01:00\", \"2021-12-01T11:15:00+01:00\", \"2021-12-01T11:00:00+01:00\", \"2021-12-01T10:45:00+01:00\", \"2021-12-01T10:30:00+01:00\", \"2021-12-01T10:15:00+01:00\", \"2021-12-01T10:00:00+01:00\", \"2021-12-01T09:45:00+01:00\", \"2021-12-01T09:30:00+01:00\", \"2021-12-01T09:15:00+01:00\", \"2021-12-01T09:00:00+01:00\", \"2021-12-01T08:45:00+01:00\", \"2021-12-01T08:30:00+01:00\", \"2021-12-01T08:15:00+01:00\", \"2021-12-01T08:00:00+01:00\", \"2021-12-01T07:45:00+01:00\", \"2021-12-01T07:30:00+01:00\", \"2021-12-01T07:15:00+01:00\", \"2021-12-01T07:00:00+01:00\", \"2021-12-01T06:45:00+01:00\", \"2021-12-01T06:30:00+01:00\", \"2021-12-01T06:15:00+01:00\", \"2021-12-01T06:00:00+01:00\", \"2021-12-01T05:45:00+01:00\", \"2021-12-01T05:30:00+01:00\", \"2021-12-01T05:15:00+01:00\", \"2021-12-01T05:00:00+01:00\", \"2021-12-01T04:45:00+01:00\", \"2021-12-01T04:30:00+01:00\", \"2021-12-01T04:15:00+01:00\", \"2021-12-01T04:00:00+01:00\", \"2021-12-01T03:45:00+01:00\", \"2021-12-01T03:30:00+01:00\", \"2021-12-01T03:15:00+01:00\", \"2021-12-01T03:00:00+01:00\", \"2021-12-01T02:45:00+01:00\", \"2021-12-01T02:30:00+01:00\", \"2021-12-01T02:15:00+01:00\", \"2021-12-01T02:00:00+01:00\", \"2021-12-01T01:45:00+01:00\", \"2021-12-01T01:30:00+01:00\", \"2021-12-01T01:15:00+01:00\", \"2021-12-01T01:00:00+01:00\", \"2021-12-01T00:45:00+01:00\", \"2021-12-01T00:30:00+01:00\", \"2021-12-01T00:15:00+01:00\", \"2021-12-01T00:00:00+01:00\"], \"xaxis\": \"x\", \"y\": [-419.704, -494.816, -368.288, -480.8, -613.988, -664.408, -673.2760000000001, -555.82, -642.464, -652.964, -601.76, -637.996, -521.952, -717.3439999999999, -688.076, -729.34, -447.06800000000004, -386.62800000000004, -471.436, -594.2, -841.22, -752.0239999999999, -691.932, -638.388, -563.2, -566.828, -511.644, -253.86, 155.89600000000002, 349.296, 285.92, 304.228, 283.36, 261.972, 286.63599999999997, 195.584, 407.444, 452.832, 442.57599999999996, 209.672, 387.836, 470.296, 568.4, 562.6759999999999, 425.76, 366.26, 418.764, 352.292, 413.28, 442.19199999999995, 535.164, 430.44, 535.644, 522.36, 380.816, 410.64, 389.272, 284.82, 329.55199999999996, 259.30400000000003, 651.86, 744.98, 851.3439999999999, 808.096, 499.68800000000005, 548.964, 598.672, 572.216, 714.06, 799.824, 708.544, 675.628, 682.6160000000001, 782.1080000000001, 781.1560000000001, 880.1519999999999, 1169.264, 1218.38, 1177.016, 1087.088, 957.32, 904.012, 1040.688, 904.68, 772.8560000000001, 736.916, 724.4639999999999, 719.5360000000001, 368.392, 192.15599999999998, 265.35200000000003, 241.36, -381.348, -476.31199999999995, -621.188, -299.01599999999996], \"yaxis\": \"y\"}, {\"customdata\": [[\"PT15M\", \"UnitedKingdom\"], [\"PT15M\", \"UnitedKingdom\"], [\"PT15M\", \"UnitedKingdom\"], [\"PT15M\", \"UnitedKingdom\"], [\"PT15M\", \"UnitedKingdom\"], [\"PT15M\", \"UnitedKingdom\"], [\"PT15M\", \"UnitedKingdom\"], [\"PT15M\", \"UnitedKingdom\"], [\"PT15M\", \"UnitedKingdom\"], [\"PT15M\", \"UnitedKingdom\"], [\"PT15M\", \"UnitedKingdom\"], [\"PT15M\", \"UnitedKingdom\"], [\"PT15M\", \"UnitedKingdom\"], [\"PT15M\", \"UnitedKingdom\"], [\"PT15M\", \"UnitedKingdom\"], [\"PT15M\", \"UnitedKingdom\"], [\"PT15M\", \"UnitedKingdom\"], [\"PT15M\", \"UnitedKingdom\"], [\"PT15M\", \"UnitedKingdom\"], [\"PT15M\", \"UnitedKingdom\"], [\"PT15M\", \"UnitedKingdom\"], [\"PT15M\", \"UnitedKingdom\"], [\"PT15M\", \"UnitedKingdom\"], [\"PT15M\", \"UnitedKingdom\"], [\"PT15M\", \"UnitedKingdom\"], [\"PT15M\", \"UnitedKingdom\"], [\"PT15M\", \"UnitedKingdom\"], [\"PT15M\", \"UnitedKingdom\"], [\"PT15M\", \"UnitedKingdom\"], [\"PT15M\", \"UnitedKingdom\"], [\"PT15M\", \"UnitedKingdom\"], [\"PT15M\", \"UnitedKingdom\"], [\"PT15M\", \"UnitedKingdom\"], [\"PT15M\", \"UnitedKingdom\"], [\"PT15M\", \"UnitedKingdom\"], [\"PT15M\", \"UnitedKingdom\"], [\"PT15M\", \"UnitedKingdom\"], [\"PT15M\", \"UnitedKingdom\"], [\"PT15M\", \"UnitedKingdom\"], [\"PT15M\", \"UnitedKingdom\"], [\"PT15M\", \"UnitedKingdom\"], [\"PT15M\", \"UnitedKingdom\"], [\"PT15M\", \"UnitedKingdom\"], [\"PT15M\", \"UnitedKingdom\"], [\"PT15M\", \"UnitedKingdom\"], [\"PT15M\", \"UnitedKingdom\"], [\"PT15M\", \"UnitedKingdom\"], [\"PT15M\", \"UnitedKingdom\"], [\"PT15M\", \"UnitedKingdom\"], [\"PT15M\", \"UnitedKingdom\"], [\"PT15M\", \"UnitedKingdom\"], [\"PT15M\", \"UnitedKingdom\"], [\"PT15M\", \"UnitedKingdom\"], [\"PT15M\", \"UnitedKingdom\"], [\"PT15M\", \"UnitedKingdom\"], [\"PT15M\", \"UnitedKingdom\"], [\"PT15M\", \"UnitedKingdom\"], [\"PT15M\", \"UnitedKingdom\"], [\"PT15M\", \"UnitedKingdom\"], [\"PT15M\", \"UnitedKingdom\"], [\"PT15M\", \"UnitedKingdom\"], [\"PT15M\", \"UnitedKingdom\"], [\"PT15M\", \"UnitedKingdom\"], [\"PT15M\", \"UnitedKingdom\"], [\"PT15M\", \"UnitedKingdom\"], [\"PT15M\", \"UnitedKingdom\"], [\"PT15M\", \"UnitedKingdom\"], [\"PT15M\", \"UnitedKingdom\"], [\"PT15M\", \"UnitedKingdom\"], [\"PT15M\", \"UnitedKingdom\"], [\"PT15M\", \"UnitedKingdom\"], [\"PT15M\", \"UnitedKingdom\"], [\"PT15M\", \"UnitedKingdom\"], [\"PT15M\", \"UnitedKingdom\"], [\"PT15M\", \"UnitedKingdom\"], [\"PT15M\", \"UnitedKingdom\"], [\"PT15M\", \"UnitedKingdom\"], [\"PT15M\", \"UnitedKingdom\"], [\"PT15M\", \"UnitedKingdom\"], [\"PT15M\", \"UnitedKingdom\"], [\"PT15M\", \"UnitedKingdom\"], [\"PT15M\", \"UnitedKingdom\"], [\"PT15M\", \"UnitedKingdom\"], [\"PT15M\", \"UnitedKingdom\"], [\"PT15M\", \"UnitedKingdom\"], [\"PT15M\", \"UnitedKingdom\"], [\"PT15M\", \"UnitedKingdom\"], [\"PT15M\", \"UnitedKingdom\"], [\"PT15M\", \"UnitedKingdom\"], [\"PT15M\", \"UnitedKingdom\"], [\"PT15M\", \"UnitedKingdom\"], [\"PT15M\", \"UnitedKingdom\"], [\"PT15M\", \"UnitedKingdom\"], [\"PT15M\", \"UnitedKingdom\"], [\"PT15M\", \"UnitedKingdom\"], [\"PT15M\", \"UnitedKingdom\"]], \"hovertemplate\": \"<b>%{hovertext}</b><br><br>Control area=%{customdata[1]}<br>Datetime=%{x}<br>Physical Flow Value=%{y}<br>Resolution code=%{customdata[0]}<extra></extra>\", \"hovertext\": [\"UnitedKingdom\", \"UnitedKingdom\", \"UnitedKingdom\", \"UnitedKingdom\", \"UnitedKingdom\", \"UnitedKingdom\", \"UnitedKingdom\", \"UnitedKingdom\", \"UnitedKingdom\", \"UnitedKingdom\", \"UnitedKingdom\", \"UnitedKingdom\", \"UnitedKingdom\", \"UnitedKingdom\", \"UnitedKingdom\", \"UnitedKingdom\", \"UnitedKingdom\", \"UnitedKingdom\", \"UnitedKingdom\", \"UnitedKingdom\", \"UnitedKingdom\", \"UnitedKingdom\", \"UnitedKingdom\", \"UnitedKingdom\", \"UnitedKingdom\", \"UnitedKingdom\", \"UnitedKingdom\", \"UnitedKingdom\", \"UnitedKingdom\", \"UnitedKingdom\", \"UnitedKingdom\", \"UnitedKingdom\", \"UnitedKingdom\", \"UnitedKingdom\", \"UnitedKingdom\", \"UnitedKingdom\", \"UnitedKingdom\", \"UnitedKingdom\", \"UnitedKingdom\", \"UnitedKingdom\", \"UnitedKingdom\", \"UnitedKingdom\", \"UnitedKingdom\", \"UnitedKingdom\", \"UnitedKingdom\", \"UnitedKingdom\", \"UnitedKingdom\", \"UnitedKingdom\", \"UnitedKingdom\", \"UnitedKingdom\", \"UnitedKingdom\", \"UnitedKingdom\", \"UnitedKingdom\", \"UnitedKingdom\", \"UnitedKingdom\", \"UnitedKingdom\", \"UnitedKingdom\", \"UnitedKingdom\", \"UnitedKingdom\", \"UnitedKingdom\", \"UnitedKingdom\", \"UnitedKingdom\", \"UnitedKingdom\", \"UnitedKingdom\", \"UnitedKingdom\", \"UnitedKingdom\", \"UnitedKingdom\", \"UnitedKingdom\", \"UnitedKingdom\", \"UnitedKingdom\", \"UnitedKingdom\", \"UnitedKingdom\", \"UnitedKingdom\", \"UnitedKingdom\", \"UnitedKingdom\", \"UnitedKingdom\", \"UnitedKingdom\", \"UnitedKingdom\", \"UnitedKingdom\", \"UnitedKingdom\", \"UnitedKingdom\", \"UnitedKingdom\", \"UnitedKingdom\", \"UnitedKingdom\", \"UnitedKingdom\", \"UnitedKingdom\", \"UnitedKingdom\", \"UnitedKingdom\", \"UnitedKingdom\", \"UnitedKingdom\", \"UnitedKingdom\", \"UnitedKingdom\", \"UnitedKingdom\", \"UnitedKingdom\", \"UnitedKingdom\", \"UnitedKingdom\"], \"legendgroup\": \"UnitedKingdom\", \"marker\": {\"color\": \"#EF553B\", \"symbol\": \"circle\"}, \"mode\": \"markers\", \"name\": \"UnitedKingdom\", \"orientation\": \"v\", \"showlegend\": true, \"type\": \"scatter\", \"x\": [\"2021-12-01T23:45:00+01:00\", \"2021-12-01T23:30:00+01:00\", \"2021-12-01T23:15:00+01:00\", \"2021-12-01T23:00:00+01:00\", \"2021-12-01T22:45:00+01:00\", \"2021-12-01T22:30:00+01:00\", \"2021-12-01T22:15:00+01:00\", \"2021-12-01T22:00:00+01:00\", \"2021-12-01T21:45:00+01:00\", \"2021-12-01T21:30:00+01:00\", \"2021-12-01T21:15:00+01:00\", \"2021-12-01T21:00:00+01:00\", \"2021-12-01T20:45:00+01:00\", \"2021-12-01T20:30:00+01:00\", \"2021-12-01T20:15:00+01:00\", \"2021-12-01T20:00:00+01:00\", \"2021-12-01T19:45:00+01:00\", \"2021-12-01T19:30:00+01:00\", \"2021-12-01T19:15:00+01:00\", \"2021-12-01T19:00:00+01:00\", \"2021-12-01T18:45:00+01:00\", \"2021-12-01T18:30:00+01:00\", \"2021-12-01T18:15:00+01:00\", \"2021-12-01T18:00:00+01:00\", \"2021-12-01T17:45:00+01:00\", \"2021-12-01T17:30:00+01:00\", \"2021-12-01T17:15:00+01:00\", \"2021-12-01T17:00:00+01:00\", \"2021-12-01T16:45:00+01:00\", \"2021-12-01T16:30:00+01:00\", \"2021-12-01T16:15:00+01:00\", \"2021-12-01T16:00:00+01:00\", \"2021-12-01T15:45:00+01:00\", \"2021-12-01T15:30:00+01:00\", \"2021-12-01T15:15:00+01:00\", \"2021-12-01T15:00:00+01:00\", \"2021-12-01T14:45:00+01:00\", \"2021-12-01T14:30:00+01:00\", \"2021-12-01T14:15:00+01:00\", \"2021-12-01T14:00:00+01:00\", \"2021-12-01T13:45:00+01:00\", \"2021-12-01T13:30:00+01:00\", \"2021-12-01T13:15:00+01:00\", \"2021-12-01T13:00:00+01:00\", \"2021-12-01T12:45:00+01:00\", \"2021-12-01T12:30:00+01:00\", \"2021-12-01T12:15:00+01:00\", \"2021-12-01T12:00:00+01:00\", \"2021-12-01T11:45:00+01:00\", \"2021-12-01T11:30:00+01:00\", \"2021-12-01T11:15:00+01:00\", \"2021-12-01T11:00:00+01:00\", \"2021-12-01T10:45:00+01:00\", \"2021-12-01T10:30:00+01:00\", \"2021-12-01T10:15:00+01:00\", \"2021-12-01T10:00:00+01:00\", \"2021-12-01T09:45:00+01:00\", \"2021-12-01T09:30:00+01:00\", \"2021-12-01T09:15:00+01:00\", \"2021-12-01T09:00:00+01:00\", \"2021-12-01T08:45:00+01:00\", \"2021-12-01T08:30:00+01:00\", \"2021-12-01T08:15:00+01:00\", \"2021-12-01T08:00:00+01:00\", \"2021-12-01T07:45:00+01:00\", \"2021-12-01T07:30:00+01:00\", \"2021-12-01T07:15:00+01:00\", \"2021-12-01T07:00:00+01:00\", \"2021-12-01T06:45:00+01:00\", \"2021-12-01T06:30:00+01:00\", \"2021-12-01T06:15:00+01:00\", \"2021-12-01T06:00:00+01:00\", \"2021-12-01T05:45:00+01:00\", \"2021-12-01T05:30:00+01:00\", \"2021-12-01T05:15:00+01:00\", \"2021-12-01T05:00:00+01:00\", \"2021-12-01T04:45:00+01:00\", \"2021-12-01T04:30:00+01:00\", \"2021-12-01T04:15:00+01:00\", \"2021-12-01T04:00:00+01:00\", \"2021-12-01T03:45:00+01:00\", \"2021-12-01T03:30:00+01:00\", \"2021-12-01T03:15:00+01:00\", \"2021-12-01T03:00:00+01:00\", \"2021-12-01T02:45:00+01:00\", \"2021-12-01T02:30:00+01:00\", \"2021-12-01T02:15:00+01:00\", \"2021-12-01T02:00:00+01:00\", \"2021-12-01T01:45:00+01:00\", \"2021-12-01T01:30:00+01:00\", \"2021-12-01T01:15:00+01:00\", \"2021-12-01T01:00:00+01:00\", \"2021-12-01T00:45:00+01:00\", \"2021-12-01T00:30:00+01:00\", \"2021-12-01T00:15:00+01:00\", \"2021-12-01T00:00:00+01:00\"], \"xaxis\": \"x\", \"y\": [1021.7739999999999, 1023.455, 1023.362, 1022.415, 900.567, 899.155, 899.2760000000001, 900.437, 1024.272, 1025.628, 1025.405, 1025.5539999999999, 1044.2089999999998, 1044.181, 1044.32, 1044.2089999999998, 1044.2830000000001, 1044.274, 1044.292, 1044.292, 1044.2830000000001, 1044.302, 1044.237, 1044.19, 1044.33, 1044.2, 1044.172, 1041.813, 871.743, 869.2080000000001, 869.2360000000001, 869.543, 925.945, 926.084, 926.065, 926.1489999999999, 909.5369999999999, 909.732, 909.5089999999999, 903.696, 641.966, 635.874, 635.967, 636.376, 724.5169999999999, 725.13, 725.12, 728.0360000000001, 914.895, 917.8939999999999, 917.829, 916.919, 803.53, 802.295, 802.415, 804.3, 959.216, 961.4069999999999, 961.2769999999999, 935.166, 417.13800000000003, 390.849, 390.72900000000004, 417.574, 944.052, 971.529, 971.566, 970.804, 867.008, 866.3480000000001, 866.237, 839.7819999999999, 321.577, 295.159, 295.168, 293.116, 139.306, 137.27200000000002, 137.282, 143.067, 403.785, 409.978, 410.043, 438.92199999999997, 982.467, 1012.043, 1011.9960000000001, 1012.061, 1023.427, 1023.3439999999999, 1023.529, 1023.362, 1023.566, 1023.4830000000001, 1023.585, 1022.926], \"yaxis\": \"y\"}, {\"customdata\": [[\"PT15M\", \"Luxembourg\"], [\"PT15M\", \"Luxembourg\"], [\"PT15M\", \"Luxembourg\"], [\"PT15M\", \"Luxembourg\"], [\"PT15M\", \"Luxembourg\"], [\"PT15M\", \"Luxembourg\"], [\"PT15M\", \"Luxembourg\"], [\"PT15M\", \"Luxembourg\"], [\"PT15M\", \"Luxembourg\"], [\"PT15M\", \"Luxembourg\"], [\"PT15M\", \"Luxembourg\"], [\"PT15M\", \"Luxembourg\"], [\"PT15M\", \"Luxembourg\"], [\"PT15M\", \"Luxembourg\"], [\"PT15M\", \"Luxembourg\"], [\"PT15M\", \"Luxembourg\"], [\"PT15M\", \"Luxembourg\"], [\"PT15M\", \"Luxembourg\"], [\"PT15M\", \"Luxembourg\"], [\"PT15M\", \"Luxembourg\"], [\"PT15M\", \"Luxembourg\"], [\"PT15M\", \"Luxembourg\"], [\"PT15M\", \"Luxembourg\"], [\"PT15M\", \"Luxembourg\"], [\"PT15M\", \"Luxembourg\"], [\"PT15M\", \"Luxembourg\"], [\"PT15M\", \"Luxembourg\"], [\"PT15M\", \"Luxembourg\"], [\"PT15M\", \"Luxembourg\"], [\"PT15M\", \"Luxembourg\"], [\"PT15M\", \"Luxembourg\"], [\"PT15M\", \"Luxembourg\"], [\"PT15M\", \"Luxembourg\"], [\"PT15M\", \"Luxembourg\"], [\"PT15M\", \"Luxembourg\"], [\"PT15M\", \"Luxembourg\"], [\"PT15M\", \"Luxembourg\"], [\"PT15M\", \"Luxembourg\"], [\"PT15M\", \"Luxembourg\"], [\"PT15M\", \"Luxembourg\"], [\"PT15M\", \"Luxembourg\"], [\"PT15M\", \"Luxembourg\"], [\"PT15M\", \"Luxembourg\"], [\"PT15M\", \"Luxembourg\"], [\"PT15M\", \"Luxembourg\"], [\"PT15M\", \"Luxembourg\"], [\"PT15M\", \"Luxembourg\"], [\"PT15M\", \"Luxembourg\"], [\"PT15M\", \"Luxembourg\"], [\"PT15M\", \"Luxembourg\"], [\"PT15M\", \"Luxembourg\"], [\"PT15M\", \"Luxembourg\"], [\"PT15M\", \"Luxembourg\"], [\"PT15M\", \"Luxembourg\"], [\"PT15M\", \"Luxembourg\"], [\"PT15M\", \"Luxembourg\"], [\"PT15M\", \"Luxembourg\"], [\"PT15M\", \"Luxembourg\"], [\"PT15M\", \"Luxembourg\"], [\"PT15M\", \"Luxembourg\"], [\"PT15M\", \"Luxembourg\"], [\"PT15M\", \"Luxembourg\"], [\"PT15M\", \"Luxembourg\"], [\"PT15M\", \"Luxembourg\"], [\"PT15M\", \"Luxembourg\"], [\"PT15M\", \"Luxembourg\"], [\"PT15M\", \"Luxembourg\"], [\"PT15M\", \"Luxembourg\"], [\"PT15M\", \"Luxembourg\"], [\"PT15M\", \"Luxembourg\"], [\"PT15M\", \"Luxembourg\"], [\"PT15M\", \"Luxembourg\"], [\"PT15M\", \"Luxembourg\"], [\"PT15M\", \"Luxembourg\"], [\"PT15M\", \"Luxembourg\"], [\"PT15M\", \"Luxembourg\"], [\"PT15M\", \"Luxembourg\"], [\"PT15M\", \"Luxembourg\"], [\"PT15M\", \"Luxembourg\"], [\"PT15M\", \"Luxembourg\"], [\"PT15M\", \"Luxembourg\"], [\"PT15M\", \"Luxembourg\"], [\"PT15M\", \"Luxembourg\"], [\"PT15M\", \"Luxembourg\"], [\"PT15M\", \"Luxembourg\"], [\"PT15M\", \"Luxembourg\"], [\"PT15M\", \"Luxembourg\"], [\"PT15M\", \"Luxembourg\"], [\"PT15M\", \"Luxembourg\"], [\"PT15M\", \"Luxembourg\"], [\"PT15M\", \"Luxembourg\"], [\"PT15M\", \"Luxembourg\"], [\"PT15M\", \"Luxembourg\"], [\"PT15M\", \"Luxembourg\"], [\"PT15M\", \"Luxembourg\"], [\"PT15M\", \"Luxembourg\"]], \"hovertemplate\": \"<b>%{hovertext}</b><br><br>Control area=%{customdata[1]}<br>Datetime=%{x}<br>Physical Flow Value=%{y}<br>Resolution code=%{customdata[0]}<extra></extra>\", \"hovertext\": [\"Luxembourg\", \"Luxembourg\", \"Luxembourg\", \"Luxembourg\", \"Luxembourg\", \"Luxembourg\", \"Luxembourg\", \"Luxembourg\", \"Luxembourg\", \"Luxembourg\", \"Luxembourg\", \"Luxembourg\", \"Luxembourg\", \"Luxembourg\", \"Luxembourg\", \"Luxembourg\", \"Luxembourg\", \"Luxembourg\", \"Luxembourg\", \"Luxembourg\", \"Luxembourg\", \"Luxembourg\", \"Luxembourg\", \"Luxembourg\", \"Luxembourg\", \"Luxembourg\", \"Luxembourg\", \"Luxembourg\", \"Luxembourg\", \"Luxembourg\", \"Luxembourg\", \"Luxembourg\", \"Luxembourg\", \"Luxembourg\", \"Luxembourg\", \"Luxembourg\", \"Luxembourg\", \"Luxembourg\", \"Luxembourg\", \"Luxembourg\", \"Luxembourg\", \"Luxembourg\", \"Luxembourg\", \"Luxembourg\", \"Luxembourg\", \"Luxembourg\", \"Luxembourg\", \"Luxembourg\", \"Luxembourg\", \"Luxembourg\", \"Luxembourg\", \"Luxembourg\", \"Luxembourg\", \"Luxembourg\", \"Luxembourg\", \"Luxembourg\", \"Luxembourg\", \"Luxembourg\", \"Luxembourg\", \"Luxembourg\", \"Luxembourg\", \"Luxembourg\", \"Luxembourg\", \"Luxembourg\", \"Luxembourg\", \"Luxembourg\", \"Luxembourg\", \"Luxembourg\", \"Luxembourg\", \"Luxembourg\", \"Luxembourg\", \"Luxembourg\", \"Luxembourg\", \"Luxembourg\", \"Luxembourg\", \"Luxembourg\", \"Luxembourg\", \"Luxembourg\", \"Luxembourg\", \"Luxembourg\", \"Luxembourg\", \"Luxembourg\", \"Luxembourg\", \"Luxembourg\", \"Luxembourg\", \"Luxembourg\", \"Luxembourg\", \"Luxembourg\", \"Luxembourg\", \"Luxembourg\", \"Luxembourg\", \"Luxembourg\", \"Luxembourg\", \"Luxembourg\", \"Luxembourg\", \"Luxembourg\"], \"legendgroup\": \"Luxembourg\", \"marker\": {\"color\": \"#00cc96\", \"symbol\": \"circle\"}, \"mode\": \"markers\", \"name\": \"Luxembourg\", \"orientation\": \"v\", \"showlegend\": true, \"type\": \"scatter\", \"x\": [\"2021-12-01T23:45:00+01:00\", \"2021-12-01T23:30:00+01:00\", \"2021-12-01T23:15:00+01:00\", \"2021-12-01T23:00:00+01:00\", \"2021-12-01T22:45:00+01:00\", \"2021-12-01T22:30:00+01:00\", \"2021-12-01T22:15:00+01:00\", \"2021-12-01T22:00:00+01:00\", \"2021-12-01T21:45:00+01:00\", \"2021-12-01T21:30:00+01:00\", \"2021-12-01T21:15:00+01:00\", \"2021-12-01T21:00:00+01:00\", \"2021-12-01T20:45:00+01:00\", \"2021-12-01T20:30:00+01:00\", \"2021-12-01T20:15:00+01:00\", \"2021-12-01T20:00:00+01:00\", \"2021-12-01T19:45:00+01:00\", \"2021-12-01T19:30:00+01:00\", \"2021-12-01T19:15:00+01:00\", \"2021-12-01T19:00:00+01:00\", \"2021-12-01T18:45:00+01:00\", \"2021-12-01T18:30:00+01:00\", \"2021-12-01T18:15:00+01:00\", \"2021-12-01T18:00:00+01:00\", \"2021-12-01T17:45:00+01:00\", \"2021-12-01T17:30:00+01:00\", \"2021-12-01T17:15:00+01:00\", \"2021-12-01T17:00:00+01:00\", \"2021-12-01T16:45:00+01:00\", \"2021-12-01T16:30:00+01:00\", \"2021-12-01T16:15:00+01:00\", \"2021-12-01T16:00:00+01:00\", \"2021-12-01T15:45:00+01:00\", \"2021-12-01T15:30:00+01:00\", \"2021-12-01T15:15:00+01:00\", \"2021-12-01T15:00:00+01:00\", \"2021-12-01T14:45:00+01:00\", \"2021-12-01T14:30:00+01:00\", \"2021-12-01T14:15:00+01:00\", \"2021-12-01T14:00:00+01:00\", \"2021-12-01T13:45:00+01:00\", \"2021-12-01T13:30:00+01:00\", \"2021-12-01T13:15:00+01:00\", \"2021-12-01T13:00:00+01:00\", \"2021-12-01T12:45:00+01:00\", \"2021-12-01T12:30:00+01:00\", \"2021-12-01T12:15:00+01:00\", \"2021-12-01T12:00:00+01:00\", \"2021-12-01T11:45:00+01:00\", \"2021-12-01T11:30:00+01:00\", \"2021-12-01T11:15:00+01:00\", \"2021-12-01T11:00:00+01:00\", \"2021-12-01T10:45:00+01:00\", \"2021-12-01T10:30:00+01:00\", \"2021-12-01T10:15:00+01:00\", \"2021-12-01T10:00:00+01:00\", \"2021-12-01T09:45:00+01:00\", \"2021-12-01T09:30:00+01:00\", \"2021-12-01T09:15:00+01:00\", \"2021-12-01T09:00:00+01:00\", \"2021-12-01T08:45:00+01:00\", \"2021-12-01T08:30:00+01:00\", \"2021-12-01T08:15:00+01:00\", \"2021-12-01T08:00:00+01:00\", \"2021-12-01T07:45:00+01:00\", \"2021-12-01T07:30:00+01:00\", \"2021-12-01T07:15:00+01:00\", \"2021-12-01T07:00:00+01:00\", \"2021-12-01T06:45:00+01:00\", \"2021-12-01T06:30:00+01:00\", \"2021-12-01T06:15:00+01:00\", \"2021-12-01T06:00:00+01:00\", \"2021-12-01T05:45:00+01:00\", \"2021-12-01T05:30:00+01:00\", \"2021-12-01T05:15:00+01:00\", \"2021-12-01T05:00:00+01:00\", \"2021-12-01T04:45:00+01:00\", \"2021-12-01T04:30:00+01:00\", \"2021-12-01T04:15:00+01:00\", \"2021-12-01T04:00:00+01:00\", \"2021-12-01T03:45:00+01:00\", \"2021-12-01T03:30:00+01:00\", \"2021-12-01T03:15:00+01:00\", \"2021-12-01T03:00:00+01:00\", \"2021-12-01T02:45:00+01:00\", \"2021-12-01T02:30:00+01:00\", \"2021-12-01T02:15:00+01:00\", \"2021-12-01T02:00:00+01:00\", \"2021-12-01T01:45:00+01:00\", \"2021-12-01T01:30:00+01:00\", \"2021-12-01T01:15:00+01:00\", \"2021-12-01T01:00:00+01:00\", \"2021-12-01T00:45:00+01:00\", \"2021-12-01T00:30:00+01:00\", \"2021-12-01T00:15:00+01:00\", \"2021-12-01T00:00:00+01:00\"], \"xaxis\": \"x\", \"y\": [-53.708, -57.983000000000004, -24.081999999999997, -9.66, 2.907, 10.273, 6.273, -11.136, 22.386999999999997, 5.864, 48.891000000000005, -10.537, 13.1, -13.720999999999998, -13.276, -38.499, 13.655999999999999, -8.379, -66.42399999999999, -75.357, -43.343999999999994, -40.157, 18.777, 7.3629999999999995, -18.774, 29.433000000000003, 25.605999999999998, 17.017, 51.726000000000006, 99.956, 104.59700000000001, 143.025, 84.875, 77.168, 72.638, 57.917, 100.56299999999999, 80.65100000000001, 59.058, 51.988, 70.22, 56.583, 66.084, 69.53, 106.882, 81.764, 99.292, 117.089, 132.781, 122.803, 116.405, 103.785, 120.385, 96.243, 93.464, 75.488, 100.73700000000001, 97.745, 107.821, 98.10799999999999, 94.70200000000001, 87.07799999999999, 103.501, 131.588, 97.316, 93.632, 96.927, 111.415, 146.281, 151.04399999999998, 162.69, 170.732, 169.063, 189.511, 164.183, 176.321, 219.52, 212.86700000000002, 208.609, 205.31900000000002, 195.455, 194.31099999999998, 189.24200000000002, 160.857, 101.179, 101.866, 101.619, 67.88600000000001, 47.963, 12.14, 19.413, 14.55, -46.478, -17.605, -47.253, -78.695], \"yaxis\": \"y\"}, {\"customdata\": [[\"PT15M\", \"Germany\"], [\"PT15M\", \"Germany\"], [\"PT15M\", \"Germany\"], [\"PT15M\", \"Germany\"], [\"PT15M\", \"Germany\"], [\"PT15M\", \"Germany\"], [\"PT15M\", \"Germany\"], [\"PT15M\", \"Germany\"], [\"PT15M\", \"Germany\"], [\"PT15M\", \"Germany\"], [\"PT15M\", \"Germany\"], [\"PT15M\", \"Germany\"], [\"PT15M\", \"Germany\"], [\"PT15M\", \"Germany\"], [\"PT15M\", \"Germany\"], [\"PT15M\", \"Germany\"], [\"PT15M\", \"Germany\"], [\"PT15M\", \"Germany\"], [\"PT15M\", \"Germany\"], [\"PT15M\", \"Germany\"], [\"PT15M\", \"Germany\"], [\"PT15M\", \"Germany\"], [\"PT15M\", \"Germany\"], [\"PT15M\", \"Germany\"], [\"PT15M\", \"Germany\"], [\"PT15M\", \"Germany\"], [\"PT15M\", \"Germany\"], [\"PT15M\", \"Germany\"], [\"PT15M\", \"Germany\"], [\"PT15M\", \"Germany\"], [\"PT15M\", \"Germany\"], [\"PT15M\", \"Germany\"], [\"PT15M\", \"Germany\"], [\"PT15M\", \"Germany\"], [\"PT15M\", \"Germany\"], [\"PT15M\", \"Germany\"], [\"PT15M\", \"Germany\"], [\"PT15M\", \"Germany\"], [\"PT15M\", \"Germany\"], [\"PT15M\", \"Germany\"], [\"PT15M\", \"Germany\"], [\"PT15M\", \"Germany\"], [\"PT15M\", \"Germany\"], [\"PT15M\", \"Germany\"], [\"PT15M\", \"Germany\"], [\"PT15M\", \"Germany\"], [\"PT15M\", \"Germany\"], [\"PT15M\", \"Germany\"], [\"PT15M\", \"Germany\"], [\"PT15M\", \"Germany\"], [\"PT15M\", \"Germany\"], [\"PT15M\", \"Germany\"], [\"PT15M\", \"Germany\"], [\"PT15M\", \"Germany\"], [\"PT15M\", \"Germany\"], [\"PT15M\", \"Germany\"], [\"PT15M\", \"Germany\"], [\"PT15M\", \"Germany\"], [\"PT15M\", \"Germany\"], [\"PT15M\", \"Germany\"], [\"PT15M\", \"Germany\"], [\"PT15M\", \"Germany\"], [\"PT15M\", \"Germany\"], [\"PT15M\", \"Germany\"], [\"PT15M\", \"Germany\"], [\"PT15M\", \"Germany\"], [\"PT15M\", \"Germany\"], [\"PT15M\", \"Germany\"], [\"PT15M\", \"Germany\"], [\"PT15M\", \"Germany\"], [\"PT15M\", \"Germany\"], [\"PT15M\", \"Germany\"], [\"PT15M\", \"Germany\"], [\"PT15M\", \"Germany\"], [\"PT15M\", \"Germany\"], [\"PT15M\", \"Germany\"], [\"PT15M\", \"Germany\"], [\"PT15M\", \"Germany\"], [\"PT15M\", \"Germany\"], [\"PT15M\", \"Germany\"], [\"PT15M\", \"Germany\"], [\"PT15M\", \"Germany\"], [\"PT15M\", \"Germany\"], [\"PT15M\", \"Germany\"], [\"PT15M\", \"Germany\"], [\"PT15M\", \"Germany\"], [\"PT15M\", \"Germany\"], [\"PT15M\", \"Germany\"], [\"PT15M\", \"Germany\"], [\"PT15M\", \"Germany\"], [\"PT15M\", \"Germany\"], [\"PT15M\", \"Germany\"], [\"PT15M\", \"Germany\"], [\"PT15M\", \"Germany\"], [\"PT15M\", \"Germany\"], [\"PT15M\", \"Germany\"]], \"hovertemplate\": \"<b>%{hovertext}</b><br><br>Control area=%{customdata[1]}<br>Datetime=%{x}<br>Physical Flow Value=%{y}<br>Resolution code=%{customdata[0]}<extra></extra>\", \"hovertext\": [\"Germany\", \"Germany\", \"Germany\", \"Germany\", \"Germany\", \"Germany\", \"Germany\", \"Germany\", \"Germany\", \"Germany\", \"Germany\", \"Germany\", \"Germany\", \"Germany\", \"Germany\", \"Germany\", \"Germany\", \"Germany\", \"Germany\", \"Germany\", \"Germany\", \"Germany\", \"Germany\", \"Germany\", \"Germany\", \"Germany\", \"Germany\", \"Germany\", \"Germany\", \"Germany\", \"Germany\", \"Germany\", \"Germany\", \"Germany\", \"Germany\", \"Germany\", \"Germany\", \"Germany\", \"Germany\", \"Germany\", \"Germany\", \"Germany\", \"Germany\", \"Germany\", \"Germany\", \"Germany\", \"Germany\", \"Germany\", \"Germany\", \"Germany\", \"Germany\", \"Germany\", \"Germany\", \"Germany\", \"Germany\", \"Germany\", \"Germany\", \"Germany\", \"Germany\", \"Germany\", \"Germany\", \"Germany\", \"Germany\", \"Germany\", \"Germany\", \"Germany\", \"Germany\", \"Germany\", \"Germany\", \"Germany\", \"Germany\", \"Germany\", \"Germany\", \"Germany\", \"Germany\", \"Germany\", \"Germany\", \"Germany\", \"Germany\", \"Germany\", \"Germany\", \"Germany\", \"Germany\", \"Germany\", \"Germany\", \"Germany\", \"Germany\", \"Germany\", \"Germany\", \"Germany\", \"Germany\", \"Germany\", \"Germany\", \"Germany\", \"Germany\", \"Germany\"], \"legendgroup\": \"Germany\", \"marker\": {\"color\": \"#ab63fa\", \"symbol\": \"circle\"}, \"mode\": \"markers\", \"name\": \"Germany\", \"orientation\": \"v\", \"showlegend\": true, \"type\": \"scatter\", \"x\": [\"2021-12-01T23:45:00+01:00\", \"2021-12-01T23:30:00+01:00\", \"2021-12-01T23:15:00+01:00\", \"2021-12-01T23:00:00+01:00\", \"2021-12-01T22:45:00+01:00\", \"2021-12-01T22:30:00+01:00\", \"2021-12-01T22:15:00+01:00\", \"2021-12-01T22:00:00+01:00\", \"2021-12-01T21:45:00+01:00\", \"2021-12-01T21:30:00+01:00\", \"2021-12-01T21:15:00+01:00\", \"2021-12-01T21:00:00+01:00\", \"2021-12-01T20:45:00+01:00\", \"2021-12-01T20:30:00+01:00\", \"2021-12-01T20:15:00+01:00\", \"2021-12-01T20:00:00+01:00\", \"2021-12-01T19:45:00+01:00\", \"2021-12-01T19:30:00+01:00\", \"2021-12-01T19:15:00+01:00\", \"2021-12-01T19:00:00+01:00\", \"2021-12-01T18:45:00+01:00\", \"2021-12-01T18:30:00+01:00\", \"2021-12-01T18:15:00+01:00\", \"2021-12-01T18:00:00+01:00\", \"2021-12-01T17:45:00+01:00\", \"2021-12-01T17:30:00+01:00\", \"2021-12-01T17:15:00+01:00\", \"2021-12-01T17:00:00+01:00\", \"2021-12-01T16:45:00+01:00\", \"2021-12-01T16:30:00+01:00\", \"2021-12-01T16:15:00+01:00\", \"2021-12-01T16:00:00+01:00\", \"2021-12-01T15:45:00+01:00\", \"2021-12-01T15:30:00+01:00\", \"2021-12-01T15:15:00+01:00\", \"2021-12-01T15:00:00+01:00\", \"2021-12-01T14:45:00+01:00\", \"2021-12-01T14:30:00+01:00\", \"2021-12-01T14:15:00+01:00\", \"2021-12-01T14:00:00+01:00\", \"2021-12-01T13:45:00+01:00\", \"2021-12-01T13:30:00+01:00\", \"2021-12-01T13:15:00+01:00\", \"2021-12-01T13:00:00+01:00\", \"2021-12-01T12:45:00+01:00\", \"2021-12-01T12:30:00+01:00\", \"2021-12-01T12:15:00+01:00\", \"2021-12-01T12:00:00+01:00\", \"2021-12-01T11:45:00+01:00\", \"2021-12-01T11:30:00+01:00\", \"2021-12-01T11:15:00+01:00\", \"2021-12-01T11:00:00+01:00\", \"2021-12-01T10:45:00+01:00\", \"2021-12-01T10:30:00+01:00\", \"2021-12-01T10:15:00+01:00\", \"2021-12-01T10:00:00+01:00\", \"2021-12-01T09:45:00+01:00\", \"2021-12-01T09:30:00+01:00\", \"2021-12-01T09:15:00+01:00\", \"2021-12-01T09:00:00+01:00\", \"2021-12-01T08:45:00+01:00\", \"2021-12-01T08:30:00+01:00\", \"2021-12-01T08:15:00+01:00\", \"2021-12-01T08:00:00+01:00\", \"2021-12-01T07:45:00+01:00\", \"2021-12-01T07:30:00+01:00\", \"2021-12-01T07:15:00+01:00\", \"2021-12-01T07:00:00+01:00\", \"2021-12-01T06:45:00+01:00\", \"2021-12-01T06:30:00+01:00\", \"2021-12-01T06:15:00+01:00\", \"2021-12-01T06:00:00+01:00\", \"2021-12-01T05:45:00+01:00\", \"2021-12-01T05:30:00+01:00\", \"2021-12-01T05:15:00+01:00\", \"2021-12-01T05:00:00+01:00\", \"2021-12-01T04:45:00+01:00\", \"2021-12-01T04:30:00+01:00\", \"2021-12-01T04:15:00+01:00\", \"2021-12-01T04:00:00+01:00\", \"2021-12-01T03:45:00+01:00\", \"2021-12-01T03:30:00+01:00\", \"2021-12-01T03:15:00+01:00\", \"2021-12-01T03:00:00+01:00\", \"2021-12-01T02:45:00+01:00\", \"2021-12-01T02:30:00+01:00\", \"2021-12-01T02:15:00+01:00\", \"2021-12-01T02:00:00+01:00\", \"2021-12-01T01:45:00+01:00\", \"2021-12-01T01:30:00+01:00\", \"2021-12-01T01:15:00+01:00\", \"2021-12-01T01:00:00+01:00\", \"2021-12-01T00:45:00+01:00\", \"2021-12-01T00:30:00+01:00\", \"2021-12-01T00:15:00+01:00\", \"2021-12-01T00:00:00+01:00\"], \"xaxis\": \"x\", \"y\": [-1001.788, -1002.1039999999999, -1001.796, -1001.716, -994.56, -999.2239999999999, -1001.7639999999999, -955.804, -919.788, -833.1160000000001, -854.2239999999999, -849.232, -625.54, -589.12, -600.396, -601.656, -666.628, -671.96, -655.76, -685.948, -857.436, -978.544, -997.7280000000001, -1001.64, -1002.0319999999999, -1001.632, -1001.612, -972.84, -750.2760000000001, -719.888, -699.2360000000001, -671.3480000000001, -519.664, -501.404, -499.61199999999997, -503.444, -579.3240000000001, -586.464, -586.444, -595.22, -684.6560000000001, -693.368, -693.008, -687.952, -639.668, -634.78, -633.32, -573.996, -745.2439999999999, -751.944, -770.288, -762.3639999999999, -665.2, -649.604, -655.7719999999999, -642.64, -513.5319999999999, -501.276, -501.28, -511.74, -614.928, -624.604, -624.016, -596.836, -537.172, -538.3480000000001, -522.304, -534.096, -947.164, -999.3, -962.8839999999999, -976.4119999999999, -811.148, -724.0319999999999, -704.62, -695.62, -630.172, -621.3480000000001, -603.264, -508.51599999999996, -708.664, -708.232, -703.696, -728.2080000000001, -977.796, -1001.216, -990.36, -960.8760000000001, -574.2, -540.628, -536.7919999999999, -476.668, 181.62400000000002, 205.84, 205.1, 103.704], \"yaxis\": \"y\"}, {\"customdata\": [[\"PT15M\", \"France\"], [\"PT15M\", \"France\"], [\"PT15M\", \"France\"], [\"PT15M\", \"France\"], [\"PT15M\", \"France\"], [\"PT15M\", \"France\"], [\"PT15M\", \"France\"], [\"PT15M\", \"France\"], [\"PT15M\", \"France\"], [\"PT15M\", \"France\"], [\"PT15M\", \"France\"], [\"PT15M\", \"France\"], [\"PT15M\", \"France\"], [\"PT15M\", \"France\"], [\"PT15M\", \"France\"], [\"PT15M\", \"France\"], [\"PT15M\", \"France\"], [\"PT15M\", \"France\"], [\"PT15M\", \"France\"], [\"PT15M\", \"France\"], [\"PT15M\", \"France\"], [\"PT15M\", \"France\"], [\"PT15M\", \"France\"], [\"PT15M\", \"France\"], [\"PT15M\", \"France\"], [\"PT15M\", \"France\"], [\"PT15M\", \"France\"], [\"PT15M\", \"France\"], [\"PT15M\", \"France\"], [\"PT15M\", \"France\"], [\"PT15M\", \"France\"], [\"PT15M\", \"France\"], [\"PT15M\", \"France\"], [\"PT15M\", \"France\"], [\"PT15M\", \"France\"], [\"PT15M\", \"France\"], [\"PT15M\", \"France\"], [\"PT15M\", \"France\"], [\"PT15M\", \"France\"], [\"PT15M\", \"France\"], [\"PT15M\", \"France\"], [\"PT15M\", \"France\"], [\"PT15M\", \"France\"], [\"PT15M\", \"France\"], [\"PT15M\", \"France\"], [\"PT15M\", \"France\"], [\"PT15M\", \"France\"], [\"PT15M\", \"France\"], [\"PT15M\", \"France\"], [\"PT15M\", \"France\"], [\"PT15M\", \"France\"], [\"PT15M\", \"France\"], [\"PT15M\", \"France\"], [\"PT15M\", \"France\"], [\"PT15M\", \"France\"], [\"PT15M\", \"France\"], [\"PT15M\", \"France\"], [\"PT15M\", \"France\"], [\"PT15M\", \"France\"], [\"PT15M\", \"France\"], [\"PT15M\", \"France\"], [\"PT15M\", \"France\"], [\"PT15M\", \"France\"], [\"PT15M\", \"France\"], [\"PT15M\", \"France\"], [\"PT15M\", \"France\"], [\"PT15M\", \"France\"], [\"PT15M\", \"France\"], [\"PT15M\", \"France\"], [\"PT15M\", \"France\"], [\"PT15M\", \"France\"], [\"PT15M\", \"France\"], [\"PT15M\", \"France\"], [\"PT15M\", \"France\"], [\"PT15M\", \"France\"], [\"PT15M\", \"France\"], [\"PT15M\", \"France\"], [\"PT15M\", \"France\"], [\"PT15M\", \"France\"], [\"PT15M\", \"France\"], [\"PT15M\", \"France\"], [\"PT15M\", \"France\"], [\"PT15M\", \"France\"], [\"PT15M\", \"France\"], [\"PT15M\", \"France\"], [\"PT15M\", \"France\"], [\"PT15M\", \"France\"], [\"PT15M\", \"France\"], [\"PT15M\", \"France\"], [\"PT15M\", \"France\"], [\"PT15M\", \"France\"], [\"PT15M\", \"France\"], [\"PT15M\", \"France\"], [\"PT15M\", \"France\"], [\"PT15M\", \"France\"], [\"PT15M\", \"France\"]], \"hovertemplate\": \"<b>%{hovertext}</b><br><br>Control area=%{customdata[1]}<br>Datetime=%{x}<br>Physical Flow Value=%{y}<br>Resolution code=%{customdata[0]}<extra></extra>\", \"hovertext\": [\"France\", \"France\", \"France\", \"France\", \"France\", \"France\", \"France\", \"France\", \"France\", \"France\", \"France\", \"France\", \"France\", \"France\", \"France\", \"France\", \"France\", \"France\", \"France\", \"France\", \"France\", \"France\", \"France\", \"France\", \"France\", \"France\", \"France\", \"France\", \"France\", \"France\", \"France\", \"France\", \"France\", \"France\", \"France\", \"France\", \"France\", \"France\", \"France\", \"France\", \"France\", \"France\", \"France\", \"France\", \"France\", \"France\", \"France\", \"France\", \"France\", \"France\", \"France\", \"France\", \"France\", \"France\", \"France\", \"France\", \"France\", \"France\", \"France\", \"France\", \"France\", \"France\", \"France\", \"France\", \"France\", \"France\", \"France\", \"France\", \"France\", \"France\", \"France\", \"France\", \"France\", \"France\", \"France\", \"France\", \"France\", \"France\", \"France\", \"France\", \"France\", \"France\", \"France\", \"France\", \"France\", \"France\", \"France\", \"France\", \"France\", \"France\", \"France\", \"France\", \"France\", \"France\", \"France\", \"France\"], \"legendgroup\": \"France\", \"marker\": {\"color\": \"#FFA15A\", \"symbol\": \"circle\"}, \"mode\": \"markers\", \"name\": \"France\", \"orientation\": \"v\", \"showlegend\": true, \"type\": \"scatter\", \"x\": [\"2021-12-01T23:45:00+01:00\", \"2021-12-01T23:30:00+01:00\", \"2021-12-01T23:15:00+01:00\", \"2021-12-01T23:00:00+01:00\", \"2021-12-01T22:45:00+01:00\", \"2021-12-01T22:30:00+01:00\", \"2021-12-01T22:15:00+01:00\", \"2021-12-01T22:00:00+01:00\", \"2021-12-01T21:45:00+01:00\", \"2021-12-01T21:30:00+01:00\", \"2021-12-01T21:15:00+01:00\", \"2021-12-01T21:00:00+01:00\", \"2021-12-01T20:45:00+01:00\", \"2021-12-01T20:30:00+01:00\", \"2021-12-01T20:15:00+01:00\", \"2021-12-01T20:00:00+01:00\", \"2021-12-01T19:45:00+01:00\", \"2021-12-01T19:30:00+01:00\", \"2021-12-01T19:15:00+01:00\", \"2021-12-01T19:00:00+01:00\", \"2021-12-01T18:45:00+01:00\", \"2021-12-01T18:30:00+01:00\", \"2021-12-01T18:15:00+01:00\", \"2021-12-01T18:00:00+01:00\", \"2021-12-01T17:45:00+01:00\", \"2021-12-01T17:30:00+01:00\", \"2021-12-01T17:15:00+01:00\", \"2021-12-01T17:00:00+01:00\", \"2021-12-01T16:45:00+01:00\", \"2021-12-01T16:30:00+01:00\", \"2021-12-01T16:15:00+01:00\", \"2021-12-01T16:00:00+01:00\", \"2021-12-01T15:45:00+01:00\", \"2021-12-01T15:30:00+01:00\", \"2021-12-01T15:15:00+01:00\", \"2021-12-01T15:00:00+01:00\", \"2021-12-01T14:45:00+01:00\", \"2021-12-01T14:30:00+01:00\", \"2021-12-01T14:15:00+01:00\", \"2021-12-01T14:00:00+01:00\", \"2021-12-01T13:45:00+01:00\", \"2021-12-01T13:30:00+01:00\", \"2021-12-01T13:15:00+01:00\", \"2021-12-01T13:00:00+01:00\", \"2021-12-01T12:45:00+01:00\", \"2021-12-01T12:30:00+01:00\", \"2021-12-01T12:15:00+01:00\", \"2021-12-01T12:00:00+01:00\", \"2021-12-01T11:45:00+01:00\", \"2021-12-01T11:30:00+01:00\", \"2021-12-01T11:15:00+01:00\", \"2021-12-01T11:00:00+01:00\", \"2021-12-01T10:45:00+01:00\", \"2021-12-01T10:30:00+01:00\", \"2021-12-01T10:15:00+01:00\", \"2021-12-01T10:00:00+01:00\", \"2021-12-01T09:45:00+01:00\", \"2021-12-01T09:30:00+01:00\", \"2021-12-01T09:15:00+01:00\", \"2021-12-01T09:00:00+01:00\", \"2021-12-01T08:45:00+01:00\", \"2021-12-01T08:30:00+01:00\", \"2021-12-01T08:15:00+01:00\", \"2021-12-01T08:00:00+01:00\", \"2021-12-01T07:45:00+01:00\", \"2021-12-01T07:30:00+01:00\", \"2021-12-01T07:15:00+01:00\", \"2021-12-01T07:00:00+01:00\", \"2021-12-01T06:45:00+01:00\", \"2021-12-01T06:30:00+01:00\", \"2021-12-01T06:15:00+01:00\", \"2021-12-01T06:00:00+01:00\", \"2021-12-01T05:45:00+01:00\", \"2021-12-01T05:30:00+01:00\", \"2021-12-01T05:15:00+01:00\", \"2021-12-01T05:00:00+01:00\", \"2021-12-01T04:45:00+01:00\", \"2021-12-01T04:30:00+01:00\", \"2021-12-01T04:15:00+01:00\", \"2021-12-01T04:00:00+01:00\", \"2021-12-01T03:45:00+01:00\", \"2021-12-01T03:30:00+01:00\", \"2021-12-01T03:15:00+01:00\", \"2021-12-01T03:00:00+01:00\", \"2021-12-01T02:45:00+01:00\", \"2021-12-01T02:30:00+01:00\", \"2021-12-01T02:15:00+01:00\", \"2021-12-01T02:00:00+01:00\", \"2021-12-01T01:45:00+01:00\", \"2021-12-01T01:30:00+01:00\", \"2021-12-01T01:15:00+01:00\", \"2021-12-01T01:00:00+01:00\", \"2021-12-01T00:45:00+01:00\", \"2021-12-01T00:30:00+01:00\", \"2021-12-01T00:15:00+01:00\", \"2021-12-01T00:00:00+01:00\"], \"xaxis\": \"x\", \"y\": [581.908, 691.1160000000001, 523.224, 483.944, 634.868, 604.86, 509.88, 557.896, 522.98, 602.276, 508.48400000000004, 570.068, 239.024, 398.004, 270.192, 341.06800000000004, 803.188, 819.76, 1008.808, 1106.14, 1707.2320000000002, 1587.9520000000002, 1466.828, 1263.34, 1147.212, 1190.312, 1314.68, 1061.776, 452.284, 279.008, 380.408, 299.608, -322.42, -356.38, -338.7, -199.94, -126.336, -130.436, -139.196, 10.344000000000001, 142.60399999999998, 67.804, -46.812, -58.82, -37.176, 143.756, 177.21200000000002, 302.332, 77.172, 43.496, -103.884, -92.28, -264.568, -126.72399999999999, -37.768, -89.396, -538.028, -477.84, -457.56800000000004, -400.184, -96.54799999999999, -29.56, -59.068000000000005, 163.232, -334.32800000000003, -509.344, -393.332, -242.59599999999998, 582.248, 557.3480000000001, 675.092, 698.7080000000001, 690.2280000000001, 609.42, 638.148, 601.524, 672.0239999999999, 657.84, 652.8919999999999, 867.232, 938.6239999999999, 990.072, 834.716, 1017.212, 910.556, 960.544, 938.5, 949.948, 764.3960000000001, 869.84, 799.66, 697.2560000000001, 635.24, 598.724, 741.508, 501.42800000000005], \"yaxis\": \"y\"}],                        {\"annotations\": [{\"arrowhead\": 3, \"font\": {\"color\": \"black\", \"size\": 10}, \"showarrow\": true, \"text\": \"Look at this outlier\", \"x\": \"2021-12-01 18:45:00+01:00\", \"y\": 1707.232}], \"legend\": {\"title\": {\"text\": \"Control area\"}, \"tracegroupgap\": 0}, \"margin\": {\"t\": 60}, \"template\": {\"data\": {\"bar\": [{\"error_x\": {\"color\": \"#2a3f5f\"}, \"error_y\": {\"color\": \"#2a3f5f\"}, \"marker\": {\"line\": {\"color\": \"#E5ECF6\", \"width\": 0.5}}, \"type\": \"bar\"}], \"barpolar\": [{\"marker\": {\"line\": {\"color\": \"#E5ECF6\", \"width\": 0.5}}, \"type\": \"barpolar\"}], \"carpet\": [{\"aaxis\": {\"endlinecolor\": \"#2a3f5f\", \"gridcolor\": \"white\", \"linecolor\": \"white\", \"minorgridcolor\": \"white\", \"startlinecolor\": \"#2a3f5f\"}, \"baxis\": {\"endlinecolor\": \"#2a3f5f\", \"gridcolor\": \"white\", \"linecolor\": \"white\", \"minorgridcolor\": \"white\", \"startlinecolor\": \"#2a3f5f\"}, \"type\": \"carpet\"}], \"choropleth\": [{\"colorbar\": {\"outlinewidth\": 0, \"ticks\": \"\"}, \"type\": \"choropleth\"}], \"contour\": [{\"colorbar\": {\"outlinewidth\": 0, \"ticks\": \"\"}, \"colorscale\": [[0.0, \"#0d0887\"], [0.1111111111111111, \"#46039f\"], [0.2222222222222222, \"#7201a8\"], [0.3333333333333333, \"#9c179e\"], [0.4444444444444444, \"#bd3786\"], [0.5555555555555556, \"#d8576b\"], [0.6666666666666666, \"#ed7953\"], [0.7777777777777778, \"#fb9f3a\"], [0.8888888888888888, \"#fdca26\"], [1.0, \"#f0f921\"]], \"type\": \"contour\"}], \"contourcarpet\": [{\"colorbar\": {\"outlinewidth\": 0, \"ticks\": \"\"}, \"type\": \"contourcarpet\"}], \"heatmap\": [{\"colorbar\": {\"outlinewidth\": 0, \"ticks\": \"\"}, \"colorscale\": [[0.0, \"#0d0887\"], [0.1111111111111111, \"#46039f\"], [0.2222222222222222, \"#7201a8\"], [0.3333333333333333, \"#9c179e\"], [0.4444444444444444, \"#bd3786\"], [0.5555555555555556, \"#d8576b\"], [0.6666666666666666, \"#ed7953\"], [0.7777777777777778, \"#fb9f3a\"], [0.8888888888888888, \"#fdca26\"], [1.0, \"#f0f921\"]], \"type\": \"heatmap\"}], \"heatmapgl\": [{\"colorbar\": {\"outlinewidth\": 0, \"ticks\": \"\"}, \"colorscale\": [[0.0, \"#0d0887\"], [0.1111111111111111, \"#46039f\"], [0.2222222222222222, \"#7201a8\"], [0.3333333333333333, \"#9c179e\"], [0.4444444444444444, \"#bd3786\"], [0.5555555555555556, \"#d8576b\"], [0.6666666666666666, \"#ed7953\"], [0.7777777777777778, \"#fb9f3a\"], [0.8888888888888888, \"#fdca26\"], [1.0, \"#f0f921\"]], \"type\": \"heatmapgl\"}], \"histogram\": [{\"marker\": {\"colorbar\": {\"outlinewidth\": 0, \"ticks\": \"\"}}, \"type\": \"histogram\"}], \"histogram2d\": [{\"colorbar\": {\"outlinewidth\": 0, \"ticks\": \"\"}, \"colorscale\": [[0.0, \"#0d0887\"], [0.1111111111111111, \"#46039f\"], [0.2222222222222222, \"#7201a8\"], [0.3333333333333333, \"#9c179e\"], [0.4444444444444444, \"#bd3786\"], [0.5555555555555556, \"#d8576b\"], [0.6666666666666666, \"#ed7953\"], [0.7777777777777778, \"#fb9f3a\"], [0.8888888888888888, \"#fdca26\"], [1.0, \"#f0f921\"]], \"type\": \"histogram2d\"}], \"histogram2dcontour\": [{\"colorbar\": {\"outlinewidth\": 0, \"ticks\": \"\"}, \"colorscale\": [[0.0, \"#0d0887\"], [0.1111111111111111, \"#46039f\"], [0.2222222222222222, \"#7201a8\"], [0.3333333333333333, \"#9c179e\"], [0.4444444444444444, \"#bd3786\"], [0.5555555555555556, \"#d8576b\"], [0.6666666666666666, \"#ed7953\"], [0.7777777777777778, \"#fb9f3a\"], [0.8888888888888888, \"#fdca26\"], [1.0, \"#f0f921\"]], \"type\": \"histogram2dcontour\"}], \"mesh3d\": [{\"colorbar\": {\"outlinewidth\": 0, \"ticks\": \"\"}, \"type\": \"mesh3d\"}], \"parcoords\": [{\"line\": {\"colorbar\": {\"outlinewidth\": 0, \"ticks\": \"\"}}, \"type\": \"parcoords\"}], \"pie\": [{\"automargin\": true, \"type\": \"pie\"}], \"scatter\": [{\"marker\": {\"colorbar\": {\"outlinewidth\": 0, \"ticks\": \"\"}}, \"type\": \"scatter\"}], \"scatter3d\": [{\"line\": {\"colorbar\": {\"outlinewidth\": 0, \"ticks\": \"\"}}, \"marker\": {\"colorbar\": {\"outlinewidth\": 0, \"ticks\": \"\"}}, \"type\": \"scatter3d\"}], \"scattercarpet\": [{\"marker\": {\"colorbar\": {\"outlinewidth\": 0, \"ticks\": \"\"}}, \"type\": \"scattercarpet\"}], \"scattergeo\": [{\"marker\": {\"colorbar\": {\"outlinewidth\": 0, \"ticks\": \"\"}}, \"type\": \"scattergeo\"}], \"scattergl\": [{\"marker\": {\"colorbar\": {\"outlinewidth\": 0, \"ticks\": \"\"}}, \"type\": \"scattergl\"}], \"scattermapbox\": [{\"marker\": {\"colorbar\": {\"outlinewidth\": 0, \"ticks\": \"\"}}, \"type\": \"scattermapbox\"}], \"scatterpolar\": [{\"marker\": {\"colorbar\": {\"outlinewidth\": 0, \"ticks\": \"\"}}, \"type\": \"scatterpolar\"}], \"scatterpolargl\": [{\"marker\": {\"colorbar\": {\"outlinewidth\": 0, \"ticks\": \"\"}}, \"type\": \"scatterpolargl\"}], \"scatterternary\": [{\"marker\": {\"colorbar\": {\"outlinewidth\": 0, \"ticks\": \"\"}}, \"type\": \"scatterternary\"}], \"surface\": [{\"colorbar\": {\"outlinewidth\": 0, \"ticks\": \"\"}, \"colorscale\": [[0.0, \"#0d0887\"], [0.1111111111111111, \"#46039f\"], [0.2222222222222222, \"#7201a8\"], [0.3333333333333333, \"#9c179e\"], [0.4444444444444444, \"#bd3786\"], [0.5555555555555556, \"#d8576b\"], [0.6666666666666666, \"#ed7953\"], [0.7777777777777778, \"#fb9f3a\"], [0.8888888888888888, \"#fdca26\"], [1.0, \"#f0f921\"]], \"type\": \"surface\"}], \"table\": [{\"cells\": {\"fill\": {\"color\": \"#EBF0F8\"}, \"line\": {\"color\": \"white\"}}, \"header\": {\"fill\": {\"color\": \"#C8D4E3\"}, \"line\": {\"color\": \"white\"}}, \"type\": \"table\"}]}, \"layout\": {\"annotationdefaults\": {\"arrowcolor\": \"#2a3f5f\", \"arrowhead\": 0, \"arrowwidth\": 1}, \"autotypenumbers\": \"strict\", \"coloraxis\": {\"colorbar\": {\"outlinewidth\": 0, \"ticks\": \"\"}}, \"colorscale\": {\"diverging\": [[0, \"#8e0152\"], [0.1, \"#c51b7d\"], [0.2, \"#de77ae\"], [0.3, \"#f1b6da\"], [0.4, \"#fde0ef\"], [0.5, \"#f7f7f7\"], [0.6, \"#e6f5d0\"], [0.7, \"#b8e186\"], [0.8, \"#7fbc41\"], [0.9, \"#4d9221\"], [1, \"#276419\"]], \"sequential\": [[0.0, \"#0d0887\"], [0.1111111111111111, \"#46039f\"], [0.2222222222222222, \"#7201a8\"], [0.3333333333333333, \"#9c179e\"], [0.4444444444444444, \"#bd3786\"], [0.5555555555555556, \"#d8576b\"], [0.6666666666666666, \"#ed7953\"], [0.7777777777777778, \"#fb9f3a\"], [0.8888888888888888, \"#fdca26\"], [1.0, \"#f0f921\"]], \"sequentialminus\": [[0.0, \"#0d0887\"], [0.1111111111111111, \"#46039f\"], [0.2222222222222222, \"#7201a8\"], [0.3333333333333333, \"#9c179e\"], [0.4444444444444444, \"#bd3786\"], [0.5555555555555556, \"#d8576b\"], [0.6666666666666666, \"#ed7953\"], [0.7777777777777778, \"#fb9f3a\"], [0.8888888888888888, \"#fdca26\"], [1.0, \"#f0f921\"]]}, \"colorway\": [\"#636efa\", \"#EF553B\", \"#00cc96\", \"#ab63fa\", \"#FFA15A\", \"#19d3f3\", \"#FF6692\", \"#B6E880\", \"#FF97FF\", \"#FECB52\"], \"font\": {\"color\": \"#2a3f5f\"}, \"geo\": {\"bgcolor\": \"white\", \"lakecolor\": \"white\", \"landcolor\": \"#E5ECF6\", \"showlakes\": true, \"showland\": true, \"subunitcolor\": \"white\"}, \"hoverlabel\": {\"align\": \"left\"}, \"hovermode\": \"closest\", \"mapbox\": {\"style\": \"light\"}, \"paper_bgcolor\": \"white\", \"plot_bgcolor\": \"#E5ECF6\", \"polar\": {\"angularaxis\": {\"gridcolor\": \"white\", \"linecolor\": \"white\", \"ticks\": \"\"}, \"bgcolor\": \"#E5ECF6\", \"radialaxis\": {\"gridcolor\": \"white\", \"linecolor\": \"white\", \"ticks\": \"\"}}, \"scene\": {\"xaxis\": {\"backgroundcolor\": \"#E5ECF6\", \"gridcolor\": \"white\", \"gridwidth\": 2, \"linecolor\": \"white\", \"showbackground\": true, \"ticks\": \"\", \"zerolinecolor\": \"white\"}, \"yaxis\": {\"backgroundcolor\": \"#E5ECF6\", \"gridcolor\": \"white\", \"gridwidth\": 2, \"linecolor\": \"white\", \"showbackground\": true, \"ticks\": \"\", \"zerolinecolor\": \"white\"}, \"zaxis\": {\"backgroundcolor\": \"#E5ECF6\", \"gridcolor\": \"white\", \"gridwidth\": 2, \"linecolor\": \"white\", \"showbackground\": true, \"ticks\": \"\", \"zerolinecolor\": \"white\"}}, \"shapedefaults\": {\"line\": {\"color\": \"#2a3f5f\"}}, \"ternary\": {\"aaxis\": {\"gridcolor\": \"white\", \"linecolor\": \"white\", \"ticks\": \"\"}, \"baxis\": {\"gridcolor\": \"white\", \"linecolor\": \"white\", \"ticks\": \"\"}, \"bgcolor\": \"#E5ECF6\", \"caxis\": {\"gridcolor\": \"white\", \"linecolor\": \"white\", \"ticks\": \"\"}}, \"title\": {\"x\": 0.05}, \"xaxis\": {\"automargin\": true, \"gridcolor\": \"white\", \"linecolor\": \"white\", \"ticks\": \"\", \"title\": {\"standoff\": 15}, \"zerolinecolor\": \"white\", \"zerolinewidth\": 2}, \"yaxis\": {\"automargin\": true, \"gridcolor\": \"white\", \"linecolor\": \"white\", \"ticks\": \"\", \"title\": {\"standoff\": 15}, \"zerolinecolor\": \"white\", \"zerolinewidth\": 2}}}, \"xaxis\": {\"anchor\": \"y\", \"domain\": [0.0, 1.0], \"title\": {\"text\": \"Datetime\"}}, \"yaxis\": {\"anchor\": \"x\", \"domain\": [0.0, 1.0], \"title\": {\"text\": \"Physical Flow Value\"}}},                        {\"responsive\": true}                    ).then(function(){\n",
       "                            \n",
       "var gd = document.getElementById('8903eb3b-39dc-45f2-80ff-91910fcc26db');\n",
       "var x = new MutationObserver(function (mutations, observer) {{\n",
       "        var display = window.getComputedStyle(gd).display;\n",
       "        if (!display || display === 'none') {{\n",
       "            console.log([gd, 'removed!']);\n",
       "            Plotly.purge(gd);\n",
       "            observer.disconnect();\n",
       "        }}\n",
       "}});\n",
       "\n",
       "// Listen for the removal of the full notebook cells\n",
       "var notebookContainer = gd.closest('#notebook-container');\n",
       "if (notebookContainer) {{\n",
       "    x.observe(notebookContainer, {childList: true});\n",
       "}}\n",
       "\n",
       "// Listen for the clearing of the current output cell\n",
       "var outputEl = gd.closest('.output');\n",
       "if (outputEl) {{\n",
       "    x.observe(outputEl, {childList: true});\n",
       "}}\n",
       "\n",
       "                        })                };                });            </script>        </div>"
      ]
     },
     "metadata": {},
     "output_type": "display_data"
    }
   ],
   "source": [
    "# Create the scatterplot\n",
    "fig = px.scatter(data_frame = energy_borders_2,\n",
    "  x = \"Datetime\", \n",
    "  y = \"Physical Flow Value\", \n",
    "  color = 'Control area',\n",
    "  # Add columns to the hover information\n",
    "  hover_data = [\"Resolution code\", \"Control area\"],\n",
    "  # Add bold variable in hover information\n",
    "  hover_name = 'Control area'\n",
    ")\n",
    "\n",
    "## add an annotation (floating annotation with \"xref\":\"paper\", \"yref\":\"paper\", \"x\":0.5, \"y\":0.8)\n",
    "my_annotation = {\"x\": \"2021-12-01 18:45:00+01:00\", \"y\":1707.232, \"showarrow\": True, \"arrowhead\":3, \"text\": \"Look at this outlier\", \"font\": {\"size\": 10, \"color\": \"black\"}}\n",
    "fig.update_layout({\"annotations\" : [my_annotation]})\n",
    "# Show the plot\n",
    "fig.show()"
   ]
  },
  {
   "cell_type": "markdown",
   "metadata": {},
   "source": [
    "As you can see, you can do lots of cool stuff with plotly. Even annootations such as \"Look at this data point\" are possible! Check out the hover effects."
   ]
  },
  {
   "cell_type": "markdown",
   "metadata": {},
   "source": [
    "<br>\n",
    "\n",
    "## Recap, Tips & Takeaways &#128161;\n",
    "\n",
    "<br>"
   ]
  },
  {
   "cell_type": "markdown",
   "metadata": {},
   "source": [
    "<div class=\"alert alert-block alert-success\">\n",
    "\n",
    "**Let's recap what you have learned in this chapter:**\n",
    "\n",
    "- `df_name.plot(x = \"col_name\", y = \"col_name\")` makes it possible to quickly plot your data \n",
    "- to work with matplotlib you have to **import matplotlib.pyplot as plt** and create the fig and axes object\n",
    "    - fig, ax = plt.subplots()\n",
    "- to work with seaborn, you need to **import matplotlib.pyplot as plt** AND **import seaborn as sns**\n",
    "- plotly is great for interactive plots\n",
    "    - with `plotly.express` you can plot interactive graphs very quickly\n",
    "    - to do so, you need to **import pandas as pd** AND **import plotly.express as px**\n",
    "- And don't forget. You can visualize basically anything! You can easily adjust your plots, customize them, create thresholds, additional axes and so on. Just check the documentation and play around a bit.\n",
    "\n",
    "\n",
    "        \n",
    "</div>"
   ]
  }
 ],
 "metadata": {
  "kernelspec": {
   "display_name": "Python 3",
   "language": "python",
   "name": "python3"
  },
  "language_info": {
   "codemirror_mode": {
    "name": "ipython",
    "version": 3
   },
   "file_extension": ".py",
   "mimetype": "text/x-python",
   "name": "python",
   "nbconvert_exporter": "python",
   "pygments_lexer": "ipython3",
   "version": "3.8.5"
  }
 },
 "nbformat": 4,
 "nbformat_minor": 4
}
