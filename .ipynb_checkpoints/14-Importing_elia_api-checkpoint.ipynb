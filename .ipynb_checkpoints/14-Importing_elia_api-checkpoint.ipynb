{
 "cells": [
  {
   "cell_type": "markdown",
   "metadata": {},
   "source": [
    "<br>\n",
    "\n",
    "<img src=\"./image/Logo/logo_elia_group.png\" width = 200>\n",
    "\n",
    "<br>"
   ]
  },
  {
   "cell_type": "markdown",
   "metadata": {},
   "source": [
    "## How to work with the Elia open data API in Python\n",
    "<br>\n",
    "\n",
    "Did you ever ask yourself how your weather app predicts tomorrow's forecast? The answer is, it gets the data through a so-called Application Programming Interface, an API. APIs are commonly used to access databases that are made public. It takes input, applies a set of rules and gives you an output. At Elia Group, we have a similar [API](https://opendata.elia.be/pages/home/) where you have open access to all our public grid data, including power generation, load, balancing, transmission and congestion. <br>\n",
    "\n",
    "This is how the Elia API looks like:"
   ]
  },
  {
   "cell_type": "markdown",
   "metadata": {},
   "source": [
    "<img src=\"./image/Elia_API.png\" width = 700>"
   ]
  },
  {
   "cell_type": "markdown",
   "metadata": {},
   "source": [
    "Let's import some cool data directly from Elia! To do so, you will need two packages: requests and pandas. For now, you don't need to worry about understanding each line of code. This Notebook is just for you to see that you can get data from an API directly and that you will be able to come back here and get the corresponding code. "
   ]
  },
  {
   "cell_type": "code",
   "execution_count": 29,
   "metadata": {},
   "outputs": [],
   "source": [
    "import requests\n",
    "import pandas as pd"
   ]
  },
  {
   "cell_type": "markdown",
   "metadata": {},
   "source": [
    "You are going to work with the following data [Load in the Elia grid](https://opendata.elia.be/explore/dataset/ods003/information/) with the dataset identifier **ods003**. Take a look at the parameters and the data itself. It gives you the Elia Grid Load with its Resolution Code and Datetime."
   ]
  },
  {
   "cell_type": "code",
   "execution_count": 30,
   "metadata": {},
   "outputs": [],
   "source": [
    "start_date =\"2022-07-01\"\n",
    "end_date = \"2022-07-06\"\n",
    "dataset= \"ods003\"\n",
    "url = f\"https://opendata.elia.be/api/v2/catalog/datasets/{dataset}/exports/\"\n",
    "json_string = f\"json?where=datetime in [date'{start_date}' .. date'{end_date}']\"\n",
    "response = requests.get(url = url + json_string)"
   ]
  },
  {
   "cell_type": "code",
   "execution_count": 31,
   "metadata": {},
   "outputs": [],
   "source": [
    "# calling the Elia Open Data API\n",
    "df = pd.DataFrame(response.json())"
   ]
  },
  {
   "cell_type": "code",
   "execution_count": 32,
   "metadata": {},
   "outputs": [
    {
     "data": {
      "text/html": [
       "<div>\n",
       "<style scoped>\n",
       "    .dataframe tbody tr th:only-of-type {\n",
       "        vertical-align: middle;\n",
       "    }\n",
       "\n",
       "    .dataframe tbody tr th {\n",
       "        vertical-align: top;\n",
       "    }\n",
       "\n",
       "    .dataframe thead th {\n",
       "        text-align: right;\n",
       "    }\n",
       "</style>\n",
       "<table border=\"1\" class=\"dataframe\">\n",
       "  <thead>\n",
       "    <tr style=\"text-align: right;\">\n",
       "      <th></th>\n",
       "      <th>datetime</th>\n",
       "      <th>resolutioncode</th>\n",
       "      <th>eliagridload</th>\n",
       "    </tr>\n",
       "  </thead>\n",
       "  <tbody>\n",
       "    <tr>\n",
       "      <th>0</th>\n",
       "      <td>2022-07-06T19:00:00+00:00</td>\n",
       "      <td>PT15M</td>\n",
       "      <td>8115.431</td>\n",
       "    </tr>\n",
       "    <tr>\n",
       "      <th>1</th>\n",
       "      <td>2022-07-06T18:15:00+00:00</td>\n",
       "      <td>PT15M</td>\n",
       "      <td>8117.432</td>\n",
       "    </tr>\n",
       "    <tr>\n",
       "      <th>2</th>\n",
       "      <td>2022-07-06T18:00:00+00:00</td>\n",
       "      <td>PT15M</td>\n",
       "      <td>8082.027</td>\n",
       "    </tr>\n",
       "    <tr>\n",
       "      <th>3</th>\n",
       "      <td>2022-07-06T17:15:00+00:00</td>\n",
       "      <td>PT15M</td>\n",
       "      <td>7736.822</td>\n",
       "    </tr>\n",
       "    <tr>\n",
       "      <th>4</th>\n",
       "      <td>2022-07-06T16:30:00+00:00</td>\n",
       "      <td>PT15M</td>\n",
       "      <td>7526.202</td>\n",
       "    </tr>\n",
       "    <tr>\n",
       "      <th>...</th>\n",
       "      <td>...</td>\n",
       "      <td>...</td>\n",
       "      <td>...</td>\n",
       "    </tr>\n",
       "    <tr>\n",
       "      <th>571</th>\n",
       "      <td>2022-07-01T05:00:00+00:00</td>\n",
       "      <td>PT15M</td>\n",
       "      <td>7756.761</td>\n",
       "    </tr>\n",
       "    <tr>\n",
       "      <th>572</th>\n",
       "      <td>2022-07-01T02:30:00+00:00</td>\n",
       "      <td>PT15M</td>\n",
       "      <td>6910.305</td>\n",
       "    </tr>\n",
       "    <tr>\n",
       "      <th>573</th>\n",
       "      <td>2022-07-01T02:00:00+00:00</td>\n",
       "      <td>PT15M</td>\n",
       "      <td>6828.961</td>\n",
       "    </tr>\n",
       "    <tr>\n",
       "      <th>574</th>\n",
       "      <td>2022-07-01T01:00:00+00:00</td>\n",
       "      <td>PT15M</td>\n",
       "      <td>6822.075</td>\n",
       "    </tr>\n",
       "    <tr>\n",
       "      <th>575</th>\n",
       "      <td>2022-07-01T00:00:00+00:00</td>\n",
       "      <td>PT15M</td>\n",
       "      <td>6995.804</td>\n",
       "    </tr>\n",
       "  </tbody>\n",
       "</table>\n",
       "<p>576 rows × 3 columns</p>\n",
       "</div>"
      ],
      "text/plain": [
       "                      datetime resolutioncode  eliagridload\n",
       "0    2022-07-06T19:00:00+00:00          PT15M      8115.431\n",
       "1    2022-07-06T18:15:00+00:00          PT15M      8117.432\n",
       "2    2022-07-06T18:00:00+00:00          PT15M      8082.027\n",
       "3    2022-07-06T17:15:00+00:00          PT15M      7736.822\n",
       "4    2022-07-06T16:30:00+00:00          PT15M      7526.202\n",
       "..                         ...            ...           ...\n",
       "571  2022-07-01T05:00:00+00:00          PT15M      7756.761\n",
       "572  2022-07-01T02:30:00+00:00          PT15M      6910.305\n",
       "573  2022-07-01T02:00:00+00:00          PT15M      6828.961\n",
       "574  2022-07-01T01:00:00+00:00          PT15M      6822.075\n",
       "575  2022-07-01T00:00:00+00:00          PT15M      6995.804\n",
       "\n",
       "[576 rows x 3 columns]"
      ]
     },
     "execution_count": 32,
     "metadata": {},
     "output_type": "execute_result"
    }
   ],
   "source": [
    "df"
   ]
  },
  {
   "cell_type": "code",
   "execution_count": 33,
   "metadata": {},
   "outputs": [],
   "source": [
    "df[\"datetime\"] = pd.to_datetime(df[\"datetime\"]).dt.tz_localize(None)"
   ]
  },
  {
   "cell_type": "code",
   "execution_count": 34,
   "metadata": {},
   "outputs": [
    {
     "data": {
      "text/html": [
       "<div>\n",
       "<style scoped>\n",
       "    .dataframe tbody tr th:only-of-type {\n",
       "        vertical-align: middle;\n",
       "    }\n",
       "\n",
       "    .dataframe tbody tr th {\n",
       "        vertical-align: top;\n",
       "    }\n",
       "\n",
       "    .dataframe thead th {\n",
       "        text-align: right;\n",
       "    }\n",
       "</style>\n",
       "<table border=\"1\" class=\"dataframe\">\n",
       "  <thead>\n",
       "    <tr style=\"text-align: right;\">\n",
       "      <th></th>\n",
       "      <th>datetime</th>\n",
       "      <th>resolutioncode</th>\n",
       "      <th>eliagridload</th>\n",
       "    </tr>\n",
       "  </thead>\n",
       "  <tbody>\n",
       "    <tr>\n",
       "      <th>0</th>\n",
       "      <td>2022-07-06 19:00:00</td>\n",
       "      <td>PT15M</td>\n",
       "      <td>8115.431</td>\n",
       "    </tr>\n",
       "    <tr>\n",
       "      <th>1</th>\n",
       "      <td>2022-07-06 18:15:00</td>\n",
       "      <td>PT15M</td>\n",
       "      <td>8117.432</td>\n",
       "    </tr>\n",
       "    <tr>\n",
       "      <th>2</th>\n",
       "      <td>2022-07-06 18:00:00</td>\n",
       "      <td>PT15M</td>\n",
       "      <td>8082.027</td>\n",
       "    </tr>\n",
       "    <tr>\n",
       "      <th>3</th>\n",
       "      <td>2022-07-06 17:15:00</td>\n",
       "      <td>PT15M</td>\n",
       "      <td>7736.822</td>\n",
       "    </tr>\n",
       "    <tr>\n",
       "      <th>4</th>\n",
       "      <td>2022-07-06 16:30:00</td>\n",
       "      <td>PT15M</td>\n",
       "      <td>7526.202</td>\n",
       "    </tr>\n",
       "    <tr>\n",
       "      <th>...</th>\n",
       "      <td>...</td>\n",
       "      <td>...</td>\n",
       "      <td>...</td>\n",
       "    </tr>\n",
       "    <tr>\n",
       "      <th>571</th>\n",
       "      <td>2022-07-01 05:00:00</td>\n",
       "      <td>PT15M</td>\n",
       "      <td>7756.761</td>\n",
       "    </tr>\n",
       "    <tr>\n",
       "      <th>572</th>\n",
       "      <td>2022-07-01 02:30:00</td>\n",
       "      <td>PT15M</td>\n",
       "      <td>6910.305</td>\n",
       "    </tr>\n",
       "    <tr>\n",
       "      <th>573</th>\n",
       "      <td>2022-07-01 02:00:00</td>\n",
       "      <td>PT15M</td>\n",
       "      <td>6828.961</td>\n",
       "    </tr>\n",
       "    <tr>\n",
       "      <th>574</th>\n",
       "      <td>2022-07-01 01:00:00</td>\n",
       "      <td>PT15M</td>\n",
       "      <td>6822.075</td>\n",
       "    </tr>\n",
       "    <tr>\n",
       "      <th>575</th>\n",
       "      <td>2022-07-01 00:00:00</td>\n",
       "      <td>PT15M</td>\n",
       "      <td>6995.804</td>\n",
       "    </tr>\n",
       "  </tbody>\n",
       "</table>\n",
       "<p>576 rows × 3 columns</p>\n",
       "</div>"
      ],
      "text/plain": [
       "               datetime resolutioncode  eliagridload\n",
       "0   2022-07-06 19:00:00          PT15M      8115.431\n",
       "1   2022-07-06 18:15:00          PT15M      8117.432\n",
       "2   2022-07-06 18:00:00          PT15M      8082.027\n",
       "3   2022-07-06 17:15:00          PT15M      7736.822\n",
       "4   2022-07-06 16:30:00          PT15M      7526.202\n",
       "..                  ...            ...           ...\n",
       "571 2022-07-01 05:00:00          PT15M      7756.761\n",
       "572 2022-07-01 02:30:00          PT15M      6910.305\n",
       "573 2022-07-01 02:00:00          PT15M      6828.961\n",
       "574 2022-07-01 01:00:00          PT15M      6822.075\n",
       "575 2022-07-01 00:00:00          PT15M      6995.804\n",
       "\n",
       "[576 rows x 3 columns]"
      ]
     },
     "execution_count": 34,
     "metadata": {},
     "output_type": "execute_result"
    }
   ],
   "source": [
    "df"
   ]
  },
  {
   "cell_type": "markdown",
   "metadata": {},
   "source": [
    "Well done! &#128526;"
   ]
  }
 ],
 "metadata": {
  "kernelspec": {
   "display_name": "Python 3",
   "language": "python",
   "name": "python3"
  },
  "language_info": {
   "codemirror_mode": {
    "name": "ipython",
    "version": 3
   },
   "file_extension": ".py",
   "mimetype": "text/x-python",
   "name": "python",
   "nbconvert_exporter": "python",
   "pygments_lexer": "ipython3",
   "version": "3.8.5"
  }
 },
 "nbformat": 4,
 "nbformat_minor": 4
}
