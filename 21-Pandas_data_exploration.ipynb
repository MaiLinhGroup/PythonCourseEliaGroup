{
 "cells": [
  {
   "cell_type": "markdown",
   "metadata": {},
   "source": [
    "<br>\n",
    "\n",
    "<img src=\"./image/Logo/logo_elia_group.png\" width = 200>\n",
    "\n",
    "<br>"
   ]
  },
  {
   "cell_type": "markdown",
   "metadata": {},
   "source": [
    "# Initial Data Exploration \n",
    "<br> \n",
    "\n",
    "In the following subsection you will learn how to select data and how to slice your data set. Anyone who has worked with data knows how important it is to be able to select particular columns or rows or to slice your data into specific pieces. In data science, slicing means to precisely select certain data snippets by row or column. In order to work with Pandas and the previous data set, you have to import them again."
   ]
  },
  {
   "cell_type": "code",
   "execution_count": 1,
   "metadata": {},
   "outputs": [],
   "source": [
    "import pandas as pd"
   ]
  },
  {
   "cell_type": "code",
   "execution_count": 2,
   "metadata": {},
   "outputs": [],
   "source": [
    "pv_power = pd.read_csv(\"./data/energy/ods032.csv\", sep = ';')"
   ]
  },
  {
   "cell_type": "markdown",
   "metadata": {},
   "source": [
    "## Selecting by column name\n",
    "There are actually two ways to select data by column name. <br>\n",
    "\n",
    "1. with quotes"
   ]
  },
  {
   "cell_type": "code",
   "execution_count": 23,
   "metadata": {},
   "outputs": [
    {
     "data": {
      "text/plain": [
       "0                    Liège\n",
       "1                  Hainaut\n",
       "2          Flemish-Brabant\n",
       "3            East-Flanders\n",
       "4                    Namur\n",
       "                ...       \n",
       "1569882              Namur\n",
       "1569883    Walloon-Brabant\n",
       "1569884            Antwerp\n",
       "1569885            Belgium\n",
       "1569886           Wallonia\n",
       "Name: Region, Length: 1569887, dtype: object"
      ]
     },
     "execution_count": 23,
     "metadata": {},
     "output_type": "execute_result"
    }
   ],
   "source": [
    "pv_power['Region']"
   ]
  },
  {
   "cell_type": "markdown",
   "metadata": {},
   "source": [
    "2. with a dot as separator (NOTE - ONLY works when column names have no spaces!)"
   ]
  },
  {
   "cell_type": "code",
   "execution_count": 24,
   "metadata": {},
   "outputs": [
    {
     "data": {
      "text/plain": [
       "0                    Liège\n",
       "1                  Hainaut\n",
       "2          Flemish-Brabant\n",
       "3            East-Flanders\n",
       "4                    Namur\n",
       "                ...       \n",
       "1569882              Namur\n",
       "1569883    Walloon-Brabant\n",
       "1569884            Antwerp\n",
       "1569885            Belgium\n",
       "1569886           Wallonia\n",
       "Name: Region, Length: 1569887, dtype: object"
      ]
     },
     "execution_count": 24,
     "metadata": {},
     "output_type": "execute_result"
    }
   ],
   "source": [
    "pv_power.Region"
   ]
  },
  {
   "cell_type": "markdown",
   "metadata": {},
   "source": [
    "\n",
    "You want to select two columns and just want to see the first three rows? No problem! You can also concatenate commands in Pandas. <br> \n",
    "Notice, that if you want to select two columns of your dataframe, you need to pass them as a list: `df_name[[\"column_1\", \"column_2\"]]`."
   ]
  },
  {
   "cell_type": "code",
   "execution_count": 25,
   "metadata": {},
   "outputs": [
    {
     "data": {
      "text/html": [
       "<div>\n",
       "<style scoped>\n",
       "    .dataframe tbody tr th:only-of-type {\n",
       "        vertical-align: middle;\n",
       "    }\n",
       "\n",
       "    .dataframe tbody tr th {\n",
       "        vertical-align: top;\n",
       "    }\n",
       "\n",
       "    .dataframe thead th {\n",
       "        text-align: right;\n",
       "    }\n",
       "</style>\n",
       "<table border=\"1\" class=\"dataframe\">\n",
       "  <thead>\n",
       "    <tr style=\"text-align: right;\">\n",
       "      <th></th>\n",
       "      <th>Region</th>\n",
       "      <th>Monitored capacity</th>\n",
       "    </tr>\n",
       "  </thead>\n",
       "  <tbody>\n",
       "    <tr>\n",
       "      <th>0</th>\n",
       "      <td>Liège</td>\n",
       "      <td>634.933</td>\n",
       "    </tr>\n",
       "    <tr>\n",
       "      <th>1</th>\n",
       "      <td>Hainaut</td>\n",
       "      <td>431.127</td>\n",
       "    </tr>\n",
       "    <tr>\n",
       "      <th>2</th>\n",
       "      <td>Flemish-Brabant</td>\n",
       "      <td>514.584</td>\n",
       "    </tr>\n",
       "  </tbody>\n",
       "</table>\n",
       "</div>"
      ],
      "text/plain": [
       "            Region  Monitored capacity\n",
       "0            Liège             634.933\n",
       "1          Hainaut             431.127\n",
       "2  Flemish-Brabant             514.584"
      ]
     },
     "execution_count": 25,
     "metadata": {},
     "output_type": "execute_result"
    }
   ],
   "source": [
    "pv_power[[\"Region\", \"Monitored capacity\"]].head(n=3)"
   ]
  },
  {
   "cell_type": "markdown",
   "metadata": {},
   "source": [
    "### Exercise\n",
    "1. Check the column names of the dataframe again\n",
    "2. Select the columns \"Resolution code\" and \"Datetime\"\n",
    "3. Display the first 5 rows of the selected columns"
   ]
  },
  {
   "cell_type": "code",
   "execution_count": null,
   "metadata": {},
   "outputs": [],
   "source": []
  },
  {
   "cell_type": "code",
   "execution_count": null,
   "metadata": {},
   "outputs": [],
   "source": []
  },
  {
   "cell_type": "code",
   "execution_count": null,
   "metadata": {},
   "outputs": [],
   "source": []
  },
  {
   "cell_type": "markdown",
   "metadata": {},
   "source": [
    "## Slicing - Precise Selection by Row and Column\n",
    "- `df.loc` gets rows (or columns) with particular labels from the index.\n",
    "- `df.iloc` gets rows (or columns) at particular positions in the index (so it only takes integers).\n",
    "\n",
    "<br>\n",
    "\n",
    "<div class=\"alert alert-block alert-warning\">\n",
    "\n",
    "&#128161; **When using `loc` and `iloc`, the row is ALWAYS 1st and column is ALWAYS second!!**\n",
    "\n",
    "[start_row : end_row, start_column : end_column] <br>\n",
    "    \n",
    "</div>\n",
    "    \n",
    "<br>\n",
    "\n",
    "For example, if you want to select the first 5 rows of the `pv_power` dataframe with iloc you use the following syntax:"
   ]
  },
  {
   "cell_type": "code",
   "execution_count": 27,
   "metadata": {},
   "outputs": [
    {
     "data": {
      "text/html": [
       "<div>\n",
       "<style scoped>\n",
       "    .dataframe tbody tr th:only-of-type {\n",
       "        vertical-align: middle;\n",
       "    }\n",
       "\n",
       "    .dataframe tbody tr th {\n",
       "        vertical-align: top;\n",
       "    }\n",
       "\n",
       "    .dataframe thead th {\n",
       "        text-align: right;\n",
       "    }\n",
       "</style>\n",
       "<table border=\"1\" class=\"dataframe\">\n",
       "  <thead>\n",
       "    <tr style=\"text-align: right;\">\n",
       "      <th></th>\n",
       "      <th>Datetime</th>\n",
       "      <th>Resolution code</th>\n",
       "      <th>Region</th>\n",
       "      <th>Measured &amp; Upscaled</th>\n",
       "      <th>Most recent forecast</th>\n",
       "      <th>Day Ahead 11AM forecast</th>\n",
       "      <th>Day-ahead 6PM forecast</th>\n",
       "      <th>Week-ahead forecast</th>\n",
       "      <th>Monitored capacity</th>\n",
       "      <th>Load factor</th>\n",
       "    </tr>\n",
       "  </thead>\n",
       "  <tbody>\n",
       "    <tr>\n",
       "      <th>0</th>\n",
       "      <td>2022-06-21T23:45:00+02:00</td>\n",
       "      <td>PT15M</td>\n",
       "      <td>Liège</td>\n",
       "      <td>NaN</td>\n",
       "      <td>0.0</td>\n",
       "      <td>0.0</td>\n",
       "      <td>0.0</td>\n",
       "      <td>0.0</td>\n",
       "      <td>634.933</td>\n",
       "      <td>0.0</td>\n",
       "    </tr>\n",
       "    <tr>\n",
       "      <th>1</th>\n",
       "      <td>2022-06-21T23:45:00+02:00</td>\n",
       "      <td>PT15M</td>\n",
       "      <td>Hainaut</td>\n",
       "      <td>NaN</td>\n",
       "      <td>0.0</td>\n",
       "      <td>0.0</td>\n",
       "      <td>0.0</td>\n",
       "      <td>0.0</td>\n",
       "      <td>431.127</td>\n",
       "      <td>0.0</td>\n",
       "    </tr>\n",
       "    <tr>\n",
       "      <th>2</th>\n",
       "      <td>2022-06-21T23:45:00+02:00</td>\n",
       "      <td>PT15M</td>\n",
       "      <td>Flemish-Brabant</td>\n",
       "      <td>NaN</td>\n",
       "      <td>0.0</td>\n",
       "      <td>0.0</td>\n",
       "      <td>0.0</td>\n",
       "      <td>0.0</td>\n",
       "      <td>514.584</td>\n",
       "      <td>0.0</td>\n",
       "    </tr>\n",
       "    <tr>\n",
       "      <th>3</th>\n",
       "      <td>2022-06-21T23:45:00+02:00</td>\n",
       "      <td>PT15M</td>\n",
       "      <td>East-Flanders</td>\n",
       "      <td>NaN</td>\n",
       "      <td>0.0</td>\n",
       "      <td>0.0</td>\n",
       "      <td>0.0</td>\n",
       "      <td>0.0</td>\n",
       "      <td>1127.039</td>\n",
       "      <td>0.0</td>\n",
       "    </tr>\n",
       "    <tr>\n",
       "      <th>4</th>\n",
       "      <td>2022-06-21T23:45:00+02:00</td>\n",
       "      <td>PT15M</td>\n",
       "      <td>Namur</td>\n",
       "      <td>NaN</td>\n",
       "      <td>0.0</td>\n",
       "      <td>0.0</td>\n",
       "      <td>0.0</td>\n",
       "      <td>0.0</td>\n",
       "      <td>195.154</td>\n",
       "      <td>0.0</td>\n",
       "    </tr>\n",
       "  </tbody>\n",
       "</table>\n",
       "</div>"
      ],
      "text/plain": [
       "                    Datetime Resolution code           Region  \\\n",
       "0  2022-06-21T23:45:00+02:00           PT15M            Liège   \n",
       "1  2022-06-21T23:45:00+02:00           PT15M          Hainaut   \n",
       "2  2022-06-21T23:45:00+02:00           PT15M  Flemish-Brabant   \n",
       "3  2022-06-21T23:45:00+02:00           PT15M    East-Flanders   \n",
       "4  2022-06-21T23:45:00+02:00           PT15M            Namur   \n",
       "\n",
       "   Measured & Upscaled  Most recent forecast  Day Ahead 11AM forecast  \\\n",
       "0                  NaN                   0.0                      0.0   \n",
       "1                  NaN                   0.0                      0.0   \n",
       "2                  NaN                   0.0                      0.0   \n",
       "3                  NaN                   0.0                      0.0   \n",
       "4                  NaN                   0.0                      0.0   \n",
       "\n",
       "   Day-ahead 6PM forecast  Week-ahead forecast  Monitored capacity  \\\n",
       "0                     0.0                  0.0             634.933   \n",
       "1                     0.0                  0.0             431.127   \n",
       "2                     0.0                  0.0             514.584   \n",
       "3                     0.0                  0.0            1127.039   \n",
       "4                     0.0                  0.0             195.154   \n",
       "\n",
       "   Load factor  \n",
       "0          0.0  \n",
       "1          0.0  \n",
       "2          0.0  \n",
       "3          0.0  \n",
       "4          0.0  "
      ]
     },
     "execution_count": 27,
     "metadata": {},
     "output_type": "execute_result"
    }
   ],
   "source": [
    "pv_power.iloc[:5,:]"
   ]
  },
  {
   "cell_type": "markdown",
   "metadata": {},
   "source": [
    "Notice, that if you put nothing for `start_column` and `end_column` behind the comma and only a `:` python selects everything. So in the example above, python selected the first five rows and all columns of the data set."
   ]
  },
  {
   "cell_type": "markdown",
   "metadata": {},
   "source": [
    "Let's do the same thing with the `loc` syntax instead of `iloc` and check out what happens: "
   ]
  },
  {
   "cell_type": "code",
   "execution_count": 28,
   "metadata": {},
   "outputs": [
    {
     "data": {
      "text/html": [
       "<div>\n",
       "<style scoped>\n",
       "    .dataframe tbody tr th:only-of-type {\n",
       "        vertical-align: middle;\n",
       "    }\n",
       "\n",
       "    .dataframe tbody tr th {\n",
       "        vertical-align: top;\n",
       "    }\n",
       "\n",
       "    .dataframe thead th {\n",
       "        text-align: right;\n",
       "    }\n",
       "</style>\n",
       "<table border=\"1\" class=\"dataframe\">\n",
       "  <thead>\n",
       "    <tr style=\"text-align: right;\">\n",
       "      <th></th>\n",
       "      <th>Datetime</th>\n",
       "      <th>Resolution code</th>\n",
       "      <th>Region</th>\n",
       "      <th>Measured &amp; Upscaled</th>\n",
       "      <th>Most recent forecast</th>\n",
       "      <th>Day Ahead 11AM forecast</th>\n",
       "      <th>Day-ahead 6PM forecast</th>\n",
       "      <th>Week-ahead forecast</th>\n",
       "      <th>Monitored capacity</th>\n",
       "      <th>Load factor</th>\n",
       "    </tr>\n",
       "  </thead>\n",
       "  <tbody>\n",
       "    <tr>\n",
       "      <th>0</th>\n",
       "      <td>2022-06-21T23:45:00+02:00</td>\n",
       "      <td>PT15M</td>\n",
       "      <td>Liège</td>\n",
       "      <td>NaN</td>\n",
       "      <td>0.0</td>\n",
       "      <td>0.0</td>\n",
       "      <td>0.0</td>\n",
       "      <td>0.0</td>\n",
       "      <td>634.933</td>\n",
       "      <td>0.0</td>\n",
       "    </tr>\n",
       "    <tr>\n",
       "      <th>1</th>\n",
       "      <td>2022-06-21T23:45:00+02:00</td>\n",
       "      <td>PT15M</td>\n",
       "      <td>Hainaut</td>\n",
       "      <td>NaN</td>\n",
       "      <td>0.0</td>\n",
       "      <td>0.0</td>\n",
       "      <td>0.0</td>\n",
       "      <td>0.0</td>\n",
       "      <td>431.127</td>\n",
       "      <td>0.0</td>\n",
       "    </tr>\n",
       "    <tr>\n",
       "      <th>2</th>\n",
       "      <td>2022-06-21T23:45:00+02:00</td>\n",
       "      <td>PT15M</td>\n",
       "      <td>Flemish-Brabant</td>\n",
       "      <td>NaN</td>\n",
       "      <td>0.0</td>\n",
       "      <td>0.0</td>\n",
       "      <td>0.0</td>\n",
       "      <td>0.0</td>\n",
       "      <td>514.584</td>\n",
       "      <td>0.0</td>\n",
       "    </tr>\n",
       "    <tr>\n",
       "      <th>3</th>\n",
       "      <td>2022-06-21T23:45:00+02:00</td>\n",
       "      <td>PT15M</td>\n",
       "      <td>East-Flanders</td>\n",
       "      <td>NaN</td>\n",
       "      <td>0.0</td>\n",
       "      <td>0.0</td>\n",
       "      <td>0.0</td>\n",
       "      <td>0.0</td>\n",
       "      <td>1127.039</td>\n",
       "      <td>0.0</td>\n",
       "    </tr>\n",
       "    <tr>\n",
       "      <th>4</th>\n",
       "      <td>2022-06-21T23:45:00+02:00</td>\n",
       "      <td>PT15M</td>\n",
       "      <td>Namur</td>\n",
       "      <td>NaN</td>\n",
       "      <td>0.0</td>\n",
       "      <td>0.0</td>\n",
       "      <td>0.0</td>\n",
       "      <td>0.0</td>\n",
       "      <td>195.154</td>\n",
       "      <td>0.0</td>\n",
       "    </tr>\n",
       "    <tr>\n",
       "      <th>5</th>\n",
       "      <td>2022-06-21T23:45:00+02:00</td>\n",
       "      <td>PT15M</td>\n",
       "      <td>Limburg</td>\n",
       "      <td>NaN</td>\n",
       "      <td>0.0</td>\n",
       "      <td>0.0</td>\n",
       "      <td>0.0</td>\n",
       "      <td>0.0</td>\n",
       "      <td>624.636</td>\n",
       "      <td>0.0</td>\n",
       "    </tr>\n",
       "  </tbody>\n",
       "</table>\n",
       "</div>"
      ],
      "text/plain": [
       "                    Datetime Resolution code           Region  \\\n",
       "0  2022-06-21T23:45:00+02:00           PT15M            Liège   \n",
       "1  2022-06-21T23:45:00+02:00           PT15M          Hainaut   \n",
       "2  2022-06-21T23:45:00+02:00           PT15M  Flemish-Brabant   \n",
       "3  2022-06-21T23:45:00+02:00           PT15M    East-Flanders   \n",
       "4  2022-06-21T23:45:00+02:00           PT15M            Namur   \n",
       "5  2022-06-21T23:45:00+02:00           PT15M          Limburg   \n",
       "\n",
       "   Measured & Upscaled  Most recent forecast  Day Ahead 11AM forecast  \\\n",
       "0                  NaN                   0.0                      0.0   \n",
       "1                  NaN                   0.0                      0.0   \n",
       "2                  NaN                   0.0                      0.0   \n",
       "3                  NaN                   0.0                      0.0   \n",
       "4                  NaN                   0.0                      0.0   \n",
       "5                  NaN                   0.0                      0.0   \n",
       "\n",
       "   Day-ahead 6PM forecast  Week-ahead forecast  Monitored capacity  \\\n",
       "0                     0.0                  0.0             634.933   \n",
       "1                     0.0                  0.0             431.127   \n",
       "2                     0.0                  0.0             514.584   \n",
       "3                     0.0                  0.0            1127.039   \n",
       "4                     0.0                  0.0             195.154   \n",
       "5                     0.0                  0.0             624.636   \n",
       "\n",
       "   Load factor  \n",
       "0          0.0  \n",
       "1          0.0  \n",
       "2          0.0  \n",
       "3          0.0  \n",
       "4          0.0  \n",
       "5          0.0  "
      ]
     },
     "execution_count": 28,
     "metadata": {},
     "output_type": "execute_result"
    }
   ],
   "source": [
    "pv_power.loc[:5,:]"
   ]
  },
  {
   "cell_type": "markdown",
   "metadata": {},
   "source": [
    "<br>\n",
    "Take a break to spot the differences &#9749;\n",
    "<br>"
   ]
  },
  {
   "cell_type": "markdown",
   "metadata": {},
   "source": [
    "Although the syntax looks almost identical, there is a huge difference between these two commands: \n",
    "\n",
    "- **iloc** works **positionally** with numbers (in our case the index)\n",
    "- **loc** searches for **labels**\n",
    "\n",
    "What does this mean? In the first trial, you used .iloc and selected the first five rows (from index 0 until index 4). In the second one, you basically said \"I want all the rows untill **label** 5\". Which results in 6 rows, from index 0 until index 5.\n",
    "\n",
    "<br>\n",
    "\n",
    "<div class=\"alert alert-block alert-warning\">\n",
    "\n",
    "&#128161;\n",
    "**If you want to select multiple rows/columns that are not consecutive, you need to pass a list with the respectives names/indexes.** \n",
    "    \n",
    "**loc:** [[\"row1\", \"row5\", \"row8\"], [\"column2\", \"column5\", \"column6\"]]\n",
    "    \n",
    "**iloc:** [[1, 5, 8], [2, 5, 6]] \n",
    "</div>\n",
    "    \n",
    "<br>"
   ]
  },
  {
   "cell_type": "markdown",
   "metadata": {},
   "source": [
    "Let's play with them. Check out the following examples: "
   ]
  },
  {
   "cell_type": "code",
   "execution_count": 39,
   "metadata": {},
   "outputs": [
    {
     "data": {
      "text/html": [
       "<div>\n",
       "<style scoped>\n",
       "    .dataframe tbody tr th:only-of-type {\n",
       "        vertical-align: middle;\n",
       "    }\n",
       "\n",
       "    .dataframe tbody tr th {\n",
       "        vertical-align: top;\n",
       "    }\n",
       "\n",
       "    .dataframe thead th {\n",
       "        text-align: right;\n",
       "    }\n",
       "</style>\n",
       "<table border=\"1\" class=\"dataframe\">\n",
       "  <thead>\n",
       "    <tr style=\"text-align: right;\">\n",
       "      <th></th>\n",
       "      <th>Datetime</th>\n",
       "      <th>Resolution code</th>\n",
       "    </tr>\n",
       "  </thead>\n",
       "  <tbody>\n",
       "    <tr>\n",
       "      <th>2</th>\n",
       "      <td>2022-06-21T23:45:00+02:00</td>\n",
       "      <td>PT15M</td>\n",
       "    </tr>\n",
       "    <tr>\n",
       "      <th>3</th>\n",
       "      <td>2022-06-21T23:45:00+02:00</td>\n",
       "      <td>PT15M</td>\n",
       "    </tr>\n",
       "    <tr>\n",
       "      <th>4</th>\n",
       "      <td>2022-06-21T23:45:00+02:00</td>\n",
       "      <td>PT15M</td>\n",
       "    </tr>\n",
       "  </tbody>\n",
       "</table>\n",
       "</div>"
      ],
      "text/plain": [
       "                    Datetime Resolution code\n",
       "2  2022-06-21T23:45:00+02:00           PT15M\n",
       "3  2022-06-21T23:45:00+02:00           PT15M\n",
       "4  2022-06-21T23:45:00+02:00           PT15M"
      ]
     },
     "execution_count": 39,
     "metadata": {},
     "output_type": "execute_result"
    }
   ],
   "source": [
    "pv_power.iloc[2:5,:2] #don't forget, the first row has the index 0!"
   ]
  },
  {
   "cell_type": "code",
   "execution_count": 32,
   "metadata": {},
   "outputs": [
    {
     "data": {
      "text/html": [
       "<div>\n",
       "<style scoped>\n",
       "    .dataframe tbody tr th:only-of-type {\n",
       "        vertical-align: middle;\n",
       "    }\n",
       "\n",
       "    .dataframe tbody tr th {\n",
       "        vertical-align: top;\n",
       "    }\n",
       "\n",
       "    .dataframe thead th {\n",
       "        text-align: right;\n",
       "    }\n",
       "</style>\n",
       "<table border=\"1\" class=\"dataframe\">\n",
       "  <thead>\n",
       "    <tr style=\"text-align: right;\">\n",
       "      <th></th>\n",
       "      <th>Datetime</th>\n",
       "      <th>Resolution code</th>\n",
       "      <th>Region</th>\n",
       "    </tr>\n",
       "  </thead>\n",
       "  <tbody>\n",
       "    <tr>\n",
       "      <th>2</th>\n",
       "      <td>2022-06-21T23:45:00+02:00</td>\n",
       "      <td>PT15M</td>\n",
       "      <td>Flemish-Brabant</td>\n",
       "    </tr>\n",
       "    <tr>\n",
       "      <th>3</th>\n",
       "      <td>2022-06-21T23:45:00+02:00</td>\n",
       "      <td>PT15M</td>\n",
       "      <td>East-Flanders</td>\n",
       "    </tr>\n",
       "    <tr>\n",
       "      <th>4</th>\n",
       "      <td>2022-06-21T23:45:00+02:00</td>\n",
       "      <td>PT15M</td>\n",
       "      <td>Namur</td>\n",
       "    </tr>\n",
       "    <tr>\n",
       "      <th>5</th>\n",
       "      <td>2022-06-21T23:45:00+02:00</td>\n",
       "      <td>PT15M</td>\n",
       "      <td>Limburg</td>\n",
       "    </tr>\n",
       "  </tbody>\n",
       "</table>\n",
       "</div>"
      ],
      "text/plain": [
       "                    Datetime Resolution code           Region\n",
       "2  2022-06-21T23:45:00+02:00           PT15M  Flemish-Brabant\n",
       "3  2022-06-21T23:45:00+02:00           PT15M    East-Flanders\n",
       "4  2022-06-21T23:45:00+02:00           PT15M            Namur\n",
       "5  2022-06-21T23:45:00+02:00           PT15M          Limburg"
      ]
     },
     "execution_count": 32,
     "metadata": {},
     "output_type": "execute_result"
    }
   ],
   "source": [
    "pv_power.loc[2:5, :\"Region\"]"
   ]
  },
  {
   "cell_type": "markdown",
   "metadata": {},
   "source": [
    "### Exercise\n",
    "\n",
    "1. Select the first 7 rows, and first 2 columns of `pv_power`, positionally. \n",
    "2. Select rows 10, 15, and 30, and the columns `Resolution code` and `Region`.\n",
    "\n",
    "&#9200; Still time left? Try this one:\n",
    "\n",
    "3. Select the first 5 rows and columns `Datetime` and `Monitored capacity` of the `pv_power` table. "
   ]
  },
  {
   "cell_type": "code",
   "execution_count": null,
   "metadata": {},
   "outputs": [],
   "source": []
  },
  {
   "cell_type": "code",
   "execution_count": null,
   "metadata": {},
   "outputs": [],
   "source": []
  },
  {
   "cell_type": "code",
   "execution_count": null,
   "metadata": {},
   "outputs": [],
   "source": []
  }
 ],
 "metadata": {
  "kernelspec": {
   "display_name": "Python 3",
   "language": "python",
   "name": "python3"
  },
  "language_info": {
   "codemirror_mode": {
    "name": "ipython",
    "version": 3
   },
   "file_extension": ".py",
   "mimetype": "text/x-python",
   "name": "python",
   "nbconvert_exporter": "python",
   "pygments_lexer": "ipython3",
   "version": "3.8.5"
  }
 },
 "nbformat": 4,
 "nbformat_minor": 4
}
