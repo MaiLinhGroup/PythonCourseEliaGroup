{
 "cells": [
  {
   "cell_type": "markdown",
   "metadata": {},
   "source": [
    "<br>\n",
    "\n",
    "<img src=\"./image/Logo/logo_elia_group.png\" width = 200>\n",
    "\n",
    "<br>"
   ]
  },
  {
   "cell_type": "markdown",
   "metadata": {},
   "source": [
    "# Initial Data Exploration \n",
    "<br> \n",
    "\n",
    "In the following subsection you will learn how to select data and how to slice your data set. Anyone who has worked with data knows how important it is to be able to select particular columns or rows or to slice your data into specific pieces. In data science, slicing means to precisely select certain data snippets by row or column. In order to work with Pandas and the previous data set, you have to import them again."
   ]
  },
  {
   "cell_type": "code",
   "execution_count": null,
   "metadata": {},
   "outputs": [],
   "source": [
    "import pandas as pd"
   ]
  },
  {
   "cell_type": "code",
   "execution_count": null,
   "metadata": {},
   "outputs": [],
   "source": [
    "pv_power = pd.read_csv(\"./data/energy/ods032.csv\", sep = ';')"
   ]
  },
  {
   "cell_type": "markdown",
   "metadata": {},
   "source": [
    "## Selecting by column name\n",
    "There are actually two ways to select data by column name. <br>\n",
    "\n",
    "1. with quotes"
   ]
  },
  {
   "cell_type": "code",
   "execution_count": null,
   "metadata": {},
   "outputs": [],
   "source": [
    "pv_power['Region']"
   ]
  },
  {
   "cell_type": "markdown",
   "metadata": {},
   "source": [
    "2. with a dot as separator (NOTE - ONLY works when column names have no spaces!)"
   ]
  },
  {
   "cell_type": "code",
   "execution_count": null,
   "metadata": {},
   "outputs": [],
   "source": [
    "pv_power.Region"
   ]
  },
  {
   "cell_type": "markdown",
   "metadata": {},
   "source": [
    "\n",
    "You want to select two columns and just want to see the first three rows? No problem! You can also concatenate commands in Pandas. <br> \n",
    "Notice, that if you want to select two columns of your dataframe, you need to pass them as a list: `df_name[[\"column_1\", \"column_2\"]]`."
   ]
  },
  {
   "cell_type": "code",
   "execution_count": null,
   "metadata": {},
   "outputs": [],
   "source": [
    "pv_power[[\"Region\", \"Monitored capacity\"]].head(n=3)"
   ]
  },
  {
   "cell_type": "markdown",
   "metadata": {},
   "source": [
    "### Exercise\n",
    "1. Check the column names of the dataframe again\n",
    "2. Select the columns \"Resolution code\" and \"Datetime\"\n",
    "3. Display the first 5 rows of the selected columns"
   ]
  },
  {
   "cell_type": "code",
   "execution_count": null,
   "metadata": {},
   "outputs": [],
   "source": []
  },
  {
   "cell_type": "code",
   "execution_count": null,
   "metadata": {},
   "outputs": [],
   "source": []
  },
  {
   "cell_type": "code",
   "execution_count": null,
   "metadata": {},
   "outputs": [],
   "source": []
  },
  {
   "cell_type": "markdown",
   "metadata": {},
   "source": [
    "## Slicing - Precise Selection by Row and Column\n",
    "- `df.loc` gets rows (or columns) with particular labels from the index.\n",
    "- `df.iloc` gets rows (or columns) at particular positions in the index (so it only takes integers).\n",
    "\n",
    "<br>\n",
    "\n",
    "<div class=\"alert alert-block alert-warning\">\n",
    "\n",
    "&#128161; **When using `loc` and `iloc`, the row is ALWAYS 1st and column is ALWAYS second!!**\n",
    "\n",
    "[start_row : end_row, start_column : end_column] <br>\n",
    "    \n",
    "</div>\n",
    "    \n",
    "<br>\n",
    "\n",
    "For example, if you want to select the first 5 rows of the `pv_power` dataframe with iloc you use the following syntax:"
   ]
  },
  {
   "cell_type": "code",
   "execution_count": null,
   "metadata": {},
   "outputs": [],
   "source": [
    "pv_power.iloc[:5,:]"
   ]
  },
  {
   "cell_type": "markdown",
   "metadata": {},
   "source": [
    "Notice, that if you put nothing for `start_column` and `end_column` behind the comma and only a `:` python selects everything. So in the example above, python selected the first five rows and all columns of the data set."
   ]
  },
  {
   "cell_type": "markdown",
   "metadata": {},
   "source": [
    "Let's do the same thing with the `loc` syntax instead of `iloc` and check out what happens: "
   ]
  },
  {
   "cell_type": "code",
   "execution_count": null,
   "metadata": {},
   "outputs": [],
   "source": [
    "pv_power.loc[:5,:]"
   ]
  },
  {
   "cell_type": "markdown",
   "metadata": {},
   "source": [
    "<br>\n",
    "Take a break to spot the differences &#9749;\n",
    "<br>"
   ]
  },
  {
   "cell_type": "markdown",
   "metadata": {},
   "source": [
    "Although the syntax looks almost identical, there is a huge difference between these two commands: \n",
    "\n",
    "- **iloc** works **positionally** with numbers (in our case the index)\n",
    "- **loc** searches for **labels**\n",
    "\n",
    "What does this mean? In the first trial, you used .iloc and selected the first five rows (from index 0 until index 4). In the second one, you basically said \"I want all the rows untill **label** 5\". Which results in 6 rows, from index 0 until index 5.\n",
    "\n",
    "<br>\n",
    "\n",
    "<div class=\"alert alert-block alert-warning\">\n",
    "\n",
    "&#128161;\n",
    "**If you want to select multiple rows/columns that are not consecutive, you need to pass a list with the respectives names/indexes.** \n",
    "    \n",
    "**loc:** [[\"row1\", \"row5\", \"row8\"], [\"column2\", \"column5\", \"column6\"]]\n",
    "    \n",
    "**iloc:** [[1, 5, 8], [2, 5, 6]] \n",
    "</div>\n",
    "    \n",
    "<br>"
   ]
  },
  {
   "cell_type": "markdown",
   "metadata": {},
   "source": [
    "Let's play with them. Check out the following examples: "
   ]
  },
  {
   "cell_type": "code",
   "execution_count": null,
   "metadata": {},
   "outputs": [],
   "source": [
    "pv_power.iloc[2:5,:2] #don't forget, the first row has the index 0!"
   ]
  },
  {
   "cell_type": "code",
   "execution_count": null,
   "metadata": {},
   "outputs": [],
   "source": [
    "pv_power.loc[2:5, :\"Region\"]"
   ]
  },
  {
   "cell_type": "markdown",
   "metadata": {},
   "source": [
    "### Exercise\n",
    "\n",
    "1. Select the first 7 rows, and first 2 columns of `pv_power`, positionally. \n",
    "2. Select rows 10, 15, and 30, and the columns `Resolution code` and `Region`.\n",
    "\n",
    "&#9200; Still time left? Try this one:\n",
    "\n",
    "3. Select the first 5 rows and columns `Datetime` and `Monitored capacity` of the `pv_power` table. "
   ]
  },
  {
   "cell_type": "code",
   "execution_count": null,
   "metadata": {},
   "outputs": [],
   "source": []
  },
  {
   "cell_type": "code",
   "execution_count": null,
   "metadata": {},
   "outputs": [],
   "source": []
  },
  {
   "cell_type": "code",
   "execution_count": null,
   "metadata": {},
   "outputs": [],
   "source": []
  },
  {
   "cell_type": "markdown",
   "metadata": {},
   "source": [
    "## Extra resources\n",
    "To know more about iloc and loc read:\n",
    "- [iloc documentation](https://pandas.pydata.org/docs/reference/api/pandas.DataFrame.iloc.html)\n",
    "- [loc documentation](https://pandas.pydata.org/docs/reference/api/pandas.DataFrame.loc.html)"
   ]
  }
 ],
 "metadata": {
  "kernelspec": {
   "display_name": "Python 3",
   "language": "python",
   "name": "python3"
  },
  "language_info": {
   "codemirror_mode": {
    "name": "ipython",
    "version": 3
   },
   "file_extension": ".py",
   "mimetype": "text/x-python",
   "name": "python",
   "nbconvert_exporter": "python",
   "pygments_lexer": "ipython3",
   "version": "3.10.13"
  }
 },
 "nbformat": 4,
 "nbformat_minor": 4
}
