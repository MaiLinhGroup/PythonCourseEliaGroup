{
 "cells": [
  {
   "cell_type": "markdown",
   "metadata": {},
   "source": [
    "<br>\n",
    "\n",
    "<img src=\"./image/Logo/logo_elia_group.png\" width = 200>\n",
    "\n",
    "<br>"
   ]
  },
  {
   "cell_type": "markdown",
   "metadata": {},
   "source": [
    "# Conditional Selections: Filtering\n",
    "<br>\n",
    "\n",
    "One of the most beloved and useful function in excel is the filter function - and of course, you can do the same in Python. You can use conditional selections to select specific rows and narrow your analysis down. And to make things easier, you can save selections you plan to use often as their own variables. Let's get right to it!"
   ]
  },
  {
   "cell_type": "markdown",
   "metadata": {},
   "source": [
    "<img src= \"./image/conditional_selections.png\" width = 300>"
   ]
  },
  {
   "cell_type": "markdown",
   "metadata": {},
   "source": [
    "First, let's have a look at the dataset \"physical flow\" again: "
   ]
  },
  {
   "cell_type": "code",
   "execution_count": 1,
   "metadata": {},
   "outputs": [],
   "source": [
    "import pandas as pd"
   ]
  },
  {
   "cell_type": "code",
   "execution_count": 2,
   "metadata": {},
   "outputs": [
    {
     "data": {
      "text/html": [
       "<div>\n",
       "<style scoped>\n",
       "    .dataframe tbody tr th:only-of-type {\n",
       "        vertical-align: middle;\n",
       "    }\n",
       "\n",
       "    .dataframe tbody tr th {\n",
       "        vertical-align: top;\n",
       "    }\n",
       "\n",
       "    .dataframe thead th {\n",
       "        text-align: right;\n",
       "    }\n",
       "</style>\n",
       "<table border=\"1\" class=\"dataframe\">\n",
       "  <thead>\n",
       "    <tr style=\"text-align: right;\">\n",
       "      <th></th>\n",
       "      <th>Resolution code</th>\n",
       "      <th>Control area</th>\n",
       "      <th>Physical Flow Value</th>\n",
       "    </tr>\n",
       "    <tr>\n",
       "      <th>Datetime</th>\n",
       "      <th></th>\n",
       "      <th></th>\n",
       "      <th></th>\n",
       "    </tr>\n",
       "  </thead>\n",
       "  <tbody>\n",
       "    <tr>\n",
       "      <th>2021-12-01 23:45:00+01:00</th>\n",
       "      <td>PT15M</td>\n",
       "      <td>Netherlands</td>\n",
       "      <td>-419.704</td>\n",
       "    </tr>\n",
       "    <tr>\n",
       "      <th>2021-12-01 23:45:00+01:00</th>\n",
       "      <td>PT15M</td>\n",
       "      <td>UnitedKingdom</td>\n",
       "      <td>1021.774</td>\n",
       "    </tr>\n",
       "    <tr>\n",
       "      <th>2021-12-01 23:45:00+01:00</th>\n",
       "      <td>PT15M</td>\n",
       "      <td>Luxembourg</td>\n",
       "      <td>-53.708</td>\n",
       "    </tr>\n",
       "    <tr>\n",
       "      <th>2021-12-01 23:45:00+01:00</th>\n",
       "      <td>PT15M</td>\n",
       "      <td>Germany</td>\n",
       "      <td>-1001.788</td>\n",
       "    </tr>\n",
       "    <tr>\n",
       "      <th>2021-12-01 23:45:00+01:00</th>\n",
       "      <td>PT15M</td>\n",
       "      <td>France</td>\n",
       "      <td>581.908</td>\n",
       "    </tr>\n",
       "  </tbody>\n",
       "</table>\n",
       "</div>"
      ],
      "text/plain": [
       "                          Resolution code   Control area  Physical Flow Value\n",
       "Datetime                                                                     \n",
       "2021-12-01 23:45:00+01:00           PT15M    Netherlands             -419.704\n",
       "2021-12-01 23:45:00+01:00           PT15M  UnitedKingdom             1021.774\n",
       "2021-12-01 23:45:00+01:00           PT15M     Luxembourg              -53.708\n",
       "2021-12-01 23:45:00+01:00           PT15M        Germany            -1001.788\n",
       "2021-12-01 23:45:00+01:00           PT15M         France              581.908"
      ]
     },
     "execution_count": 2,
     "metadata": {},
     "output_type": "execute_result"
    }
   ],
   "source": [
    "energy_flow = pd.read_csv(\"./data/energy/physical_flow_2021_1_01.csv\", sep = \";\", parse_dates = True, index_col = 0)\n",
    "energy_flow.head()"
   ]
  },
  {
   "cell_type": "markdown",
   "metadata": {},
   "source": [
    "As you can see, the data set describes different physical flow values from different countries (the neighbouring bidding zones of Belgium), measured at similar datetimes.\n",
    "Let's check which countries are represented here:"
   ]
  },
  {
   "cell_type": "code",
   "execution_count": 3,
   "metadata": {},
   "outputs": [
    {
     "data": {
      "text/plain": [
       "array(['Netherlands', 'UnitedKingdom', 'Luxembourg', 'Germany', 'France'],\n",
       "      dtype=object)"
      ]
     },
     "execution_count": 3,
     "metadata": {},
     "output_type": "execute_result"
    }
   ],
   "source": [
    "energy_flow[\"Control area\"].unique()"
   ]
  },
  {
   "cell_type": "markdown",
   "metadata": {},
   "source": [
    "Imagine you want to take a closer look at France and Luxembourg. To do so, you need to select the column of interest and \"filter\" your area of choice with a conditional statement which returns either True or False. This is then used to filter your data set. "
   ]
  },
  {
   "cell_type": "code",
   "execution_count": 4,
   "metadata": {},
   "outputs": [],
   "source": [
    "france = energy_flow[energy_flow[\"Control area\"] == \"France\"]"
   ]
  },
  {
   "cell_type": "code",
   "execution_count": 5,
   "metadata": {},
   "outputs": [],
   "source": [
    "luxembourg = energy_flow[energy_flow[\"Control area\"] == \"Luxembourg\"]"
   ]
  },
  {
   "cell_type": "code",
   "execution_count": 6,
   "metadata": {},
   "outputs": [
    {
     "data": {
      "text/html": [
       "<div>\n",
       "<style scoped>\n",
       "    .dataframe tbody tr th:only-of-type {\n",
       "        vertical-align: middle;\n",
       "    }\n",
       "\n",
       "    .dataframe tbody tr th {\n",
       "        vertical-align: top;\n",
       "    }\n",
       "\n",
       "    .dataframe thead th {\n",
       "        text-align: right;\n",
       "    }\n",
       "</style>\n",
       "<table border=\"1\" class=\"dataframe\">\n",
       "  <thead>\n",
       "    <tr style=\"text-align: right;\">\n",
       "      <th></th>\n",
       "      <th>Resolution code</th>\n",
       "      <th>Control area</th>\n",
       "      <th>Physical Flow Value</th>\n",
       "    </tr>\n",
       "    <tr>\n",
       "      <th>Datetime</th>\n",
       "      <th></th>\n",
       "      <th></th>\n",
       "      <th></th>\n",
       "    </tr>\n",
       "  </thead>\n",
       "  <tbody>\n",
       "    <tr>\n",
       "      <th>2021-12-01 23:45:00+01:00</th>\n",
       "      <td>PT15M</td>\n",
       "      <td>France</td>\n",
       "      <td>581.908</td>\n",
       "    </tr>\n",
       "    <tr>\n",
       "      <th>2021-12-01 23:30:00+01:00</th>\n",
       "      <td>PT15M</td>\n",
       "      <td>France</td>\n",
       "      <td>691.116</td>\n",
       "    </tr>\n",
       "    <tr>\n",
       "      <th>2021-12-01 23:15:00+01:00</th>\n",
       "      <td>PT15M</td>\n",
       "      <td>France</td>\n",
       "      <td>523.224</td>\n",
       "    </tr>\n",
       "  </tbody>\n",
       "</table>\n",
       "</div>"
      ],
      "text/plain": [
       "                          Resolution code Control area  Physical Flow Value\n",
       "Datetime                                                                   \n",
       "2021-12-01 23:45:00+01:00           PT15M       France              581.908\n",
       "2021-12-01 23:30:00+01:00           PT15M       France              691.116\n",
       "2021-12-01 23:15:00+01:00           PT15M       France              523.224"
      ]
     },
     "execution_count": 6,
     "metadata": {},
     "output_type": "execute_result"
    }
   ],
   "source": [
    "france.head(n=3)"
   ]
  },
  {
   "cell_type": "code",
   "execution_count": 7,
   "metadata": {},
   "outputs": [
    {
     "data": {
      "text/html": [
       "<div>\n",
       "<style scoped>\n",
       "    .dataframe tbody tr th:only-of-type {\n",
       "        vertical-align: middle;\n",
       "    }\n",
       "\n",
       "    .dataframe tbody tr th {\n",
       "        vertical-align: top;\n",
       "    }\n",
       "\n",
       "    .dataframe thead th {\n",
       "        text-align: right;\n",
       "    }\n",
       "</style>\n",
       "<table border=\"1\" class=\"dataframe\">\n",
       "  <thead>\n",
       "    <tr style=\"text-align: right;\">\n",
       "      <th></th>\n",
       "      <th>Resolution code</th>\n",
       "      <th>Control area</th>\n",
       "      <th>Physical Flow Value</th>\n",
       "    </tr>\n",
       "    <tr>\n",
       "      <th>Datetime</th>\n",
       "      <th></th>\n",
       "      <th></th>\n",
       "      <th></th>\n",
       "    </tr>\n",
       "  </thead>\n",
       "  <tbody>\n",
       "    <tr>\n",
       "      <th>2021-12-01 23:45:00+01:00</th>\n",
       "      <td>PT15M</td>\n",
       "      <td>Luxembourg</td>\n",
       "      <td>-53.708</td>\n",
       "    </tr>\n",
       "    <tr>\n",
       "      <th>2021-12-01 23:30:00+01:00</th>\n",
       "      <td>PT15M</td>\n",
       "      <td>Luxembourg</td>\n",
       "      <td>-57.983</td>\n",
       "    </tr>\n",
       "    <tr>\n",
       "      <th>2021-12-01 23:15:00+01:00</th>\n",
       "      <td>PT15M</td>\n",
       "      <td>Luxembourg</td>\n",
       "      <td>-24.082</td>\n",
       "    </tr>\n",
       "  </tbody>\n",
       "</table>\n",
       "</div>"
      ],
      "text/plain": [
       "                          Resolution code Control area  Physical Flow Value\n",
       "Datetime                                                                   \n",
       "2021-12-01 23:45:00+01:00           PT15M   Luxembourg              -53.708\n",
       "2021-12-01 23:30:00+01:00           PT15M   Luxembourg              -57.983\n",
       "2021-12-01 23:15:00+01:00           PT15M   Luxembourg              -24.082"
      ]
     },
     "execution_count": 7,
     "metadata": {},
     "output_type": "execute_result"
    }
   ],
   "source": [
    "luxembourg.head(n=3)"
   ]
  },
  {
   "cell_type": "markdown",
   "metadata": {},
   "source": [
    "### Excercise\n",
    "\n",
    "1. Look at the dataframe `energy_flow` above and select the control area \"Germany\". \n",
    "2. Save your selection into a variable called `germany`.\n",
    "3. Look at the first three rows to see if it worked. "
   ]
  },
  {
   "cell_type": "code",
   "execution_count": null,
   "metadata": {},
   "outputs": [],
   "source": []
  },
  {
   "cell_type": "code",
   "execution_count": null,
   "metadata": {},
   "outputs": [],
   "source": []
  },
  {
   "cell_type": "markdown",
   "metadata": {},
   "source": [
    "Since the data set includes hourly data from one day, you could calculate the mean physical flow of that day per selected country:"
   ]
  },
  {
   "cell_type": "code",
   "execution_count": 8,
   "metadata": {},
   "outputs": [
    {
     "name": "stdout",
     "output_type": "stream",
     "text": [
      "Mean Physical Flow of France in MW:  418\n"
     ]
    }
   ],
   "source": [
    "print('Mean Physical Flow of France in MW: ', round(france['Physical Flow Value'].mean()))"
   ]
  },
  {
   "cell_type": "code",
   "execution_count": 9,
   "metadata": {},
   "outputs": [
    {
     "name": "stdout",
     "output_type": "stream",
     "text": [
      "Mean Physical Flow of Luxembourg in MW:  69\n"
     ]
    }
   ],
   "source": [
    "print('Mean Physical Flow of Luxembourg in MW: ', round(luxembourg['Physical Flow Value'].mean()))"
   ]
  },
  {
   "cell_type": "markdown",
   "metadata": {},
   "source": [
    "Since a positive figure means export from Belgium, you can now use these to calculate more targeted metrics: "
   ]
  },
  {
   "cell_type": "code",
   "execution_count": 10,
   "metadata": {},
   "outputs": [
    {
     "name": "stdout",
     "output_type": "stream",
     "text": [
      "On that day, Belgium exports 348.28 MW on average more to France compared to Luxembourg.\n"
     ]
    }
   ],
   "source": [
    "print('On that day, Belgium exports {} MW on average more to France compared to Luxembourg.'\\\n",
    "      .format(round(france['Physical Flow Value'].mean() - luxembourg['Physical Flow Value'].mean(),2)))"
   ]
  },
  {
   "cell_type": "markdown",
   "metadata": {},
   "source": [
    "## Advanced Conditionals: Using Masks \n",
    "<br>\n",
    "\n",
    "Sure, it is nice to filter just one thing. But what if you want **to filter on > 1 criteria**? Then it can be easier to use a mask. No, not a face mask. Rather a boolean mask. <br>\n",
    "\n",
    "Imagine you would like to not just select France OR Luxembourg, but both countries as well as Germany. With a mask, you specify these multiple conditions. Your mask evaluates the different conditions and returns either TRUE/FALSE. In a second step this mask is used as a filter as you have already learned in Filtering.\n",
    "The pipe operator `|` is used as on OR whereas the `&` is used as an AND. But enough talking, let's try it out! "
   ]
  },
  {
   "cell_type": "markdown",
   "metadata": {},
   "source": [
    "1. Create a variable that stores all the conditions you would like to choose"
   ]
  },
  {
   "cell_type": "code",
   "execution_count": 11,
   "metadata": {},
   "outputs": [],
   "source": [
    "countries_mask = (energy_flow[\"Control area\"] == \"France\") | (energy_flow[\"Control area\"] == \"Luxembourg\") | (energy_flow[\"Control area\"] == \"Germany\")"
   ]
  },
  {
   "cell_type": "markdown",
   "metadata": {},
   "source": [
    "2. Look at your mask. It returns whether your conditions have been met for each row or not"
   ]
  },
  {
   "cell_type": "code",
   "execution_count": 12,
   "metadata": {},
   "outputs": [
    {
     "data": {
      "text/plain": [
       "Datetime\n",
       "2021-12-01 23:45:00+01:00    False\n",
       "2021-12-01 23:45:00+01:00    False\n",
       "2021-12-01 23:45:00+01:00     True\n",
       "2021-12-01 23:45:00+01:00     True\n",
       "2021-12-01 23:45:00+01:00     True\n",
       "                             ...  \n",
       "2021-12-01 00:00:00+01:00     True\n",
       "2021-12-01 00:00:00+01:00     True\n",
       "2021-12-01 00:00:00+01:00    False\n",
       "2021-12-01 00:00:00+01:00    False\n",
       "2021-12-01 00:00:00+01:00     True\n",
       "Name: Control area, Length: 480, dtype: bool"
      ]
     },
     "execution_count": 12,
     "metadata": {},
     "output_type": "execute_result"
    }
   ],
   "source": [
    "countries_mask"
   ]
  },
  {
   "cell_type": "markdown",
   "metadata": {},
   "source": [
    "3. Now you can directly access your mask, using: "
   ]
  },
  {
   "cell_type": "code",
   "execution_count": 13,
   "metadata": {},
   "outputs": [],
   "source": [
    "selected_countries = energy_flow[countries_mask]"
   ]
  },
  {
   "cell_type": "code",
   "execution_count": 14,
   "metadata": {},
   "outputs": [
    {
     "data": {
      "text/plain": [
       "array(['Luxembourg', 'Germany', 'France'], dtype=object)"
      ]
     },
     "execution_count": 14,
     "metadata": {},
     "output_type": "execute_result"
    }
   ],
   "source": [
    "selected_countries[\"Control area\"].unique()"
   ]
  },
  {
   "cell_type": "markdown",
   "metadata": {},
   "source": [
    "&#128526; nice, well done!"
   ]
  },
  {
   "cell_type": "markdown",
   "metadata": {},
   "source": [
    "Let's create another mask just for fun. Now we want to have all the data related to a physical flow is higher 1000 MW and find out whether it is import or export. For that, let's have a look at the original dataframe again: "
   ]
  },
  {
   "cell_type": "code",
   "execution_count": 15,
   "metadata": {},
   "outputs": [
    {
     "data": {
      "text/html": [
       "<div>\n",
       "<style scoped>\n",
       "    .dataframe tbody tr th:only-of-type {\n",
       "        vertical-align: middle;\n",
       "    }\n",
       "\n",
       "    .dataframe tbody tr th {\n",
       "        vertical-align: top;\n",
       "    }\n",
       "\n",
       "    .dataframe thead th {\n",
       "        text-align: right;\n",
       "    }\n",
       "</style>\n",
       "<table border=\"1\" class=\"dataframe\">\n",
       "  <thead>\n",
       "    <tr style=\"text-align: right;\">\n",
       "      <th></th>\n",
       "      <th>Resolution code</th>\n",
       "      <th>Control area</th>\n",
       "      <th>Physical Flow Value</th>\n",
       "    </tr>\n",
       "    <tr>\n",
       "      <th>Datetime</th>\n",
       "      <th></th>\n",
       "      <th></th>\n",
       "      <th></th>\n",
       "    </tr>\n",
       "  </thead>\n",
       "  <tbody>\n",
       "    <tr>\n",
       "      <th>2021-12-01 23:45:00+01:00</th>\n",
       "      <td>PT15M</td>\n",
       "      <td>Netherlands</td>\n",
       "      <td>-419.704</td>\n",
       "    </tr>\n",
       "    <tr>\n",
       "      <th>2021-12-01 23:45:00+01:00</th>\n",
       "      <td>PT15M</td>\n",
       "      <td>UnitedKingdom</td>\n",
       "      <td>1021.774</td>\n",
       "    </tr>\n",
       "    <tr>\n",
       "      <th>2021-12-01 23:45:00+01:00</th>\n",
       "      <td>PT15M</td>\n",
       "      <td>Luxembourg</td>\n",
       "      <td>-53.708</td>\n",
       "    </tr>\n",
       "    <tr>\n",
       "      <th>2021-12-01 23:45:00+01:00</th>\n",
       "      <td>PT15M</td>\n",
       "      <td>Germany</td>\n",
       "      <td>-1001.788</td>\n",
       "    </tr>\n",
       "    <tr>\n",
       "      <th>2021-12-01 23:45:00+01:00</th>\n",
       "      <td>PT15M</td>\n",
       "      <td>France</td>\n",
       "      <td>581.908</td>\n",
       "    </tr>\n",
       "  </tbody>\n",
       "</table>\n",
       "</div>"
      ],
      "text/plain": [
       "                          Resolution code   Control area  Physical Flow Value\n",
       "Datetime                                                                     \n",
       "2021-12-01 23:45:00+01:00           PT15M    Netherlands             -419.704\n",
       "2021-12-01 23:45:00+01:00           PT15M  UnitedKingdom             1021.774\n",
       "2021-12-01 23:45:00+01:00           PT15M     Luxembourg              -53.708\n",
       "2021-12-01 23:45:00+01:00           PT15M        Germany            -1001.788\n",
       "2021-12-01 23:45:00+01:00           PT15M         France              581.908"
      ]
     },
     "execution_count": 15,
     "metadata": {},
     "output_type": "execute_result"
    }
   ],
   "source": [
    "energy_flow.head()"
   ]
  },
  {
   "cell_type": "markdown",
   "metadata": {},
   "source": [
    "Let's define that in this case, a high physical flow means < - 1000 MW and > 1000 MW."
   ]
  },
  {
   "cell_type": "code",
   "execution_count": 16,
   "metadata": {},
   "outputs": [],
   "source": [
    "high_flow_mask = (energy_flow[\"Physical Flow Value\"] < -1000) | (energy_flow[\"Physical Flow Value\"] > 1000)"
   ]
  },
  {
   "cell_type": "code",
   "execution_count": 17,
   "metadata": {},
   "outputs": [
    {
     "data": {
      "text/plain": [
       "Datetime\n",
       "2021-12-01 23:45:00+01:00    False\n",
       "2021-12-01 23:45:00+01:00     True\n",
       "2021-12-01 23:45:00+01:00    False\n",
       "2021-12-01 23:45:00+01:00     True\n",
       "2021-12-01 23:45:00+01:00    False\n",
       "                             ...  \n",
       "2021-12-01 00:00:00+01:00    False\n",
       "2021-12-01 00:00:00+01:00    False\n",
       "2021-12-01 00:00:00+01:00    False\n",
       "2021-12-01 00:00:00+01:00     True\n",
       "2021-12-01 00:00:00+01:00    False\n",
       "Name: Physical Flow Value, Length: 480, dtype: bool"
      ]
     },
     "execution_count": 17,
     "metadata": {},
     "output_type": "execute_result"
    }
   ],
   "source": [
    "high_flow_mask"
   ]
  },
  {
   "cell_type": "code",
   "execution_count": 18,
   "metadata": {},
   "outputs": [],
   "source": [
    "high_flow = energy_flow[high_flow_mask]"
   ]
  },
  {
   "cell_type": "code",
   "execution_count": 19,
   "metadata": {},
   "outputs": [
    {
     "data": {
      "text/html": [
       "<div>\n",
       "<style scoped>\n",
       "    .dataframe tbody tr th:only-of-type {\n",
       "        vertical-align: middle;\n",
       "    }\n",
       "\n",
       "    .dataframe tbody tr th {\n",
       "        vertical-align: top;\n",
       "    }\n",
       "\n",
       "    .dataframe thead th {\n",
       "        text-align: right;\n",
       "    }\n",
       "</style>\n",
       "<table border=\"1\" class=\"dataframe\">\n",
       "  <thead>\n",
       "    <tr style=\"text-align: right;\">\n",
       "      <th></th>\n",
       "      <th>Resolution code</th>\n",
       "      <th>Control area</th>\n",
       "      <th>Physical Flow Value</th>\n",
       "    </tr>\n",
       "    <tr>\n",
       "      <th>Datetime</th>\n",
       "      <th></th>\n",
       "      <th></th>\n",
       "      <th></th>\n",
       "    </tr>\n",
       "  </thead>\n",
       "  <tbody>\n",
       "    <tr>\n",
       "      <th>2021-12-01 23:45:00+01:00</th>\n",
       "      <td>PT15M</td>\n",
       "      <td>UnitedKingdom</td>\n",
       "      <td>1021.774</td>\n",
       "    </tr>\n",
       "    <tr>\n",
       "      <th>2021-12-01 23:45:00+01:00</th>\n",
       "      <td>PT15M</td>\n",
       "      <td>Germany</td>\n",
       "      <td>-1001.788</td>\n",
       "    </tr>\n",
       "    <tr>\n",
       "      <th>2021-12-01 23:30:00+01:00</th>\n",
       "      <td>PT15M</td>\n",
       "      <td>UnitedKingdom</td>\n",
       "      <td>1023.455</td>\n",
       "    </tr>\n",
       "    <tr>\n",
       "      <th>2021-12-01 23:30:00+01:00</th>\n",
       "      <td>PT15M</td>\n",
       "      <td>Germany</td>\n",
       "      <td>-1002.104</td>\n",
       "    </tr>\n",
       "    <tr>\n",
       "      <th>2021-12-01 23:15:00+01:00</th>\n",
       "      <td>PT15M</td>\n",
       "      <td>UnitedKingdom</td>\n",
       "      <td>1023.362</td>\n",
       "    </tr>\n",
       "  </tbody>\n",
       "</table>\n",
       "</div>"
      ],
      "text/plain": [
       "                          Resolution code   Control area  Physical Flow Value\n",
       "Datetime                                                                     \n",
       "2021-12-01 23:45:00+01:00           PT15M  UnitedKingdom             1021.774\n",
       "2021-12-01 23:45:00+01:00           PT15M        Germany            -1001.788\n",
       "2021-12-01 23:30:00+01:00           PT15M  UnitedKingdom             1023.455\n",
       "2021-12-01 23:30:00+01:00           PT15M        Germany            -1002.104\n",
       "2021-12-01 23:15:00+01:00           PT15M  UnitedKingdom             1023.362"
      ]
     },
     "execution_count": 19,
     "metadata": {},
     "output_type": "execute_result"
    }
   ],
   "source": [
    "high_flow.head()"
   ]
  },
  {
   "cell_type": "markdown",
   "metadata": {},
   "source": [
    "## Groupby\n",
    "<br> \n",
    "\n",
    "One of the most flexible ways to group your data and aggregate in pandas is with `.groupby()`. So what does this actually mean? Let's have a look at the following example:"
   ]
  },
  {
   "cell_type": "code",
   "execution_count": 20,
   "metadata": {},
   "outputs": [
    {
     "data": {
      "text/html": [
       "<div>\n",
       "<style scoped>\n",
       "    .dataframe tbody tr th:only-of-type {\n",
       "        vertical-align: middle;\n",
       "    }\n",
       "\n",
       "    .dataframe tbody tr th {\n",
       "        vertical-align: top;\n",
       "    }\n",
       "\n",
       "    .dataframe thead th {\n",
       "        text-align: right;\n",
       "    }\n",
       "</style>\n",
       "<table border=\"1\" class=\"dataframe\">\n",
       "  <thead>\n",
       "    <tr style=\"text-align: right;\">\n",
       "      <th></th>\n",
       "      <th>Physical Flow Value</th>\n",
       "    </tr>\n",
       "    <tr>\n",
       "      <th>Control area</th>\n",
       "      <th></th>\n",
       "    </tr>\n",
       "  </thead>\n",
       "  <tbody>\n",
       "    <tr>\n",
       "      <th>France</th>\n",
       "      <td>417.687250</td>\n",
       "    </tr>\n",
       "    <tr>\n",
       "      <th>Germany</th>\n",
       "      <td>-692.056208</td>\n",
       "    </tr>\n",
       "    <tr>\n",
       "      <th>Luxembourg</th>\n",
       "      <td>69.402396</td>\n",
       "    </tr>\n",
       "    <tr>\n",
       "      <th>Netherlands</th>\n",
       "      <td>186.888375</td>\n",
       "    </tr>\n",
       "    <tr>\n",
       "      <th>UnitedKingdom</th>\n",
       "      <td>833.411906</td>\n",
       "    </tr>\n",
       "  </tbody>\n",
       "</table>\n",
       "</div>"
      ],
      "text/plain": [
       "               Physical Flow Value\n",
       "Control area                      \n",
       "France                  417.687250\n",
       "Germany                -692.056208\n",
       "Luxembourg               69.402396\n",
       "Netherlands             186.888375\n",
       "UnitedKingdom           833.411906"
      ]
     },
     "execution_count": 20,
     "metadata": {},
     "output_type": "execute_result"
    }
   ],
   "source": [
    "energy_flow.groupby(\"Control area\").mean()"
   ]
  },
  {
   "cell_type": "markdown",
   "metadata": {},
   "source": [
    "As you can see from the example above, `groupby()` groups your data by the column(s) that you hand over to the function. In this case \"Control area\". In addition, `groupby()` **only works with an aggregator** such as sum() or mean(). This means, you have to tell the function what to do with each group. In this case, calculate the mean using `mean()`. Also notice, that the **column you grouped on/by becomes your new index**!"
   ]
  },
  {
   "cell_type": "markdown",
   "metadata": {},
   "source": [
    "**Question:**\n",
    "Do you know why only the column \"Physical Flow Value\" is displayed in our example?"
   ]
  },
  {
   "cell_type": "code",
   "execution_count": null,
   "metadata": {},
   "outputs": [],
   "source": []
  },
  {
   "cell_type": "markdown",
   "metadata": {},
   "source": [
    "You can do many more cool things. If you want to change the order in which the aggregated values are displayed, you can just chain the command `.sort_values` to your groupby statement. In general, you can use `.sort_values` for sorting any  column of a DataFrame."
   ]
  },
  {
   "cell_type": "code",
   "execution_count": 21,
   "metadata": {},
   "outputs": [
    {
     "data": {
      "text/html": [
       "<div>\n",
       "<style scoped>\n",
       "    .dataframe tbody tr th:only-of-type {\n",
       "        vertical-align: middle;\n",
       "    }\n",
       "\n",
       "    .dataframe tbody tr th {\n",
       "        vertical-align: top;\n",
       "    }\n",
       "\n",
       "    .dataframe thead th {\n",
       "        text-align: right;\n",
       "    }\n",
       "</style>\n",
       "<table border=\"1\" class=\"dataframe\">\n",
       "  <thead>\n",
       "    <tr style=\"text-align: right;\">\n",
       "      <th></th>\n",
       "      <th>Physical Flow Value</th>\n",
       "    </tr>\n",
       "    <tr>\n",
       "      <th>Control area</th>\n",
       "      <th></th>\n",
       "    </tr>\n",
       "  </thead>\n",
       "  <tbody>\n",
       "    <tr>\n",
       "      <th>UnitedKingdom</th>\n",
       "      <td>833.411906</td>\n",
       "    </tr>\n",
       "    <tr>\n",
       "      <th>France</th>\n",
       "      <td>417.687250</td>\n",
       "    </tr>\n",
       "    <tr>\n",
       "      <th>Netherlands</th>\n",
       "      <td>186.888375</td>\n",
       "    </tr>\n",
       "    <tr>\n",
       "      <th>Luxembourg</th>\n",
       "      <td>69.402396</td>\n",
       "    </tr>\n",
       "    <tr>\n",
       "      <th>Germany</th>\n",
       "      <td>-692.056208</td>\n",
       "    </tr>\n",
       "  </tbody>\n",
       "</table>\n",
       "</div>"
      ],
      "text/plain": [
       "               Physical Flow Value\n",
       "Control area                      \n",
       "UnitedKingdom           833.411906\n",
       "France                  417.687250\n",
       "Netherlands             186.888375\n",
       "Luxembourg               69.402396\n",
       "Germany                -692.056208"
      ]
     },
     "execution_count": 21,
     "metadata": {},
     "output_type": "execute_result"
    }
   ],
   "source": [
    "energy_flow.groupby(\"Control area\").mean().sort_values(by=[\"Physical Flow Value\"], ascending=False)"
   ]
  },
  {
   "cell_type": "markdown",
   "metadata": {},
   "source": [
    "For our next example, let's have a look at a bigger and more complex data set. To do so, you first have to import the csv: "
   ]
  },
  {
   "cell_type": "code",
   "execution_count": 22,
   "metadata": {},
   "outputs": [],
   "source": [
    "pf_high_voltage = pd.read_csv(\"./data/energy/physical_flow_high_voltage_2022_may_30.csv\", sep = \";\", index_col = 0)"
   ]
  },
  {
   "cell_type": "code",
   "execution_count": 23,
   "metadata": {},
   "outputs": [
    {
     "data": {
      "text/html": [
       "<div>\n",
       "<style scoped>\n",
       "    .dataframe tbody tr th:only-of-type {\n",
       "        vertical-align: middle;\n",
       "    }\n",
       "\n",
       "    .dataframe tbody tr th {\n",
       "        vertical-align: top;\n",
       "    }\n",
       "\n",
       "    .dataframe thead th {\n",
       "        text-align: right;\n",
       "    }\n",
       "</style>\n",
       "<table border=\"1\" class=\"dataframe\">\n",
       "  <thead>\n",
       "    <tr style=\"text-align: right;\">\n",
       "      <th></th>\n",
       "      <th>Resolution code</th>\n",
       "      <th>Asset Elia ID</th>\n",
       "      <th>Asset name</th>\n",
       "      <th>Asset type</th>\n",
       "      <th>Base Voltage</th>\n",
       "      <th>AC/DC</th>\n",
       "      <th>Physical Flow</th>\n",
       "      <th>Loading</th>\n",
       "      <th>Asset geographic location</th>\n",
       "      <th>geo_point_2d</th>\n",
       "    </tr>\n",
       "    <tr>\n",
       "      <th>Datetime</th>\n",
       "      <th></th>\n",
       "      <th></th>\n",
       "      <th></th>\n",
       "      <th></th>\n",
       "      <th></th>\n",
       "      <th></th>\n",
       "      <th></th>\n",
       "      <th></th>\n",
       "      <th></th>\n",
       "      <th></th>\n",
       "    </tr>\n",
       "  </thead>\n",
       "  <tbody>\n",
       "    <tr>\n",
       "      <th>2022-05-30T23:15:00+02:00</th>\n",
       "      <td>PT15M</td>\n",
       "      <td>380_51_LILLO</td>\n",
       "      <td>DOEL-MERCATOR 380.51</td>\n",
       "      <td>Internal Line</td>\n",
       "      <td>380.0</td>\n",
       "      <td>AC</td>\n",
       "      <td>13.754076</td>\n",
       "      <td>0.68</td>\n",
       "      <td>{\"coordinates\": [[4.28, 51.23], [4.3072839, 51...</td>\n",
       "      <td>51.2655739,4.29364195</td>\n",
       "    </tr>\n",
       "    <tr>\n",
       "      <th>2022-05-30T23:15:00+02:00</th>\n",
       "      <td>PT15M</td>\n",
       "      <td>380_74_HORTA</td>\n",
       "      <td>HORTA-MERCATOR 380.74</td>\n",
       "      <td>Internal Line</td>\n",
       "      <td>380.0</td>\n",
       "      <td>AC</td>\n",
       "      <td>238.395599</td>\n",
       "      <td>7.01</td>\n",
       "      <td>{\"coordinates\": [[3.6036937, 51.11457], [3.9, ...</td>\n",
       "      <td>51.138284999999996,3.7518468499999997</td>\n",
       "    </tr>\n",
       "    <tr>\n",
       "      <th>2022-05-30T23:15:00+02:00</th>\n",
       "      <td>PT15M</td>\n",
       "      <td>380_29</td>\n",
       "      <td>RILLAND-ZANDVLIET 380.29</td>\n",
       "      <td>Tieline</td>\n",
       "      <td>380.0</td>\n",
       "      <td>AC</td>\n",
       "      <td>232.342749</td>\n",
       "      <td>10.78</td>\n",
       "      <td>{\"coordinates\": [[4.181, 51.416], [4.24811, 51...</td>\n",
       "      <td>51.39276245,4.214555</td>\n",
       "    </tr>\n",
       "    <tr>\n",
       "      <th>2022-05-30T23:15:00+02:00</th>\n",
       "      <td>PT15M</td>\n",
       "      <td>380_111</td>\n",
       "      <td>GEZELLE-STEVIN 380.111</td>\n",
       "      <td>Internal Line</td>\n",
       "      <td>380.0</td>\n",
       "      <td>AC</td>\n",
       "      <td>121.828900</td>\n",
       "      <td>3.72</td>\n",
       "      <td>{\"coordinates\": [[3.2011967, 51.2638468], [3.1...</td>\n",
       "      <td>51.29485,3.19246695</td>\n",
       "    </tr>\n",
       "    <tr>\n",
       "      <th>2022-05-30T23:15:00+02:00</th>\n",
       "      <td>PT15M</td>\n",
       "      <td>380_79</td>\n",
       "      <td>AVELGEM-MASTAING 380.79</td>\n",
       "      <td>Tieline</td>\n",
       "      <td>380.0</td>\n",
       "      <td>AC</td>\n",
       "      <td>0.015625</td>\n",
       "      <td>0.00</td>\n",
       "      <td>{\"coordinates\": [[3.4690219, 50.7824407], [3.4...</td>\n",
       "      <td>50.59037085,3.43451095</td>\n",
       "    </tr>\n",
       "  </tbody>\n",
       "</table>\n",
       "</div>"
      ],
      "text/plain": [
       "                          Resolution code Asset Elia ID  \\\n",
       "Datetime                                                  \n",
       "2022-05-30T23:15:00+02:00           PT15M  380_51_LILLO   \n",
       "2022-05-30T23:15:00+02:00           PT15M  380_74_HORTA   \n",
       "2022-05-30T23:15:00+02:00           PT15M        380_29   \n",
       "2022-05-30T23:15:00+02:00           PT15M       380_111   \n",
       "2022-05-30T23:15:00+02:00           PT15M        380_79   \n",
       "\n",
       "                                         Asset name     Asset type  \\\n",
       "Datetime                                                             \n",
       "2022-05-30T23:15:00+02:00      DOEL-MERCATOR 380.51  Internal Line   \n",
       "2022-05-30T23:15:00+02:00     HORTA-MERCATOR 380.74  Internal Line   \n",
       "2022-05-30T23:15:00+02:00  RILLAND-ZANDVLIET 380.29        Tieline   \n",
       "2022-05-30T23:15:00+02:00    GEZELLE-STEVIN 380.111  Internal Line   \n",
       "2022-05-30T23:15:00+02:00   AVELGEM-MASTAING 380.79        Tieline   \n",
       "\n",
       "                           Base Voltage AC/DC  Physical Flow  Loading  \\\n",
       "Datetime                                                                \n",
       "2022-05-30T23:15:00+02:00         380.0    AC      13.754076     0.68   \n",
       "2022-05-30T23:15:00+02:00         380.0    AC     238.395599     7.01   \n",
       "2022-05-30T23:15:00+02:00         380.0    AC     232.342749    10.78   \n",
       "2022-05-30T23:15:00+02:00         380.0    AC     121.828900     3.72   \n",
       "2022-05-30T23:15:00+02:00         380.0    AC       0.015625     0.00   \n",
       "\n",
       "                                                   Asset geographic location  \\\n",
       "Datetime                                                                       \n",
       "2022-05-30T23:15:00+02:00  {\"coordinates\": [[4.28, 51.23], [4.3072839, 51...   \n",
       "2022-05-30T23:15:00+02:00  {\"coordinates\": [[3.6036937, 51.11457], [3.9, ...   \n",
       "2022-05-30T23:15:00+02:00  {\"coordinates\": [[4.181, 51.416], [4.24811, 51...   \n",
       "2022-05-30T23:15:00+02:00  {\"coordinates\": [[3.2011967, 51.2638468], [3.1...   \n",
       "2022-05-30T23:15:00+02:00  {\"coordinates\": [[3.4690219, 50.7824407], [3.4...   \n",
       "\n",
       "                                                    geo_point_2d  \n",
       "Datetime                                                          \n",
       "2022-05-30T23:15:00+02:00                  51.2655739,4.29364195  \n",
       "2022-05-30T23:15:00+02:00  51.138284999999996,3.7518468499999997  \n",
       "2022-05-30T23:15:00+02:00                   51.39276245,4.214555  \n",
       "2022-05-30T23:15:00+02:00                    51.29485,3.19246695  \n",
       "2022-05-30T23:15:00+02:00                 50.59037085,3.43451095  "
      ]
     },
     "execution_count": 23,
     "metadata": {},
     "output_type": "execute_result"
    }
   ],
   "source": [
    "pf_high_voltage.head()"
   ]
  },
  {
   "cell_type": "markdown",
   "metadata": {},
   "source": [
    "The data set above describes the physical flow on the Belgian 380-kV lines (high-voltage) and on the interconnections with the neighboring countries. The \"Loading\" indicates how heavily the line is loaded relative to the maximum possible line loading. For the purpose of this training, you look at the data from only one day - the 30th of May 2022. The \"Physical Flow\" is given in MW whereas the \"Loading\" is given in %. "
   ]
  },
  {
   "cell_type": "markdown",
   "metadata": {},
   "source": [
    "Let's use what we have learned so far: "
   ]
  },
  {
   "cell_type": "code",
   "execution_count": 24,
   "metadata": {},
   "outputs": [
    {
     "data": {
      "text/html": [
       "<div>\n",
       "<style scoped>\n",
       "    .dataframe tbody tr th:only-of-type {\n",
       "        vertical-align: middle;\n",
       "    }\n",
       "\n",
       "    .dataframe tbody tr th {\n",
       "        vertical-align: top;\n",
       "    }\n",
       "\n",
       "    .dataframe thead th {\n",
       "        text-align: right;\n",
       "    }\n",
       "</style>\n",
       "<table border=\"1\" class=\"dataframe\">\n",
       "  <thead>\n",
       "    <tr style=\"text-align: right;\">\n",
       "      <th></th>\n",
       "      <th>Base Voltage</th>\n",
       "      <th>Physical Flow</th>\n",
       "      <th>Loading</th>\n",
       "    </tr>\n",
       "    <tr>\n",
       "      <th>Asset name</th>\n",
       "      <th></th>\n",
       "      <th></th>\n",
       "      <th></th>\n",
       "    </tr>\n",
       "  </thead>\n",
       "  <tbody>\n",
       "    <tr>\n",
       "      <th>ACHENE-GRAMME 380.10</th>\n",
       "      <td>380.0</td>\n",
       "      <td>342.429992</td>\n",
       "      <td>21.129011</td>\n",
       "    </tr>\n",
       "    <tr>\n",
       "      <th>ACHENE-LONNY 380.19</th>\n",
       "      <td>380.0</td>\n",
       "      <td>295.404589</td>\n",
       "      <td>18.932418</td>\n",
       "    </tr>\n",
       "    <tr>\n",
       "      <th>AUBANGE-BRUME 380.13</th>\n",
       "      <td>380.0</td>\n",
       "      <td>117.085284</td>\n",
       "      <td>13.561868</td>\n",
       "    </tr>\n",
       "    <tr>\n",
       "      <th>AVELGEM-HORTA 380.101</th>\n",
       "      <td>380.0</td>\n",
       "      <td>198.139137</td>\n",
       "      <td>6.929011</td>\n",
       "    </tr>\n",
       "    <tr>\n",
       "      <th>AVELGEM-HORTA 380.102</th>\n",
       "      <td>380.0</td>\n",
       "      <td>201.550017</td>\n",
       "      <td>7.048901</td>\n",
       "    </tr>\n",
       "  </tbody>\n",
       "</table>\n",
       "</div>"
      ],
      "text/plain": [
       "                       Base Voltage  Physical Flow    Loading\n",
       "Asset name                                                   \n",
       "ACHENE-GRAMME 380.10          380.0     342.429992  21.129011\n",
       "ACHENE-LONNY 380.19           380.0     295.404589  18.932418\n",
       "AUBANGE-BRUME 380.13          380.0     117.085284  13.561868\n",
       "AVELGEM-HORTA 380.101         380.0     198.139137   6.929011\n",
       "AVELGEM-HORTA 380.102         380.0     201.550017   7.048901"
      ]
     },
     "execution_count": 24,
     "metadata": {},
     "output_type": "execute_result"
    }
   ],
   "source": [
    "pf_high_voltage.groupby(\"Asset name\").mean().head()"
   ]
  },
  {
   "cell_type": "markdown",
   "metadata": {},
   "source": [
    "**Tip:** Sometimes, if you want to aggregate different columns in different ways and to make your code cleaner, it is best to move the aggregations out and store them as a dictionary. "
   ]
  },
  {
   "cell_type": "code",
   "execution_count": 25,
   "metadata": {},
   "outputs": [
    {
     "data": {
      "text/html": [
       "<div>\n",
       "<style scoped>\n",
       "    .dataframe tbody tr th:only-of-type {\n",
       "        vertical-align: middle;\n",
       "    }\n",
       "\n",
       "    .dataframe tbody tr th {\n",
       "        vertical-align: top;\n",
       "    }\n",
       "\n",
       "    .dataframe thead th {\n",
       "        text-align: right;\n",
       "    }\n",
       "</style>\n",
       "<table border=\"1\" class=\"dataframe\">\n",
       "  <thead>\n",
       "    <tr style=\"text-align: right;\">\n",
       "      <th></th>\n",
       "      <th>Physical Flow</th>\n",
       "      <th>Loading</th>\n",
       "    </tr>\n",
       "    <tr>\n",
       "      <th>Asset name</th>\n",
       "      <th></th>\n",
       "      <th></th>\n",
       "    </tr>\n",
       "  </thead>\n",
       "  <tbody>\n",
       "    <tr>\n",
       "      <th>MAASBRACHT-VAN EYCK 380.28</th>\n",
       "      <td>498.400809</td>\n",
       "      <td>58.51</td>\n",
       "    </tr>\n",
       "    <tr>\n",
       "      <th>DOEL-MERCATOR 380.53</th>\n",
       "      <td>519.729299</td>\n",
       "      <td>45.17</td>\n",
       "    </tr>\n",
       "    <tr>\n",
       "      <th>DOEL-ZANDVLIET 380.26</th>\n",
       "      <td>548.510699</td>\n",
       "      <td>74.14</td>\n",
       "    </tr>\n",
       "    <tr>\n",
       "      <th>DOEL-MERCATOR 380.54</th>\n",
       "      <td>642.709944</td>\n",
       "      <td>51.01</td>\n",
       "    </tr>\n",
       "    <tr>\n",
       "      <th>LILLO-ZANDVLIET 380.66</th>\n",
       "      <td>3159.260010</td>\n",
       "      <td>202.13</td>\n",
       "    </tr>\n",
       "  </tbody>\n",
       "</table>\n",
       "</div>"
      ],
      "text/plain": [
       "                            Physical Flow  Loading\n",
       "Asset name                                        \n",
       "MAASBRACHT-VAN EYCK 380.28     498.400809    58.51\n",
       "DOEL-MERCATOR 380.53           519.729299    45.17\n",
       "DOEL-ZANDVLIET 380.26          548.510699    74.14\n",
       "DOEL-MERCATOR 380.54           642.709944    51.01\n",
       "LILLO-ZANDVLIET 380.66        3159.260010   202.13"
      ]
     },
     "execution_count": 25,
     "metadata": {},
     "output_type": "execute_result"
    }
   ],
   "source": [
    "aggs = {\n",
    "    'Physical Flow': 'mean',\n",
    "    'Loading': 'max'\n",
    "}\n",
    "\n",
    "pf_high_voltage.groupby('Asset name').agg(aggs).sort_values(by=['Physical Flow','Loading']).tail()"
   ]
  },
  {
   "cell_type": "markdown",
   "metadata": {},
   "source": [
    "If you need to aggregate a certain column in several different ways, you can store the column and the different aggregators as key-value pairs in a dictionary."
   ]
  },
  {
   "cell_type": "code",
   "execution_count": 26,
   "metadata": {},
   "outputs": [],
   "source": [
    "aggs2 = {\n",
    "    'Loading': ['min', 'mean', 'max', 'std']\n",
    "}\n",
    "\n",
    "loading_stats = pf_high_voltage.groupby('Asset name').agg(aggs2)"
   ]
  },
  {
   "cell_type": "code",
   "execution_count": 27,
   "metadata": {},
   "outputs": [
    {
     "data": {
      "text/html": [
       "<div>\n",
       "<style scoped>\n",
       "    .dataframe tbody tr th:only-of-type {\n",
       "        vertical-align: middle;\n",
       "    }\n",
       "\n",
       "    .dataframe tbody tr th {\n",
       "        vertical-align: top;\n",
       "    }\n",
       "\n",
       "    .dataframe thead tr th {\n",
       "        text-align: left;\n",
       "    }\n",
       "\n",
       "    .dataframe thead tr:last-of-type th {\n",
       "        text-align: right;\n",
       "    }\n",
       "</style>\n",
       "<table border=\"1\" class=\"dataframe\">\n",
       "  <thead>\n",
       "    <tr>\n",
       "      <th></th>\n",
       "      <th colspan=\"4\" halign=\"left\">Loading</th>\n",
       "    </tr>\n",
       "    <tr>\n",
       "      <th></th>\n",
       "      <th>min</th>\n",
       "      <th>mean</th>\n",
       "      <th>max</th>\n",
       "      <th>std</th>\n",
       "    </tr>\n",
       "    <tr>\n",
       "      <th>Asset name</th>\n",
       "      <th></th>\n",
       "      <th></th>\n",
       "      <th></th>\n",
       "      <th></th>\n",
       "    </tr>\n",
       "  </thead>\n",
       "  <tbody>\n",
       "    <tr>\n",
       "      <th>ACHENE-GRAMME 380.10</th>\n",
       "      <td>0.61</td>\n",
       "      <td>21.129011</td>\n",
       "      <td>47.73</td>\n",
       "      <td>14.050990</td>\n",
       "    </tr>\n",
       "    <tr>\n",
       "      <th>ACHENE-LONNY 380.19</th>\n",
       "      <td>0.43</td>\n",
       "      <td>18.932418</td>\n",
       "      <td>45.76</td>\n",
       "      <td>14.399867</td>\n",
       "    </tr>\n",
       "    <tr>\n",
       "      <th>AUBANGE-BRUME 380.13</th>\n",
       "      <td>8.33</td>\n",
       "      <td>13.561868</td>\n",
       "      <td>18.27</td>\n",
       "      <td>2.392377</td>\n",
       "    </tr>\n",
       "    <tr>\n",
       "      <th>AVELGEM-HORTA 380.101</th>\n",
       "      <td>0.35</td>\n",
       "      <td>6.929011</td>\n",
       "      <td>16.23</td>\n",
       "      <td>4.541299</td>\n",
       "    </tr>\n",
       "    <tr>\n",
       "      <th>AVELGEM-HORTA 380.102</th>\n",
       "      <td>0.36</td>\n",
       "      <td>7.048901</td>\n",
       "      <td>16.27</td>\n",
       "      <td>4.516142</td>\n",
       "    </tr>\n",
       "  </tbody>\n",
       "</table>\n",
       "</div>"
      ],
      "text/plain": [
       "                      Loading                             \n",
       "                          min       mean    max        std\n",
       "Asset name                                                \n",
       "ACHENE-GRAMME 380.10     0.61  21.129011  47.73  14.050990\n",
       "ACHENE-LONNY 380.19      0.43  18.932418  45.76  14.399867\n",
       "AUBANGE-BRUME 380.13     8.33  13.561868  18.27   2.392377\n",
       "AVELGEM-HORTA 380.101    0.35   6.929011  16.23   4.541299\n",
       "AVELGEM-HORTA 380.102    0.36   7.048901  16.27   4.516142"
      ]
     },
     "execution_count": 27,
     "metadata": {},
     "output_type": "execute_result"
    }
   ],
   "source": [
    "loading_stats.head()"
   ]
  },
  {
   "cell_type": "markdown",
   "metadata": {},
   "source": [
    "As you can see, this multi-aggregation creates a **multi-index**. Multi-indexes can be difficult to work with. But no worries, there is an easy way to deal with it. For instance, you can **drop the top level**. In this case \"Loading\": "
   ]
  },
  {
   "cell_type": "code",
   "execution_count": 28,
   "metadata": {},
   "outputs": [],
   "source": [
    "loading_stats.columns = loading_stats.columns.droplevel(level = 0)"
   ]
  },
  {
   "cell_type": "code",
   "execution_count": 29,
   "metadata": {},
   "outputs": [
    {
     "data": {
      "text/html": [
       "<div>\n",
       "<style scoped>\n",
       "    .dataframe tbody tr th:only-of-type {\n",
       "        vertical-align: middle;\n",
       "    }\n",
       "\n",
       "    .dataframe tbody tr th {\n",
       "        vertical-align: top;\n",
       "    }\n",
       "\n",
       "    .dataframe thead th {\n",
       "        text-align: right;\n",
       "    }\n",
       "</style>\n",
       "<table border=\"1\" class=\"dataframe\">\n",
       "  <thead>\n",
       "    <tr style=\"text-align: right;\">\n",
       "      <th></th>\n",
       "      <th>min</th>\n",
       "      <th>mean</th>\n",
       "      <th>max</th>\n",
       "      <th>std</th>\n",
       "    </tr>\n",
       "    <tr>\n",
       "      <th>Asset name</th>\n",
       "      <th></th>\n",
       "      <th></th>\n",
       "      <th></th>\n",
       "      <th></th>\n",
       "    </tr>\n",
       "  </thead>\n",
       "  <tbody>\n",
       "    <tr>\n",
       "      <th>ACHENE-GRAMME 380.10</th>\n",
       "      <td>0.61</td>\n",
       "      <td>21.129011</td>\n",
       "      <td>47.73</td>\n",
       "      <td>14.050990</td>\n",
       "    </tr>\n",
       "    <tr>\n",
       "      <th>ACHENE-LONNY 380.19</th>\n",
       "      <td>0.43</td>\n",
       "      <td>18.932418</td>\n",
       "      <td>45.76</td>\n",
       "      <td>14.399867</td>\n",
       "    </tr>\n",
       "    <tr>\n",
       "      <th>AUBANGE-BRUME 380.13</th>\n",
       "      <td>8.33</td>\n",
       "      <td>13.561868</td>\n",
       "      <td>18.27</td>\n",
       "      <td>2.392377</td>\n",
       "    </tr>\n",
       "    <tr>\n",
       "      <th>AVELGEM-HORTA 380.101</th>\n",
       "      <td>0.35</td>\n",
       "      <td>6.929011</td>\n",
       "      <td>16.23</td>\n",
       "      <td>4.541299</td>\n",
       "    </tr>\n",
       "    <tr>\n",
       "      <th>AVELGEM-HORTA 380.102</th>\n",
       "      <td>0.36</td>\n",
       "      <td>7.048901</td>\n",
       "      <td>16.27</td>\n",
       "      <td>4.516142</td>\n",
       "    </tr>\n",
       "  </tbody>\n",
       "</table>\n",
       "</div>"
      ],
      "text/plain": [
       "                        min       mean    max        std\n",
       "Asset name                                              \n",
       "ACHENE-GRAMME 380.10   0.61  21.129011  47.73  14.050990\n",
       "ACHENE-LONNY 380.19    0.43  18.932418  45.76  14.399867\n",
       "AUBANGE-BRUME 380.13   8.33  13.561868  18.27   2.392377\n",
       "AVELGEM-HORTA 380.101  0.35   6.929011  16.23   4.541299\n",
       "AVELGEM-HORTA 380.102  0.36   7.048901  16.27   4.516142"
      ]
     },
     "execution_count": 29,
     "metadata": {},
     "output_type": "execute_result"
    }
   ],
   "source": [
    "loading_stats.head()"
   ]
  },
  {
   "cell_type": "markdown",
   "metadata": {},
   "source": [
    "It might be necessary to rename the new \"columns\", so you keep in mind that they are all stats of \"loading\"."
   ]
  },
  {
   "cell_type": "code",
   "execution_count": 30,
   "metadata": {},
   "outputs": [],
   "source": [
    "loading_stats.columns = [\"loading_min\", \"loading_mean\", \"loading_max\", \"loading_std\"]"
   ]
  },
  {
   "cell_type": "code",
   "execution_count": 31,
   "metadata": {},
   "outputs": [
    {
     "data": {
      "text/html": [
       "<div>\n",
       "<style scoped>\n",
       "    .dataframe tbody tr th:only-of-type {\n",
       "        vertical-align: middle;\n",
       "    }\n",
       "\n",
       "    .dataframe tbody tr th {\n",
       "        vertical-align: top;\n",
       "    }\n",
       "\n",
       "    .dataframe thead th {\n",
       "        text-align: right;\n",
       "    }\n",
       "</style>\n",
       "<table border=\"1\" class=\"dataframe\">\n",
       "  <thead>\n",
       "    <tr style=\"text-align: right;\">\n",
       "      <th></th>\n",
       "      <th>loading_min</th>\n",
       "      <th>loading_mean</th>\n",
       "      <th>loading_max</th>\n",
       "      <th>loading_std</th>\n",
       "    </tr>\n",
       "    <tr>\n",
       "      <th>Asset name</th>\n",
       "      <th></th>\n",
       "      <th></th>\n",
       "      <th></th>\n",
       "      <th></th>\n",
       "    </tr>\n",
       "  </thead>\n",
       "  <tbody>\n",
       "    <tr>\n",
       "      <th>ACHENE-GRAMME 380.10</th>\n",
       "      <td>0.61</td>\n",
       "      <td>21.129011</td>\n",
       "      <td>47.73</td>\n",
       "      <td>14.050990</td>\n",
       "    </tr>\n",
       "    <tr>\n",
       "      <th>ACHENE-LONNY 380.19</th>\n",
       "      <td>0.43</td>\n",
       "      <td>18.932418</td>\n",
       "      <td>45.76</td>\n",
       "      <td>14.399867</td>\n",
       "    </tr>\n",
       "    <tr>\n",
       "      <th>AUBANGE-BRUME 380.13</th>\n",
       "      <td>8.33</td>\n",
       "      <td>13.561868</td>\n",
       "      <td>18.27</td>\n",
       "      <td>2.392377</td>\n",
       "    </tr>\n",
       "    <tr>\n",
       "      <th>AVELGEM-HORTA 380.101</th>\n",
       "      <td>0.35</td>\n",
       "      <td>6.929011</td>\n",
       "      <td>16.23</td>\n",
       "      <td>4.541299</td>\n",
       "    </tr>\n",
       "    <tr>\n",
       "      <th>AVELGEM-HORTA 380.102</th>\n",
       "      <td>0.36</td>\n",
       "      <td>7.048901</td>\n",
       "      <td>16.27</td>\n",
       "      <td>4.516142</td>\n",
       "    </tr>\n",
       "  </tbody>\n",
       "</table>\n",
       "</div>"
      ],
      "text/plain": [
       "                       loading_min  loading_mean  loading_max  loading_std\n",
       "Asset name                                                                \n",
       "ACHENE-GRAMME 380.10          0.61     21.129011        47.73    14.050990\n",
       "ACHENE-LONNY 380.19           0.43     18.932418        45.76    14.399867\n",
       "AUBANGE-BRUME 380.13          8.33     13.561868        18.27     2.392377\n",
       "AVELGEM-HORTA 380.101         0.35      6.929011        16.23     4.541299\n",
       "AVELGEM-HORTA 380.102         0.36      7.048901        16.27     4.516142"
      ]
     },
     "execution_count": 31,
     "metadata": {},
     "output_type": "execute_result"
    }
   ],
   "source": [
    "loading_stats.head()"
   ]
  },
  {
   "cell_type": "markdown",
   "metadata": {},
   "source": [
    "And now, you can sort by any of the columns. Here, by average loading:"
   ]
  },
  {
   "cell_type": "code",
   "execution_count": 32,
   "metadata": {},
   "outputs": [
    {
     "data": {
      "text/html": [
       "<div>\n",
       "<style scoped>\n",
       "    .dataframe tbody tr th:only-of-type {\n",
       "        vertical-align: middle;\n",
       "    }\n",
       "\n",
       "    .dataframe tbody tr th {\n",
       "        vertical-align: top;\n",
       "    }\n",
       "\n",
       "    .dataframe thead th {\n",
       "        text-align: right;\n",
       "    }\n",
       "</style>\n",
       "<table border=\"1\" class=\"dataframe\">\n",
       "  <thead>\n",
       "    <tr style=\"text-align: right;\">\n",
       "      <th></th>\n",
       "      <th>loading_min</th>\n",
       "      <th>loading_mean</th>\n",
       "      <th>loading_max</th>\n",
       "      <th>loading_std</th>\n",
       "    </tr>\n",
       "    <tr>\n",
       "      <th>Asset name</th>\n",
       "      <th></th>\n",
       "      <th></th>\n",
       "      <th></th>\n",
       "      <th></th>\n",
       "    </tr>\n",
       "  </thead>\n",
       "  <tbody>\n",
       "    <tr>\n",
       "      <th>LILLO-ZANDVLIET 380.66</th>\n",
       "      <td>190.20</td>\n",
       "      <td>195.449200</td>\n",
       "      <td>202.13</td>\n",
       "      <td>5.982019</td>\n",
       "    </tr>\n",
       "    <tr>\n",
       "      <th>DOEL-MERCATOR 380.54</th>\n",
       "      <td>28.50</td>\n",
       "      <td>40.869231</td>\n",
       "      <td>51.01</td>\n",
       "      <td>5.367424</td>\n",
       "    </tr>\n",
       "    <tr>\n",
       "      <th>GEZELLE-NEMO 380.114</th>\n",
       "      <td>2.00</td>\n",
       "      <td>37.317294</td>\n",
       "      <td>76.68</td>\n",
       "      <td>22.112781</td>\n",
       "    </tr>\n",
       "    <tr>\n",
       "      <th>DOEL-ZANDVLIET 380.26</th>\n",
       "      <td>13.67</td>\n",
       "      <td>34.723846</td>\n",
       "      <td>74.14</td>\n",
       "      <td>16.444268</td>\n",
       "    </tr>\n",
       "    <tr>\n",
       "      <th>LIXHE-ALEGRO 380.115</th>\n",
       "      <td>2.66</td>\n",
       "      <td>33.206667</td>\n",
       "      <td>96.09</td>\n",
       "      <td>25.622747</td>\n",
       "    </tr>\n",
       "  </tbody>\n",
       "</table>\n",
       "</div>"
      ],
      "text/plain": [
       "                        loading_min  loading_mean  loading_max  loading_std\n",
       "Asset name                                                                 \n",
       "LILLO-ZANDVLIET 380.66       190.20    195.449200       202.13     5.982019\n",
       "DOEL-MERCATOR 380.54          28.50     40.869231        51.01     5.367424\n",
       "GEZELLE-NEMO 380.114           2.00     37.317294        76.68    22.112781\n",
       "DOEL-ZANDVLIET 380.26         13.67     34.723846        74.14    16.444268\n",
       "LIXHE-ALEGRO 380.115           2.66     33.206667        96.09    25.622747"
      ]
     },
     "execution_count": 32,
     "metadata": {},
     "output_type": "execute_result"
    }
   ],
   "source": [
    "loading_stats.sort_values(by='loading_mean', ascending=False).head()"
   ]
  },
  {
   "cell_type": "markdown",
   "metadata": {},
   "source": [
    "## Selecting the max and min values with Index Max and Min\n",
    "<br>\n",
    "\n",
    "The last cool thing that is definitely worth learning in the beginning is `idxmin` and `idxmax`. In addition to `.max()` and `.min()`, which returns the maximum or minimum values, you can use `.idxmax()` and `.idxmin()` to return the *index* pertaining to the maximum and minimum values. <br>\n",
    "\n",
    "For example, let's use `.idxmax()` to find the \"Asset name\" with the highest standard deviation in its loading:"
   ]
  },
  {
   "cell_type": "code",
   "execution_count": 33,
   "metadata": {},
   "outputs": [
    {
     "data": {
      "text/plain": [
       "'LIXHE-ALEGRO 380.115'"
      ]
     },
     "execution_count": 33,
     "metadata": {},
     "output_type": "execute_result"
    }
   ],
   "source": [
    "loading_stats[\"loading_std\"].idxmax()"
   ]
  },
  {
   "cell_type": "markdown",
   "metadata": {},
   "source": [
    "<br>\n",
    "\n",
    "## Recap, Tips & Takeaways &#128161;\n",
    "\n",
    "<br>"
   ]
  },
  {
   "cell_type": "markdown",
   "metadata": {},
   "source": [
    "<div class=\"alert alert-block alert-success\">\n",
    "\n",
    "**Let's see what might be cool to keep in mind:**\n",
    "\n",
    "- there are two ways to combine dataframes: `pd.merge()` and `pd.concat()`\n",
    "- you can get quick stats with `df_name.describe()`\n",
    "- `df_name[\"column_name\"].unique()` lists all the unique values within a column \n",
    "- filters in Python are a boolean conditional selection: `df_name[df_name[\"column_name\"] == \"target_value\"]`\n",
    "- multiple filters can be linked together with `|` and  `&` statement\n",
    "- you can define aggregators for several columns with a dictionary: <br>\n",
    "    \n",
    "    aggs = {\n",
    "        'column_1': 'mean',\n",
    "        'column_2': 'max'\n",
    "    }\n",
    "        \n",
    "</div>"
   ]
  },
  {
   "cell_type": "code",
   "execution_count": null,
   "metadata": {},
   "outputs": [],
   "source": []
  }
 ],
 "metadata": {
  "kernelspec": {
   "display_name": "Python 3",
   "language": "python",
   "name": "python3"
  },
  "language_info": {
   "codemirror_mode": {
    "name": "ipython",
    "version": 3
   },
   "file_extension": ".py",
   "mimetype": "text/x-python",
   "name": "python",
   "nbconvert_exporter": "python",
   "pygments_lexer": "ipython3",
   "version": "3.8.5"
  }
 },
 "nbformat": 4,
 "nbformat_minor": 4
}
