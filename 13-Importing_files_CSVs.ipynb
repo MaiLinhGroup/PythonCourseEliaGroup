{
 "cells": [
  {
   "cell_type": "markdown",
   "metadata": {},
   "source": [
    "<br>\n",
    "\n",
    "<img src=\"./image/Logo/logo_elia_group.png\" width = 200>\n",
    "\n",
    "<br>"
   ]
  },
  {
   "cell_type": "markdown",
   "metadata": {},
   "source": [
    "## Importing Files\n",
    "<br>\n",
    "\n",
    "To import files, you combine what you have learned about paths with what you have learned about packages. \n",
    "How to import files depends on the type of file you want to import. \n",
    "- **Text files (.txt):**\n",
    "    - You can easily read and write text files using the tools built in to basic python\n",
    "- **CSVs (.csv):**\n",
    "    - for CSVs, you need to use an additional package called [Pandas](https://pandas.pydata.org). Pandas is the main data processing and analysis package for python."
   ]
  },
  {
   "cell_type": "markdown",
   "metadata": {},
   "source": [
    "### Loading a .txt\n",
    "<br>\n",
    "\n",
    "In the following example, you will open and read a text file called `to_do_list`. It is a to-do list of typical day in a life of a data scientist."
   ]
  },
  {
   "cell_type": "code",
   "execution_count": 11,
   "metadata": {},
   "outputs": [
    {
     "name": "stdout",
     "output_type": "stream",
     "text": [
      "A day in a life of a data scientist:\n",
      "\n",
      "\n",
      "\n",
      "08:30 - 12:00\n",
      "\n",
      "* Focus Phase\n",
      "\n",
      "\t* Code review\n",
      "\n",
      "\t* Data Cleaning\n",
      "\n",
      "\t* Model Training\n",
      "\n",
      "\t\n",
      "\n",
      "\n",
      "\n",
      "12:00 - 13:00 Lunch\n",
      "\n",
      "\n",
      "\n",
      "13:00 - 15:00\n",
      "\n",
      "* Meeting Time Series Forecasting\n",
      "\n",
      "* Meeting XAI Follow-up\n",
      "\n",
      "\n",
      "\n",
      "15:00 - 17:00\n",
      "\n",
      "* Weekly with Data Team\n",
      "\n",
      "* F2F with Head of Data & AI\n",
      "\n",
      "\n",
      "\n"
     ]
    }
   ],
   "source": [
    "to_do_list = open('./text_files/to_do_list.txt', 'r') \n",
    "lines = to_do_list.readlines() \n",
    "for line in lines:\n",
    "    print(line)\n",
    "to_do_list.close()"
   ]
  },
  {
   "cell_type": "markdown",
   "metadata": {},
   "source": [
    "In the first line of code, you open the .txt file and store it into the variable `to_do_list`.\n",
    "In the second line of code, you make use of the function `readlines()`, which reads each line of the to-do list. Also, you assign it to a variable called `lines`. In the third and fourth line of code, you use a so-called for loop that includes the `print()` function. Do you remember this one? Right, it iterates through each line and prints it out. Finally, you close the file with `.close()`."
   ]
  },
  {
   "cell_type": "markdown",
   "metadata": {},
   "source": [
    "### Loading a CSV\n",
    "<br>\n",
    "\n",
    "CSVs can be easily loaded in a tabular format called a DataFrame. This is a **2-D datatype with columns and rows**, very similar to an excel file.\n",
    "To upload CSV files, you use the **Pandas** package. CSVs can be loaded from online, or from a local file using the path location.\n",
    "\n",
    "More info on this in Section 4 &#128526;"
   ]
  },
  {
   "cell_type": "code",
   "execution_count": 8,
   "metadata": {},
   "outputs": [],
   "source": [
    "# import pandas\n",
    "import pandas as pd\n",
    "\n",
    "# loading a CSV from file\n",
    "energy_data = pd.read_csv(\"./data/energy/elia_load_2019_01_15.csv\", sep =\";\")"
   ]
  },
  {
   "cell_type": "code",
   "execution_count": 9,
   "metadata": {},
   "outputs": [
    {
     "data": {
      "text/html": [
       "<div>\n",
       "<style scoped>\n",
       "    .dataframe tbody tr th:only-of-type {\n",
       "        vertical-align: middle;\n",
       "    }\n",
       "\n",
       "    .dataframe tbody tr th {\n",
       "        vertical-align: top;\n",
       "    }\n",
       "\n",
       "    .dataframe thead th {\n",
       "        text-align: right;\n",
       "    }\n",
       "</style>\n",
       "<table border=\"1\" class=\"dataframe\">\n",
       "  <thead>\n",
       "    <tr style=\"text-align: right;\">\n",
       "      <th></th>\n",
       "      <th>Datetime</th>\n",
       "      <th>Resolution code</th>\n",
       "      <th>Elia Grid Load</th>\n",
       "    </tr>\n",
       "  </thead>\n",
       "  <tbody>\n",
       "    <tr>\n",
       "      <th>0</th>\n",
       "      <td>2019-01-15T23:45:00+01:00</td>\n",
       "      <td>PT15M</td>\n",
       "      <td>9100.73</td>\n",
       "    </tr>\n",
       "    <tr>\n",
       "      <th>1</th>\n",
       "      <td>2019-01-15T23:30:00+01:00</td>\n",
       "      <td>PT15M</td>\n",
       "      <td>9479.93</td>\n",
       "    </tr>\n",
       "    <tr>\n",
       "      <th>2</th>\n",
       "      <td>2019-01-15T23:15:00+01:00</td>\n",
       "      <td>PT15M</td>\n",
       "      <td>9645.24</td>\n",
       "    </tr>\n",
       "    <tr>\n",
       "      <th>3</th>\n",
       "      <td>2019-01-15T23:00:00+01:00</td>\n",
       "      <td>PT15M</td>\n",
       "      <td>9691.24</td>\n",
       "    </tr>\n",
       "    <tr>\n",
       "      <th>4</th>\n",
       "      <td>2019-01-15T22:45:00+01:00</td>\n",
       "      <td>PT15M</td>\n",
       "      <td>9717.09</td>\n",
       "    </tr>\n",
       "  </tbody>\n",
       "</table>\n",
       "</div>"
      ],
      "text/plain": [
       "                    Datetime Resolution code  Elia Grid Load\n",
       "0  2019-01-15T23:45:00+01:00           PT15M         9100.73\n",
       "1  2019-01-15T23:30:00+01:00           PT15M         9479.93\n",
       "2  2019-01-15T23:15:00+01:00           PT15M         9645.24\n",
       "3  2019-01-15T23:00:00+01:00           PT15M         9691.24\n",
       "4  2019-01-15T22:45:00+01:00           PT15M         9717.09"
      ]
     },
     "execution_count": 9,
     "metadata": {},
     "output_type": "execute_result"
    }
   ],
   "source": [
    "energy_data.head()"
   ]
  },
  {
   "cell_type": "markdown",
   "metadata": {},
   "source": [
    "<br>\n",
    "\n",
    "## Recap, Tips & Takeaways &#128161;\n",
    "\n",
    "<br>"
   ]
  },
  {
   "cell_type": "markdown",
   "metadata": {},
   "source": [
    "<div class=\"alert alert-block alert-success\">\n",
    "\n",
    "**Let's recap what you have learned in this section:**\n",
    "\n",
    "- you can import text files and CSVs easily \n",
    "- if you import .txt files, you need to insert the right path `open(\"./folder_name/file_name.txt\", 'r')`\n",
    "- to import csv files, you need to import pandas first: `import pandas as pd`\n",
    "    - then you can use the read_csv() function: `pd.read_csv(\"./folder_name/file_name.csv\")`\n",
    "        \n",
    "</div>"
   ]
  }
 ],
 "metadata": {
  "kernelspec": {
   "display_name": "Python 3",
   "language": "python",
   "name": "python3"
  },
  "language_info": {
   "codemirror_mode": {
    "name": "ipython",
    "version": 3
   },
   "file_extension": ".py",
   "mimetype": "text/x-python",
   "name": "python",
   "nbconvert_exporter": "python",
   "pygments_lexer": "ipython3",
   "version": "3.8.5"
  }
 },
 "nbformat": 4,
 "nbformat_minor": 4
}
